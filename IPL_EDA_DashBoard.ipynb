{
  "nbformat": 4,
  "nbformat_minor": 0,
  "metadata": {
    "colab": {
      "name": "IPL_EDA_DashBoard.ipynb",
      "provenance": [],
      "collapsed_sections": [],
      "mount_file_id": "1uRVU5buh8-96bcAkbVIzMeL2dBeWU-qe",
      "authorship_tag": "ABX9TyNjjSbdEV2BLnkyGEcRbU05",
      "include_colab_link": true
    },
    "kernelspec": {
      "name": "python3",
      "display_name": "Python 3"
    },
    "language_info": {
      "name": "python"
    }
  },
  "cells": [
    {
      "cell_type": "markdown",
      "metadata": {
        "id": "view-in-github",
        "colab_type": "text"
      },
      "source": [
        "<a href=\"https://colab.research.google.com/github/mohtashim0007/Machine-Learning-Projects/blob/main/IPL_EDA_DashBoard.ipynb\" target=\"_parent\"><img src=\"https://colab.research.google.com/assets/colab-badge.svg\" alt=\"Open In Colab\"/></a>"
      ]
    },
    {
      "cell_type": "code",
      "source": [
        "import pandas as pd\n",
        "import numpy as np\n",
        "import matplotlib.pyplot as plt\n",
        "import seaborn as sns\n",
        "fig_colors = ['Set1', 'Set2', 'Set3', 'tab10' ,'deep', 'hls', 'husl', 'rocket_r', 'YlOrBr', 'Spectral']"
      ],
      "metadata": {
        "id": "NWEOmt2CzvGV"
      },
      "execution_count": null,
      "outputs": []
    },
    {
      "cell_type": "code",
      "source": [
        "np.random.choice(fig_colors)"
      ],
      "metadata": {
        "colab": {
          "base_uri": "https://localhost:8080/",
          "height": 35
        },
        "id": "7yBipoYASBGX",
        "outputId": "4d3aee63-33b0-45f1-be4f-b846c7681ea5"
      },
      "execution_count": null,
      "outputs": [
        {
          "output_type": "execute_result",
          "data": {
            "text/plain": [
              "'Set2'"
            ],
            "application/vnd.google.colaboratory.intrinsic+json": {
              "type": "string"
            }
          },
          "metadata": {},
          "execution_count": 2
        }
      ]
    },
    {
      "cell_type": "code",
      "source": [
        "df_matches = pd.read_csv('/content/drive/My Drive/DataSet/IPL Matches 2008-2020.csv')\n",
        "df_matches.head(5)"
      ],
      "metadata": {
        "colab": {
          "base_uri": "https://localhost:8080/",
          "height": 461
        },
        "id": "-VFxV6bu0KZ5",
        "outputId": "9c85763e-0679-4f4b-e941-b9133ded6b63"
      },
      "execution_count": null,
      "outputs": [
        {
          "output_type": "execute_result",
          "data": {
            "text/plain": [
              "       id        city        date player_of_match  \\\n",
              "0  335982   Bangalore  2008-04-18     BB McCullum   \n",
              "1  335983  Chandigarh  2008-04-19      MEK Hussey   \n",
              "2  335984       Delhi  2008-04-19     MF Maharoof   \n",
              "3  335985      Mumbai  2008-04-20      MV Boucher   \n",
              "4  335986     Kolkata  2008-04-20       DJ Hussey   \n",
              "\n",
              "                                        venue  neutral_venue  \\\n",
              "0                       M Chinnaswamy Stadium              0   \n",
              "1  Punjab Cricket Association Stadium, Mohali              0   \n",
              "2                            Feroz Shah Kotla              0   \n",
              "3                            Wankhede Stadium              0   \n",
              "4                                Eden Gardens              0   \n",
              "\n",
              "                         team1                        team2  \\\n",
              "0  Royal Challengers Bangalore        Kolkata Knight Riders   \n",
              "1              Kings XI Punjab          Chennai Super Kings   \n",
              "2             Delhi Daredevils             Rajasthan Royals   \n",
              "3               Mumbai Indians  Royal Challengers Bangalore   \n",
              "4        Kolkata Knight Riders              Deccan Chargers   \n",
              "\n",
              "                   toss_winner toss_decision                       winner  \\\n",
              "0  Royal Challengers Bangalore         field        Kolkata Knight Riders   \n",
              "1          Chennai Super Kings           bat          Chennai Super Kings   \n",
              "2             Rajasthan Royals           bat             Delhi Daredevils   \n",
              "3               Mumbai Indians           bat  Royal Challengers Bangalore   \n",
              "4              Deccan Chargers           bat        Kolkata Knight Riders   \n",
              "\n",
              "    result  result_margin eliminator method    umpire1         umpire2  \n",
              "0     runs          140.0          N    NaN  Asad Rauf     RE Koertzen  \n",
              "1     runs           33.0          N    NaN  MR Benson      SL Shastri  \n",
              "2  wickets            9.0          N    NaN  Aleem Dar  GA Pratapkumar  \n",
              "3  wickets            5.0          N    NaN   SJ Davis       DJ Harper  \n",
              "4  wickets            5.0          N    NaN  BF Bowden     K Hariharan  "
            ],
            "text/html": [
              "\n",
              "  <div id=\"df-a20ad04d-138f-4059-8d2e-d4d474a1d52c\">\n",
              "    <div class=\"colab-df-container\">\n",
              "      <div>\n",
              "<style scoped>\n",
              "    .dataframe tbody tr th:only-of-type {\n",
              "        vertical-align: middle;\n",
              "    }\n",
              "\n",
              "    .dataframe tbody tr th {\n",
              "        vertical-align: top;\n",
              "    }\n",
              "\n",
              "    .dataframe thead th {\n",
              "        text-align: right;\n",
              "    }\n",
              "</style>\n",
              "<table border=\"1\" class=\"dataframe\">\n",
              "  <thead>\n",
              "    <tr style=\"text-align: right;\">\n",
              "      <th></th>\n",
              "      <th>id</th>\n",
              "      <th>city</th>\n",
              "      <th>date</th>\n",
              "      <th>player_of_match</th>\n",
              "      <th>venue</th>\n",
              "      <th>neutral_venue</th>\n",
              "      <th>team1</th>\n",
              "      <th>team2</th>\n",
              "      <th>toss_winner</th>\n",
              "      <th>toss_decision</th>\n",
              "      <th>winner</th>\n",
              "      <th>result</th>\n",
              "      <th>result_margin</th>\n",
              "      <th>eliminator</th>\n",
              "      <th>method</th>\n",
              "      <th>umpire1</th>\n",
              "      <th>umpire2</th>\n",
              "    </tr>\n",
              "  </thead>\n",
              "  <tbody>\n",
              "    <tr>\n",
              "      <th>0</th>\n",
              "      <td>335982</td>\n",
              "      <td>Bangalore</td>\n",
              "      <td>2008-04-18</td>\n",
              "      <td>BB McCullum</td>\n",
              "      <td>M Chinnaswamy Stadium</td>\n",
              "      <td>0</td>\n",
              "      <td>Royal Challengers Bangalore</td>\n",
              "      <td>Kolkata Knight Riders</td>\n",
              "      <td>Royal Challengers Bangalore</td>\n",
              "      <td>field</td>\n",
              "      <td>Kolkata Knight Riders</td>\n",
              "      <td>runs</td>\n",
              "      <td>140.0</td>\n",
              "      <td>N</td>\n",
              "      <td>NaN</td>\n",
              "      <td>Asad Rauf</td>\n",
              "      <td>RE Koertzen</td>\n",
              "    </tr>\n",
              "    <tr>\n",
              "      <th>1</th>\n",
              "      <td>335983</td>\n",
              "      <td>Chandigarh</td>\n",
              "      <td>2008-04-19</td>\n",
              "      <td>MEK Hussey</td>\n",
              "      <td>Punjab Cricket Association Stadium, Mohali</td>\n",
              "      <td>0</td>\n",
              "      <td>Kings XI Punjab</td>\n",
              "      <td>Chennai Super Kings</td>\n",
              "      <td>Chennai Super Kings</td>\n",
              "      <td>bat</td>\n",
              "      <td>Chennai Super Kings</td>\n",
              "      <td>runs</td>\n",
              "      <td>33.0</td>\n",
              "      <td>N</td>\n",
              "      <td>NaN</td>\n",
              "      <td>MR Benson</td>\n",
              "      <td>SL Shastri</td>\n",
              "    </tr>\n",
              "    <tr>\n",
              "      <th>2</th>\n",
              "      <td>335984</td>\n",
              "      <td>Delhi</td>\n",
              "      <td>2008-04-19</td>\n",
              "      <td>MF Maharoof</td>\n",
              "      <td>Feroz Shah Kotla</td>\n",
              "      <td>0</td>\n",
              "      <td>Delhi Daredevils</td>\n",
              "      <td>Rajasthan Royals</td>\n",
              "      <td>Rajasthan Royals</td>\n",
              "      <td>bat</td>\n",
              "      <td>Delhi Daredevils</td>\n",
              "      <td>wickets</td>\n",
              "      <td>9.0</td>\n",
              "      <td>N</td>\n",
              "      <td>NaN</td>\n",
              "      <td>Aleem Dar</td>\n",
              "      <td>GA Pratapkumar</td>\n",
              "    </tr>\n",
              "    <tr>\n",
              "      <th>3</th>\n",
              "      <td>335985</td>\n",
              "      <td>Mumbai</td>\n",
              "      <td>2008-04-20</td>\n",
              "      <td>MV Boucher</td>\n",
              "      <td>Wankhede Stadium</td>\n",
              "      <td>0</td>\n",
              "      <td>Mumbai Indians</td>\n",
              "      <td>Royal Challengers Bangalore</td>\n",
              "      <td>Mumbai Indians</td>\n",
              "      <td>bat</td>\n",
              "      <td>Royal Challengers Bangalore</td>\n",
              "      <td>wickets</td>\n",
              "      <td>5.0</td>\n",
              "      <td>N</td>\n",
              "      <td>NaN</td>\n",
              "      <td>SJ Davis</td>\n",
              "      <td>DJ Harper</td>\n",
              "    </tr>\n",
              "    <tr>\n",
              "      <th>4</th>\n",
              "      <td>335986</td>\n",
              "      <td>Kolkata</td>\n",
              "      <td>2008-04-20</td>\n",
              "      <td>DJ Hussey</td>\n",
              "      <td>Eden Gardens</td>\n",
              "      <td>0</td>\n",
              "      <td>Kolkata Knight Riders</td>\n",
              "      <td>Deccan Chargers</td>\n",
              "      <td>Deccan Chargers</td>\n",
              "      <td>bat</td>\n",
              "      <td>Kolkata Knight Riders</td>\n",
              "      <td>wickets</td>\n",
              "      <td>5.0</td>\n",
              "      <td>N</td>\n",
              "      <td>NaN</td>\n",
              "      <td>BF Bowden</td>\n",
              "      <td>K Hariharan</td>\n",
              "    </tr>\n",
              "  </tbody>\n",
              "</table>\n",
              "</div>\n",
              "      <button class=\"colab-df-convert\" onclick=\"convertToInteractive('df-a20ad04d-138f-4059-8d2e-d4d474a1d52c')\"\n",
              "              title=\"Convert this dataframe to an interactive table.\"\n",
              "              style=\"display:none;\">\n",
              "        \n",
              "  <svg xmlns=\"http://www.w3.org/2000/svg\" height=\"24px\"viewBox=\"0 0 24 24\"\n",
              "       width=\"24px\">\n",
              "    <path d=\"M0 0h24v24H0V0z\" fill=\"none\"/>\n",
              "    <path d=\"M18.56 5.44l.94 2.06.94-2.06 2.06-.94-2.06-.94-.94-2.06-.94 2.06-2.06.94zm-11 1L8.5 8.5l.94-2.06 2.06-.94-2.06-.94L8.5 2.5l-.94 2.06-2.06.94zm10 10l.94 2.06.94-2.06 2.06-.94-2.06-.94-.94-2.06-.94 2.06-2.06.94z\"/><path d=\"M17.41 7.96l-1.37-1.37c-.4-.4-.92-.59-1.43-.59-.52 0-1.04.2-1.43.59L10.3 9.45l-7.72 7.72c-.78.78-.78 2.05 0 2.83L4 21.41c.39.39.9.59 1.41.59.51 0 1.02-.2 1.41-.59l7.78-7.78 2.81-2.81c.8-.78.8-2.07 0-2.86zM5.41 20L4 18.59l7.72-7.72 1.47 1.35L5.41 20z\"/>\n",
              "  </svg>\n",
              "      </button>\n",
              "      \n",
              "  <style>\n",
              "    .colab-df-container {\n",
              "      display:flex;\n",
              "      flex-wrap:wrap;\n",
              "      gap: 12px;\n",
              "    }\n",
              "\n",
              "    .colab-df-convert {\n",
              "      background-color: #E8F0FE;\n",
              "      border: none;\n",
              "      border-radius: 50%;\n",
              "      cursor: pointer;\n",
              "      display: none;\n",
              "      fill: #1967D2;\n",
              "      height: 32px;\n",
              "      padding: 0 0 0 0;\n",
              "      width: 32px;\n",
              "    }\n",
              "\n",
              "    .colab-df-convert:hover {\n",
              "      background-color: #E2EBFA;\n",
              "      box-shadow: 0px 1px 2px rgba(60, 64, 67, 0.3), 0px 1px 3px 1px rgba(60, 64, 67, 0.15);\n",
              "      fill: #174EA6;\n",
              "    }\n",
              "\n",
              "    [theme=dark] .colab-df-convert {\n",
              "      background-color: #3B4455;\n",
              "      fill: #D2E3FC;\n",
              "    }\n",
              "\n",
              "    [theme=dark] .colab-df-convert:hover {\n",
              "      background-color: #434B5C;\n",
              "      box-shadow: 0px 1px 3px 1px rgba(0, 0, 0, 0.15);\n",
              "      filter: drop-shadow(0px 1px 2px rgba(0, 0, 0, 0.3));\n",
              "      fill: #FFFFFF;\n",
              "    }\n",
              "  </style>\n",
              "\n",
              "      <script>\n",
              "        const buttonEl =\n",
              "          document.querySelector('#df-a20ad04d-138f-4059-8d2e-d4d474a1d52c button.colab-df-convert');\n",
              "        buttonEl.style.display =\n",
              "          google.colab.kernel.accessAllowed ? 'block' : 'none';\n",
              "\n",
              "        async function convertToInteractive(key) {\n",
              "          const element = document.querySelector('#df-a20ad04d-138f-4059-8d2e-d4d474a1d52c');\n",
              "          const dataTable =\n",
              "            await google.colab.kernel.invokeFunction('convertToInteractive',\n",
              "                                                     [key], {});\n",
              "          if (!dataTable) return;\n",
              "\n",
              "          const docLinkHtml = 'Like what you see? Visit the ' +\n",
              "            '<a target=\"_blank\" href=https://colab.research.google.com/notebooks/data_table.ipynb>data table notebook</a>'\n",
              "            + ' to learn more about interactive tables.';\n",
              "          element.innerHTML = '';\n",
              "          dataTable['output_type'] = 'display_data';\n",
              "          await google.colab.output.renderOutput(dataTable, element);\n",
              "          const docLink = document.createElement('div');\n",
              "          docLink.innerHTML = docLinkHtml;\n",
              "          element.appendChild(docLink);\n",
              "        }\n",
              "      </script>\n",
              "    </div>\n",
              "  </div>\n",
              "  "
            ]
          },
          "metadata": {},
          "execution_count": 3
        }
      ]
    },
    {
      "cell_type": "code",
      "source": [
        "df_matches.shape"
      ],
      "metadata": {
        "colab": {
          "base_uri": "https://localhost:8080/"
        },
        "id": "hQmmFzd60yxx",
        "outputId": "4e606a70-2dc5-42ba-fc65-40e92f30e750"
      },
      "execution_count": null,
      "outputs": [
        {
          "output_type": "execute_result",
          "data": {
            "text/plain": [
              "(816, 17)"
            ]
          },
          "metadata": {},
          "execution_count": 4
        }
      ]
    },
    {
      "cell_type": "code",
      "source": [
        "df_matches.columns"
      ],
      "metadata": {
        "colab": {
          "base_uri": "https://localhost:8080/"
        },
        "id": "E4K2Lq1M06FC",
        "outputId": "7657b4c1-6e72-4271-c4c7-f1c52bd836c2"
      },
      "execution_count": null,
      "outputs": [
        {
          "output_type": "execute_result",
          "data": {
            "text/plain": [
              "Index(['id', 'city', 'date', 'player_of_match', 'venue', 'neutral_venue',\n",
              "       'team1', 'team2', 'toss_winner', 'toss_decision', 'winner', 'result',\n",
              "       'result_margin', 'eliminator', 'method', 'umpire1', 'umpire2'],\n",
              "      dtype='object')"
            ]
          },
          "metadata": {},
          "execution_count": 5
        }
      ]
    },
    {
      "cell_type": "code",
      "source": [
        "df_matches.info()"
      ],
      "metadata": {
        "colab": {
          "base_uri": "https://localhost:8080/"
        },
        "id": "mN9alHrnKuFX",
        "outputId": "c1002d8b-f6e3-43d4-bca3-a7297cf8551b"
      },
      "execution_count": null,
      "outputs": [
        {
          "output_type": "stream",
          "name": "stdout",
          "text": [
            "<class 'pandas.core.frame.DataFrame'>\n",
            "RangeIndex: 816 entries, 0 to 815\n",
            "Data columns (total 17 columns):\n",
            " #   Column           Non-Null Count  Dtype  \n",
            "---  ------           --------------  -----  \n",
            " 0   id               816 non-null    int64  \n",
            " 1   city             803 non-null    object \n",
            " 2   date             816 non-null    object \n",
            " 3   player_of_match  812 non-null    object \n",
            " 4   venue            816 non-null    object \n",
            " 5   neutral_venue    816 non-null    int64  \n",
            " 6   team1            816 non-null    object \n",
            " 7   team2            816 non-null    object \n",
            " 8   toss_winner      816 non-null    object \n",
            " 9   toss_decision    816 non-null    object \n",
            " 10  winner           812 non-null    object \n",
            " 11  result           812 non-null    object \n",
            " 12  result_margin    799 non-null    float64\n",
            " 13  eliminator       812 non-null    object \n",
            " 14  method           19 non-null     object \n",
            " 15  umpire1          816 non-null    object \n",
            " 16  umpire2          816 non-null    object \n",
            "dtypes: float64(1), int64(2), object(14)\n",
            "memory usage: 108.5+ KB\n"
          ]
        }
      ]
    },
    {
      "cell_type": "markdown",
      "source": [
        "# Players who won maximum number of times Man of the Match "
      ],
      "metadata": {
        "id": "JrsIKoZH2GJt"
      }
    },
    {
      "cell_type": "code",
      "source": [
        "MoM = df_matches['player_of_match'].value_counts()\n",
        "print(MoM)"
      ],
      "metadata": {
        "colab": {
          "base_uri": "https://localhost:8080/"
        },
        "id": "CvlsF7Sv2SNr",
        "outputId": "88dd1193-ae0e-4dd7-8332-b7f8d6f06a8c"
      },
      "execution_count": null,
      "outputs": [
        {
          "output_type": "stream",
          "name": "stdout",
          "text": [
            "AB de Villiers    23\n",
            "CH Gayle          22\n",
            "RG Sharma         18\n",
            "DA Warner         17\n",
            "MS Dhoni          17\n",
            "                  ..\n",
            "S Anirudha         1\n",
            "M Kartik           1\n",
            "R McLaren          1\n",
            "RJ Harris          1\n",
            "PJ Cummins         1\n",
            "Name: player_of_match, Length: 233, dtype: int64\n"
          ]
        }
      ]
    },
    {
      "cell_type": "code",
      "source": [
        "MoM_names = MoM.index[0:5].tolist()\n",
        "MoM_names"
      ],
      "metadata": {
        "colab": {
          "base_uri": "https://localhost:8080/"
        },
        "id": "JN2W77TL2tI2",
        "outputId": "833c5753-f6a2-4c08-a2eb-0532e7a46baa"
      },
      "execution_count": null,
      "outputs": [
        {
          "output_type": "execute_result",
          "data": {
            "text/plain": [
              "['AB de Villiers', 'CH Gayle', 'RG Sharma', 'DA Warner', 'MS Dhoni']"
            ]
          },
          "metadata": {},
          "execution_count": 8
        }
      ]
    },
    {
      "cell_type": "code",
      "source": [
        "Mom_values = MoM[0:5].tolist()\n",
        "Mom_values"
      ],
      "metadata": {
        "colab": {
          "base_uri": "https://localhost:8080/"
        },
        "id": "8o6Sj02Q4V6o",
        "outputId": "161898db-03e5-4223-b9aa-cbe6beaf2781"
      },
      "execution_count": null,
      "outputs": [
        {
          "output_type": "execute_result",
          "data": {
            "text/plain": [
              "[23, 22, 18, 17, 17]"
            ]
          },
          "metadata": {},
          "execution_count": 9
        }
      ]
    },
    {
      "cell_type": "code",
      "source": [
        "sns.barplot(MoM_names, Mom_values,palette = np.random.choice(fig_colors))\n",
        "plt.ylabel('No of times Player of the Match Won')\n",
        "plt.xlabel('Player Names')\n",
        "plt.title('Top 5 Player of the Match Won')\n",
        "plt.plot()"
      ],
      "metadata": {
        "colab": {
          "base_uri": "https://localhost:8080/",
          "height": 367
        },
        "id": "SE7Hww9W4muL",
        "outputId": "8e67772d-b152-428b-a648-d8c193fea263"
      },
      "execution_count": null,
      "outputs": [
        {
          "output_type": "stream",
          "name": "stderr",
          "text": [
            "/usr/local/lib/python3.7/dist-packages/seaborn/_decorators.py:43: FutureWarning: Pass the following variables as keyword args: x, y. From version 0.12, the only valid positional argument will be `data`, and passing other arguments without an explicit keyword will result in an error or misinterpretation.\n",
            "  FutureWarning\n"
          ]
        },
        {
          "output_type": "execute_result",
          "data": {
            "text/plain": [
              "[]"
            ]
          },
          "metadata": {},
          "execution_count": 10
        },
        {
          "output_type": "display_data",
          "data": {
            "text/plain": [
              "<Figure size 432x288 with 1 Axes>"
            ],
            "image/png": "[encoded data removed]"
          },
          "metadata": {
            "needs_background": "light"
          }
        }
      ]
    },
    {
      "cell_type": "markdown",
      "source": [
        "# No. of Matches won by each team"
      ],
      "metadata": {
        "id": "2BNs17pU7S0M"
      }
    },
    {
      "cell_type": "code",
      "source": [
        "matches_won_by_each_team = df_matches['winner'].value_counts()\n",
        "matches_won_by_each_team"
      ],
      "metadata": {
        "colab": {
          "base_uri": "https://localhost:8080/"
        },
        "id": "NqrGxqCX7fH8",
        "outputId": "537dabea-070e-4782-f222-2cc4d3876c14"
      },
      "execution_count": null,
      "outputs": [
        {
          "output_type": "execute_result",
          "data": {
            "text/plain": [
              "Mumbai Indians                 120\n",
              "Chennai Super Kings            106\n",
              "Kolkata Knight Riders           99\n",
              "Royal Challengers Bangalore     91\n",
              "Kings XI Punjab                 88\n",
              "Rajasthan Royals                81\n",
              "Delhi Daredevils                67\n",
              "Sunrisers Hyderabad             66\n",
              "Deccan Chargers                 29\n",
              "Delhi Capitals                  19\n",
              "Gujarat Lions                   13\n",
              "Pune Warriors                   12\n",
              "Rising Pune Supergiant          10\n",
              "Kochi Tuskers Kerala             6\n",
              "Rising Pune Supergiants          5\n",
              "Name: winner, dtype: int64"
            ]
          },
          "metadata": {},
          "execution_count": 11
        }
      ]
    },
    {
      "cell_type": "code",
      "source": [
        "#merging teams win delhi capital or daredavils\n",
        "matches_won_by_each_team['Delhi Daredevils'] = matches_won_by_each_team['Delhi Daredevils'] + matches_won_by_each_team['Delhi Capitals']\n",
        "matches_won_by_each_team['Delhi Daredevils']"
      ],
      "metadata": {
        "colab": {
          "base_uri": "https://localhost:8080/"
        },
        "id": "VWsHf5N889Cd",
        "outputId": "4aff7368-0ac1-4762-fe99-2854ae654067"
      },
      "execution_count": null,
      "outputs": [
        {
          "output_type": "execute_result",
          "data": {
            "text/plain": [
              "86"
            ]
          },
          "metadata": {},
          "execution_count": 12
        }
      ]
    },
    {
      "cell_type": "code",
      "source": [
        "matches_won_by_each_team['Pune Warriors'] = matches_won_by_each_team['Pune Warriors'] + matches_won_by_each_team['Rising Pune Supergiant'] +matches_won_by_each_team['Rising Pune Supergiants']\n",
        "matches_won_by_each_team['Pune Warriors']"
      ],
      "metadata": {
        "colab": {
          "base_uri": "https://localhost:8080/"
        },
        "id": "095QfGmi9hmj",
        "outputId": "2607a712-a420-4ffd-c74c-2cc57bd1e1e9"
      },
      "execution_count": null,
      "outputs": [
        {
          "output_type": "execute_result",
          "data": {
            "text/plain": [
              "27"
            ]
          },
          "metadata": {},
          "execution_count": 13
        }
      ]
    },
    {
      "cell_type": "code",
      "source": [
        "#dropping merged index\n",
        "matches_won_by_each_team.drop(index=['Rising Pune Supergiants', 'Rising Pune Supergiant','Delhi Capitals' ], inplace=True)"
      ],
      "metadata": {
        "id": "18cjKBA791eT"
      },
      "execution_count": null,
      "outputs": []
    },
    {
      "cell_type": "code",
      "source": [
        "matches_won_by_each_team"
      ],
      "metadata": {
        "colab": {
          "base_uri": "https://localhost:8080/"
        },
        "id": "nK7xMM7H-NUj",
        "outputId": "aa7d4449-5131-4ac1-d921-a5d08dbc422c"
      },
      "execution_count": null,
      "outputs": [
        {
          "output_type": "execute_result",
          "data": {
            "text/plain": [
              "Mumbai Indians                 120\n",
              "Chennai Super Kings            106\n",
              "Kolkata Knight Riders           99\n",
              "Royal Challengers Bangalore     91\n",
              "Kings XI Punjab                 88\n",
              "Rajasthan Royals                81\n",
              "Delhi Daredevils                86\n",
              "Sunrisers Hyderabad             66\n",
              "Deccan Chargers                 29\n",
              "Gujarat Lions                   13\n",
              "Pune Warriors                   27\n",
              "Kochi Tuskers Kerala             6\n",
              "Name: winner, dtype: int64"
            ]
          },
          "metadata": {},
          "execution_count": 15
        }
      ]
    },
    {
      "cell_type": "code",
      "source": [
        "#reanming index name\n",
        "matches_won_by_each_team.rename(index = {'Delhi Daredevils' : 'Delhi Daredevils/Capitals', 'Pune Warriors' : 'Pune Warriors/Rising Pune Supergiants'}, inplace = True)"
      ],
      "metadata": {
        "id": "ZDlbLFjd-zLn"
      },
      "execution_count": null,
      "outputs": []
    },
    {
      "cell_type": "code",
      "source": [
        "matches_won_by_each_team"
      ],
      "metadata": {
        "colab": {
          "base_uri": "https://localhost:8080/"
        },
        "id": "9z8S8Et2_SIe",
        "outputId": "eb629643-7e53-4229-843f-f6850524bd87"
      },
      "execution_count": null,
      "outputs": [
        {
          "output_type": "execute_result",
          "data": {
            "text/plain": [
              "Mumbai Indians                           120\n",
              "Chennai Super Kings                      106\n",
              "Kolkata Knight Riders                     99\n",
              "Royal Challengers Bangalore               91\n",
              "Kings XI Punjab                           88\n",
              "Rajasthan Royals                          81\n",
              "Delhi Daredevils/Capitals                 86\n",
              "Sunrisers Hyderabad                       66\n",
              "Deccan Chargers                           29\n",
              "Gujarat Lions                             13\n",
              "Pune Warriors/Rising Pune Supergiants     27\n",
              "Kochi Tuskers Kerala                       6\n",
              "Name: winner, dtype: int64"
            ]
          },
          "metadata": {},
          "execution_count": 17
        }
      ]
    },
    {
      "cell_type": "code",
      "source": [
        "fig = plt.figure(figsize=(8,8))\n",
        "sns.barplot(  matches_won_by_each_team[:].tolist(),matches_won_by_each_team.index.tolist(), orient = 'h', palette = np.random.choice(fig_colors))\n",
        "plt.show()"
      ],
      "metadata": {
        "colab": {
          "base_uri": "https://localhost:8080/",
          "height": 538
        },
        "id": "3ML8y64D_q_2",
        "outputId": "50a01bf1-aa6f-47de-df8f-d4f371aecf3b"
      },
      "execution_count": null,
      "outputs": [
        {
          "output_type": "stream",
          "name": "stderr",
          "text": [
            "/usr/local/lib/python3.7/dist-packages/seaborn/_decorators.py:43: FutureWarning: Pass the following variables as keyword args: x, y. From version 0.12, the only valid positional argument will be `data`, and passing other arguments without an explicit keyword will result in an error or misinterpretation.\n",
            "  FutureWarning\n"
          ]
        },
        {
          "output_type": "display_data",
          "data": {
            "text/plain": [
              "<Figure size 576x576 with 1 Axes>"
            ],
            "image/png": "[encoded data removed]"
          },
          "metadata": {
            "needs_background": "light"
          }
        }
      ]
    },
    {
      "cell_type": "code",
      "source": [
        "fig = plt.figure(figsize=(8,8))\n",
        "plt.pie(matches_won_by_each_team[:],labels = matches_won_by_each_team.index.tolist(), autopct='%.2f', shadow= True)\n",
        "plt.title('Pie Chart view for no. of matches won by each team')\n",
        "plt.show()"
      ],
      "metadata": {
        "colab": {
          "base_uri": "https://localhost:8080/",
          "height": 482
        },
        "id": "TLj1wbc5DnJO",
        "outputId": "5d98ed6e-2c28-46cd-bedf-86e1eae23a87"
      },
      "execution_count": null,
      "outputs": [
        {
          "output_type": "display_data",
          "data": {
            "text/plain": [
              "<Figure size 576x576 with 1 Axes>"
            ],
            "image/png": "[encoded data removed]"
          },
          "metadata": {}
        }
      ]
    },
    {
      "cell_type": "markdown",
      "source": [
        "# Matches Umpired by Umpires"
      ],
      "metadata": {
        "id": "lMw6DWAYKixh"
      }
    },
    {
      "cell_type": "code",
      "source": [
        "fig = plt.figure(figsize=(10,14))\n",
        "sns.countplot(y='umpire1', data = df_matches, orient='v', palette = np.random.choice(fig_colors))\n",
        "plt.title('Matches Umpired by Umpires')\n",
        "plt.ylabel('Umpire Name')\n",
        "plt.xlabel('Maatches Umpired')\n",
        "plt.show()"
      ],
      "metadata": {
        "colab": {
          "base_uri": "https://localhost:8080/",
          "height": 839
        },
        "id": "mTeoHijlIx78",
        "outputId": "293e6289-edd8-4c0b-e87d-03a41155421f"
      },
      "execution_count": null,
      "outputs": [
        {
          "output_type": "display_data",
          "data": {
            "text/plain": [
              "<Figure size 720x1008 with 1 Axes>"
            ],
            "image/png": "[encoded data removed]"
          },
          "metadata": {
            "needs_background": "light"
          }
        }
      ]
    },
    {
      "cell_type": "markdown",
      "source": [
        "# Matches won by Team1 against Team2"
      ],
      "metadata": {
        "id": "7nbNb_U1MS3t"
      }
    },
    {
      "cell_type": "code",
      "source": [
        "df_matches['team1']"
      ],
      "metadata": {
        "colab": {
          "base_uri": "https://localhost:8080/"
        },
        "id": "OEhH7mT9M0xJ",
        "outputId": "3ef9bfda-17e3-4e5e-86c7-84d66df2cac5"
      },
      "execution_count": null,
      "outputs": [
        {
          "output_type": "execute_result",
          "data": {
            "text/plain": [
              "0      Royal Challengers Bangalore\n",
              "1                  Kings XI Punjab\n",
              "2                 Delhi Daredevils\n",
              "3                   Mumbai Indians\n",
              "4            Kolkata Knight Riders\n",
              "                  ...             \n",
              "811    Royal Challengers Bangalore\n",
              "812                 Mumbai Indians\n",
              "813    Royal Challengers Bangalore\n",
              "814                 Delhi Capitals\n",
              "815                 Delhi Capitals\n",
              "Name: team1, Length: 816, dtype: object"
            ]
          },
          "metadata": {},
          "execution_count": 21
        }
      ]
    },
    {
      "cell_type": "code",
      "source": [
        "#matches_won_by_team1_team2\n",
        "\n",
        "def matches_won_by_team1_team2(team1, team2):\n",
        "  temp1 = df_matches[ (df_matches['team1'] == team1) & (df_matches['team2']==team2)]\n",
        "  temp2 = df_matches[ (df_matches['team1'] == team2) & (df_matches['team2']==team1)]\n",
        "\n",
        "  total_matches = temp1.shape[0] + temp2.shape[0]\n",
        "\n",
        "  #Matches won by the teams\n",
        "  matches_won_by_team1 = temp1[temp1['winner'] == team1].shape[0] + temp2[temp2['winner'] == team1].shape[0]\n",
        "\n",
        "  print('Total matches played = ', total_matches)\n",
        "  print('Matches won by ', team1 ,'= ',matches_won_by_team1)\n",
        "  print('Win Percentages = ', round((matches_won_by_team1*100)/total_matches, 2), '%')\n",
        "\n",
        "  new_df = pd.concat([temp1,temp2], ignore_index = True)\n",
        "\n",
        "  #plotting\n",
        "  fig = plt.figure(figsize=(5,5))\n",
        "  sns.countplot(x = 'winner', data = new_df,dodge= False, palette = np.random.choice(fig_colors))\n",
        "  plt.ylim(0,18)\n",
        "  plt.title('Matches won against each other')\n",
        "  plt.xlabel('Teams Name')\n",
        "  plt.ylabel('Matches Won')\n",
        "  plt.plot()\n",
        "\n",
        "matches_won_by_team1_team2('Mumbai Indians', 'Royal Challengers Bangalore')"
      ],
      "metadata": {
        "id": "4ApCxTwFMciN",
        "colab": {
          "base_uri": "https://localhost:8080/",
          "height": 402
        },
        "outputId": "74ed8b13-2fbf-4af8-c2ef-80b04b152584"
      },
      "execution_count": null,
      "outputs": [
        {
          "output_type": "stream",
          "name": "stdout",
          "text": [
            "Total matches played =  27\n",
            "Matches won by  Mumbai Indians =  17\n",
            "Win Percentages =  62.96 %\n"
          ]
        },
        {
          "output_type": "display_data",
          "data": {
            "text/plain": [
              "<Figure size 360x360 with 1 Axes>"
            ],
            "image/png": "[encoded data removed]"
          },
          "metadata": {
            "needs_background": "light"
          }
        }
      ]
    },
    {
      "cell_type": "code",
      "source": [
        "df_matches.columns"
      ],
      "metadata": {
        "colab": {
          "base_uri": "https://localhost:8080/"
        },
        "id": "Cu35TtCle3Zk",
        "outputId": "5bcc4db9-81c1-437b-dc44-46f644e982e4"
      },
      "execution_count": null,
      "outputs": [
        {
          "output_type": "execute_result",
          "data": {
            "text/plain": [
              "Index(['id', 'city', 'date', 'player_of_match', 'venue', 'neutral_venue',\n",
              "       'team1', 'team2', 'toss_winner', 'toss_decision', 'winner', 'result',\n",
              "       'result_margin', 'eliminator', 'method', 'umpire1', 'umpire2'],\n",
              "      dtype='object')"
            ]
          },
          "metadata": {},
          "execution_count": 23
        }
      ]
    },
    {
      "cell_type": "markdown",
      "source": [
        "# Matches Won by Chasing"
      ],
      "metadata": {
        "id": "xS17YaC3bBhN"
      }
    },
    {
      "cell_type": "code",
      "source": [
        "temp3 = df_matches[df_matches['toss_decision'] == 'field']\n",
        "tot_matches_played_chasing = temp3.shape[0]\n",
        "print(tot_matches_played_chasing)\n",
        "temp3 = temp3[temp3['toss_winner'] == temp3['winner']]\n",
        "won_by_chasing = temp3.shape[0]\n",
        "print(won_by_chasing)\n",
        "lost_by_chasing = tot_matches_played_chasing - won_by_chasing\n",
        "print(lost_by_chasing)\n",
        "print('Percentage of matches won by chasing :',round((won_by_chasing*100)/tot_matches_played_chasing,2), '%')\n",
        "\n",
        "\n",
        "plt.figure(figsize= (6,6))\n",
        "sns.barplot(x = ['Won', 'lost'], y = [won_by_chasing, lost_by_chasing] , palette = np.random.choice(fig_colors))\n",
        "plt.xlabel('Won/Lost Matches')\n",
        "plt.ylabel('No. of Matches Won/Lost')\n",
        "plt.title('Won the toss and fielded first statistics')\n",
        "plt.ylim(0,350)\n",
        "plt.show()"
      ],
      "metadata": {
        "colab": {
          "base_uri": "https://localhost:8080/",
          "height": 473
        },
        "id": "jDS2ODU8bHaL",
        "outputId": "62843a01-c3e0-4ba7-ff12-cb59cf36e733"
      },
      "execution_count": null,
      "outputs": [
        {
          "output_type": "stream",
          "name": "stdout",
          "text": [
            "496\n",
            "273\n",
            "223\n",
            "Percentage of matches won by chasing : 55.04 %\n"
          ]
        },
        {
          "output_type": "display_data",
          "data": {
            "text/plain": [
              "<Figure size 432x432 with 1 Axes>"
            ],
            "image/png": "[encoded data removed]"
          },
          "metadata": {
            "needs_background": "light"
          }
        }
      ]
    },
    {
      "cell_type": "code",
      "source": [
        "#Each team statistics for chasing\n",
        "\n",
        "def matches_won_by_runs_wickets(team_name):\n",
        "  temp5 = df_matches[df_matches['team1'] == team_name]\n",
        "  temp5 = temp5[temp5['winner'] == temp5['team1']]\n",
        "  temp6 = df_matches[df_matches['team2'] == team_name]\n",
        "  temp6 = temp6[temp6['winner'] == temp6['team2']]\n",
        "\n",
        "  temp7 = pd.concat([temp5, temp6],ignore_index = True)\n",
        "  sns.countplot(x ='result', data = temp7, dodge=False, palette = np.random.choice(fig_colors))\n",
        "  plt.title('Bar graph depicts no. of matches won by runs/wickets')\n",
        "  plt.xlabel('Runs/Wickets')\n",
        "  plt.ylabel('Matches Won ')\n",
        "  plt.xticks([0,1,2],['Runs', 'Wickets', 'Tie'], rotation = 45)\n",
        "  plt.show()\n",
        "\n",
        "matches_won_by_runs_wickets('Mumbai Indians')"
      ],
      "metadata": {
        "id": "y8tziPnJv8Y9",
        "colab": {
          "base_uri": "https://localhost:8080/",
          "height": 320
        },
        "outputId": "3775c8c8-7b1b-486b-b748-42918da8d784"
      },
      "execution_count": null,
      "outputs": [
        {
          "output_type": "display_data",
          "data": {
            "text/plain": [
              "<Figure size 432x288 with 1 Axes>"
            ],
            "image/png": "[encoded data removed]"
          },
          "metadata": {
            "needs_background": "light"
          }
        }
      ]
    },
    {
      "cell_type": "code",
      "source": [
        "plt.figure(figsize = (18,8))\n",
        "sns.countplot(x='winner', hue='result', data = df_matches, palette=np.random.choice(fig_colors))\n",
        "plt.xticks(rotation = 45)\n",
        "plt.plot()"
      ],
      "metadata": {
        "colab": {
          "base_uri": "https://localhost:8080/",
          "height": 612
        },
        "id": "jJDvLqCnBf3z",
        "outputId": "0e068681-3a22-413d-e833-c6c689d8e9cd"
      },
      "execution_count": null,
      "outputs": [
        {
          "output_type": "execute_result",
          "data": {
            "text/plain": [
              "[]"
            ]
          },
          "metadata": {},
          "execution_count": 26
        },
        {
          "output_type": "display_data",
          "data": {
            "text/plain": [
              "<Figure size 1296x576 with 1 Axes>"
            ],
            "image/png": "[encoded data removed]"
          },
          "metadata": {
            "needs_background": "light"
          }
        }
      ]
    },
    {
      "cell_type": "code",
      "source": [
        "%%writefile IPL_EDA_DashBoard.py\n",
        "import streamlit as st\n",
        "st.title('IPL Data Analysis Tool')\n",
        "choices = st.sidebar.radio('*Navigation*', ['Home', 'Matches Statistics', 'Player Statistics'])\n",
        "if choices == 'Home':\n",
        "  st.write('Home Page')\n",
        "elif choices == 'Matches Statistics':\n",
        "  st.write('Matches page')\n",
        "elif choices== 'Player Statistics' :\n",
        "  st.write('Players')\n"
      ],
      "metadata": {
        "colab": {
          "base_uri": "https://localhost:8080/"
        },
        "id": "YNDbeSB4r_ms",
        "outputId": "c3e7432b-2d2c-4ea8-ad95-f78060118b8a"
      },
      "execution_count": null,
      "outputs": [
        {
          "output_type": "stream",
          "name": "stdout",
          "text": [
            "Writing IPL_EDA_DashBoard.py\n"
          ]
        }
      ]
    },
    {
      "cell_type": "markdown",
      "source": [
        "# Loading ball by ball players data"
      ],
      "metadata": {
        "id": "4Xc76wLoUFA3"
      }
    },
    {
      "cell_type": "code",
      "source": [
        "df_ball = pd.read_csv('/content/drive/My Drive/DataSet/IPL Ball-by-Ball 2008-2020.csv')"
      ],
      "metadata": {
        "id": "GfSWaXRpUUOC"
      },
      "execution_count": null,
      "outputs": []
    },
    {
      "cell_type": "code",
      "source": [
        "df_ball.columns"
      ],
      "metadata": {
        "colab": {
          "base_uri": "https://localhost:8080/"
        },
        "id": "FtaUM6RvVZ66",
        "outputId": "a92c5fe5-04d1-4e1c-aa8d-0ebebcdab2ed"
      },
      "execution_count": null,
      "outputs": [
        {
          "output_type": "execute_result",
          "data": {
            "text/plain": [
              "Index(['id', 'inning', 'over', 'ball', 'batsman', 'non_striker', 'bowler',\n",
              "       'batsman_runs', 'extra_runs', 'total_runs', 'non_boundary', 'is_wicket',\n",
              "       'dismissal_kind', 'player_dismissed', 'fielder', 'extras_type',\n",
              "       'batting_team', 'bowling_team'],\n",
              "      dtype='object')"
            ]
          },
          "metadata": {},
          "execution_count": 35
        }
      ]
    },
    {
      "cell_type": "code",
      "source": [
        "df_ball.head(5)"
      ],
      "metadata": {
        "colab": {
          "base_uri": "https://localhost:8080/",
          "height": 444
        },
        "id": "acoKi8KcV4kS",
        "outputId": "f9f261c2-509d-4860-d843-972ebf632966"
      },
      "execution_count": null,
      "outputs": [
        {
          "output_type": "execute_result",
          "data": {
            "text/plain": [
              "       id  inning  over  ball      batsman  non_striker     bowler  \\\n",
              "0  335982       1     6     5   RT Ponting  BB McCullum  AA Noffke   \n",
              "1  335982       1     6     6  BB McCullum   RT Ponting  AA Noffke   \n",
              "2  335982       1     7     1  BB McCullum   RT Ponting     Z Khan   \n",
              "3  335982       1     7     2  BB McCullum   RT Ponting     Z Khan   \n",
              "4  335982       1     7     3   RT Ponting  BB McCullum     Z Khan   \n",
              "\n",
              "   batsman_runs  extra_runs  total_runs  non_boundary  is_wicket  \\\n",
              "0             1           0           1             0          0   \n",
              "1             1           0           1             0          0   \n",
              "2             0           0           0             0          0   \n",
              "3             1           0           1             0          0   \n",
              "4             1           0           1             0          0   \n",
              "\n",
              "  dismissal_kind player_dismissed fielder extras_type           batting_team  \\\n",
              "0            NaN              NaN     NaN         NaN  Kolkata Knight Riders   \n",
              "1            NaN              NaN     NaN         NaN  Kolkata Knight Riders   \n",
              "2            NaN              NaN     NaN         NaN  Kolkata Knight Riders   \n",
              "3            NaN              NaN     NaN         NaN  Kolkata Knight Riders   \n",
              "4            NaN              NaN     NaN         NaN  Kolkata Knight Riders   \n",
              "\n",
              "                  bowling_team  \n",
              "0  Royal Challengers Bangalore  \n",
              "1  Royal Challengers Bangalore  \n",
              "2  Royal Challengers Bangalore  \n",
              "3  Royal Challengers Bangalore  \n",
              "4  Royal Challengers Bangalore  "
            ],
            "text/html": [
              "\n",
              "  <div id=\"df-0b4d11e7-12e0-4359-86eb-21e389d1c6b1\">\n",
              "    <div class=\"colab-df-container\">\n",
              "      <div>\n",
              "<style scoped>\n",
              "    .dataframe tbody tr th:only-of-type {\n",
              "        vertical-align: middle;\n",
              "    }\n",
              "\n",
              "    .dataframe tbody tr th {\n",
              "        vertical-align: top;\n",
              "    }\n",
              "\n",
              "    .dataframe thead th {\n",
              "        text-align: right;\n",
              "    }\n",
              "</style>\n",
              "<table border=\"1\" class=\"dataframe\">\n",
              "  <thead>\n",
              "    <tr style=\"text-align: right;\">\n",
              "      <th></th>\n",
              "      <th>id</th>\n",
              "      <th>inning</th>\n",
              "      <th>over</th>\n",
              "      <th>ball</th>\n",
              "      <th>batsman</th>\n",
              "      <th>non_striker</th>\n",
              "      <th>bowler</th>\n",
              "      <th>batsman_runs</th>\n",
              "      <th>extra_runs</th>\n",
              "      <th>total_runs</th>\n",
              "      <th>non_boundary</th>\n",
              "      <th>is_wicket</th>\n",
              "      <th>dismissal_kind</th>\n",
              "      <th>player_dismissed</th>\n",
              "      <th>fielder</th>\n",
              "      <th>extras_type</th>\n",
              "      <th>batting_team</th>\n",
              "      <th>bowling_team</th>\n",
              "    </tr>\n",
              "  </thead>\n",
              "  <tbody>\n",
              "    <tr>\n",
              "      <th>0</th>\n",
              "      <td>335982</td>\n",
              "      <td>1</td>\n",
              "      <td>6</td>\n",
              "      <td>5</td>\n",
              "      <td>RT Ponting</td>\n",
              "      <td>BB McCullum</td>\n",
              "      <td>AA Noffke</td>\n",
              "      <td>1</td>\n",
              "      <td>0</td>\n",
              "      <td>1</td>\n",
              "      <td>0</td>\n",
              "      <td>0</td>\n",
              "      <td>NaN</td>\n",
              "      <td>NaN</td>\n",
              "      <td>NaN</td>\n",
              "      <td>NaN</td>\n",
              "      <td>Kolkata Knight Riders</td>\n",
              "      <td>Royal Challengers Bangalore</td>\n",
              "    </tr>\n",
              "    <tr>\n",
              "      <th>1</th>\n",
              "      <td>335982</td>\n",
              "      <td>1</td>\n",
              "      <td>6</td>\n",
              "      <td>6</td>\n",
              "      <td>BB McCullum</td>\n",
              "      <td>RT Ponting</td>\n",
              "      <td>AA Noffke</td>\n",
              "      <td>1</td>\n",
              "      <td>0</td>\n",
              "      <td>1</td>\n",
              "      <td>0</td>\n",
              "      <td>0</td>\n",
              "      <td>NaN</td>\n",
              "      <td>NaN</td>\n",
              "      <td>NaN</td>\n",
              "      <td>NaN</td>\n",
              "      <td>Kolkata Knight Riders</td>\n",
              "      <td>Royal Challengers Bangalore</td>\n",
              "    </tr>\n",
              "    <tr>\n",
              "      <th>2</th>\n",
              "      <td>335982</td>\n",
              "      <td>1</td>\n",
              "      <td>7</td>\n",
              "      <td>1</td>\n",
              "      <td>BB McCullum</td>\n",
              "      <td>RT Ponting</td>\n",
              "      <td>Z Khan</td>\n",
              "      <td>0</td>\n",
              "      <td>0</td>\n",
              "      <td>0</td>\n",
              "      <td>0</td>\n",
              "      <td>0</td>\n",
              "      <td>NaN</td>\n",
              "      <td>NaN</td>\n",
              "      <td>NaN</td>\n",
              "      <td>NaN</td>\n",
              "      <td>Kolkata Knight Riders</td>\n",
              "      <td>Royal Challengers Bangalore</td>\n",
              "    </tr>\n",
              "    <tr>\n",
              "      <th>3</th>\n",
              "      <td>335982</td>\n",
              "      <td>1</td>\n",
              "      <td>7</td>\n",
              "      <td>2</td>\n",
              "      <td>BB McCullum</td>\n",
              "      <td>RT Ponting</td>\n",
              "      <td>Z Khan</td>\n",
              "      <td>1</td>\n",
              "      <td>0</td>\n",
              "      <td>1</td>\n",
              "      <td>0</td>\n",
              "      <td>0</td>\n",
              "      <td>NaN</td>\n",
              "      <td>NaN</td>\n",
              "      <td>NaN</td>\n",
              "      <td>NaN</td>\n",
              "      <td>Kolkata Knight Riders</td>\n",
              "      <td>Royal Challengers Bangalore</td>\n",
              "    </tr>\n",
              "    <tr>\n",
              "      <th>4</th>\n",
              "      <td>335982</td>\n",
              "      <td>1</td>\n",
              "      <td>7</td>\n",
              "      <td>3</td>\n",
              "      <td>RT Ponting</td>\n",
              "      <td>BB McCullum</td>\n",
              "      <td>Z Khan</td>\n",
              "      <td>1</td>\n",
              "      <td>0</td>\n",
              "      <td>1</td>\n",
              "      <td>0</td>\n",
              "      <td>0</td>\n",
              "      <td>NaN</td>\n",
              "      <td>NaN</td>\n",
              "      <td>NaN</td>\n",
              "      <td>NaN</td>\n",
              "      <td>Kolkata Knight Riders</td>\n",
              "      <td>Royal Challengers Bangalore</td>\n",
              "    </tr>\n",
              "  </tbody>\n",
              "</table>\n",
              "</div>\n",
              "      <button class=\"colab-df-convert\" onclick=\"convertToInteractive('df-0b4d11e7-12e0-4359-86eb-21e389d1c6b1')\"\n",
              "              title=\"Convert this dataframe to an interactive table.\"\n",
              "              style=\"display:none;\">\n",
              "        \n",
              "  <svg xmlns=\"http://www.w3.org/2000/svg\" height=\"24px\"viewBox=\"0 0 24 24\"\n",
              "       width=\"24px\">\n",
              "    <path d=\"M0 0h24v24H0V0z\" fill=\"none\"/>\n",
              "    <path d=\"M18.56 5.44l.94 2.06.94-2.06 2.06-.94-2.06-.94-.94-2.06-.94 2.06-2.06.94zm-11 1L8.5 8.5l.94-2.06 2.06-.94-2.06-.94L8.5 2.5l-.94 2.06-2.06.94zm10 10l.94 2.06.94-2.06 2.06-.94-2.06-.94-.94-2.06-.94 2.06-2.06.94z\"/><path d=\"M17.41 7.96l-1.37-1.37c-.4-.4-.92-.59-1.43-.59-.52 0-1.04.2-1.43.59L10.3 9.45l-7.72 7.72c-.78.78-.78 2.05 0 2.83L4 21.41c.39.39.9.59 1.41.59.51 0 1.02-.2 1.41-.59l7.78-7.78 2.81-2.81c.8-.78.8-2.07 0-2.86zM5.41 20L4 18.59l7.72-7.72 1.47 1.35L5.41 20z\"/>\n",
              "  </svg>\n",
              "      </button>\n",
              "      \n",
              "  <style>\n",
              "    .colab-df-container {\n",
              "      display:flex;\n",
              "      flex-wrap:wrap;\n",
              "      gap: 12px;\n",
              "    }\n",
              "\n",
              "    .colab-df-convert {\n",
              "      background-color: #E8F0FE;\n",
              "      border: none;\n",
              "      border-radius: 50%;\n",
              "      cursor: pointer;\n",
              "      display: none;\n",
              "      fill: #1967D2;\n",
              "      height: 32px;\n",
              "      padding: 0 0 0 0;\n",
              "      width: 32px;\n",
              "    }\n",
              "\n",
              "    .colab-df-convert:hover {\n",
              "      background-color: #E2EBFA;\n",
              "      box-shadow: 0px 1px 2px rgba(60, 64, 67, 0.3), 0px 1px 3px 1px rgba(60, 64, 67, 0.15);\n",
              "      fill: #174EA6;\n",
              "    }\n",
              "\n",
              "    [theme=dark] .colab-df-convert {\n",
              "      background-color: #3B4455;\n",
              "      fill: #D2E3FC;\n",
              "    }\n",
              "\n",
              "    [theme=dark] .colab-df-convert:hover {\n",
              "      background-color: #434B5C;\n",
              "      box-shadow: 0px 1px 3px 1px rgba(0, 0, 0, 0.15);\n",
              "      filter: drop-shadow(0px 1px 2px rgba(0, 0, 0, 0.3));\n",
              "      fill: #FFFFFF;\n",
              "    }\n",
              "  </style>\n",
              "\n",
              "      <script>\n",
              "        const buttonEl =\n",
              "          document.querySelector('#df-0b4d11e7-12e0-4359-86eb-21e389d1c6b1 button.colab-df-convert');\n",
              "        buttonEl.style.display =\n",
              "          google.colab.kernel.accessAllowed ? 'block' : 'none';\n",
              "\n",
              "        async function convertToInteractive(key) {\n",
              "          const element = document.querySelector('#df-0b4d11e7-12e0-4359-86eb-21e389d1c6b1');\n",
              "          const dataTable =\n",
              "            await google.colab.kernel.invokeFunction('convertToInteractive',\n",
              "                                                     [key], {});\n",
              "          if (!dataTable) return;\n",
              "\n",
              "          const docLinkHtml = 'Like what you see? Visit the ' +\n",
              "            '<a target=\"_blank\" href=https://colab.research.google.com/notebooks/data_table.ipynb>data table notebook</a>'\n",
              "            + ' to learn more about interactive tables.';\n",
              "          element.innerHTML = '';\n",
              "          dataTable['output_type'] = 'display_data';\n",
              "          await google.colab.output.renderOutput(dataTable, element);\n",
              "          const docLink = document.createElement('div');\n",
              "          docLink.innerHTML = docLinkHtml;\n",
              "          element.appendChild(docLink);\n",
              "        }\n",
              "      </script>\n",
              "    </div>\n",
              "  </div>\n",
              "  "
            ]
          },
          "metadata": {},
          "execution_count": 36
        }
      ]
    },
    {
      "cell_type": "code",
      "source": [
        "#droping irrelevant columns\n",
        "df_ball.drop(columns = ['inning','over', 'ball' , 'extra_runs', 'dismissal_kind', 'player_dismissed', 'fielder', 'extras_type'], inplace = True)\n",
        "df_ball.columns"
      ],
      "metadata": {
        "colab": {
          "base_uri": "https://localhost:8080/"
        },
        "id": "_kwJfM-lZWot",
        "outputId": "cfd7c4a4-3683-43f3-8856-b07763fa47bb"
      },
      "execution_count": null,
      "outputs": [
        {
          "output_type": "execute_result",
          "data": {
            "text/plain": [
              "Index(['id', 'batsman', 'non_striker', 'bowler', 'batsman_runs', 'total_runs',\n",
              "       'non_boundary', 'is_wicket', 'batting_team', 'bowling_team'],\n",
              "      dtype='object')"
            ]
          },
          "metadata": {},
          "execution_count": 37
        }
      ]
    },
    {
      "cell_type": "code",
      "source": [
        "#ball played and total runs score\n",
        "temp8 = df_ball[df_ball['batsman'] == 'MS Dhoni']\n",
        "balls_faced = temp8.shape[0]\n",
        "total_runs = temp8['batsman_runs'].sum()\n",
        "total_runs"
      ],
      "metadata": {
        "colab": {
          "base_uri": "https://localhost:8080/"
        },
        "id": "d_gRMsl_duLl",
        "outputId": "cec9f8f4-1b52-4448-dbb4-26d6220d2f70"
      },
      "execution_count": null,
      "outputs": [
        {
          "output_type": "execute_result",
          "data": {
            "text/plain": [
              "4632"
            ]
          },
          "metadata": {},
          "execution_count": 38
        }
      ]
    },
    {
      "cell_type": "code",
      "source": [
        "#total matches\n",
        "\n",
        "matches_played =  temp8['id'].nunique()\n",
        "matches_played"
      ],
      "metadata": {
        "colab": {
          "base_uri": "https://localhost:8080/"
        },
        "id": "n9Td0K6MT-ai",
        "outputId": "e8710941-c02e-495d-9abc-bfdb5887e85a"
      },
      "execution_count": null,
      "outputs": [
        {
          "output_type": "execute_result",
          "data": {
            "text/plain": [
              "182"
            ]
          },
          "metadata": {},
          "execution_count": 39
        }
      ]
    },
    {
      "cell_type": "code",
      "source": [
        "four_six = temp8['batsman_runs'].value_counts()\n",
        "four_six"
      ],
      "metadata": {
        "colab": {
          "base_uri": "https://localhost:8080/"
        },
        "id": "8ExWrqD-UtAV",
        "outputId": "f11a976d-b1c3-450e-ff2f-0e02071c6a27"
      },
      "execution_count": null,
      "outputs": [
        {
          "output_type": "execute_result",
          "data": {
            "text/plain": [
              "1    1409\n",
              "0    1225\n",
              "2     315\n",
              "4     313\n",
              "6     216\n",
              "3      15\n",
              "Name: batsman_runs, dtype: int64"
            ]
          },
          "metadata": {},
          "execution_count": 40
        }
      ]
    },
    {
      "cell_type": "code",
      "source": [
        "dotted_balls_percentage = round((four_six[0]/balls_faced)*100,2)\n",
        "dotted_balls_percentage\n"
      ],
      "metadata": {
        "colab": {
          "base_uri": "https://localhost:8080/"
        },
        "id": "U5DE3ea1_K4c",
        "outputId": "7a090d7f-e20e-4346-f7d6-a6c7d3ad28b4"
      },
      "execution_count": null,
      "outputs": [
        {
          "output_type": "execute_result",
          "data": {
            "text/plain": [
              "35.07"
            ]
          },
          "metadata": {},
          "execution_count": 41
        }
      ]
    },
    {
      "cell_type": "code",
      "source": [
        "strike_rate = round((total_runs/balls_faced)*100,2)\n",
        "strike_rate"
      ],
      "metadata": {
        "colab": {
          "base_uri": "https://localhost:8080/"
        },
        "id": "vBovcuNXW_f9",
        "outputId": "90be240b-76b7-4eec-f5a6-b0d0648d664e"
      },
      "execution_count": null,
      "outputs": [
        {
          "output_type": "execute_result",
          "data": {
            "text/plain": [
              "132.61"
            ]
          },
          "metadata": {},
          "execution_count": 42
        }
      ]
    },
    {
      "cell_type": "code",
      "source": [
        "average_score = round((total_runs/matches_played), 2)\n",
        "average_score"
      ],
      "metadata": {
        "colab": {
          "base_uri": "https://localhost:8080/"
        },
        "id": "7eHbr01hX3RA",
        "outputId": "dd3453a0-e2f9-4a82-f32f-9a0f2c81dc11"
      },
      "execution_count": null,
      "outputs": [
        {
          "output_type": "execute_result",
          "data": {
            "text/plain": [
              "25.45"
            ]
          },
          "metadata": {},
          "execution_count": 43
        }
      ]
    },
    {
      "cell_type": "code",
      "source": [
        "def players_stats(player_name):\n",
        "  temp8 = df_ball[df_ball['batsman'] == player_name]\n",
        "  balls_faced = temp8.shape[0]\n",
        "  total_runs = temp8['batsman_runs'].sum()\n",
        "  \n",
        "  matches_played =  temp8['id'].nunique()\n",
        "  four_six = temp8['batsman_runs'].value_counts()\n",
        "  sixs = 0\n",
        "  fours = 0\n",
        "  runs_index = four_six.index.tolist()\n",
        "  if 4 in runs_index:\n",
        "    fours = four_six[4]\n",
        "  if 6 in runs_index:\n",
        "    sixs = four_six[6]\n",
        "  \n",
        "  dotted_balls = 0\n",
        "  if 0 in runs_index:\n",
        "    dotted_balls = four_six[0]\n",
        "  dotted_balls_percentage = round((dotted_balls/balls_faced)*100,2)\n",
        "  strike_rate = round((total_runs/balls_faced)*100,2)\n",
        "  average_score = round((total_runs/matches_played), 2)\n",
        "\n",
        "  return [player_name,matches_played, total_runs, balls_faced,strike_rate, average_score,dotted_balls_percentage,fours, sixs]\n",
        "\n",
        "players_stats('B Stanlake')\n"
      ],
      "metadata": {
        "colab": {
          "base_uri": "https://localhost:8080/"
        },
        "id": "4ADXc4dHAfUD",
        "outputId": "21f04985-90d1-4d35-95ca-886fe5007c90"
      },
      "execution_count": null,
      "outputs": [
        {
          "output_type": "execute_result",
          "data": {
            "text/plain": [
              "['B Stanlake', 1, 5, 2, 250.0, 5.0, 0.0, 1, 0]"
            ]
          },
          "metadata": {},
          "execution_count": 44
        }
      ]
    },
    {
      "cell_type": "code",
      "source": [
        "temp8 = df_ball[df_ball['batsman'] == 'B Stanlake']\n",
        "temp8"
      ],
      "metadata": {
        "colab": {
          "base_uri": "https://localhost:8080/",
          "height": 112
        },
        "id": "hKJP4omQYcCM",
        "outputId": "4de1be2b-b37e-4571-b57b-9f791520a1cc"
      },
      "execution_count": null,
      "outputs": [
        {
          "output_type": "execute_result",
          "data": {
            "text/plain": [
              "             id     batsman non_striker       bowler  batsman_runs  \\\n",
              "151961  1136567  B Stanlake    DJ Hooda  BCJ Cutting             1   \n",
              "151963  1136567  B Stanlake    DJ Hooda  BCJ Cutting             4   \n",
              "\n",
              "        total_runs  non_boundary  is_wicket         batting_team  \\\n",
              "151961           1             0          0  Sunrisers Hyderabad   \n",
              "151963           4             0          0  Sunrisers Hyderabad   \n",
              "\n",
              "          bowling_team  \n",
              "151961  Mumbai Indians  \n",
              "151963  Mumbai Indians  "
            ],
            "text/html": [
              "\n",
              "  <div id=\"df-9dd8b6db-9372-43ef-bb85-a7149eb05fb3\">\n",
              "    <div class=\"colab-df-container\">\n",
              "      <div>\n",
              "<style scoped>\n",
              "    .dataframe tbody tr th:only-of-type {\n",
              "        vertical-align: middle;\n",
              "    }\n",
              "\n",
              "    .dataframe tbody tr th {\n",
              "        vertical-align: top;\n",
              "    }\n",
              "\n",
              "    .dataframe thead th {\n",
              "        text-align: right;\n",
              "    }\n",
              "</style>\n",
              "<table border=\"1\" class=\"dataframe\">\n",
              "  <thead>\n",
              "    <tr style=\"text-align: right;\">\n",
              "      <th></th>\n",
              "      <th>id</th>\n",
              "      <th>batsman</th>\n",
              "      <th>non_striker</th>\n",
              "      <th>bowler</th>\n",
              "      <th>batsman_runs</th>\n",
              "      <th>total_runs</th>\n",
              "      <th>non_boundary</th>\n",
              "      <th>is_wicket</th>\n",
              "      <th>batting_team</th>\n",
              "      <th>bowling_team</th>\n",
              "    </tr>\n",
              "  </thead>\n",
              "  <tbody>\n",
              "    <tr>\n",
              "      <th>151961</th>\n",
              "      <td>1136567</td>\n",
              "      <td>B Stanlake</td>\n",
              "      <td>DJ Hooda</td>\n",
              "      <td>BCJ Cutting</td>\n",
              "      <td>1</td>\n",
              "      <td>1</td>\n",
              "      <td>0</td>\n",
              "      <td>0</td>\n",
              "      <td>Sunrisers Hyderabad</td>\n",
              "      <td>Mumbai Indians</td>\n",
              "    </tr>\n",
              "    <tr>\n",
              "      <th>151963</th>\n",
              "      <td>1136567</td>\n",
              "      <td>B Stanlake</td>\n",
              "      <td>DJ Hooda</td>\n",
              "      <td>BCJ Cutting</td>\n",
              "      <td>4</td>\n",
              "      <td>4</td>\n",
              "      <td>0</td>\n",
              "      <td>0</td>\n",
              "      <td>Sunrisers Hyderabad</td>\n",
              "      <td>Mumbai Indians</td>\n",
              "    </tr>\n",
              "  </tbody>\n",
              "</table>\n",
              "</div>\n",
              "      <button class=\"colab-df-convert\" onclick=\"convertToInteractive('df-9dd8b6db-9372-43ef-bb85-a7149eb05fb3')\"\n",
              "              title=\"Convert this dataframe to an interactive table.\"\n",
              "              style=\"display:none;\">\n",
              "        \n",
              "  <svg xmlns=\"http://www.w3.org/2000/svg\" height=\"24px\"viewBox=\"0 0 24 24\"\n",
              "       width=\"24px\">\n",
              "    <path d=\"M0 0h24v24H0V0z\" fill=\"none\"/>\n",
              "    <path d=\"M18.56 5.44l.94 2.06.94-2.06 2.06-.94-2.06-.94-.94-2.06-.94 2.06-2.06.94zm-11 1L8.5 8.5l.94-2.06 2.06-.94-2.06-.94L8.5 2.5l-.94 2.06-2.06.94zm10 10l.94 2.06.94-2.06 2.06-.94-2.06-.94-.94-2.06-.94 2.06-2.06.94z\"/><path d=\"M17.41 7.96l-1.37-1.37c-.4-.4-.92-.59-1.43-.59-.52 0-1.04.2-1.43.59L10.3 9.45l-7.72 7.72c-.78.78-.78 2.05 0 2.83L4 21.41c.39.39.9.59 1.41.59.51 0 1.02-.2 1.41-.59l7.78-7.78 2.81-2.81c.8-.78.8-2.07 0-2.86zM5.41 20L4 18.59l7.72-7.72 1.47 1.35L5.41 20z\"/>\n",
              "  </svg>\n",
              "      </button>\n",
              "      \n",
              "  <style>\n",
              "    .colab-df-container {\n",
              "      display:flex;\n",
              "      flex-wrap:wrap;\n",
              "      gap: 12px;\n",
              "    }\n",
              "\n",
              "    .colab-df-convert {\n",
              "      background-color: #E8F0FE;\n",
              "      border: none;\n",
              "      border-radius: 50%;\n",
              "      cursor: pointer;\n",
              "      display: none;\n",
              "      fill: #1967D2;\n",
              "      height: 32px;\n",
              "      padding: 0 0 0 0;\n",
              "      width: 32px;\n",
              "    }\n",
              "\n",
              "    .colab-df-convert:hover {\n",
              "      background-color: #E2EBFA;\n",
              "      box-shadow: 0px 1px 2px rgba(60, 64, 67, 0.3), 0px 1px 3px 1px rgba(60, 64, 67, 0.15);\n",
              "      fill: #174EA6;\n",
              "    }\n",
              "\n",
              "    [theme=dark] .colab-df-convert {\n",
              "      background-color: #3B4455;\n",
              "      fill: #D2E3FC;\n",
              "    }\n",
              "\n",
              "    [theme=dark] .colab-df-convert:hover {\n",
              "      background-color: #434B5C;\n",
              "      box-shadow: 0px 1px 3px 1px rgba(0, 0, 0, 0.15);\n",
              "      filter: drop-shadow(0px 1px 2px rgba(0, 0, 0, 0.3));\n",
              "      fill: #FFFFFF;\n",
              "    }\n",
              "  </style>\n",
              "\n",
              "      <script>\n",
              "        const buttonEl =\n",
              "          document.querySelector('#df-9dd8b6db-9372-43ef-bb85-a7149eb05fb3 button.colab-df-convert');\n",
              "        buttonEl.style.display =\n",
              "          google.colab.kernel.accessAllowed ? 'block' : 'none';\n",
              "\n",
              "        async function convertToInteractive(key) {\n",
              "          const element = document.querySelector('#df-9dd8b6db-9372-43ef-bb85-a7149eb05fb3');\n",
              "          const dataTable =\n",
              "            await google.colab.kernel.invokeFunction('convertToInteractive',\n",
              "                                                     [key], {});\n",
              "          if (!dataTable) return;\n",
              "\n",
              "          const docLinkHtml = 'Like what you see? Visit the ' +\n",
              "            '<a target=\"_blank\" href=https://colab.research.google.com/notebooks/data_table.ipynb>data table notebook</a>'\n",
              "            + ' to learn more about interactive tables.';\n",
              "          element.innerHTML = '';\n",
              "          dataTable['output_type'] = 'display_data';\n",
              "          await google.colab.output.renderOutput(dataTable, element);\n",
              "          const docLink = document.createElement('div');\n",
              "          docLink.innerHTML = docLinkHtml;\n",
              "          element.appendChild(docLink);\n",
              "        }\n",
              "      </script>\n",
              "    </div>\n",
              "  </div>\n",
              "  "
            ]
          },
          "metadata": {},
          "execution_count": 45
        }
      ]
    },
    {
      "cell_type": "code",
      "source": [
        "temp9 = df_ball.groupby('batsman')['batsman_runs'].sum()\n",
        "(temp9)"
      ],
      "metadata": {
        "colab": {
          "base_uri": "https://localhost:8080/"
        },
        "id": "eRxjLHxNp5x8",
        "outputId": "c304fe3d-9cae-48e5-f75f-47ceb55032a1"
      },
      "execution_count": null,
      "outputs": [
        {
          "output_type": "execute_result",
          "data": {
            "text/plain": [
              "batsman\n",
              "A Ashish Reddy     280\n",
              "A Chandila           4\n",
              "A Chopra            53\n",
              "A Choudhary         25\n",
              "A Dananjaya          4\n",
              "                  ... \n",
              "YV Takawale        192\n",
              "Yashpal Singh       47\n",
              "Younis Khan          3\n",
              "Yuvraj Singh      2750\n",
              "Z Khan             117\n",
              "Name: batsman_runs, Length: 537, dtype: int64"
            ]
          },
          "metadata": {},
          "execution_count": 46
        }
      ]
    },
    {
      "cell_type": "code",
      "source": [
        "temp9.sort_values(ascending = False)"
      ],
      "metadata": {
        "id": "XF9x_rehqyev",
        "colab": {
          "base_uri": "https://localhost:8080/"
        },
        "outputId": "e29e3c4f-66af-4634-ba55-c2081f6aa83c"
      },
      "execution_count": null,
      "outputs": [
        {
          "output_type": "execute_result",
          "data": {
            "text/plain": [
              "batsman\n",
              "V Kohli           5878\n",
              "SK Raina          5368\n",
              "DA Warner         5254\n",
              "RG Sharma         5230\n",
              "S Dhawan          5197\n",
              "                  ... \n",
              "IC Pandey            0\n",
              "S Kaushik            0\n",
              "ND Doshi             0\n",
              "V Pratap Singh       0\n",
              "Abdur Razzak         0\n",
              "Name: batsman_runs, Length: 537, dtype: int64"
            ]
          },
          "metadata": {},
          "execution_count": 47
        }
      ]
    },
    {
      "cell_type": "code",
      "source": [
        "top_5_batsmans = ['V Kohli','SK Raina', 'DA Warner', 'RG Sharma', 'S Dhawan']"
      ],
      "metadata": {
        "id": "vuyYDaaLDNEa"
      },
      "execution_count": null,
      "outputs": []
    },
    {
      "cell_type": "code",
      "source": [
        "player_name_list = temp9.index.tolist()\n",
        "player_name_list[:20]"
      ],
      "metadata": {
        "colab": {
          "base_uri": "https://localhost:8080/"
        },
        "id": "1Cf4eCjyIhK2",
        "outputId": "4b0e68ef-9f7b-4fcb-b1a9-35a2a2dbbf88"
      },
      "execution_count": null,
      "outputs": [
        {
          "output_type": "execute_result",
          "data": {
            "text/plain": [
              "['A Ashish Reddy',\n",
              " 'A Chandila',\n",
              " 'A Chopra',\n",
              " 'A Choudhary',\n",
              " 'A Dananjaya',\n",
              " 'A Flintoff',\n",
              " 'A Kumble',\n",
              " 'A Mishra',\n",
              " 'A Mithun',\n",
              " 'A Mukund',\n",
              " 'A Nehra',\n",
              " 'A Nortje',\n",
              " 'A Singh',\n",
              " 'A Symonds',\n",
              " 'A Uniyal',\n",
              " 'A Zampa',\n",
              " 'AA Bilakhia',\n",
              " 'AA Chavan',\n",
              " 'AA Jhunjhunwala',\n",
              " 'AA Noffke']"
            ]
          },
          "metadata": {},
          "execution_count": 49
        }
      ]
    },
    {
      "cell_type": "code",
      "source": [
        "players_data_2d_list = []\n",
        "\n",
        "for name in player_name_list:\n",
        "  #print(name)\n",
        "  ret_data = players_stats(name)\n",
        "  players_data_2d_list.append(ret_data)\n"
      ],
      "metadata": {
        "id": "-8M3O9_SPxFj"
      },
      "execution_count": null,
      "outputs": []
    },
    {
      "cell_type": "code",
      "source": [
        "#creating dataframe for players statistics\n",
        "columns_names = ['name','matches_played', 'total_runs', 'balls_faced' ,'strike_rate', 'average_score','dotted_balls_percentage','fours', 'sixs']\n",
        "import pandas as pd\n",
        "\n",
        "players_stats_df = pd.DataFrame(data = players_data_2d_list, columns=columns_names)\n",
        "\n",
        "players_stats_df"
      ],
      "metadata": {
        "colab": {
          "base_uri": "https://localhost:8080/",
          "height": 424
        },
        "id": "e7wCkR5cQEok",
        "outputId": "855538d6-509d-423b-f0f9-c42954e67313"
      },
      "execution_count": null,
      "outputs": [
        {
          "output_type": "execute_result",
          "data": {
            "text/plain": [
              "               name  matches_played  total_runs  balls_faced  strike_rate  \\\n",
              "0    A Ashish Reddy              23         280          196       142.86   \n",
              "1        A Chandila               2           4            7        57.14   \n",
              "2          A Chopra               6          53           75        70.67   \n",
              "3       A Choudhary               3          25           20       125.00   \n",
              "4       A Dananjaya               1           4            5        80.00   \n",
              "..              ...             ...         ...          ...          ...   \n",
              "532     YV Takawale              10         192          183       104.92   \n",
              "533   Yashpal Singh               4          47           67        70.15   \n",
              "534     Younis Khan               1           3            7        42.86   \n",
              "535    Yuvraj Singh             126        2750         2205       124.72   \n",
              "536          Z Khan              27         117          141        82.98   \n",
              "\n",
              "     average_score  dotted_balls_percentage  fours  sixs  \n",
              "0            12.17                    31.12     16    15  \n",
              "1             2.00                    42.86      0     0  \n",
              "2             8.83                    60.00      7     0  \n",
              "3             8.33                    20.00      1     1  \n",
              "4             4.00                    40.00      0     0  \n",
              "..             ...                      ...    ...   ...  \n",
              "532          19.20                    54.64     26     3  \n",
              "533          11.75                    58.21      5     0  \n",
              "534           3.00                    57.14      0     0  \n",
              "535          21.83                    44.26    217   149  \n",
              "536           4.33                    52.48     11     2  \n",
              "\n",
              "[537 rows x 9 columns]"
            ],
            "text/html": [
              "\n",
              "  <div id=\"df-a740b11e-d15a-463b-88c2-4cfb4f9da122\">\n",
              "    <div class=\"colab-df-container\">\n",
              "      <div>\n",
              "<style scoped>\n",
              "    .dataframe tbody tr th:only-of-type {\n",
              "        vertical-align: middle;\n",
              "    }\n",
              "\n",
              "    .dataframe tbody tr th {\n",
              "        vertical-align: top;\n",
              "    }\n",
              "\n",
              "    .dataframe thead th {\n",
              "        text-align: right;\n",
              "    }\n",
              "</style>\n",
              "<table border=\"1\" class=\"dataframe\">\n",
              "  <thead>\n",
              "    <tr style=\"text-align: right;\">\n",
              "      <th></th>\n",
              "      <th>name</th>\n",
              "      <th>matches_played</th>\n",
              "      <th>total_runs</th>\n",
              "      <th>balls_faced</th>\n",
              "      <th>strike_rate</th>\n",
              "      <th>average_score</th>\n",
              "      <th>dotted_balls_percentage</th>\n",
              "      <th>fours</th>\n",
              "      <th>sixs</th>\n",
              "    </tr>\n",
              "  </thead>\n",
              "  <tbody>\n",
              "    <tr>\n",
              "      <th>0</th>\n",
              "      <td>A Ashish Reddy</td>\n",
              "      <td>23</td>\n",
              "      <td>280</td>\n",
              "      <td>196</td>\n",
              "      <td>142.86</td>\n",
              "      <td>12.17</td>\n",
              "      <td>31.12</td>\n",
              "      <td>16</td>\n",
              "      <td>15</td>\n",
              "    </tr>\n",
              "    <tr>\n",
              "      <th>1</th>\n",
              "      <td>A Chandila</td>\n",
              "      <td>2</td>\n",
              "      <td>4</td>\n",
              "      <td>7</td>\n",
              "      <td>57.14</td>\n",
              "      <td>2.00</td>\n",
              "      <td>42.86</td>\n",
              "      <td>0</td>\n",
              "      <td>0</td>\n",
              "    </tr>\n",
              "    <tr>\n",
              "      <th>2</th>\n",
              "      <td>A Chopra</td>\n",
              "      <td>6</td>\n",
              "      <td>53</td>\n",
              "      <td>75</td>\n",
              "      <td>70.67</td>\n",
              "      <td>8.83</td>\n",
              "      <td>60.00</td>\n",
              "      <td>7</td>\n",
              "      <td>0</td>\n",
              "    </tr>\n",
              "    <tr>\n",
              "      <th>3</th>\n",
              "      <td>A Choudhary</td>\n",
              "      <td>3</td>\n",
              "      <td>25</td>\n",
              "      <td>20</td>\n",
              "      <td>125.00</td>\n",
              "      <td>8.33</td>\n",
              "      <td>20.00</td>\n",
              "      <td>1</td>\n",
              "      <td>1</td>\n",
              "    </tr>\n",
              "    <tr>\n",
              "      <th>4</th>\n",
              "      <td>A Dananjaya</td>\n",
              "      <td>1</td>\n",
              "      <td>4</td>\n",
              "      <td>5</td>\n",
              "      <td>80.00</td>\n",
              "      <td>4.00</td>\n",
              "      <td>40.00</td>\n",
              "      <td>0</td>\n",
              "      <td>0</td>\n",
              "    </tr>\n",
              "    <tr>\n",
              "      <th>...</th>\n",
              "      <td>...</td>\n",
              "      <td>...</td>\n",
              "      <td>...</td>\n",
              "      <td>...</td>\n",
              "      <td>...</td>\n",
              "      <td>...</td>\n",
              "      <td>...</td>\n",
              "      <td>...</td>\n",
              "      <td>...</td>\n",
              "    </tr>\n",
              "    <tr>\n",
              "      <th>532</th>\n",
              "      <td>YV Takawale</td>\n",
              "      <td>10</td>\n",
              "      <td>192</td>\n",
              "      <td>183</td>\n",
              "      <td>104.92</td>\n",
              "      <td>19.20</td>\n",
              "      <td>54.64</td>\n",
              "      <td>26</td>\n",
              "      <td>3</td>\n",
              "    </tr>\n",
              "    <tr>\n",
              "      <th>533</th>\n",
              "      <td>Yashpal Singh</td>\n",
              "      <td>4</td>\n",
              "      <td>47</td>\n",
              "      <td>67</td>\n",
              "      <td>70.15</td>\n",
              "      <td>11.75</td>\n",
              "      <td>58.21</td>\n",
              "      <td>5</td>\n",
              "      <td>0</td>\n",
              "    </tr>\n",
              "    <tr>\n",
              "      <th>534</th>\n",
              "      <td>Younis Khan</td>\n",
              "      <td>1</td>\n",
              "      <td>3</td>\n",
              "      <td>7</td>\n",
              "      <td>42.86</td>\n",
              "      <td>3.00</td>\n",
              "      <td>57.14</td>\n",
              "      <td>0</td>\n",
              "      <td>0</td>\n",
              "    </tr>\n",
              "    <tr>\n",
              "      <th>535</th>\n",
              "      <td>Yuvraj Singh</td>\n",
              "      <td>126</td>\n",
              "      <td>2750</td>\n",
              "      <td>2205</td>\n",
              "      <td>124.72</td>\n",
              "      <td>21.83</td>\n",
              "      <td>44.26</td>\n",
              "      <td>217</td>\n",
              "      <td>149</td>\n",
              "    </tr>\n",
              "    <tr>\n",
              "      <th>536</th>\n",
              "      <td>Z Khan</td>\n",
              "      <td>27</td>\n",
              "      <td>117</td>\n",
              "      <td>141</td>\n",
              "      <td>82.98</td>\n",
              "      <td>4.33</td>\n",
              "      <td>52.48</td>\n",
              "      <td>11</td>\n",
              "      <td>2</td>\n",
              "    </tr>\n",
              "  </tbody>\n",
              "</table>\n",
              "<p>537 rows × 9 columns</p>\n",
              "</div>\n",
              "      <button class=\"colab-df-convert\" onclick=\"convertToInteractive('df-a740b11e-d15a-463b-88c2-4cfb4f9da122')\"\n",
              "              title=\"Convert this dataframe to an interactive table.\"\n",
              "              style=\"display:none;\">\n",
              "        \n",
              "  <svg xmlns=\"http://www.w3.org/2000/svg\" height=\"24px\"viewBox=\"0 0 24 24\"\n",
              "       width=\"24px\">\n",
              "    <path d=\"M0 0h24v24H0V0z\" fill=\"none\"/>\n",
              "    <path d=\"M18.56 5.44l.94 2.06.94-2.06 2.06-.94-2.06-.94-.94-2.06-.94 2.06-2.06.94zm-11 1L8.5 8.5l.94-2.06 2.06-.94-2.06-.94L8.5 2.5l-.94 2.06-2.06.94zm10 10l.94 2.06.94-2.06 2.06-.94-2.06-.94-.94-2.06-.94 2.06-2.06.94z\"/><path d=\"M17.41 7.96l-1.37-1.37c-.4-.4-.92-.59-1.43-.59-.52 0-1.04.2-1.43.59L10.3 9.45l-7.72 7.72c-.78.78-.78 2.05 0 2.83L4 21.41c.39.39.9.59 1.41.59.51 0 1.02-.2 1.41-.59l7.78-7.78 2.81-2.81c.8-.78.8-2.07 0-2.86zM5.41 20L4 18.59l7.72-7.72 1.47 1.35L5.41 20z\"/>\n",
              "  </svg>\n",
              "      </button>\n",
              "      \n",
              "  <style>\n",
              "    .colab-df-container {\n",
              "      display:flex;\n",
              "      flex-wrap:wrap;\n",
              "      gap: 12px;\n",
              "    }\n",
              "\n",
              "    .colab-df-convert {\n",
              "      background-color: #E8F0FE;\n",
              "      border: none;\n",
              "      border-radius: 50%;\n",
              "      cursor: pointer;\n",
              "      display: none;\n",
              "      fill: #1967D2;\n",
              "      height: 32px;\n",
              "      padding: 0 0 0 0;\n",
              "      width: 32px;\n",
              "    }\n",
              "\n",
              "    .colab-df-convert:hover {\n",
              "      background-color: #E2EBFA;\n",
              "      box-shadow: 0px 1px 2px rgba(60, 64, 67, 0.3), 0px 1px 3px 1px rgba(60, 64, 67, 0.15);\n",
              "      fill: #174EA6;\n",
              "    }\n",
              "\n",
              "    [theme=dark] .colab-df-convert {\n",
              "      background-color: #3B4455;\n",
              "      fill: #D2E3FC;\n",
              "    }\n",
              "\n",
              "    [theme=dark] .colab-df-convert:hover {\n",
              "      background-color: #434B5C;\n",
              "      box-shadow: 0px 1px 3px 1px rgba(0, 0, 0, 0.15);\n",
              "      filter: drop-shadow(0px 1px 2px rgba(0, 0, 0, 0.3));\n",
              "      fill: #FFFFFF;\n",
              "    }\n",
              "  </style>\n",
              "\n",
              "      <script>\n",
              "        const buttonEl =\n",
              "          document.querySelector('#df-a740b11e-d15a-463b-88c2-4cfb4f9da122 button.colab-df-convert');\n",
              "        buttonEl.style.display =\n",
              "          google.colab.kernel.accessAllowed ? 'block' : 'none';\n",
              "\n",
              "        async function convertToInteractive(key) {\n",
              "          const element = document.querySelector('#df-a740b11e-d15a-463b-88c2-4cfb4f9da122');\n",
              "          const dataTable =\n",
              "            await google.colab.kernel.invokeFunction('convertToInteractive',\n",
              "                                                     [key], {});\n",
              "          if (!dataTable) return;\n",
              "\n",
              "          const docLinkHtml = 'Like what you see? Visit the ' +\n",
              "            '<a target=\"_blank\" href=https://colab.research.google.com/notebooks/data_table.ipynb>data table notebook</a>'\n",
              "            + ' to learn more about interactive tables.';\n",
              "          element.innerHTML = '';\n",
              "          dataTable['output_type'] = 'display_data';\n",
              "          await google.colab.output.renderOutput(dataTable, element);\n",
              "          const docLink = document.createElement('div');\n",
              "          docLink.innerHTML = docLinkHtml;\n",
              "          element.appendChild(docLink);\n",
              "        }\n",
              "      </script>\n",
              "    </div>\n",
              "  </div>\n",
              "  "
            ]
          },
          "metadata": {},
          "execution_count": 51
        }
      ]
    },
    {
      "cell_type": "code",
      "source": [
        "#top 5 scorere\n",
        "temp10 = players_stats_df.sort_values(by= ['total_runs'], ascending = False)[0:5]\n",
        "temp10"
      ],
      "metadata": {
        "colab": {
          "base_uri": "https://localhost:8080/",
          "height": 206
        },
        "id": "Xt_UMc1fbRw3",
        "outputId": "184e465c-d41a-49ca-fb7b-e544674beda5"
      },
      "execution_count": null,
      "outputs": [
        {
          "output_type": "execute_result",
          "data": {
            "text/plain": [
              "          name  matches_played  total_runs  balls_faced  strike_rate  \\\n",
              "505    V Kohli             184        5878         4609       127.53   \n",
              "438   SK Raina             189        5368         4041       132.84   \n",
              "116  DA Warner             142        5254         3819       137.58   \n",
              "379  RG Sharma             194        5230         4088       127.94   \n",
              "407   S Dhawan             175        5197         4208       123.50   \n",
              "\n",
              "     average_score  dotted_balls_percentage  fours  sixs  \n",
              "505          31.95                    35.26    504   202  \n",
              "438          28.40                    34.94    493   194  \n",
              "116          37.00                    37.42    510   195  \n",
              "379          26.96                    37.48    458   214  \n",
              "407          29.70                    38.33    591   109  "
            ],
            "text/html": [
              "\n",
              "  <div id=\"df-8812044b-ffd8-48fe-8b9e-e5dbb0a73154\">\n",
              "    <div class=\"colab-df-container\">\n",
              "      <div>\n",
              "<style scoped>\n",
              "    .dataframe tbody tr th:only-of-type {\n",
              "        vertical-align: middle;\n",
              "    }\n",
              "\n",
              "    .dataframe tbody tr th {\n",
              "        vertical-align: top;\n",
              "    }\n",
              "\n",
              "    .dataframe thead th {\n",
              "        text-align: right;\n",
              "    }\n",
              "</style>\n",
              "<table border=\"1\" class=\"dataframe\">\n",
              "  <thead>\n",
              "    <tr style=\"text-align: right;\">\n",
              "      <th></th>\n",
              "      <th>name</th>\n",
              "      <th>matches_played</th>\n",
              "      <th>total_runs</th>\n",
              "      <th>balls_faced</th>\n",
              "      <th>strike_rate</th>\n",
              "      <th>average_score</th>\n",
              "      <th>dotted_balls_percentage</th>\n",
              "      <th>fours</th>\n",
              "      <th>sixs</th>\n",
              "    </tr>\n",
              "  </thead>\n",
              "  <tbody>\n",
              "    <tr>\n",
              "      <th>505</th>\n",
              "      <td>V Kohli</td>\n",
              "      <td>184</td>\n",
              "      <td>5878</td>\n",
              "      <td>4609</td>\n",
              "      <td>127.53</td>\n",
              "      <td>31.95</td>\n",
              "      <td>35.26</td>\n",
              "      <td>504</td>\n",
              "      <td>202</td>\n",
              "    </tr>\n",
              "    <tr>\n",
              "      <th>438</th>\n",
              "      <td>SK Raina</td>\n",
              "      <td>189</td>\n",
              "      <td>5368</td>\n",
              "      <td>4041</td>\n",
              "      <td>132.84</td>\n",
              "      <td>28.40</td>\n",
              "      <td>34.94</td>\n",
              "      <td>493</td>\n",
              "      <td>194</td>\n",
              "    </tr>\n",
              "    <tr>\n",
              "      <th>116</th>\n",
              "      <td>DA Warner</td>\n",
              "      <td>142</td>\n",
              "      <td>5254</td>\n",
              "      <td>3819</td>\n",
              "      <td>137.58</td>\n",
              "      <td>37.00</td>\n",
              "      <td>37.42</td>\n",
              "      <td>510</td>\n",
              "      <td>195</td>\n",
              "    </tr>\n",
              "    <tr>\n",
              "      <th>379</th>\n",
              "      <td>RG Sharma</td>\n",
              "      <td>194</td>\n",
              "      <td>5230</td>\n",
              "      <td>4088</td>\n",
              "      <td>127.94</td>\n",
              "      <td>26.96</td>\n",
              "      <td>37.48</td>\n",
              "      <td>458</td>\n",
              "      <td>214</td>\n",
              "    </tr>\n",
              "    <tr>\n",
              "      <th>407</th>\n",
              "      <td>S Dhawan</td>\n",
              "      <td>175</td>\n",
              "      <td>5197</td>\n",
              "      <td>4208</td>\n",
              "      <td>123.50</td>\n",
              "      <td>29.70</td>\n",
              "      <td>38.33</td>\n",
              "      <td>591</td>\n",
              "      <td>109</td>\n",
              "    </tr>\n",
              "  </tbody>\n",
              "</table>\n",
              "</div>\n",
              "      <button class=\"colab-df-convert\" onclick=\"convertToInteractive('df-8812044b-ffd8-48fe-8b9e-e5dbb0a73154')\"\n",
              "              title=\"Convert this dataframe to an interactive table.\"\n",
              "              style=\"display:none;\">\n",
              "        \n",
              "  <svg xmlns=\"http://www.w3.org/2000/svg\" height=\"24px\"viewBox=\"0 0 24 24\"\n",
              "       width=\"24px\">\n",
              "    <path d=\"M0 0h24v24H0V0z\" fill=\"none\"/>\n",
              "    <path d=\"M18.56 5.44l.94 2.06.94-2.06 2.06-.94-2.06-.94-.94-2.06-.94 2.06-2.06.94zm-11 1L8.5 8.5l.94-2.06 2.06-.94-2.06-.94L8.5 2.5l-.94 2.06-2.06.94zm10 10l.94 2.06.94-2.06 2.06-.94-2.06-.94-.94-2.06-.94 2.06-2.06.94z\"/><path d=\"M17.41 7.96l-1.37-1.37c-.4-.4-.92-.59-1.43-.59-.52 0-1.04.2-1.43.59L10.3 9.45l-7.72 7.72c-.78.78-.78 2.05 0 2.83L4 21.41c.39.39.9.59 1.41.59.51 0 1.02-.2 1.41-.59l7.78-7.78 2.81-2.81c.8-.78.8-2.07 0-2.86zM5.41 20L4 18.59l7.72-7.72 1.47 1.35L5.41 20z\"/>\n",
              "  </svg>\n",
              "      </button>\n",
              "      \n",
              "  <style>\n",
              "    .colab-df-container {\n",
              "      display:flex;\n",
              "      flex-wrap:wrap;\n",
              "      gap: 12px;\n",
              "    }\n",
              "\n",
              "    .colab-df-convert {\n",
              "      background-color: #E8F0FE;\n",
              "      border: none;\n",
              "      border-radius: 50%;\n",
              "      cursor: pointer;\n",
              "      display: none;\n",
              "      fill: #1967D2;\n",
              "      height: 32px;\n",
              "      padding: 0 0 0 0;\n",
              "      width: 32px;\n",
              "    }\n",
              "\n",
              "    .colab-df-convert:hover {\n",
              "      background-color: #E2EBFA;\n",
              "      box-shadow: 0px 1px 2px rgba(60, 64, 67, 0.3), 0px 1px 3px 1px rgba(60, 64, 67, 0.15);\n",
              "      fill: #174EA6;\n",
              "    }\n",
              "\n",
              "    [theme=dark] .colab-df-convert {\n",
              "      background-color: #3B4455;\n",
              "      fill: #D2E3FC;\n",
              "    }\n",
              "\n",
              "    [theme=dark] .colab-df-convert:hover {\n",
              "      background-color: #434B5C;\n",
              "      box-shadow: 0px 1px 3px 1px rgba(0, 0, 0, 0.15);\n",
              "      filter: drop-shadow(0px 1px 2px rgba(0, 0, 0, 0.3));\n",
              "      fill: #FFFFFF;\n",
              "    }\n",
              "  </style>\n",
              "\n",
              "      <script>\n",
              "        const buttonEl =\n",
              "          document.querySelector('#df-8812044b-ffd8-48fe-8b9e-e5dbb0a73154 button.colab-df-convert');\n",
              "        buttonEl.style.display =\n",
              "          google.colab.kernel.accessAllowed ? 'block' : 'none';\n",
              "\n",
              "        async function convertToInteractive(key) {\n",
              "          const element = document.querySelector('#df-8812044b-ffd8-48fe-8b9e-e5dbb0a73154');\n",
              "          const dataTable =\n",
              "            await google.colab.kernel.invokeFunction('convertToInteractive',\n",
              "                                                     [key], {});\n",
              "          if (!dataTable) return;\n",
              "\n",
              "          const docLinkHtml = 'Like what you see? Visit the ' +\n",
              "            '<a target=\"_blank\" href=https://colab.research.google.com/notebooks/data_table.ipynb>data table notebook</a>'\n",
              "            + ' to learn more about interactive tables.';\n",
              "          element.innerHTML = '';\n",
              "          dataTable['output_type'] = 'display_data';\n",
              "          await google.colab.output.renderOutput(dataTable, element);\n",
              "          const docLink = document.createElement('div');\n",
              "          docLink.innerHTML = docLinkHtml;\n",
              "          element.appendChild(docLink);\n",
              "        }\n",
              "      </script>\n",
              "    </div>\n",
              "  </div>\n",
              "  "
            ]
          },
          "metadata": {},
          "execution_count": 52
        }
      ]
    },
    {
      "cell_type": "code",
      "source": [
        "#top5 strike rate\n",
        "temp11 = players_stats_df.sort_values(by= ['strike_rate'], ascending = False)[0:5]\n",
        "temp11"
      ],
      "metadata": {
        "id": "GAZvgAIDa_u2",
        "colab": {
          "base_uri": "https://localhost:8080/",
          "height": 206
        },
        "outputId": "13d21358-f1fe-4403-c1f5-02e01e4b02c3"
      },
      "execution_count": null,
      "outputs": [
        {
          "output_type": "execute_result",
          "data": {
            "text/plain": [
              "              name  matches_played  total_runs  balls_faced  strike_rate  \\\n",
              "72      B Stanlake               1           5            2       250.00   \n",
              "504       Umar Gul               4          39           19       205.26   \n",
              "395       RS Sodhi               1           4            2       200.00   \n",
              "470  Shahid Afridi               9          81           46       176.09   \n",
              "175     I Malhotra               1           7            4       175.00   \n",
              "\n",
              "     average_score  dotted_balls_percentage  fours  sixs  \n",
              "72            5.00                     0.00      1     0  \n",
              "504           9.75                    42.11      1     5  \n",
              "395           4.00                    50.00      1     0  \n",
              "470           9.00                    43.48      7     6  \n",
              "175           7.00                     0.00      1     0  "
            ],
            "text/html": [
              "\n",
              "  <div id=\"df-3d445fee-d133-400d-9e81-7cb7795221a6\">\n",
              "    <div class=\"colab-df-container\">\n",
              "      <div>\n",
              "<style scoped>\n",
              "    .dataframe tbody tr th:only-of-type {\n",
              "        vertical-align: middle;\n",
              "    }\n",
              "\n",
              "    .dataframe tbody tr th {\n",
              "        vertical-align: top;\n",
              "    }\n",
              "\n",
              "    .dataframe thead th {\n",
              "        text-align: right;\n",
              "    }\n",
              "</style>\n",
              "<table border=\"1\" class=\"dataframe\">\n",
              "  <thead>\n",
              "    <tr style=\"text-align: right;\">\n",
              "      <th></th>\n",
              "      <th>name</th>\n",
              "      <th>matches_played</th>\n",
              "      <th>total_runs</th>\n",
              "      <th>balls_faced</th>\n",
              "      <th>strike_rate</th>\n",
              "      <th>average_score</th>\n",
              "      <th>dotted_balls_percentage</th>\n",
              "      <th>fours</th>\n",
              "      <th>sixs</th>\n",
              "    </tr>\n",
              "  </thead>\n",
              "  <tbody>\n",
              "    <tr>\n",
              "      <th>72</th>\n",
              "      <td>B Stanlake</td>\n",
              "      <td>1</td>\n",
              "      <td>5</td>\n",
              "      <td>2</td>\n",
              "      <td>250.00</td>\n",
              "      <td>5.00</td>\n",
              "      <td>0.00</td>\n",
              "      <td>1</td>\n",
              "      <td>0</td>\n",
              "    </tr>\n",
              "    <tr>\n",
              "      <th>504</th>\n",
              "      <td>Umar Gul</td>\n",
              "      <td>4</td>\n",
              "      <td>39</td>\n",
              "      <td>19</td>\n",
              "      <td>205.26</td>\n",
              "      <td>9.75</td>\n",
              "      <td>42.11</td>\n",
              "      <td>1</td>\n",
              "      <td>5</td>\n",
              "    </tr>\n",
              "    <tr>\n",
              "      <th>395</th>\n",
              "      <td>RS Sodhi</td>\n",
              "      <td>1</td>\n",
              "      <td>4</td>\n",
              "      <td>2</td>\n",
              "      <td>200.00</td>\n",
              "      <td>4.00</td>\n",
              "      <td>50.00</td>\n",
              "      <td>1</td>\n",
              "      <td>0</td>\n",
              "    </tr>\n",
              "    <tr>\n",
              "      <th>470</th>\n",
              "      <td>Shahid Afridi</td>\n",
              "      <td>9</td>\n",
              "      <td>81</td>\n",
              "      <td>46</td>\n",
              "      <td>176.09</td>\n",
              "      <td>9.00</td>\n",
              "      <td>43.48</td>\n",
              "      <td>7</td>\n",
              "      <td>6</td>\n",
              "    </tr>\n",
              "    <tr>\n",
              "      <th>175</th>\n",
              "      <td>I Malhotra</td>\n",
              "      <td>1</td>\n",
              "      <td>7</td>\n",
              "      <td>4</td>\n",
              "      <td>175.00</td>\n",
              "      <td>7.00</td>\n",
              "      <td>0.00</td>\n",
              "      <td>1</td>\n",
              "      <td>0</td>\n",
              "    </tr>\n",
              "  </tbody>\n",
              "</table>\n",
              "</div>\n",
              "      <button class=\"colab-df-convert\" onclick=\"convertToInteractive('df-3d445fee-d133-400d-9e81-7cb7795221a6')\"\n",
              "              title=\"Convert this dataframe to an interactive table.\"\n",
              "              style=\"display:none;\">\n",
              "        \n",
              "  <svg xmlns=\"http://www.w3.org/2000/svg\" height=\"24px\"viewBox=\"0 0 24 24\"\n",
              "       width=\"24px\">\n",
              "    <path d=\"M0 0h24v24H0V0z\" fill=\"none\"/>\n",
              "    <path d=\"M18.56 5.44l.94 2.06.94-2.06 2.06-.94-2.06-.94-.94-2.06-.94 2.06-2.06.94zm-11 1L8.5 8.5l.94-2.06 2.06-.94-2.06-.94L8.5 2.5l-.94 2.06-2.06.94zm10 10l.94 2.06.94-2.06 2.06-.94-2.06-.94-.94-2.06-.94 2.06-2.06.94z\"/><path d=\"M17.41 7.96l-1.37-1.37c-.4-.4-.92-.59-1.43-.59-.52 0-1.04.2-1.43.59L10.3 9.45l-7.72 7.72c-.78.78-.78 2.05 0 2.83L4 21.41c.39.39.9.59 1.41.59.51 0 1.02-.2 1.41-.59l7.78-7.78 2.81-2.81c.8-.78.8-2.07 0-2.86zM5.41 20L4 18.59l7.72-7.72 1.47 1.35L5.41 20z\"/>\n",
              "  </svg>\n",
              "      </button>\n",
              "      \n",
              "  <style>\n",
              "    .colab-df-container {\n",
              "      display:flex;\n",
              "      flex-wrap:wrap;\n",
              "      gap: 12px;\n",
              "    }\n",
              "\n",
              "    .colab-df-convert {\n",
              "      background-color: #E8F0FE;\n",
              "      border: none;\n",
              "      border-radius: 50%;\n",
              "      cursor: pointer;\n",
              "      display: none;\n",
              "      fill: #1967D2;\n",
              "      height: 32px;\n",
              "      padding: 0 0 0 0;\n",
              "      width: 32px;\n",
              "    }\n",
              "\n",
              "    .colab-df-convert:hover {\n",
              "      background-color: #E2EBFA;\n",
              "      box-shadow: 0px 1px 2px rgba(60, 64, 67, 0.3), 0px 1px 3px 1px rgba(60, 64, 67, 0.15);\n",
              "      fill: #174EA6;\n",
              "    }\n",
              "\n",
              "    [theme=dark] .colab-df-convert {\n",
              "      background-color: #3B4455;\n",
              "      fill: #D2E3FC;\n",
              "    }\n",
              "\n",
              "    [theme=dark] .colab-df-convert:hover {\n",
              "      background-color: #434B5C;\n",
              "      box-shadow: 0px 1px 3px 1px rgba(0, 0, 0, 0.15);\n",
              "      filter: drop-shadow(0px 1px 2px rgba(0, 0, 0, 0.3));\n",
              "      fill: #FFFFFF;\n",
              "    }\n",
              "  </style>\n",
              "\n",
              "      <script>\n",
              "        const buttonEl =\n",
              "          document.querySelector('#df-3d445fee-d133-400d-9e81-7cb7795221a6 button.colab-df-convert');\n",
              "        buttonEl.style.display =\n",
              "          google.colab.kernel.accessAllowed ? 'block' : 'none';\n",
              "\n",
              "        async function convertToInteractive(key) {\n",
              "          const element = document.querySelector('#df-3d445fee-d133-400d-9e81-7cb7795221a6');\n",
              "          const dataTable =\n",
              "            await google.colab.kernel.invokeFunction('convertToInteractive',\n",
              "                                                     [key], {});\n",
              "          if (!dataTable) return;\n",
              "\n",
              "          const docLinkHtml = 'Like what you see? Visit the ' +\n",
              "            '<a target=\"_blank\" href=https://colab.research.google.com/notebooks/data_table.ipynb>data table notebook</a>'\n",
              "            + ' to learn more about interactive tables.';\n",
              "          element.innerHTML = '';\n",
              "          dataTable['output_type'] = 'display_data';\n",
              "          await google.colab.output.renderOutput(dataTable, element);\n",
              "          const docLink = document.createElement('div');\n",
              "          docLink.innerHTML = docLinkHtml;\n",
              "          element.appendChild(docLink);\n",
              "        }\n",
              "      </script>\n",
              "    </div>\n",
              "  </div>\n",
              "  "
            ]
          },
          "metadata": {},
          "execution_count": 53
        }
      ]
    },
    {
      "cell_type": "code",
      "source": [
        "#top 5 average score\n",
        "temp12 = players_stats_df.sort_values(by= ['average_score'], ascending = False)[0:5]\n",
        "temp12.loc[:, ['name', 'average_score']]"
      ],
      "metadata": {
        "colab": {
          "base_uri": "https://localhost:8080/",
          "height": 206
        },
        "id": "-6SK5dg14Rti",
        "outputId": "fad64bfb-0466-4616-f096-bd2822128a16"
      },
      "execution_count": null,
      "outputs": [
        {
          "output_type": "execute_result",
          "data": {
            "text/plain": [
              "            name  average_score\n",
              "206  JM Bairstow          37.62\n",
              "254  LMP Simmons          37.21\n",
              "116    DA Warner          37.00\n",
              "232     KL Rahul          36.76\n",
              "96      CH Gayle          36.43"
            ],
            "text/html": [
              "\n",
              "  <div id=\"df-a17b7dd8-f1ff-472f-8802-d01aa75e9282\">\n",
              "    <div class=\"colab-df-container\">\n",
              "      <div>\n",
              "<style scoped>\n",
              "    .dataframe tbody tr th:only-of-type {\n",
              "        vertical-align: middle;\n",
              "    }\n",
              "\n",
              "    .dataframe tbody tr th {\n",
              "        vertical-align: top;\n",
              "    }\n",
              "\n",
              "    .dataframe thead th {\n",
              "        text-align: right;\n",
              "    }\n",
              "</style>\n",
              "<table border=\"1\" class=\"dataframe\">\n",
              "  <thead>\n",
              "    <tr style=\"text-align: right;\">\n",
              "      <th></th>\n",
              "      <th>name</th>\n",
              "      <th>average_score</th>\n",
              "    </tr>\n",
              "  </thead>\n",
              "  <tbody>\n",
              "    <tr>\n",
              "      <th>206</th>\n",
              "      <td>JM Bairstow</td>\n",
              "      <td>37.62</td>\n",
              "    </tr>\n",
              "    <tr>\n",
              "      <th>254</th>\n",
              "      <td>LMP Simmons</td>\n",
              "      <td>37.21</td>\n",
              "    </tr>\n",
              "    <tr>\n",
              "      <th>116</th>\n",
              "      <td>DA Warner</td>\n",
              "      <td>37.00</td>\n",
              "    </tr>\n",
              "    <tr>\n",
              "      <th>232</th>\n",
              "      <td>KL Rahul</td>\n",
              "      <td>36.76</td>\n",
              "    </tr>\n",
              "    <tr>\n",
              "      <th>96</th>\n",
              "      <td>CH Gayle</td>\n",
              "      <td>36.43</td>\n",
              "    </tr>\n",
              "  </tbody>\n",
              "</table>\n",
              "</div>\n",
              "      <button class=\"colab-df-convert\" onclick=\"convertToInteractive('df-a17b7dd8-f1ff-472f-8802-d01aa75e9282')\"\n",
              "              title=\"Convert this dataframe to an interactive table.\"\n",
              "              style=\"display:none;\">\n",
              "        \n",
              "  <svg xmlns=\"http://www.w3.org/2000/svg\" height=\"24px\"viewBox=\"0 0 24 24\"\n",
              "       width=\"24px\">\n",
              "    <path d=\"M0 0h24v24H0V0z\" fill=\"none\"/>\n",
              "    <path d=\"M18.56 5.44l.94 2.06.94-2.06 2.06-.94-2.06-.94-.94-2.06-.94 2.06-2.06.94zm-11 1L8.5 8.5l.94-2.06 2.06-.94-2.06-.94L8.5 2.5l-.94 2.06-2.06.94zm10 10l.94 2.06.94-2.06 2.06-.94-2.06-.94-.94-2.06-.94 2.06-2.06.94z\"/><path d=\"M17.41 7.96l-1.37-1.37c-.4-.4-.92-.59-1.43-.59-.52 0-1.04.2-1.43.59L10.3 9.45l-7.72 7.72c-.78.78-.78 2.05 0 2.83L4 21.41c.39.39.9.59 1.41.59.51 0 1.02-.2 1.41-.59l7.78-7.78 2.81-2.81c.8-.78.8-2.07 0-2.86zM5.41 20L4 18.59l7.72-7.72 1.47 1.35L5.41 20z\"/>\n",
              "  </svg>\n",
              "      </button>\n",
              "      \n",
              "  <style>\n",
              "    .colab-df-container {\n",
              "      display:flex;\n",
              "      flex-wrap:wrap;\n",
              "      gap: 12px;\n",
              "    }\n",
              "\n",
              "    .colab-df-convert {\n",
              "      background-color: #E8F0FE;\n",
              "      border: none;\n",
              "      border-radius: 50%;\n",
              "      cursor: pointer;\n",
              "      display: none;\n",
              "      fill: #1967D2;\n",
              "      height: 32px;\n",
              "      padding: 0 0 0 0;\n",
              "      width: 32px;\n",
              "    }\n",
              "\n",
              "    .colab-df-convert:hover {\n",
              "      background-color: #E2EBFA;\n",
              "      box-shadow: 0px 1px 2px rgba(60, 64, 67, 0.3), 0px 1px 3px 1px rgba(60, 64, 67, 0.15);\n",
              "      fill: #174EA6;\n",
              "    }\n",
              "\n",
              "    [theme=dark] .colab-df-convert {\n",
              "      background-color: #3B4455;\n",
              "      fill: #D2E3FC;\n",
              "    }\n",
              "\n",
              "    [theme=dark] .colab-df-convert:hover {\n",
              "      background-color: #434B5C;\n",
              "      box-shadow: 0px 1px 3px 1px rgba(0, 0, 0, 0.15);\n",
              "      filter: drop-shadow(0px 1px 2px rgba(0, 0, 0, 0.3));\n",
              "      fill: #FFFFFF;\n",
              "    }\n",
              "  </style>\n",
              "\n",
              "      <script>\n",
              "        const buttonEl =\n",
              "          document.querySelector('#df-a17b7dd8-f1ff-472f-8802-d01aa75e9282 button.colab-df-convert');\n",
              "        buttonEl.style.display =\n",
              "          google.colab.kernel.accessAllowed ? 'block' : 'none';\n",
              "\n",
              "        async function convertToInteractive(key) {\n",
              "          const element = document.querySelector('#df-a17b7dd8-f1ff-472f-8802-d01aa75e9282');\n",
              "          const dataTable =\n",
              "            await google.colab.kernel.invokeFunction('convertToInteractive',\n",
              "                                                     [key], {});\n",
              "          if (!dataTable) return;\n",
              "\n",
              "          const docLinkHtml = 'Like what you see? Visit the ' +\n",
              "            '<a target=\"_blank\" href=https://colab.research.google.com/notebooks/data_table.ipynb>data table notebook</a>'\n",
              "            + ' to learn more about interactive tables.';\n",
              "          element.innerHTML = '';\n",
              "          dataTable['output_type'] = 'display_data';\n",
              "          await google.colab.output.renderOutput(dataTable, element);\n",
              "          const docLink = document.createElement('div');\n",
              "          docLink.innerHTML = docLinkHtml;\n",
              "          element.appendChild(docLink);\n",
              "        }\n",
              "      </script>\n",
              "    </div>\n",
              "  </div>\n",
              "  "
            ]
          },
          "metadata": {},
          "execution_count": 54
        }
      ]
    },
    {
      "cell_type": "code",
      "source": [
        "# top5 players with sixs\n",
        "temp13 = players_stats_df.sort_values(by= ['sixs'], ascending = False)[0:5]\n",
        "temp13.loc[:, ['name', 'sixs']]"
      ],
      "metadata": {
        "colab": {
          "base_uri": "https://localhost:8080/",
          "height": 206
        },
        "id": "5iPCJNX14hpS",
        "outputId": "630373af-c3b6-4a2b-db8f-1edd1de2b752"
      },
      "execution_count": null,
      "outputs": [
        {
          "output_type": "execute_result",
          "data": {
            "text/plain": [
              "               name  sixs\n",
              "96         CH Gayle   349\n",
              "24   AB de Villiers   235\n",
              "301        MS Dhoni   216\n",
              "379       RG Sharma   214\n",
              "505         V Kohli   202"
            ],
            "text/html": [
              "\n",
              "  <div id=\"df-bb5af372-f33f-40c9-9174-36ba5f670ba5\">\n",
              "    <div class=\"colab-df-container\">\n",
              "      <div>\n",
              "<style scoped>\n",
              "    .dataframe tbody tr th:only-of-type {\n",
              "        vertical-align: middle;\n",
              "    }\n",
              "\n",
              "    .dataframe tbody tr th {\n",
              "        vertical-align: top;\n",
              "    }\n",
              "\n",
              "    .dataframe thead th {\n",
              "        text-align: right;\n",
              "    }\n",
              "</style>\n",
              "<table border=\"1\" class=\"dataframe\">\n",
              "  <thead>\n",
              "    <tr style=\"text-align: right;\">\n",
              "      <th></th>\n",
              "      <th>name</th>\n",
              "      <th>sixs</th>\n",
              "    </tr>\n",
              "  </thead>\n",
              "  <tbody>\n",
              "    <tr>\n",
              "      <th>96</th>\n",
              "      <td>CH Gayle</td>\n",
              "      <td>349</td>\n",
              "    </tr>\n",
              "    <tr>\n",
              "      <th>24</th>\n",
              "      <td>AB de Villiers</td>\n",
              "      <td>235</td>\n",
              "    </tr>\n",
              "    <tr>\n",
              "      <th>301</th>\n",
              "      <td>MS Dhoni</td>\n",
              "      <td>216</td>\n",
              "    </tr>\n",
              "    <tr>\n",
              "      <th>379</th>\n",
              "      <td>RG Sharma</td>\n",
              "      <td>214</td>\n",
              "    </tr>\n",
              "    <tr>\n",
              "      <th>505</th>\n",
              "      <td>V Kohli</td>\n",
              "      <td>202</td>\n",
              "    </tr>\n",
              "  </tbody>\n",
              "</table>\n",
              "</div>\n",
              "      <button class=\"colab-df-convert\" onclick=\"convertToInteractive('df-bb5af372-f33f-40c9-9174-36ba5f670ba5')\"\n",
              "              title=\"Convert this dataframe to an interactive table.\"\n",
              "              style=\"display:none;\">\n",
              "        \n",
              "  <svg xmlns=\"http://www.w3.org/2000/svg\" height=\"24px\"viewBox=\"0 0 24 24\"\n",
              "       width=\"24px\">\n",
              "    <path d=\"M0 0h24v24H0V0z\" fill=\"none\"/>\n",
              "    <path d=\"M18.56 5.44l.94 2.06.94-2.06 2.06-.94-2.06-.94-.94-2.06-.94 2.06-2.06.94zm-11 1L8.5 8.5l.94-2.06 2.06-.94-2.06-.94L8.5 2.5l-.94 2.06-2.06.94zm10 10l.94 2.06.94-2.06 2.06-.94-2.06-.94-.94-2.06-.94 2.06-2.06.94z\"/><path d=\"M17.41 7.96l-1.37-1.37c-.4-.4-.92-.59-1.43-.59-.52 0-1.04.2-1.43.59L10.3 9.45l-7.72 7.72c-.78.78-.78 2.05 0 2.83L4 21.41c.39.39.9.59 1.41.59.51 0 1.02-.2 1.41-.59l7.78-7.78 2.81-2.81c.8-.78.8-2.07 0-2.86zM5.41 20L4 18.59l7.72-7.72 1.47 1.35L5.41 20z\"/>\n",
              "  </svg>\n",
              "      </button>\n",
              "      \n",
              "  <style>\n",
              "    .colab-df-container {\n",
              "      display:flex;\n",
              "      flex-wrap:wrap;\n",
              "      gap: 12px;\n",
              "    }\n",
              "\n",
              "    .colab-df-convert {\n",
              "      background-color: #E8F0FE;\n",
              "      border: none;\n",
              "      border-radius: 50%;\n",
              "      cursor: pointer;\n",
              "      display: none;\n",
              "      fill: #1967D2;\n",
              "      height: 32px;\n",
              "      padding: 0 0 0 0;\n",
              "      width: 32px;\n",
              "    }\n",
              "\n",
              "    .colab-df-convert:hover {\n",
              "      background-color: #E2EBFA;\n",
              "      box-shadow: 0px 1px 2px rgba(60, 64, 67, 0.3), 0px 1px 3px 1px rgba(60, 64, 67, 0.15);\n",
              "      fill: #174EA6;\n",
              "    }\n",
              "\n",
              "    [theme=dark] .colab-df-convert {\n",
              "      background-color: #3B4455;\n",
              "      fill: #D2E3FC;\n",
              "    }\n",
              "\n",
              "    [theme=dark] .colab-df-convert:hover {\n",
              "      background-color: #434B5C;\n",
              "      box-shadow: 0px 1px 3px 1px rgba(0, 0, 0, 0.15);\n",
              "      filter: drop-shadow(0px 1px 2px rgba(0, 0, 0, 0.3));\n",
              "      fill: #FFFFFF;\n",
              "    }\n",
              "  </style>\n",
              "\n",
              "      <script>\n",
              "        const buttonEl =\n",
              "          document.querySelector('#df-bb5af372-f33f-40c9-9174-36ba5f670ba5 button.colab-df-convert');\n",
              "        buttonEl.style.display =\n",
              "          google.colab.kernel.accessAllowed ? 'block' : 'none';\n",
              "\n",
              "        async function convertToInteractive(key) {\n",
              "          const element = document.querySelector('#df-bb5af372-f33f-40c9-9174-36ba5f670ba5');\n",
              "          const dataTable =\n",
              "            await google.colab.kernel.invokeFunction('convertToInteractive',\n",
              "                                                     [key], {});\n",
              "          if (!dataTable) return;\n",
              "\n",
              "          const docLinkHtml = 'Like what you see? Visit the ' +\n",
              "            '<a target=\"_blank\" href=https://colab.research.google.com/notebooks/data_table.ipynb>data table notebook</a>'\n",
              "            + ' to learn more about interactive tables.';\n",
              "          element.innerHTML = '';\n",
              "          dataTable['output_type'] = 'display_data';\n",
              "          await google.colab.output.renderOutput(dataTable, element);\n",
              "          const docLink = document.createElement('div');\n",
              "          docLink.innerHTML = docLinkHtml;\n",
              "          element.appendChild(docLink);\n",
              "        }\n",
              "      </script>\n",
              "    </div>\n",
              "  </div>\n",
              "  "
            ]
          },
          "metadata": {},
          "execution_count": 55
        }
      ]
    },
    {
      "cell_type": "code",
      "source": [
        "#top 5 players with fours\n",
        "temp14 = players_stats_df.sort_values(by= ['fours'], ascending = False)[0:5]\n",
        "temp14.loc[:, ['name', 'fours']]"
      ],
      "metadata": {
        "colab": {
          "base_uri": "https://localhost:8080/",
          "height": 206
        },
        "id": "sjRs1Vjw4uOq",
        "outputId": "2be0596f-4f5c-4f27-8dd8-ee22e98a48a6"
      },
      "execution_count": null,
      "outputs": [
        {
          "output_type": "execute_result",
          "data": {
            "text/plain": [
              "          name  fours\n",
              "407   S Dhawan    591\n",
              "116  DA Warner    510\n",
              "505    V Kohli    504\n",
              "438   SK Raina    493\n",
              "154  G Gambhir    492"
            ],
            "text/html": [
              "\n",
              "  <div id=\"df-00e8c1d3-d1df-4264-8b5e-3fc764bf9d1a\">\n",
              "    <div class=\"colab-df-container\">\n",
              "      <div>\n",
              "<style scoped>\n",
              "    .dataframe tbody tr th:only-of-type {\n",
              "        vertical-align: middle;\n",
              "    }\n",
              "\n",
              "    .dataframe tbody tr th {\n",
              "        vertical-align: top;\n",
              "    }\n",
              "\n",
              "    .dataframe thead th {\n",
              "        text-align: right;\n",
              "    }\n",
              "</style>\n",
              "<table border=\"1\" class=\"dataframe\">\n",
              "  <thead>\n",
              "    <tr style=\"text-align: right;\">\n",
              "      <th></th>\n",
              "      <th>name</th>\n",
              "      <th>fours</th>\n",
              "    </tr>\n",
              "  </thead>\n",
              "  <tbody>\n",
              "    <tr>\n",
              "      <th>407</th>\n",
              "      <td>S Dhawan</td>\n",
              "      <td>591</td>\n",
              "    </tr>\n",
              "    <tr>\n",
              "      <th>116</th>\n",
              "      <td>DA Warner</td>\n",
              "      <td>510</td>\n",
              "    </tr>\n",
              "    <tr>\n",
              "      <th>505</th>\n",
              "      <td>V Kohli</td>\n",
              "      <td>504</td>\n",
              "    </tr>\n",
              "    <tr>\n",
              "      <th>438</th>\n",
              "      <td>SK Raina</td>\n",
              "      <td>493</td>\n",
              "    </tr>\n",
              "    <tr>\n",
              "      <th>154</th>\n",
              "      <td>G Gambhir</td>\n",
              "      <td>492</td>\n",
              "    </tr>\n",
              "  </tbody>\n",
              "</table>\n",
              "</div>\n",
              "      <button class=\"colab-df-convert\" onclick=\"convertToInteractive('df-00e8c1d3-d1df-4264-8b5e-3fc764bf9d1a')\"\n",
              "              title=\"Convert this dataframe to an interactive table.\"\n",
              "              style=\"display:none;\">\n",
              "        \n",
              "  <svg xmlns=\"http://www.w3.org/2000/svg\" height=\"24px\"viewBox=\"0 0 24 24\"\n",
              "       width=\"24px\">\n",
              "    <path d=\"M0 0h24v24H0V0z\" fill=\"none\"/>\n",
              "    <path d=\"M18.56 5.44l.94 2.06.94-2.06 2.06-.94-2.06-.94-.94-2.06-.94 2.06-2.06.94zm-11 1L8.5 8.5l.94-2.06 2.06-.94-2.06-.94L8.5 2.5l-.94 2.06-2.06.94zm10 10l.94 2.06.94-2.06 2.06-.94-2.06-.94-.94-2.06-.94 2.06-2.06.94z\"/><path d=\"M17.41 7.96l-1.37-1.37c-.4-.4-.92-.59-1.43-.59-.52 0-1.04.2-1.43.59L10.3 9.45l-7.72 7.72c-.78.78-.78 2.05 0 2.83L4 21.41c.39.39.9.59 1.41.59.51 0 1.02-.2 1.41-.59l7.78-7.78 2.81-2.81c.8-.78.8-2.07 0-2.86zM5.41 20L4 18.59l7.72-7.72 1.47 1.35L5.41 20z\"/>\n",
              "  </svg>\n",
              "      </button>\n",
              "      \n",
              "  <style>\n",
              "    .colab-df-container {\n",
              "      display:flex;\n",
              "      flex-wrap:wrap;\n",
              "      gap: 12px;\n",
              "    }\n",
              "\n",
              "    .colab-df-convert {\n",
              "      background-color: #E8F0FE;\n",
              "      border: none;\n",
              "      border-radius: 50%;\n",
              "      cursor: pointer;\n",
              "      display: none;\n",
              "      fill: #1967D2;\n",
              "      height: 32px;\n",
              "      padding: 0 0 0 0;\n",
              "      width: 32px;\n",
              "    }\n",
              "\n",
              "    .colab-df-convert:hover {\n",
              "      background-color: #E2EBFA;\n",
              "      box-shadow: 0px 1px 2px rgba(60, 64, 67, 0.3), 0px 1px 3px 1px rgba(60, 64, 67, 0.15);\n",
              "      fill: #174EA6;\n",
              "    }\n",
              "\n",
              "    [theme=dark] .colab-df-convert {\n",
              "      background-color: #3B4455;\n",
              "      fill: #D2E3FC;\n",
              "    }\n",
              "\n",
              "    [theme=dark] .colab-df-convert:hover {\n",
              "      background-color: #434B5C;\n",
              "      box-shadow: 0px 1px 3px 1px rgba(0, 0, 0, 0.15);\n",
              "      filter: drop-shadow(0px 1px 2px rgba(0, 0, 0, 0.3));\n",
              "      fill: #FFFFFF;\n",
              "    }\n",
              "  </style>\n",
              "\n",
              "      <script>\n",
              "        const buttonEl =\n",
              "          document.querySelector('#df-00e8c1d3-d1df-4264-8b5e-3fc764bf9d1a button.colab-df-convert');\n",
              "        buttonEl.style.display =\n",
              "          google.colab.kernel.accessAllowed ? 'block' : 'none';\n",
              "\n",
              "        async function convertToInteractive(key) {\n",
              "          const element = document.querySelector('#df-00e8c1d3-d1df-4264-8b5e-3fc764bf9d1a');\n",
              "          const dataTable =\n",
              "            await google.colab.kernel.invokeFunction('convertToInteractive',\n",
              "                                                     [key], {});\n",
              "          if (!dataTable) return;\n",
              "\n",
              "          const docLinkHtml = 'Like what you see? Visit the ' +\n",
              "            '<a target=\"_blank\" href=https://colab.research.google.com/notebooks/data_table.ipynb>data table notebook</a>'\n",
              "            + ' to learn more about interactive tables.';\n",
              "          element.innerHTML = '';\n",
              "          dataTable['output_type'] = 'display_data';\n",
              "          await google.colab.output.renderOutput(dataTable, element);\n",
              "          const docLink = document.createElement('div');\n",
              "          docLink.innerHTML = docLinkHtml;\n",
              "          element.appendChild(docLink);\n",
              "        }\n",
              "      </script>\n",
              "    </div>\n",
              "  </div>\n",
              "  "
            ]
          },
          "metadata": {},
          "execution_count": 56
        }
      ]
    },
    {
      "cell_type": "code",
      "source": [
        "#check for a player\n",
        "\n",
        "def check_player_stats(player_name):\n",
        "  temp13 = players_stats_df[players_stats_df['name'] == player_name]\n",
        "  print(temp13)\n",
        "\n",
        "check_player_stats('SK Raina')"
      ],
      "metadata": {
        "colab": {
          "base_uri": "https://localhost:8080/"
        },
        "id": "kw_dg2Qq47yP",
        "outputId": "109cb013-d931-4f26-d8a3-a9f79aeb8093"
      },
      "execution_count": null,
      "outputs": [
        {
          "output_type": "stream",
          "name": "stdout",
          "text": [
            "         name  matches_played  total_runs  balls_faced  strike_rate  \\\n",
            "438  SK Raina             189        5368         4041       132.84   \n",
            "\n",
            "     average_score  dotted_balls_percentage  fours  sixs  \n",
            "438           28.4                    34.94    493   194  \n"
          ]
        }
      ]
    },
    {
      "cell_type": "code",
      "source": [
        "# recommendation sysytem for players \n",
        "\n"
      ],
      "metadata": {
        "id": "B9pHkq3Q6OdC"
      },
      "execution_count": null,
      "outputs": []
    },
    {
      "cell_type": "code",
      "source": [
        "#bowler name lists\n",
        "bowler_name_list = df_ball['bowler'].unique().tolist()\n",
        "bowler_name_list"
      ],
      "metadata": {
        "colab": {
          "base_uri": "https://localhost:8080/"
        },
        "id": "qDBZX7pX8rG0",
        "outputId": "1aa46240-5e48-43ce-89b6-4b96e67409f8"
      },
      "execution_count": null,
      "outputs": [
        {
          "output_type": "execute_result",
          "data": {
            "text/plain": [
              "['AA Noffke',\n",
              " 'Z Khan',\n",
              " 'JH Kallis',\n",
              " 'SB Joshi',\n",
              " 'CL White',\n",
              " 'P Kumar',\n",
              " 'AB Agarkar',\n",
              " 'SC Ganguly',\n",
              " 'LR Shukla',\n",
              " 'I Sharma',\n",
              " 'AB Dinda',\n",
              " 'JDP Oram',\n",
              " 'JR Hopes',\n",
              " 'MS Gony',\n",
              " 'K Goel',\n",
              " 'PP Chawla',\n",
              " 'WA Mota',\n",
              " 'IK Pathan',\n",
              " 'S Sreesanth',\n",
              " 'B Lee',\n",
              " 'M Muralitharan',\n",
              " 'P Amarnath',\n",
              " 'Joginder Sharma',\n",
              " 'GD McGrath',\n",
              " 'B Geeves',\n",
              " 'SK Warne',\n",
              " 'YK Pathan',\n",
              " 'D Salunkhe',\n",
              " 'SR Watson',\n",
              " 'SK Trivedi',\n",
              " 'DL Vettori',\n",
              " 'MF Maharoof',\n",
              " 'MM Patel',\n",
              " 'R Bhatia',\n",
              " 'B Akhil',\n",
              " 'R Vinay Kumar',\n",
              " 'A Nehra',\n",
              " 'SM Pollock',\n",
              " 'DS Kulkarni',\n",
              " 'AM Nayar',\n",
              " 'Harbhajan Singh',\n",
              " 'ST Jayasuriya',\n",
              " 'WPUJC Vaas',\n",
              " 'RP Singh',\n",
              " 'SB Styris',\n",
              " 'SB Bangar',\n",
              " 'DJ Hussey',\n",
              " 'Mohammad Hafeez',\n",
              " 'M Kartik',\n",
              " 'PP Ojha',\n",
              " 'A Symonds',\n",
              " 'Pankaj Singh',\n",
              " 'Mohammad Asif',\n",
              " 'VY Mahesh',\n",
              " 'Shahid Afridi',\n",
              " 'MA Khote',\n",
              " 'DJ Bravo',\n",
              " 'VS Yeligati',\n",
              " 'D Kalyankrishna',\n",
              " 'VRV Singh',\n",
              " 'A Kumble',\n",
              " 'Sohail Tanvir',\n",
              " 'DNT Zoysa',\n",
              " 'SD Chitnis',\n",
              " 'Shoaib Malik',\n",
              " 'Yuvraj Singh',\n",
              " 'DW Steyn',\n",
              " 'JA Morkel',\n",
              " 'CRD Fernando',\n",
              " 'V Sehwag',\n",
              " 'V Kohli',\n",
              " 'Gagandeep Singh',\n",
              " 'Y Venugopal Rao',\n",
              " 'Umar Gul',\n",
              " 'M Ntini',\n",
              " 'PJ Sangwan',\n",
              " 'DP Vijaykumar',\n",
              " 'DB Ravi Teja',\n",
              " 'LPC Silva',\n",
              " 'DJ Thornely',\n",
              " 'RR Raje',\n",
              " 'SK Raina',\n",
              " 'S Vidyut',\n",
              " 'L Balaji',\n",
              " 'CK Kapugedera',\n",
              " 'DR Smith',\n",
              " 'AD Mascarenhas',\n",
              " 'A Mishra',\n",
              " 'Shoaib Akhtar',\n",
              " 'Iqbal Abdulla',\n",
              " 'RR Powar',\n",
              " 'PM Sarvesh Kumar',\n",
              " 'Abdur Razzak',\n",
              " 'RA Jadeja',\n",
              " 'TM Dilshan',\n",
              " 'RG Sharma',\n",
              " 'A Nel',\n",
              " 'BAW Mendis',\n",
              " 'A Flintoff',\n",
              " 'T Thushara',\n",
              " 'SL Malinga',\n",
              " 'T Henderson',\n",
              " 'Kamran Khan',\n",
              " 'JD Ryder',\n",
              " 'DP Nannes',\n",
              " 'AM Salvi',\n",
              " 'YA Abdulla',\n",
              " 'VS Malik',\n",
              " 'Harmeet Singh',\n",
              " 'FH Edwards',\n",
              " 'MC Henriques',\n",
              " 'CH Gayle',\n",
              " 'KP Pietersen',\n",
              " 'LRPL Taylor',\n",
              " 'RS Bopara',\n",
              " 'MK Tiwary',\n",
              " 'Anureet Singh',\n",
              " 'RR Bose',\n",
              " 'KP Appanna',\n",
              " 'Shoaib Ahmed',\n",
              " 'BJ Hodge',\n",
              " 'SR Tendulkar',\n",
              " 'RE van der Merwe',\n",
              " 'JP Duminy',\n",
              " 'S Tyagi',\n",
              " 'GR Napier',\n",
              " 'SM Harwood',\n",
              " 'AS Raut',\n",
              " 'SB Jakati',\n",
              " 'D du Preez',\n",
              " 'TL Suman',\n",
              " 'RJ Harris',\n",
              " 'A Singh',\n",
              " 'M Morkel',\n",
              " 'LA Carseldine',\n",
              " 'A Mithun',\n",
              " 'C Nanda',\n",
              " 'SS Sarkar',\n",
              " 'AD Mathews',\n",
              " 'AM Rahane',\n",
              " 'J Botha',\n",
              " 'Mashrafe Mortaza',\n",
              " 'AB McDonald',\n",
              " 'Y Nagar',\n",
              " 'CK Langeveldt',\n",
              " 'R Ashwin',\n",
              " 'RA Shaikh',\n",
              " 'Jaskaran Singh',\n",
              " 'AA Jhunjhunwala',\n",
              " 'A Uniyal',\n",
              " 'SW Tait',\n",
              " 'AG Murtaza',\n",
              " 'R Sathish',\n",
              " 'R McLaren',\n",
              " 'RS Gavaskar',\n",
              " 'JM Kemp',\n",
              " 'S Ladda',\n",
              " 'Bipul Sharma',\n",
              " 'SE Bond',\n",
              " 'KA Pollard',\n",
              " 'S Narwal',\n",
              " 'UT Yadav',\n",
              " 'SJ Srivastava',\n",
              " 'AC Voges',\n",
              " 'R Sharma',\n",
              " 'J Theron',\n",
              " 'NLTC Perera',\n",
              " 'KAJ Roach',\n",
              " 'PD Collingwood',\n",
              " 'C Ganapathy',\n",
              " 'MB Parmar',\n",
              " 'DE Bollinger',\n",
              " 'SB Wagh',\n",
              " 'JD Unadkat',\n",
              " 'AP Dole',\n",
              " 'AN Ahmed',\n",
              " 'FY Fazal',\n",
              " 'MR Marsh',\n",
              " 'L Ablish',\n",
              " 'S Sriram',\n",
              " 'AJ Finch',\n",
              " 'STR Binny',\n",
              " 'ND Doshi',\n",
              " 'S Randiv',\n",
              " 'TG Southee',\n",
              " 'AL Menaria',\n",
              " 'DT Christian',\n",
              " 'AUK Pathan',\n",
              " 'RV Gomez',\n",
              " 'JEC Franklin',\n",
              " 'WD Parnell',\n",
              " 'M Manhas',\n",
              " 'AC Thomas',\n",
              " 'NJ Rimmington',\n",
              " 'RN ten Doeschate',\n",
              " 'S Nadeem',\n",
              " 'BA Bhatt',\n",
              " 'R Ninan',\n",
              " 'JJ van der Wath',\n",
              " 'S Aravind',\n",
              " 'Shakib Al Hasan',\n",
              " 'PC Valthaty',\n",
              " 'S Dhawan',\n",
              " 'J Syed Mohammad',\n",
              " 'VR Aaron',\n",
              " 'JE Taylor',\n",
              " 'NL McCullum',\n",
              " 'KMDN Kulasekara',\n",
              " 'P Parameswaran',\n",
              " 'I Malhotra',\n",
              " 'B Chipli',\n",
              " 'B Kumar',\n",
              " 'AA Kazi',\n",
              " 'Anand Rajan',\n",
              " 'AA Chavan',\n",
              " 'P Prasanth',\n",
              " 'Y Gnaneswara Rao',\n",
              " 'S Rana',\n",
              " 'JP Faulkner',\n",
              " 'SS Mundhe',\n",
              " 'RW Price',\n",
              " 'GJ Maxwell',\n",
              " 'M de Lange',\n",
              " 'MN Samuels',\n",
              " 'KK Cooper',\n",
              " 'DAJ Bracewell',\n",
              " 'HV Patel',\n",
              " 'Ankit Sharma',\n",
              " 'DJ Harris',\n",
              " 'TP Sudhindra',\n",
              " 'F du Plessis',\n",
              " 'SP Narine',\n",
              " 'GB Hogg',\n",
              " 'RR Bhatkal',\n",
              " 'P Awana',\n",
              " 'V Pratap Singh',\n",
              " 'CJ McKay',\n",
              " 'A Ashish Reddy',\n",
              " 'AD Russell',\n",
              " 'Azhar Mahmood',\n",
              " 'A Chandila',\n",
              " 'P Negi',\n",
              " 'LJ Wright',\n",
              " 'RJ Peterson',\n",
              " 'R Shukla',\n",
              " 'MJ Clarke',\n",
              " 'BW Hilfenhaus',\n",
              " 'SPD Smith',\n",
              " 'K Upadhyay',\n",
              " 'Sunny Gupta',\n",
              " 'MG Johnson',\n",
              " 'JJ Bumrah',\n",
              " 'S Badree',\n",
              " 'AS Rajpoot',\n",
              " 'B Laughlin',\n",
              " 'GH Vihari',\n",
              " 'Mohammed Shami',\n",
              " 'BMAJ Mendis',\n",
              " 'CH Morris',\n",
              " 'Harmeet Singh (2)',\n",
              " 'S Kaul',\n",
              " 'R Dhawan',\n",
              " 'MM Sharma',\n",
              " 'R Rampaul',\n",
              " 'SMSM Senanayake',\n",
              " 'KV Sharma',\n",
              " 'JO Holder',\n",
              " 'IC Pandey',\n",
              " 'Sandeep Sharma',\n",
              " 'YS Chahal',\n",
              " 'DJG Sammy',\n",
              " 'KW Richardson',\n",
              " 'P Suyal',\n",
              " 'PV Tambe',\n",
              " 'BJ Rohrer',\n",
              " 'Parvez Rasool',\n",
              " 'MG Neser',\n",
              " 'NM Coulter-Nile',\n",
              " 'AC Gilchrist',\n",
              " 'CJ Anderson',\n",
              " 'MA Starc',\n",
              " 'JDS Neesham',\n",
              " 'AR Patel',\n",
              " 'M Vijay',\n",
              " 'R Tewatia',\n",
              " 'SA Yadav',\n",
              " 'Shivam Sharma',\n",
              " 'Imran Tahir',\n",
              " 'V Shankar',\n",
              " 'LMP Simmons',\n",
              " 'BCJ Cutting',\n",
              " 'S Gopal',\n",
              " 'K Santokie',\n",
              " 'BE Hendricks',\n",
              " 'PJ Cummins',\n",
              " 'JW Hastings',\n",
              " 'Karanveer Singh',\n",
              " 'DJ Muthuswami',\n",
              " 'TA Boult',\n",
              " 'SA Abbott',\n",
              " 'KC Cariappa',\n",
              " 'DJ Hooda',\n",
              " 'J Suchith',\n",
              " 'RG More',\n",
              " 'MJ McClenaghan',\n",
              " 'D Wiese',\n",
              " 'HH Pandya',\n",
              " 'SN Thakur',\n",
              " 'GS Sandhu',\n",
              " 'Gurkeerat Singh',\n",
              " 'J Yadav',\n",
              " 'BB Sran',\n",
              " 'M Ashwin',\n",
              " 'CR Brathwaite',\n",
              " 'C Munro',\n",
              " 'MP Stoinis',\n",
              " 'P Sahu',\n",
              " 'Mustafizur Rahman',\n",
              " 'AF Milne',\n",
              " 'Kuldeep Yadav',\n",
              " 'KH Pandya',\n",
              " 'KJ Abbott',\n",
              " 'T Shamsi',\n",
              " 'S Kaushik',\n",
              " 'SM Boland',\n",
              " 'Swapnil Singh',\n",
              " 'CJ Jordan',\n",
              " 'A Zampa',\n",
              " 'Sachin Baby',\n",
              " 'N Rana',\n",
              " 'DL Chahar',\n",
              " 'KS Williamson',\n",
              " 'TM Head',\n",
              " 'A Choudhary',\n",
              " 'TS Mills',\n",
              " 'Rashid Khan',\n",
              " 'BA Stokes',\n",
              " 'CR Woakes',\n",
              " 'T Natarajan',\n",
              " 'RD Chahar',\n",
              " 'B Stanlake',\n",
              " 'Basil Thampi',\n",
              " 'Tejas Baroka',\n",
              " 'C de Grandhomme',\n",
              " 'AJ Tye',\n",
              " 'LH Ferguson',\n",
              " 'Mohammad Nabi',\n",
              " 'Mohammed Siraj',\n",
              " 'K Rabada',\n",
              " 'Washington Sundar',\n",
              " 'SS Agarwal',\n",
              " 'NB Singh',\n",
              " 'RA Tripathi',\n",
              " 'Ankit Soni',\n",
              " 'MJ Henry',\n",
              " 'Avesh Khan',\n",
              " 'MA Wood',\n",
              " 'M Markande',\n",
              " 'Mujeeb Ur Rahman',\n",
              " 'K Khejroliya',\n",
              " 'K Gowtham',\n",
              " 'DJM Short',\n",
              " 'TK Curran',\n",
              " 'A Dananjaya',\n",
              " 'Shivam Mavi',\n",
              " 'JC Archer',\n",
              " 'LE Plunkett',\n",
              " 'IS Sodhi',\n",
              " 'MK Lomror',\n",
              " 'KM Asif',\n",
              " 'L Ngidi',\n",
              " 'DJ Willey',\n",
              " 'M Prasidh Krishna',\n",
              " 'MM Ali',\n",
              " 'JPR Scantlebury-Searles',\n",
              " 'S Lamichhane',\n",
              " 'CJ Dala',\n",
              " 'KK Ahmed',\n",
              " 'NA Saini',\n",
              " 'S Dube',\n",
              " 'Rasikh Salam',\n",
              " 'KMA Paul',\n",
              " 'SM Curran',\n",
              " 'CV Varun',\n",
              " 'GC Viljoen',\n",
              " 'Mandeep Singh',\n",
              " 'P Ray Barman',\n",
              " 'MJ Santner',\n",
              " 'JP Behrendorff',\n",
              " 'SC Kuggeleijn',\n",
              " 'AS Joseph',\n",
              " 'HF Gurney',\n",
              " 'S Midhun',\n",
              " 'R Parag',\n",
              " 'LS Livingstone',\n",
              " 'SN Khan',\n",
              " 'Abhishek Sharma',\n",
              " 'Arshdeep Singh',\n",
              " 'Harpreet Brar',\n",
              " 'SE Rutherford',\n",
              " 'Y Prithvi Raj',\n",
              " 'O Thomas',\n",
              " 'AS Roy',\n",
              " 'S Sandeep Warrier',\n",
              " 'JL Pattinson',\n",
              " 'SS Cottrell',\n",
              " 'A Nortje',\n",
              " 'Ravi Bishnoi',\n",
              " 'I Udana',\n",
              " 'TU Deshpande',\n",
              " 'KL Nagarkoti',\n",
              " 'Kartik Tyagi',\n",
              " 'DR Sams',\n",
              " 'Shahbaz Ahmed',\n",
              " 'Abdul Samad',\n",
              " 'JR Hazlewood',\n",
              " 'DA Warner',\n",
              " 'CJ Green',\n",
              " 'P Dubey',\n",
              " 'Monu Kumar']"
            ]
          },
          "metadata": {},
          "execution_count": 59
        }
      ]
    },
    {
      "cell_type": "code",
      "source": [
        "temp15 = df_ball[ df_ball['bowler'] == 'PJ Cummins' ]\n",
        "temp15 =  temp15[temp15['batsman'] == 'SK Raina' ]\n",
        "temp15"
      ],
      "metadata": {
        "colab": {
          "base_uri": "https://localhost:8080/",
          "height": 645
        },
        "id": "vSYtyFiT9-XH",
        "outputId": "9a2d3e0c-2a17-4c1a-f09b-116b0623211d"
      },
      "execution_count": null,
      "outputs": [
        {
          "output_type": "execute_result",
          "data": {
            "text/plain": [
              "             id   batsman   non_striker      bowler  batsman_runs  total_runs  \\\n",
              "105579   734023  SK Raina   BB McCullum  PJ Cummins             0           0   \n",
              "105580   734023  SK Raina   BB McCullum  PJ Cummins             0           0   \n",
              "105581   734023  SK Raina   BB McCullum  PJ Cummins             0           0   \n",
              "105582   734023  SK Raina   BB McCullum  PJ Cummins             0           0   \n",
              "105646   734023  SK Raina  F du Plessis  PJ Cummins             0           0   \n",
              "105647   734023  SK Raina  F du Plessis  PJ Cummins             1           1   \n",
              "105670   734023  SK Raina  F du Plessis  PJ Cummins             1           1   \n",
              "105672   734023  SK Raina      MS Dhoni  PJ Cummins             0           0   \n",
              "105673   734023  SK Raina      MS Dhoni  PJ Cummins             1           1   \n",
              "111075   829723  SK Raina   BB McCullum  PJ Cummins             0           1   \n",
              "146039  1082632  SK Raina    KD Karthik  PJ Cummins             0           0   \n",
              "146040  1082632  SK Raina    KD Karthik  PJ Cummins             4           4   \n",
              "146041  1082632  SK Raina    KD Karthik  PJ Cummins             1           1   \n",
              "146057  1082632  SK Raina    KD Karthik  PJ Cummins             1           1   \n",
              "146060  1082632  SK Raina    KD Karthik  PJ Cummins             1           1   \n",
              "146062  1082632  SK Raina    KD Karthik  PJ Cummins             4           4   \n",
              "147896  1082640  SK Raina  Ishan Kishan  PJ Cummins             1           1   \n",
              "147940  1082640  SK Raina  Ishan Kishan  PJ Cummins             4           4   \n",
              "147941  1082640  SK Raina  Ishan Kishan  PJ Cummins             0           0   \n",
              "\n",
              "        non_boundary  is_wicket         batting_team           bowling_team  \n",
              "105579             0          0  Chennai Super Kings  Kolkata Knight Riders  \n",
              "105580             0          0  Chennai Super Kings  Kolkata Knight Riders  \n",
              "105581             0          0  Chennai Super Kings  Kolkata Knight Riders  \n",
              "105582             0          0  Chennai Super Kings  Kolkata Knight Riders  \n",
              "105646             0          0  Chennai Super Kings  Kolkata Knight Riders  \n",
              "105647             0          0  Chennai Super Kings  Kolkata Knight Riders  \n",
              "105670             0          0  Chennai Super Kings  Kolkata Knight Riders  \n",
              "105672             0          0  Chennai Super Kings  Kolkata Knight Riders  \n",
              "105673             0          0  Chennai Super Kings  Kolkata Knight Riders  \n",
              "111075             0          0  Chennai Super Kings  Kolkata Knight Riders  \n",
              "146039             0          0        Gujarat Lions       Delhi Daredevils  \n",
              "146040             0          0        Gujarat Lions       Delhi Daredevils  \n",
              "146041             0          0        Gujarat Lions       Delhi Daredevils  \n",
              "146057             0          0        Gujarat Lions       Delhi Daredevils  \n",
              "146060             0          0        Gujarat Lions       Delhi Daredevils  \n",
              "146062             0          0        Gujarat Lions       Delhi Daredevils  \n",
              "147896             0          0        Gujarat Lions       Delhi Daredevils  \n",
              "147940             0          0        Gujarat Lions       Delhi Daredevils  \n",
              "147941             0          1        Gujarat Lions       Delhi Daredevils  "
            ],
            "text/html": [
              "\n",
              "  <div id=\"df-1799df48-3bb3-4a3f-b701-95003d807a42\">\n",
              "    <div class=\"colab-df-container\">\n",
              "      <div>\n",
              "<style scoped>\n",
              "    .dataframe tbody tr th:only-of-type {\n",
              "        vertical-align: middle;\n",
              "    }\n",
              "\n",
              "    .dataframe tbody tr th {\n",
              "        vertical-align: top;\n",
              "    }\n",
              "\n",
              "    .dataframe thead th {\n",
              "        text-align: right;\n",
              "    }\n",
              "</style>\n",
              "<table border=\"1\" class=\"dataframe\">\n",
              "  <thead>\n",
              "    <tr style=\"text-align: right;\">\n",
              "      <th></th>\n",
              "      <th>id</th>\n",
              "      <th>batsman</th>\n",
              "      <th>non_striker</th>\n",
              "      <th>bowler</th>\n",
              "      <th>batsman_runs</th>\n",
              "      <th>total_runs</th>\n",
              "      <th>non_boundary</th>\n",
              "      <th>is_wicket</th>\n",
              "      <th>batting_team</th>\n",
              "      <th>bowling_team</th>\n",
              "    </tr>\n",
              "  </thead>\n",
              "  <tbody>\n",
              "    <tr>\n",
              "      <th>105579</th>\n",
              "      <td>734023</td>\n",
              "      <td>SK Raina</td>\n",
              "      <td>BB McCullum</td>\n",
              "      <td>PJ Cummins</td>\n",
              "      <td>0</td>\n",
              "      <td>0</td>\n",
              "      <td>0</td>\n",
              "      <td>0</td>\n",
              "      <td>Chennai Super Kings</td>\n",
              "      <td>Kolkata Knight Riders</td>\n",
              "    </tr>\n",
              "    <tr>\n",
              "      <th>105580</th>\n",
              "      <td>734023</td>\n",
              "      <td>SK Raina</td>\n",
              "      <td>BB McCullum</td>\n",
              "      <td>PJ Cummins</td>\n",
              "      <td>0</td>\n",
              "      <td>0</td>\n",
              "      <td>0</td>\n",
              "      <td>0</td>\n",
              "      <td>Chennai Super Kings</td>\n",
              "      <td>Kolkata Knight Riders</td>\n",
              "    </tr>\n",
              "    <tr>\n",
              "      <th>105581</th>\n",
              "      <td>734023</td>\n",
              "      <td>SK Raina</td>\n",
              "      <td>BB McCullum</td>\n",
              "      <td>PJ Cummins</td>\n",
              "      <td>0</td>\n",
              "      <td>0</td>\n",
              "      <td>0</td>\n",
              "      <td>0</td>\n",
              "      <td>Chennai Super Kings</td>\n",
              "      <td>Kolkata Knight Riders</td>\n",
              "    </tr>\n",
              "    <tr>\n",
              "      <th>105582</th>\n",
              "      <td>734023</td>\n",
              "      <td>SK Raina</td>\n",
              "      <td>BB McCullum</td>\n",
              "      <td>PJ Cummins</td>\n",
              "      <td>0</td>\n",
              "      <td>0</td>\n",
              "      <td>0</td>\n",
              "      <td>0</td>\n",
              "      <td>Chennai Super Kings</td>\n",
              "      <td>Kolkata Knight Riders</td>\n",
              "    </tr>\n",
              "    <tr>\n",
              "      <th>105646</th>\n",
              "      <td>734023</td>\n",
              "      <td>SK Raina</td>\n",
              "      <td>F du Plessis</td>\n",
              "      <td>PJ Cummins</td>\n",
              "      <td>0</td>\n",
              "      <td>0</td>\n",
              "      <td>0</td>\n",
              "      <td>0</td>\n",
              "      <td>Chennai Super Kings</td>\n",
              "      <td>Kolkata Knight Riders</td>\n",
              "    </tr>\n",
              "    <tr>\n",
              "      <th>105647</th>\n",
              "      <td>734023</td>\n",
              "      <td>SK Raina</td>\n",
              "      <td>F du Plessis</td>\n",
              "      <td>PJ Cummins</td>\n",
              "      <td>1</td>\n",
              "      <td>1</td>\n",
              "      <td>0</td>\n",
              "      <td>0</td>\n",
              "      <td>Chennai Super Kings</td>\n",
              "      <td>Kolkata Knight Riders</td>\n",
              "    </tr>\n",
              "    <tr>\n",
              "      <th>105670</th>\n",
              "      <td>734023</td>\n",
              "      <td>SK Raina</td>\n",
              "      <td>F du Plessis</td>\n",
              "      <td>PJ Cummins</td>\n",
              "      <td>1</td>\n",
              "      <td>1</td>\n",
              "      <td>0</td>\n",
              "      <td>0</td>\n",
              "      <td>Chennai Super Kings</td>\n",
              "      <td>Kolkata Knight Riders</td>\n",
              "    </tr>\n",
              "    <tr>\n",
              "      <th>105672</th>\n",
              "      <td>734023</td>\n",
              "      <td>SK Raina</td>\n",
              "      <td>MS Dhoni</td>\n",
              "      <td>PJ Cummins</td>\n",
              "      <td>0</td>\n",
              "      <td>0</td>\n",
              "      <td>0</td>\n",
              "      <td>0</td>\n",
              "      <td>Chennai Super Kings</td>\n",
              "      <td>Kolkata Knight Riders</td>\n",
              "    </tr>\n",
              "    <tr>\n",
              "      <th>105673</th>\n",
              "      <td>734023</td>\n",
              "      <td>SK Raina</td>\n",
              "      <td>MS Dhoni</td>\n",
              "      <td>PJ Cummins</td>\n",
              "      <td>1</td>\n",
              "      <td>1</td>\n",
              "      <td>0</td>\n",
              "      <td>0</td>\n",
              "      <td>Chennai Super Kings</td>\n",
              "      <td>Kolkata Knight Riders</td>\n",
              "    </tr>\n",
              "    <tr>\n",
              "      <th>111075</th>\n",
              "      <td>829723</td>\n",
              "      <td>SK Raina</td>\n",
              "      <td>BB McCullum</td>\n",
              "      <td>PJ Cummins</td>\n",
              "      <td>0</td>\n",
              "      <td>1</td>\n",
              "      <td>0</td>\n",
              "      <td>0</td>\n",
              "      <td>Chennai Super Kings</td>\n",
              "      <td>Kolkata Knight Riders</td>\n",
              "    </tr>\n",
              "    <tr>\n",
              "      <th>146039</th>\n",
              "      <td>1082632</td>\n",
              "      <td>SK Raina</td>\n",
              "      <td>KD Karthik</td>\n",
              "      <td>PJ Cummins</td>\n",
              "      <td>0</td>\n",
              "      <td>0</td>\n",
              "      <td>0</td>\n",
              "      <td>0</td>\n",
              "      <td>Gujarat Lions</td>\n",
              "      <td>Delhi Daredevils</td>\n",
              "    </tr>\n",
              "    <tr>\n",
              "      <th>146040</th>\n",
              "      <td>1082632</td>\n",
              "      <td>SK Raina</td>\n",
              "      <td>KD Karthik</td>\n",
              "      <td>PJ Cummins</td>\n",
              "      <td>4</td>\n",
              "      <td>4</td>\n",
              "      <td>0</td>\n",
              "      <td>0</td>\n",
              "      <td>Gujarat Lions</td>\n",
              "      <td>Delhi Daredevils</td>\n",
              "    </tr>\n",
              "    <tr>\n",
              "      <th>146041</th>\n",
              "      <td>1082632</td>\n",
              "      <td>SK Raina</td>\n",
              "      <td>KD Karthik</td>\n",
              "      <td>PJ Cummins</td>\n",
              "      <td>1</td>\n",
              "      <td>1</td>\n",
              "      <td>0</td>\n",
              "      <td>0</td>\n",
              "      <td>Gujarat Lions</td>\n",
              "      <td>Delhi Daredevils</td>\n",
              "    </tr>\n",
              "    <tr>\n",
              "      <th>146057</th>\n",
              "      <td>1082632</td>\n",
              "      <td>SK Raina</td>\n",
              "      <td>KD Karthik</td>\n",
              "      <td>PJ Cummins</td>\n",
              "      <td>1</td>\n",
              "      <td>1</td>\n",
              "      <td>0</td>\n",
              "      <td>0</td>\n",
              "      <td>Gujarat Lions</td>\n",
              "      <td>Delhi Daredevils</td>\n",
              "    </tr>\n",
              "    <tr>\n",
              "      <th>146060</th>\n",
              "      <td>1082632</td>\n",
              "      <td>SK Raina</td>\n",
              "      <td>KD Karthik</td>\n",
              "      <td>PJ Cummins</td>\n",
              "      <td>1</td>\n",
              "      <td>1</td>\n",
              "      <td>0</td>\n",
              "      <td>0</td>\n",
              "      <td>Gujarat Lions</td>\n",
              "      <td>Delhi Daredevils</td>\n",
              "    </tr>\n",
              "    <tr>\n",
              "      <th>146062</th>\n",
              "      <td>1082632</td>\n",
              "      <td>SK Raina</td>\n",
              "      <td>KD Karthik</td>\n",
              "      <td>PJ Cummins</td>\n",
              "      <td>4</td>\n",
              "      <td>4</td>\n",
              "      <td>0</td>\n",
              "      <td>0</td>\n",
              "      <td>Gujarat Lions</td>\n",
              "      <td>Delhi Daredevils</td>\n",
              "    </tr>\n",
              "    <tr>\n",
              "      <th>147896</th>\n",
              "      <td>1082640</td>\n",
              "      <td>SK Raina</td>\n",
              "      <td>Ishan Kishan</td>\n",
              "      <td>PJ Cummins</td>\n",
              "      <td>1</td>\n",
              "      <td>1</td>\n",
              "      <td>0</td>\n",
              "      <td>0</td>\n",
              "      <td>Gujarat Lions</td>\n",
              "      <td>Delhi Daredevils</td>\n",
              "    </tr>\n",
              "    <tr>\n",
              "      <th>147940</th>\n",
              "      <td>1082640</td>\n",
              "      <td>SK Raina</td>\n",
              "      <td>Ishan Kishan</td>\n",
              "      <td>PJ Cummins</td>\n",
              "      <td>4</td>\n",
              "      <td>4</td>\n",
              "      <td>0</td>\n",
              "      <td>0</td>\n",
              "      <td>Gujarat Lions</td>\n",
              "      <td>Delhi Daredevils</td>\n",
              "    </tr>\n",
              "    <tr>\n",
              "      <th>147941</th>\n",
              "      <td>1082640</td>\n",
              "      <td>SK Raina</td>\n",
              "      <td>Ishan Kishan</td>\n",
              "      <td>PJ Cummins</td>\n",
              "      <td>0</td>\n",
              "      <td>0</td>\n",
              "      <td>0</td>\n",
              "      <td>1</td>\n",
              "      <td>Gujarat Lions</td>\n",
              "      <td>Delhi Daredevils</td>\n",
              "    </tr>\n",
              "  </tbody>\n",
              "</table>\n",
              "</div>\n",
              "      <button class=\"colab-df-convert\" onclick=\"convertToInteractive('df-1799df48-3bb3-4a3f-b701-95003d807a42')\"\n",
              "              title=\"Convert this dataframe to an interactive table.\"\n",
              "              style=\"display:none;\">\n",
              "        \n",
              "  <svg xmlns=\"http://www.w3.org/2000/svg\" height=\"24px\"viewBox=\"0 0 24 24\"\n",
              "       width=\"24px\">\n",
              "    <path d=\"M0 0h24v24H0V0z\" fill=\"none\"/>\n",
              "    <path d=\"M18.56 5.44l.94 2.06.94-2.06 2.06-.94-2.06-.94-.94-2.06-.94 2.06-2.06.94zm-11 1L8.5 8.5l.94-2.06 2.06-.94-2.06-.94L8.5 2.5l-.94 2.06-2.06.94zm10 10l.94 2.06.94-2.06 2.06-.94-2.06-.94-.94-2.06-.94 2.06-2.06.94z\"/><path d=\"M17.41 7.96l-1.37-1.37c-.4-.4-.92-.59-1.43-.59-.52 0-1.04.2-1.43.59L10.3 9.45l-7.72 7.72c-.78.78-.78 2.05 0 2.83L4 21.41c.39.39.9.59 1.41.59.51 0 1.02-.2 1.41-.59l7.78-7.78 2.81-2.81c.8-.78.8-2.07 0-2.86zM5.41 20L4 18.59l7.72-7.72 1.47 1.35L5.41 20z\"/>\n",
              "  </svg>\n",
              "      </button>\n",
              "      \n",
              "  <style>\n",
              "    .colab-df-container {\n",
              "      display:flex;\n",
              "      flex-wrap:wrap;\n",
              "      gap: 12px;\n",
              "    }\n",
              "\n",
              "    .colab-df-convert {\n",
              "      background-color: #E8F0FE;\n",
              "      border: none;\n",
              "      border-radius: 50%;\n",
              "      cursor: pointer;\n",
              "      display: none;\n",
              "      fill: #1967D2;\n",
              "      height: 32px;\n",
              "      padding: 0 0 0 0;\n",
              "      width: 32px;\n",
              "    }\n",
              "\n",
              "    .colab-df-convert:hover {\n",
              "      background-color: #E2EBFA;\n",
              "      box-shadow: 0px 1px 2px rgba(60, 64, 67, 0.3), 0px 1px 3px 1px rgba(60, 64, 67, 0.15);\n",
              "      fill: #174EA6;\n",
              "    }\n",
              "\n",
              "    [theme=dark] .colab-df-convert {\n",
              "      background-color: #3B4455;\n",
              "      fill: #D2E3FC;\n",
              "    }\n",
              "\n",
              "    [theme=dark] .colab-df-convert:hover {\n",
              "      background-color: #434B5C;\n",
              "      box-shadow: 0px 1px 3px 1px rgba(0, 0, 0, 0.15);\n",
              "      filter: drop-shadow(0px 1px 2px rgba(0, 0, 0, 0.3));\n",
              "      fill: #FFFFFF;\n",
              "    }\n",
              "  </style>\n",
              "\n",
              "      <script>\n",
              "        const buttonEl =\n",
              "          document.querySelector('#df-1799df48-3bb3-4a3f-b701-95003d807a42 button.colab-df-convert');\n",
              "        buttonEl.style.display =\n",
              "          google.colab.kernel.accessAllowed ? 'block' : 'none';\n",
              "\n",
              "        async function convertToInteractive(key) {\n",
              "          const element = document.querySelector('#df-1799df48-3bb3-4a3f-b701-95003d807a42');\n",
              "          const dataTable =\n",
              "            await google.colab.kernel.invokeFunction('convertToInteractive',\n",
              "                                                     [key], {});\n",
              "          if (!dataTable) return;\n",
              "\n",
              "          const docLinkHtml = 'Like what you see? Visit the ' +\n",
              "            '<a target=\"_blank\" href=https://colab.research.google.com/notebooks/data_table.ipynb>data table notebook</a>'\n",
              "            + ' to learn more about interactive tables.';\n",
              "          element.innerHTML = '';\n",
              "          dataTable['output_type'] = 'display_data';\n",
              "          await google.colab.output.renderOutput(dataTable, element);\n",
              "          const docLink = document.createElement('div');\n",
              "          docLink.innerHTML = docLinkHtml;\n",
              "          element.appendChild(docLink);\n",
              "        }\n",
              "      </script>\n",
              "    </div>\n",
              "  </div>\n",
              "  "
            ]
          },
          "metadata": {},
          "execution_count": 60
        }
      ]
    },
    {
      "cell_type": "code",
      "source": [
        "#total runs against bowler\n",
        "temp15['total_runs'].sum()"
      ],
      "metadata": {
        "colab": {
          "base_uri": "https://localhost:8080/"
        },
        "id": "4mot2MJjCM6u",
        "outputId": "d6bccfd8-654b-4c08-cd52-7809b88f0f7e"
      },
      "execution_count": null,
      "outputs": [
        {
          "output_type": "execute_result",
          "data": {
            "text/plain": [
              "20"
            ]
          },
          "metadata": {},
          "execution_count": 61
        }
      ]
    },
    {
      "cell_type": "code",
      "source": [
        "# bowler took wickets for the batsman\n",
        "temp15['is_wicket'].sum()"
      ],
      "metadata": {
        "colab": {
          "base_uri": "https://localhost:8080/"
        },
        "id": "BcFvEXJhCSEo",
        "outputId": "f3576429-c76a-4377-8787-5fbc59210f8a"
      },
      "execution_count": null,
      "outputs": [
        {
          "output_type": "execute_result",
          "data": {
            "text/plain": [
              "1"
            ]
          },
          "metadata": {},
          "execution_count": 62
        }
      ]
    },
    {
      "cell_type": "code",
      "source": [
        "#total matches played aginst the bowler\n",
        "temp15['id'].nunique()"
      ],
      "metadata": {
        "colab": {
          "base_uri": "https://localhost:8080/"
        },
        "id": "UrvStxznCXGy",
        "outputId": "4e681f84-f7f4-497e-cbf3-4ba3bb554ff4"
      },
      "execution_count": null,
      "outputs": [
        {
          "output_type": "execute_result",
          "data": {
            "text/plain": [
              "4"
            ]
          },
          "metadata": {},
          "execution_count": 63
        }
      ]
    },
    {
      "cell_type": "code",
      "source": [
        "#total balls faced \n",
        "temp15.shape[0]"
      ],
      "metadata": {
        "colab": {
          "base_uri": "https://localhost:8080/"
        },
        "id": "bYDEdksdGDV3",
        "outputId": "35182e17-1851-463d-8c99-16bc796a9e5f"
      },
      "execution_count": null,
      "outputs": [
        {
          "output_type": "execute_result",
          "data": {
            "text/plain": [
              "19"
            ]
          },
          "metadata": {},
          "execution_count": 64
        }
      ]
    },
    {
      "cell_type": "code",
      "source": [
        "#per over avrage score, calculation method = runs per ball * 6\n",
        "round((temp15['total_runs'].sum()/temp15.shape[0])*6,2)"
      ],
      "metadata": {
        "colab": {
          "base_uri": "https://localhost:8080/"
        },
        "id": "3ibKadM1GQUg",
        "outputId": "f5086c98-f6c5-42c9-98c9-e5194aad28a6"
      },
      "execution_count": null,
      "outputs": [
        {
          "output_type": "execute_result",
          "data": {
            "text/plain": [
              "6.32"
            ]
          },
          "metadata": {},
          "execution_count": 65
        }
      ]
    },
    {
      "cell_type": "code",
      "source": [
        "def batsman_against_bowler(batsman_name, bowler_name):\n",
        "  temp15 = df_ball[ df_ball['bowler'] == bowler_name ]\n",
        "  temp15 =  temp15[temp15['batsman'] == batsman_name ]\n",
        "  total_balls_faced = temp15.shape[0]\n",
        "  if total_balls_faced == 0:\n",
        "    return []\n",
        "\n",
        "  four_six = temp15['batsman_runs'].value_counts()\n",
        "  sixs = 0\n",
        "  fours = 0\n",
        "  runs_index = four_six.index.tolist()\n",
        "  if 4 in runs_index:\n",
        "    fours = four_six[4]\n",
        "  if 6 in runs_index:\n",
        "    sixs = four_six[6]\n",
        "  total_runs = temp15['total_runs'].sum()\n",
        "  is_wicket = temp15['is_wicket'].sum()\n",
        "  total_matches_played = temp15['id'].nunique()\n",
        "  total_balls_faced = temp15.shape[0]\n",
        "  avg_per_over = round((total_runs/total_balls_faced)*6,2)\n",
        "\n",
        "  return [total_matches_played, total_runs,is_wicket, total_balls_faced,fours,sixs]\n",
        "\n",
        "\n",
        "batsman_against_bowler('SK Raina', 'Mohammed Siraj')\n"
      ],
      "metadata": {
        "id": "LpApdFR4Gqd9",
        "colab": {
          "base_uri": "https://localhost:8080/"
        },
        "outputId": "5a52b49b-3900-4967-d9b6-8bebbfb6513d"
      },
      "execution_count": null,
      "outputs": [
        {
          "output_type": "execute_result",
          "data": {
            "text/plain": [
              "[3, 16, 1, 12, 1, 1]"
            ]
          },
          "metadata": {},
          "execution_count": 66
        }
      ]
    },
    {
      "cell_type": "code",
      "source": [
        "df_matches.sort_values(by = ['date'], ascending = False).head(5)"
      ],
      "metadata": {
        "colab": {
          "base_uri": "https://localhost:8080/",
          "height": 478
        },
        "id": "XuZV4I_nPiWZ",
        "outputId": "6f4e615d-1375-4747-8d92-b5e9115d166f"
      },
      "execution_count": null,
      "outputs": [
        {
          "output_type": "execute_result",
          "data": {
            "text/plain": [
              "          id       city        date player_of_match  \\\n",
              "815  1237181      Dubai  2020-11-10        TA Boult   \n",
              "814  1237180  Abu Dhabi  2020-11-08      MP Stoinis   \n",
              "813  1237178  Abu Dhabi  2020-11-06   KS Williamson   \n",
              "812  1237177      Dubai  2020-11-05       JJ Bumrah   \n",
              "759  1216495    Sharjah  2020-11-03        S Nadeem   \n",
              "\n",
              "                                   venue  neutral_venue  \\\n",
              "815  Dubai International Cricket Stadium              0   \n",
              "814                 Sheikh Zayed Stadium              0   \n",
              "813                 Sheikh Zayed Stadium              0   \n",
              "812  Dubai International Cricket Stadium              0   \n",
              "759              Sharjah Cricket Stadium              0   \n",
              "\n",
              "                           team1                team2          toss_winner  \\\n",
              "815               Delhi Capitals       Mumbai Indians       Delhi Capitals   \n",
              "814               Delhi Capitals  Sunrisers Hyderabad       Delhi Capitals   \n",
              "813  Royal Challengers Bangalore  Sunrisers Hyderabad  Sunrisers Hyderabad   \n",
              "812               Mumbai Indians       Delhi Capitals       Delhi Capitals   \n",
              "759               Mumbai Indians  Sunrisers Hyderabad  Sunrisers Hyderabad   \n",
              "\n",
              "    toss_decision               winner   result  result_margin eliminator  \\\n",
              "815           bat       Mumbai Indians  wickets            5.0          N   \n",
              "814           bat       Delhi Capitals     runs           17.0          N   \n",
              "813         field  Sunrisers Hyderabad  wickets            6.0          N   \n",
              "812         field       Mumbai Indians     runs           57.0          N   \n",
              "759         field  Sunrisers Hyderabad  wickets           10.0          N   \n",
              "\n",
              "    method        umpire1         umpire2  \n",
              "815    NaN    CB Gaffaney     Nitin Menon  \n",
              "814    NaN     PR Reiffel          S Ravi  \n",
              "813    NaN     PR Reiffel          S Ravi  \n",
              "812    NaN    CB Gaffaney     Nitin Menon  \n",
              "759    NaN  C Shamshuddin  RK Illingworth  "
            ],
            "text/html": [
              "\n",
              "  <div id=\"df-4338b912-c896-4198-89b8-6d03ac06f4fa\">\n",
              "    <div class=\"colab-df-container\">\n",
              "      <div>\n",
              "<style scoped>\n",
              "    .dataframe tbody tr th:only-of-type {\n",
              "        vertical-align: middle;\n",
              "    }\n",
              "\n",
              "    .dataframe tbody tr th {\n",
              "        vertical-align: top;\n",
              "    }\n",
              "\n",
              "    .dataframe thead th {\n",
              "        text-align: right;\n",
              "    }\n",
              "</style>\n",
              "<table border=\"1\" class=\"dataframe\">\n",
              "  <thead>\n",
              "    <tr style=\"text-align: right;\">\n",
              "      <th></th>\n",
              "      <th>id</th>\n",
              "      <th>city</th>\n",
              "      <th>date</th>\n",
              "      <th>player_of_match</th>\n",
              "      <th>venue</th>\n",
              "      <th>neutral_venue</th>\n",
              "      <th>team1</th>\n",
              "      <th>team2</th>\n",
              "      <th>toss_winner</th>\n",
              "      <th>toss_decision</th>\n",
              "      <th>winner</th>\n",
              "      <th>result</th>\n",
              "      <th>result_margin</th>\n",
              "      <th>eliminator</th>\n",
              "      <th>method</th>\n",
              "      <th>umpire1</th>\n",
              "      <th>umpire2</th>\n",
              "    </tr>\n",
              "  </thead>\n",
              "  <tbody>\n",
              "    <tr>\n",
              "      <th>815</th>\n",
              "      <td>1237181</td>\n",
              "      <td>Dubai</td>\n",
              "      <td>2020-11-10</td>\n",
              "      <td>TA Boult</td>\n",
              "      <td>Dubai International Cricket Stadium</td>\n",
              "      <td>0</td>\n",
              "      <td>Delhi Capitals</td>\n",
              "      <td>Mumbai Indians</td>\n",
              "      <td>Delhi Capitals</td>\n",
              "      <td>bat</td>\n",
              "      <td>Mumbai Indians</td>\n",
              "      <td>wickets</td>\n",
              "      <td>5.0</td>\n",
              "      <td>N</td>\n",
              "      <td>NaN</td>\n",
              "      <td>CB Gaffaney</td>\n",
              "      <td>Nitin Menon</td>\n",
              "    </tr>\n",
              "    <tr>\n",
              "      <th>814</th>\n",
              "      <td>1237180</td>\n",
              "      <td>Abu Dhabi</td>\n",
              "      <td>2020-11-08</td>\n",
              "      <td>MP Stoinis</td>\n",
              "      <td>Sheikh Zayed Stadium</td>\n",
              "      <td>0</td>\n",
              "      <td>Delhi Capitals</td>\n",
              "      <td>Sunrisers Hyderabad</td>\n",
              "      <td>Delhi Capitals</td>\n",
              "      <td>bat</td>\n",
              "      <td>Delhi Capitals</td>\n",
              "      <td>runs</td>\n",
              "      <td>17.0</td>\n",
              "      <td>N</td>\n",
              "      <td>NaN</td>\n",
              "      <td>PR Reiffel</td>\n",
              "      <td>S Ravi</td>\n",
              "    </tr>\n",
              "    <tr>\n",
              "      <th>813</th>\n",
              "      <td>1237178</td>\n",
              "      <td>Abu Dhabi</td>\n",
              "      <td>2020-11-06</td>\n",
              "      <td>KS Williamson</td>\n",
              "      <td>Sheikh Zayed Stadium</td>\n",
              "      <td>0</td>\n",
              "      <td>Royal Challengers Bangalore</td>\n",
              "      <td>Sunrisers Hyderabad</td>\n",
              "      <td>Sunrisers Hyderabad</td>\n",
              "      <td>field</td>\n",
              "      <td>Sunrisers Hyderabad</td>\n",
              "      <td>wickets</td>\n",
              "      <td>6.0</td>\n",
              "      <td>N</td>\n",
              "      <td>NaN</td>\n",
              "      <td>PR Reiffel</td>\n",
              "      <td>S Ravi</td>\n",
              "    </tr>\n",
              "    <tr>\n",
              "      <th>812</th>\n",
              "      <td>1237177</td>\n",
              "      <td>Dubai</td>\n",
              "      <td>2020-11-05</td>\n",
              "      <td>JJ Bumrah</td>\n",
              "      <td>Dubai International Cricket Stadium</td>\n",
              "      <td>0</td>\n",
              "      <td>Mumbai Indians</td>\n",
              "      <td>Delhi Capitals</td>\n",
              "      <td>Delhi Capitals</td>\n",
              "      <td>field</td>\n",
              "      <td>Mumbai Indians</td>\n",
              "      <td>runs</td>\n",
              "      <td>57.0</td>\n",
              "      <td>N</td>\n",
              "      <td>NaN</td>\n",
              "      <td>CB Gaffaney</td>\n",
              "      <td>Nitin Menon</td>\n",
              "    </tr>\n",
              "    <tr>\n",
              "      <th>759</th>\n",
              "      <td>1216495</td>\n",
              "      <td>Sharjah</td>\n",
              "      <td>2020-11-03</td>\n",
              "      <td>S Nadeem</td>\n",
              "      <td>Sharjah Cricket Stadium</td>\n",
              "      <td>0</td>\n",
              "      <td>Mumbai Indians</td>\n",
              "      <td>Sunrisers Hyderabad</td>\n",
              "      <td>Sunrisers Hyderabad</td>\n",
              "      <td>field</td>\n",
              "      <td>Sunrisers Hyderabad</td>\n",
              "      <td>wickets</td>\n",
              "      <td>10.0</td>\n",
              "      <td>N</td>\n",
              "      <td>NaN</td>\n",
              "      <td>C Shamshuddin</td>\n",
              "      <td>RK Illingworth</td>\n",
              "    </tr>\n",
              "  </tbody>\n",
              "</table>\n",
              "</div>\n",
              "      <button class=\"colab-df-convert\" onclick=\"convertToInteractive('df-4338b912-c896-4198-89b8-6d03ac06f4fa')\"\n",
              "              title=\"Convert this dataframe to an interactive table.\"\n",
              "              style=\"display:none;\">\n",
              "        \n",
              "  <svg xmlns=\"http://www.w3.org/2000/svg\" height=\"24px\"viewBox=\"0 0 24 24\"\n",
              "       width=\"24px\">\n",
              "    <path d=\"M0 0h24v24H0V0z\" fill=\"none\"/>\n",
              "    <path d=\"M18.56 5.44l.94 2.06.94-2.06 2.06-.94-2.06-.94-.94-2.06-.94 2.06-2.06.94zm-11 1L8.5 8.5l.94-2.06 2.06-.94-2.06-.94L8.5 2.5l-.94 2.06-2.06.94zm10 10l.94 2.06.94-2.06 2.06-.94-2.06-.94-.94-2.06-.94 2.06-2.06.94z\"/><path d=\"M17.41 7.96l-1.37-1.37c-.4-.4-.92-.59-1.43-.59-.52 0-1.04.2-1.43.59L10.3 9.45l-7.72 7.72c-.78.78-.78 2.05 0 2.83L4 21.41c.39.39.9.59 1.41.59.51 0 1.02-.2 1.41-.59l7.78-7.78 2.81-2.81c.8-.78.8-2.07 0-2.86zM5.41 20L4 18.59l7.72-7.72 1.47 1.35L5.41 20z\"/>\n",
              "  </svg>\n",
              "      </button>\n",
              "      \n",
              "  <style>\n",
              "    .colab-df-container {\n",
              "      display:flex;\n",
              "      flex-wrap:wrap;\n",
              "      gap: 12px;\n",
              "    }\n",
              "\n",
              "    .colab-df-convert {\n",
              "      background-color: #E8F0FE;\n",
              "      border: none;\n",
              "      border-radius: 50%;\n",
              "      cursor: pointer;\n",
              "      display: none;\n",
              "      fill: #1967D2;\n",
              "      height: 32px;\n",
              "      padding: 0 0 0 0;\n",
              "      width: 32px;\n",
              "    }\n",
              "\n",
              "    .colab-df-convert:hover {\n",
              "      background-color: #E2EBFA;\n",
              "      box-shadow: 0px 1px 2px rgba(60, 64, 67, 0.3), 0px 1px 3px 1px rgba(60, 64, 67, 0.15);\n",
              "      fill: #174EA6;\n",
              "    }\n",
              "\n",
              "    [theme=dark] .colab-df-convert {\n",
              "      background-color: #3B4455;\n",
              "      fill: #D2E3FC;\n",
              "    }\n",
              "\n",
              "    [theme=dark] .colab-df-convert:hover {\n",
              "      background-color: #434B5C;\n",
              "      box-shadow: 0px 1px 3px 1px rgba(0, 0, 0, 0.15);\n",
              "      filter: drop-shadow(0px 1px 2px rgba(0, 0, 0, 0.3));\n",
              "      fill: #FFFFFF;\n",
              "    }\n",
              "  </style>\n",
              "\n",
              "      <script>\n",
              "        const buttonEl =\n",
              "          document.querySelector('#df-4338b912-c896-4198-89b8-6d03ac06f4fa button.colab-df-convert');\n",
              "        buttonEl.style.display =\n",
              "          google.colab.kernel.accessAllowed ? 'block' : 'none';\n",
              "\n",
              "        async function convertToInteractive(key) {\n",
              "          const element = document.querySelector('#df-4338b912-c896-4198-89b8-6d03ac06f4fa');\n",
              "          const dataTable =\n",
              "            await google.colab.kernel.invokeFunction('convertToInteractive',\n",
              "                                                     [key], {});\n",
              "          if (!dataTable) return;\n",
              "\n",
              "          const docLinkHtml = 'Like what you see? Visit the ' +\n",
              "            '<a target=\"_blank\" href=https://colab.research.google.com/notebooks/data_table.ipynb>data table notebook</a>'\n",
              "            + ' to learn more about interactive tables.';\n",
              "          element.innerHTML = '';\n",
              "          dataTable['output_type'] = 'display_data';\n",
              "          await google.colab.output.renderOutput(dataTable, element);\n",
              "          const docLink = document.createElement('div');\n",
              "          docLink.innerHTML = docLinkHtml;\n",
              "          element.appendChild(docLink);\n",
              "        }\n",
              "      </script>\n",
              "    </div>\n",
              "  </div>\n",
              "  "
            ]
          },
          "metadata": {},
          "execution_count": 67
        }
      ]
    },
    {
      "cell_type": "markdown",
      "source": [
        "# Dream 11 Team recommendation system"
      ],
      "metadata": {
        "id": "oYsfG0UIAr8h"
      }
    },
    {
      "cell_type": "code",
      "source": [
        "# teams players collection using atch id to fetch a team players based on 2020 IPL teams\n",
        "temp16 = df_ball[ df_ball['id'] == 1216517 ]\n",
        "team1 = temp16['batting_team'].unique()[0]\n",
        "team2 = temp16['bowling_team'].unique()[0]\n",
        "batsman_list = temp16 [temp16['batting_team'] == team1]['batsman'].unique().tolist()\n",
        "bowler_list = temp16 [temp16['bowling_team'] == team1]['bowler'].unique().tolist()\n",
        "(batsman_list + bowler_list)\n",
        "for bowler in bowler_list:\n",
        "  if bowler not in batsman_list:\n",
        "    batsman_list.append(bowler)\n",
        "batsman_list"
      ],
      "metadata": {
        "colab": {
          "base_uri": "https://localhost:8080/"
        },
        "id": "NbMJc5bDOVs4",
        "outputId": "d7c6084a-d7e5-409f-c15b-d1f20085bd39"
      },
      "execution_count": null,
      "outputs": [
        {
          "output_type": "execute_result",
          "data": {
            "text/plain": [
              "['KH Pandya',\n",
              " 'Q de Kock',\n",
              " 'RG Sharma',\n",
              " 'SA Yadav',\n",
              " 'Ishan Kishan',\n",
              " 'HH Pandya',\n",
              " 'KA Pollard',\n",
              " 'NM Coulter-Nile',\n",
              " 'RD Chahar',\n",
              " 'JJ Bumrah',\n",
              " 'TA Boult']"
            ]
          },
          "metadata": {},
          "execution_count": 68
        }
      ]
    },
    {
      "cell_type": "markdown",
      "source": [
        "# Teams with player names"
      ],
      "metadata": {
        "id": "toaf7fXfA4jX"
      }
    },
    {
      "cell_type": "code",
      "source": [
        "MI = ['KH Pandya','Q de Kock','RG Sharma','SA Yadav','Ishan Kishan','HH Pandya','KA Pollard','NM Coulter-Nile','RD Chahar','JJ Bumrah','TA Boult']\n",
        "SRH = ['DA Warner','JM Bairstow','MK Pandey','Abdul Samad','KS Williamson','PK Garg','Abhishek Sharma','Sandeep Sharma','KK Ahmed','T Natarajan','Rashid Khan']\n",
        "CSK = ['F du Plessis','AT Rayudu','SM Curran','DL Chahar','RD Gaikwad','MS Dhoni','SN Thakur','Imran Tahir','N Jagadeesan','RA Jadeja','JR Hazlewood']\n",
        "KXIPB = ['KL Rahul','CH Gayle','N Pooran','Mandeep Singh','DJ Hooda','JDS Neesham','CJ Jordan','MA Agarwal','Mohammed Shami','Ravi Bishnoi','M Ashwin']\n",
        "KKR = ['EJG Morgan', 'AD Russell', 'PJ Cummins', 'RA Tripathi', 'KD Karthik', 'KL Nagarkoti', 'Shubman Gill', 'N Rana','SP Narine','Shivam Mavi','CV Varun']\n",
        "RR = ['RV Uthappa','BA Stokes','SV Samson','JC Buttler','SPD Smith','R Tewatia', 'JC Archer', 'Kartik Tyagi', 'S Gopal','JD Unadkat']\n",
        "DC = ['SS Iyer','RR Pant','SO Hetmyer', 'AR Patel', 'MP Stoinis', 'AM Rahane', 'S Dhawan','R Ashwin', 'K Rabada','A Nortje','P Dubey']\n",
        "RCB = ['V Kohli','D Padikkal','AJ Finch', 'AB de Villiers', 'MM Ali', 'S Dube', 'Washington Sundar','NA Saini','Mohammed Siraj','A Zampa','YS Chahal']\n"
      ],
      "metadata": {
        "id": "rq4Vg2qFL7mh"
      },
      "execution_count": null,
      "outputs": []
    },
    {
      "cell_type": "code",
      "source": [
        "#function to collect team1 stats against team2 bowlers\n",
        "\n",
        "def team_batting_stats(team1,team2):\n",
        "  player_stats_list = []\n",
        "\n",
        "  for batsman in team1:\n",
        "    batsman_stats = []\n",
        "    for bowler in team2:\n",
        "      #result is in the form of   return [total_matches_played, total_runs,is_wicket, total_balls_faced,fours,sixs]\n",
        "      result = batsman_against_bowler(batsman, bowler)\n",
        "      if len(result)>0:\n",
        "        if len(batsman_stats)>0:\n",
        "          batsman_stats = list(np.add(batsman_stats,result))\n",
        "        else:\n",
        "          batsman_stats = result\n",
        "\n",
        "    #run_rate = round((total_runs/total_balls_faced)*6,2)\n",
        "    if len(batsman_stats) > 0:\n",
        "      run_rate =   round((batsman_stats[1]/batsman_stats[3])*6,2)\n",
        "      strike_rate = round((batsman_stats[1]/batsman_stats[3])*100,2)\n",
        "\n",
        "      player_stats_list.append([batsman] + batsman_stats + [ run_rate, strike_rate])\n",
        "\n",
        "  return player_stats_list\n",
        "\n"
      ],
      "metadata": {
        "id": "PS8SH-eyJtqG"
      },
      "execution_count": null,
      "outputs": []
    },
    {
      "cell_type": "code",
      "source": [
        "def team_bowling_stats(team1,team2):\n",
        "  player_stats_list = []\n",
        "\n",
        "  for bowler in team1:\n",
        "    bowler_stats = []\n",
        "    for batsman in team2:\n",
        "      result = batsman_against_bowler(batsman, bowler)\n",
        "      #result format   return [total_matches_played, total_runs,is_wicket, total_balls_faced,fours,sixs]\n",
        "      if len(result)>0:\n",
        "        if len(bowler_stats)>0:\n",
        "          bowler_statss = list(np.add(bowler_stats,result))\n",
        "        else:\n",
        "          bowler_stats = result\n",
        "\n",
        "    if len(bowler_stats) > 0:\n",
        "      economy =   round((bowler_stats[1]/bowler_stats[3])*6,2)\n",
        "      player_stats_list.append([bowler] + bowler_stats + [ economy])\n",
        "\n",
        "  return player_stats_list\n"
      ],
      "metadata": {
        "id": "wfj_Ax8qCNCz"
      },
      "execution_count": null,
      "outputs": []
    },
    {
      "cell_type": "code",
      "source": [
        "team1_batting_stats = pd.DataFrame(data = team_batting_stats(MI, CSK), columns = ['Name', 'Matches', 'Runs','Out','Balls Played','fours','sixs' ,'Run Rate', 'Strike Rate'])\n",
        "team2_batting_stats = pd.DataFrame(data = team_batting_stats(CSK, MI),columns = ['Name', 'Matches', 'Runs','Out','Balls Played' ,'fours','sixs','Run Rate', 'Strike Rate'] )\n",
        "print(team1_batting_stats)\n",
        "print(team2_batting_stats)"
      ],
      "metadata": {
        "colab": {
          "base_uri": "https://localhost:8080/"
        },
        "id": "omTS8dkP2Og-",
        "outputId": "357470f5-3ac0-434e-d027-59745d2bfe78"
      },
      "execution_count": null,
      "outputs": [
        {
          "output_type": "stream",
          "name": "stdout",
          "text": [
            "           Name  Matches  Runs  Out  Balls Played  fours  sixs  Run Rate  \\\n",
            "0     KH Pandya       13    74    4            48      6     3      9.25   \n",
            "1     Q de Kock       18   141    4           109     10     8      7.76   \n",
            "2     RG Sharma       39   240    6           199     18     7      7.24   \n",
            "3      SA Yadav       25   166    4           144     23     1      6.92   \n",
            "4  Ishan Kishan       18   122    5            82     12     6      8.93   \n",
            "5     HH Pandya       18    61    3            46      3     4      7.96   \n",
            "6    KA Pollard       21   215    4           109     11    20     11.83   \n",
            "7     RD Chahar        2     1    1             4      0     0      1.50   \n",
            "8     JJ Bumrah        2     7    0             5      0     0      8.40   \n",
            "9      TA Boult        2     6    2             4      0     1      9.00   \n",
            "\n",
            "   Strike Rate  \n",
            "0       154.17  \n",
            "1       129.36  \n",
            "2       120.60  \n",
            "3       115.28  \n",
            "4       148.78  \n",
            "5       132.61  \n",
            "6       197.25  \n",
            "7        25.00  \n",
            "8       140.00  \n",
            "9       150.00  \n",
            "           Name  Matches  Runs  Out  Balls Played  fours  sixs  Run Rate  \\\n",
            "0  F du Plessis       20   129    4           109     14     3      7.10   \n",
            "1     AT Rayudu       28   175    5           142     16     6      7.39   \n",
            "2     SM Curran        9    83    3            59      7     4      8.44   \n",
            "3     DL Chahar        6    11    3            16      1     0      4.12   \n",
            "4    RD Gaikwad        1     0    1             5      0     0      0.00   \n",
            "5      MS Dhoni       51   323   13           247     23    16      7.85   \n",
            "6     SN Thakur        7    28    1            27      2     1      6.22   \n",
            "7   Imran Tahir        4    15    0            11      2     0      8.18   \n",
            "8  N Jagadeesan        1     0    1             1      0     0      0.00   \n",
            "9     RA Jadeja       24   100    6            79      7     2      7.59   \n",
            "\n",
            "   Strike Rate  \n",
            "0       118.35  \n",
            "1       123.24  \n",
            "2       140.68  \n",
            "3        68.75  \n",
            "4         0.00  \n",
            "5       130.77  \n",
            "6       103.70  \n",
            "7       136.36  \n",
            "8         0.00  \n",
            "9       126.58  \n"
          ]
        }
      ]
    },
    {
      "cell_type": "code",
      "source": [
        "team1_bowling_stats = pd.DataFrame(data = team_bowling_stats(MI, CSK), columns = ['Name', 'Matches', 'Runs','wickets','Balls','fours','sixs' ,'Economy'])\n",
        "team2_bowling_stats = pd.DataFrame(data = team_bowling_stats(CSK, MI),columns = ['Name', 'Matches', 'Runs','wickets','Balls' ,'fours','sixs','Economy' ])\n",
        "print(team1_bowling_stats)\n",
        "print(team2_bowling_stats)"
      ],
      "metadata": {
        "colab": {
          "base_uri": "https://localhost:8080/"
        },
        "id": "CaAXlp6gFHFf",
        "outputId": "f3e5973c-1127-424c-e6d4-4e0d54a5f7d5"
      },
      "execution_count": null,
      "outputs": [
        {
          "output_type": "stream",
          "name": "stdout",
          "text": [
            "              Name  Matches  Runs  wickets  Balls  fours  sixs  Economy\n",
            "0        KH Pandya        3    30        1     21      3     1     8.57\n",
            "1        RG Sharma        1     8        0      7      1     0     6.86\n",
            "2        HH Pandya        1     2        0      2      0     0     6.00\n",
            "3       KA Pollard        3     9        0     10      0     0     5.40\n",
            "4  NM Coulter-Nile        3    17        0     12      3     0     8.50\n",
            "5        RD Chahar        2    14        1     13      1     0     6.46\n",
            "6        JJ Bumrah        5    39        0     27      4     2     8.67\n",
            "7         TA Boult        6    35        2     36      6     0     5.83\n",
            "           Name  Matches  Runs  wickets  Balls  fours  sixs  Economy\n",
            "0     SM Curran        2     5        1      8      0     0     3.75\n",
            "1     DL Chahar        8    84        2     61      8     5     8.26\n",
            "2     SN Thakur        4     7        2      9      0     0     4.67\n",
            "3   Imran Tahir        7    59        2     33      5     3    10.73\n",
            "4     RA Jadeja        2     8        0      6      1     0     8.00\n",
            "5  JR Hazlewood        1    17        0     12      4     0     8.50\n"
          ]
        }
      ]
    }
  ]
}