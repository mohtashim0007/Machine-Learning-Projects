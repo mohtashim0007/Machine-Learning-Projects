{
  "nbformat": 4,
  "nbformat_minor": 0,
  "metadata": {
    "colab": {
      "name": "MNISTCNN.ipynb",
      "provenance": [],
      "collapsed_sections": [],
      "authorship_tag": "ABX9TyM5fYMpwRKl9Ldghbn/tser",
      "include_colab_link": true
    },
    "kernelspec": {
      "name": "python3",
      "display_name": "Python 3"
    },
    "language_info": {
      "name": "python"
    },
    "accelerator": "TPU"
  },
  "cells": [
    {
      "cell_type": "markdown",
      "metadata": {
        "id": "view-in-github",
        "colab_type": "text"
      },
      "source": [
        "<a href=\"https://colab.research.google.com/github/mohtashim0007/Machine-Learning-Projects/blob/main/MNISTCNN.ipynb\" target=\"_parent\"><img src=\"https://colab.research.google.com/assets/colab-badge.svg\" alt=\"Open In Colab\"/></a>"
      ]
    },
    {
      "cell_type": "code",
      "metadata": {
        "id": "YdnJRy_jcAkF"
      },
      "source": [
        "#Importing useful packages\n",
        "\n",
        "import keras\n",
        "from keras.datasets import mnist\n",
        "from keras.models import Sequential\n",
        "from matplotlib import pyplot as plt\n",
        "  "
      ],
      "execution_count": 1,
      "outputs": []
    },
    {
      "cell_type": "code",
      "metadata": {
        "id": "UVaSqr4lcGm4",
        "colab": {
          "base_uri": "https://localhost:8080/"
        },
        "outputId": "ad5d9a46-2814-4b5d-cc38-089e8181eaad"
      },
      "source": [
        "#load mnist dataset\n",
        "ds = mnist.load_data()"
      ],
      "execution_count": 2,
      "outputs": [
        {
          "output_type": "stream",
          "name": "stdout",
          "text": [
            "Downloading data from https://storage.googleapis.com/tensorflow/tf-keras-datasets/mnist.npz\n",
            "11493376/11490434 [==============================] - 0s 0us/step\n",
            "11501568/11490434 [==============================] - 0s 0us/step\n"
          ]
        }
      ]
    },
    {
      "cell_type": "code",
      "metadata": {
        "colab": {
          "base_uri": "https://localhost:8080/"
        },
        "id": "RFt2jepsc6Uj",
        "outputId": "5acea57a-8c51-478d-81fc-e14e4cc61506"
      },
      "source": [
        "#assigning dataset to respectve training and test variables\n",
        "train_ds, test_ds = ds\n",
        "type(train_ds)"
      ],
      "execution_count": 3,
      "outputs": [
        {
          "output_type": "execute_result",
          "data": {
            "text/plain": [
              "tuple"
            ]
          },
          "metadata": {},
          "execution_count": 3
        }
      ]
    },
    {
      "cell_type": "code",
      "metadata": {
        "colab": {
          "base_uri": "https://localhost:8080/"
        },
        "id": "a7m-8gt3evS9",
        "outputId": "cebc75b2-8922-4fc2-b497-274075fa251d"
      },
      "source": [
        "#assigning features and target values to the respective variables\n",
        "train_x, train_y = train_ds\n",
        "type(train_x)"
      ],
      "execution_count": 4,
      "outputs": [
        {
          "output_type": "execute_result",
          "data": {
            "text/plain": [
              "numpy.ndarray"
            ]
          },
          "metadata": {},
          "execution_count": 4
        }
      ]
    },
    {
      "cell_type": "code",
      "metadata": {
        "colab": {
          "base_uri": "https://localhost:8080/"
        },
        "id": "ldL7ZhMAe8Nv",
        "outputId": "0be25f6a-aea0-400a-e8eb-74b32dab12b5"
      },
      "source": [
        "len(train_x)"
      ],
      "execution_count": 5,
      "outputs": [
        {
          "output_type": "execute_result",
          "data": {
            "text/plain": [
              "60000"
            ]
          },
          "metadata": {},
          "execution_count": 5
        }
      ]
    },
    {
      "cell_type": "code",
      "metadata": {
        "id": "GrOpwftHfB0z"
      },
      "source": [
        "test_x, test_y = test_ds"
      ],
      "execution_count": 6,
      "outputs": []
    },
    {
      "cell_type": "code",
      "metadata": {
        "colab": {
          "base_uri": "https://localhost:8080/"
        },
        "id": "aGDrA_nDf2xx",
        "outputId": "42c8e7cf-ea1a-4ff0-dbd3-698cb16ea73c"
      },
      "source": [
        "print(train_x[0].shape)"
      ],
      "execution_count": 7,
      "outputs": [
        {
          "output_type": "stream",
          "name": "stdout",
          "text": [
            "(28, 28)\n"
          ]
        }
      ]
    },
    {
      "cell_type": "code",
      "metadata": {
        "colab": {
          "base_uri": "https://localhost:8080/",
          "height": 269
        },
        "id": "YhbxkH1ugnCJ",
        "outputId": "8f30ec3e-870f-4c0b-d77f-e84fe5a2e163"
      },
      "source": [
        "# plot fuction is used to plot the 49 images at a time using subplot function for multiple plots\n",
        "\n",
        "def plot(x):\n",
        "  c = 1\n",
        "  for i in x:\n",
        "    #fig = plt.figure()\n",
        "    plt.subplot(7,7,c)\n",
        "    c = c+1\n",
        "    plt.imshow(i)\n",
        "  plt.show()\n",
        "\n",
        "#assignng first 49 images to variable x\n",
        "x = train_x[0:49]\n",
        "plot(x)"
      ],
      "execution_count": 8,
      "outputs": [
        {
          "output_type": "display_data",
          "data": {
            "text/plain": [
              "<Figure size 432x288 with 49 Axes>"
            ],
            "image/png": "[encoded data removed]"
          },
          "metadata": {
            "needs_background": "light"
          }
        }
      ]
    },
    {
      "cell_type": "code",
      "metadata": {
        "id": "4XeecFkgi_fe",
        "colab": {
          "base_uri": "https://localhost:8080/"
        },
        "outputId": "ecfd0ccf-920d-4434-b375-23d07081104a"
      },
      "source": [
        "print(train_x[0])"
      ],
      "execution_count": 16,
      "outputs": [
        {
          "output_type": "stream",
          "name": "stdout",
          "text": [
            "[[0.         0.         0.         0.         0.         0.\n",
            "  0.         0.         0.         0.         0.         0.\n",
            "  0.         0.         0.         0.         0.         0.\n",
            "  0.         0.         0.         0.         0.         0.\n",
            "  0.         0.         0.         0.        ]\n",
            " [0.         0.         0.         0.         0.         0.\n",
            "  0.         0.         0.         0.         0.         0.\n",
            "  0.         0.         0.         0.         0.         0.\n",
            "  0.         0.         0.         0.         0.         0.\n",
            "  0.         0.         0.         0.        ]\n",
            " [0.         0.         0.         0.         0.         0.\n",
            "  0.         0.         0.         0.         0.         0.\n",
            "  0.         0.         0.         0.         0.         0.\n",
            "  0.         0.         0.         0.         0.         0.\n",
            "  0.         0.         0.         0.        ]\n",
            " [0.         0.         0.         0.         0.         0.\n",
            "  0.         0.         0.         0.         0.         0.\n",
            "  0.         0.         0.         0.         0.         0.\n",
            "  0.         0.         0.         0.         0.         0.\n",
            "  0.         0.         0.         0.        ]\n",
            " [0.         0.         0.         0.         0.         0.\n",
            "  0.         0.         0.         0.         0.         0.\n",
            "  0.         0.         0.         0.         0.         0.\n",
            "  0.         0.         0.         0.         0.         0.\n",
            "  0.         0.         0.         0.        ]\n",
            " [0.         0.         0.         0.         0.         0.\n",
            "  0.         0.         0.         0.         0.         0.\n",
            "  0.01176471 0.07058824 0.07058824 0.07058824 0.49411765 0.53333333\n",
            "  0.68627451 0.10196078 0.65098039 1.         0.96862745 0.49803922\n",
            "  0.         0.         0.         0.        ]\n",
            " [0.         0.         0.         0.         0.         0.\n",
            "  0.         0.         0.11764706 0.14117647 0.36862745 0.60392157\n",
            "  0.66666667 0.99215686 0.99215686 0.99215686 0.99215686 0.99215686\n",
            "  0.88235294 0.6745098  0.99215686 0.94901961 0.76470588 0.25098039\n",
            "  0.         0.         0.         0.        ]\n",
            " [0.         0.         0.         0.         0.         0.\n",
            "  0.         0.19215686 0.93333333 0.99215686 0.99215686 0.99215686\n",
            "  0.99215686 0.99215686 0.99215686 0.99215686 0.99215686 0.98431373\n",
            "  0.36470588 0.32156863 0.32156863 0.21960784 0.15294118 0.\n",
            "  0.         0.         0.         0.        ]\n",
            " [0.         0.         0.         0.         0.         0.\n",
            "  0.         0.07058824 0.85882353 0.99215686 0.99215686 0.99215686\n",
            "  0.99215686 0.99215686 0.77647059 0.71372549 0.96862745 0.94509804\n",
            "  0.         0.         0.         0.         0.         0.\n",
            "  0.         0.         0.         0.        ]\n",
            " [0.         0.         0.         0.         0.         0.\n",
            "  0.         0.         0.31372549 0.61176471 0.41960784 0.99215686\n",
            "  0.99215686 0.80392157 0.04313725 0.         0.16862745 0.60392157\n",
            "  0.         0.         0.         0.         0.         0.\n",
            "  0.         0.         0.         0.        ]\n",
            " [0.         0.         0.         0.         0.         0.\n",
            "  0.         0.         0.         0.05490196 0.00392157 0.60392157\n",
            "  0.99215686 0.35294118 0.         0.         0.         0.\n",
            "  0.         0.         0.         0.         0.         0.\n",
            "  0.         0.         0.         0.        ]\n",
            " [0.         0.         0.         0.         0.         0.\n",
            "  0.         0.         0.         0.         0.         0.54509804\n",
            "  0.99215686 0.74509804 0.00784314 0.         0.         0.\n",
            "  0.         0.         0.         0.         0.         0.\n",
            "  0.         0.         0.         0.        ]\n",
            " [0.         0.         0.         0.         0.         0.\n",
            "  0.         0.         0.         0.         0.         0.04313725\n",
            "  0.74509804 0.99215686 0.2745098  0.         0.         0.\n",
            "  0.         0.         0.         0.         0.         0.\n",
            "  0.         0.         0.         0.        ]\n",
            " [0.         0.         0.         0.         0.         0.\n",
            "  0.         0.         0.         0.         0.         0.\n",
            "  0.1372549  0.94509804 0.88235294 0.62745098 0.42352941 0.00392157\n",
            "  0.         0.         0.         0.         0.         0.\n",
            "  0.         0.         0.         0.        ]\n",
            " [0.         0.         0.         0.         0.         0.\n",
            "  0.         0.         0.         0.         0.         0.\n",
            "  0.         0.31764706 0.94117647 0.99215686 0.99215686 0.46666667\n",
            "  0.09803922 0.         0.         0.         0.         0.\n",
            "  0.         0.         0.         0.        ]\n",
            " [0.         0.         0.         0.         0.         0.\n",
            "  0.         0.         0.         0.         0.         0.\n",
            "  0.         0.         0.17647059 0.72941176 0.99215686 0.99215686\n",
            "  0.58823529 0.10588235 0.         0.         0.         0.\n",
            "  0.         0.         0.         0.        ]\n",
            " [0.         0.         0.         0.         0.         0.\n",
            "  0.         0.         0.         0.         0.         0.\n",
            "  0.         0.         0.         0.0627451  0.36470588 0.98823529\n",
            "  0.99215686 0.73333333 0.         0.         0.         0.\n",
            "  0.         0.         0.         0.        ]\n",
            " [0.         0.         0.         0.         0.         0.\n",
            "  0.         0.         0.         0.         0.         0.\n",
            "  0.         0.         0.         0.         0.         0.97647059\n",
            "  0.99215686 0.97647059 0.25098039 0.         0.         0.\n",
            "  0.         0.         0.         0.        ]\n",
            " [0.         0.         0.         0.         0.         0.\n",
            "  0.         0.         0.         0.         0.         0.\n",
            "  0.         0.         0.18039216 0.50980392 0.71764706 0.99215686\n",
            "  0.99215686 0.81176471 0.00784314 0.         0.         0.\n",
            "  0.         0.         0.         0.        ]\n",
            " [0.         0.         0.         0.         0.         0.\n",
            "  0.         0.         0.         0.         0.         0.\n",
            "  0.15294118 0.58039216 0.89803922 0.99215686 0.99215686 0.99215686\n",
            "  0.98039216 0.71372549 0.         0.         0.         0.\n",
            "  0.         0.         0.         0.        ]\n",
            " [0.         0.         0.         0.         0.         0.\n",
            "  0.         0.         0.         0.         0.09411765 0.44705882\n",
            "  0.86666667 0.99215686 0.99215686 0.99215686 0.99215686 0.78823529\n",
            "  0.30588235 0.         0.         0.         0.         0.\n",
            "  0.         0.         0.         0.        ]\n",
            " [0.         0.         0.         0.         0.         0.\n",
            "  0.         0.         0.09019608 0.25882353 0.83529412 0.99215686\n",
            "  0.99215686 0.99215686 0.99215686 0.77647059 0.31764706 0.00784314\n",
            "  0.         0.         0.         0.         0.         0.\n",
            "  0.         0.         0.         0.        ]\n",
            " [0.         0.         0.         0.         0.         0.\n",
            "  0.07058824 0.67058824 0.85882353 0.99215686 0.99215686 0.99215686\n",
            "  0.99215686 0.76470588 0.31372549 0.03529412 0.         0.\n",
            "  0.         0.         0.         0.         0.         0.\n",
            "  0.         0.         0.         0.        ]\n",
            " [0.         0.         0.         0.         0.21568627 0.6745098\n",
            "  0.88627451 0.99215686 0.99215686 0.99215686 0.99215686 0.95686275\n",
            "  0.52156863 0.04313725 0.         0.         0.         0.\n",
            "  0.         0.         0.         0.         0.         0.\n",
            "  0.         0.         0.         0.        ]\n",
            " [0.         0.         0.         0.         0.53333333 0.99215686\n",
            "  0.99215686 0.99215686 0.83137255 0.52941176 0.51764706 0.0627451\n",
            "  0.         0.         0.         0.         0.         0.\n",
            "  0.         0.         0.         0.         0.         0.\n",
            "  0.         0.         0.         0.        ]\n",
            " [0.         0.         0.         0.         0.         0.\n",
            "  0.         0.         0.         0.         0.         0.\n",
            "  0.         0.         0.         0.         0.         0.\n",
            "  0.         0.         0.         0.         0.         0.\n",
            "  0.         0.         0.         0.        ]\n",
            " [0.         0.         0.         0.         0.         0.\n",
            "  0.         0.         0.         0.         0.         0.\n",
            "  0.         0.         0.         0.         0.         0.\n",
            "  0.         0.         0.         0.         0.         0.\n",
            "  0.         0.         0.         0.        ]\n",
            " [0.         0.         0.         0.         0.         0.\n",
            "  0.         0.         0.         0.         0.         0.\n",
            "  0.         0.         0.         0.         0.         0.\n",
            "  0.         0.         0.         0.         0.         0.\n",
            "  0.         0.         0.         0.        ]]\n"
          ]
        }
      ]
    },
    {
      "cell_type": "code",
      "metadata": {
        "colab": {
          "base_uri": "https://localhost:8080/"
        },
        "id": "ycysxxfwjMls",
        "outputId": "d6557c3c-7953-497f-a41b-92496236faa8"
      },
      "source": [
        "#Normalize data \n",
        "#from the large dataset we took only 1000 rows for training and 100 rows for testing purpose \n",
        "#To reduce this computation we can normalize the values to range from 0 to 1. In this way, the numbers will be small and the computation becomes easier and faster.\n",
        "# As the pixel values range from 0 to 256, apart from 0 the range is 255. So dividing all the values by 255 will convert it to range from 0 to 1\n",
        "\n",
        "train_x = train_x[0:1000]/255\n",
        "test_x = test_x[0:100]/255\n",
        "train_y = train_y[0:1000]\n",
        "test_y = test_y[0:100]\n",
        "print(test_y)\n",
        "print(type(test_y[0]))"
      ],
      "execution_count": 10,
      "outputs": [
        {
          "output_type": "stream",
          "name": "stdout",
          "text": [
            "[7 2 1 0 4 1 4 9 5 9 0 6 9 0 1 5 9 7 3 4 9 6 6 5 4 0 7 4 0 1 3 1 3 4 7 2 7\n",
            " 1 2 1 1 7 4 2 3 5 1 2 4 4 6 3 5 5 6 0 4 1 9 5 7 8 9 3 7 4 6 4 3 0 7 0 2 9\n",
            " 1 7 3 2 9 7 7 6 2 7 8 4 7 3 6 1 3 6 9 3 1 4 1 7 6 9]\n",
            "<class 'numpy.uint8'>\n"
          ]
        }
      ]
    },
    {
      "cell_type": "code",
      "metadata": {
        "colab": {
          "base_uri": "https://localhost:8080/"
        },
        "id": "ROpNudJt6Bh3",
        "outputId": "58337385-4075-476d-87b1-dab66f2d71da"
      },
      "source": [
        "import tensorflow as tf\n",
        "from tensorflow.keras.utils import to_categorical\n",
        "test_yc = to_categorical(test_y)\n",
        "train_yc = to_categorical(train_y)\n",
        "print(test_yc)"
      ],
      "execution_count": 23,
      "outputs": [
        {
          "output_type": "stream",
          "name": "stdout",
          "text": [
            "[[0. 0. 0. 0. 0. 0. 0. 1. 0. 0.]\n",
            " [0. 0. 1. 0. 0. 0. 0. 0. 0. 0.]\n",
            " [0. 1. 0. 0. 0. 0. 0. 0. 0. 0.]\n",
            " [1. 0. 0. 0. 0. 0. 0. 0. 0. 0.]\n",
            " [0. 0. 0. 0. 1. 0. 0. 0. 0. 0.]\n",
            " [0. 1. 0. 0. 0. 0. 0. 0. 0. 0.]\n",
            " [0. 0. 0. 0. 1. 0. 0. 0. 0. 0.]\n",
            " [0. 0. 0. 0. 0. 0. 0. 0. 0. 1.]\n",
            " [0. 0. 0. 0. 0. 1. 0. 0. 0. 0.]\n",
            " [0. 0. 0. 0. 0. 0. 0. 0. 0. 1.]\n",
            " [1. 0. 0. 0. 0. 0. 0. 0. 0. 0.]\n",
            " [0. 0. 0. 0. 0. 0. 1. 0. 0. 0.]\n",
            " [0. 0. 0. 0. 0. 0. 0. 0. 0. 1.]\n",
            " [1. 0. 0. 0. 0. 0. 0. 0. 0. 0.]\n",
            " [0. 1. 0. 0. 0. 0. 0. 0. 0. 0.]\n",
            " [0. 0. 0. 0. 0. 1. 0. 0. 0. 0.]\n",
            " [0. 0. 0. 0. 0. 0. 0. 0. 0. 1.]\n",
            " [0. 0. 0. 0. 0. 0. 0. 1. 0. 0.]\n",
            " [0. 0. 0. 1. 0. 0. 0. 0. 0. 0.]\n",
            " [0. 0. 0. 0. 1. 0. 0. 0. 0. 0.]\n",
            " [0. 0. 0. 0. 0. 0. 0. 0. 0. 1.]\n",
            " [0. 0. 0. 0. 0. 0. 1. 0. 0. 0.]\n",
            " [0. 0. 0. 0. 0. 0. 1. 0. 0. 0.]\n",
            " [0. 0. 0. 0. 0. 1. 0. 0. 0. 0.]\n",
            " [0. 0. 0. 0. 1. 0. 0. 0. 0. 0.]\n",
            " [1. 0. 0. 0. 0. 0. 0. 0. 0. 0.]\n",
            " [0. 0. 0. 0. 0. 0. 0. 1. 0. 0.]\n",
            " [0. 0. 0. 0. 1. 0. 0. 0. 0. 0.]\n",
            " [1. 0. 0. 0. 0. 0. 0. 0. 0. 0.]\n",
            " [0. 1. 0. 0. 0. 0. 0. 0. 0. 0.]\n",
            " [0. 0. 0. 1. 0. 0. 0. 0. 0. 0.]\n",
            " [0. 1. 0. 0. 0. 0. 0. 0. 0. 0.]\n",
            " [0. 0. 0. 1. 0. 0. 0. 0. 0. 0.]\n",
            " [0. 0. 0. 0. 1. 0. 0. 0. 0. 0.]\n",
            " [0. 0. 0. 0. 0. 0. 0. 1. 0. 0.]\n",
            " [0. 0. 1. 0. 0. 0. 0. 0. 0. 0.]\n",
            " [0. 0. 0. 0. 0. 0. 0. 1. 0. 0.]\n",
            " [0. 1. 0. 0. 0. 0. 0. 0. 0. 0.]\n",
            " [0. 0. 1. 0. 0. 0. 0. 0. 0. 0.]\n",
            " [0. 1. 0. 0. 0. 0. 0. 0. 0. 0.]\n",
            " [0. 1. 0. 0. 0. 0. 0. 0. 0. 0.]\n",
            " [0. 0. 0. 0. 0. 0. 0. 1. 0. 0.]\n",
            " [0. 0. 0. 0. 1. 0. 0. 0. 0. 0.]\n",
            " [0. 0. 1. 0. 0. 0. 0. 0. 0. 0.]\n",
            " [0. 0. 0. 1. 0. 0. 0. 0. 0. 0.]\n",
            " [0. 0. 0. 0. 0. 1. 0. 0. 0. 0.]\n",
            " [0. 1. 0. 0. 0. 0. 0. 0. 0. 0.]\n",
            " [0. 0. 1. 0. 0. 0. 0. 0. 0. 0.]\n",
            " [0. 0. 0. 0. 1. 0. 0. 0. 0. 0.]\n",
            " [0. 0. 0. 0. 1. 0. 0. 0. 0. 0.]\n",
            " [0. 0. 0. 0. 0. 0. 1. 0. 0. 0.]\n",
            " [0. 0. 0. 1. 0. 0. 0. 0. 0. 0.]\n",
            " [0. 0. 0. 0. 0. 1. 0. 0. 0. 0.]\n",
            " [0. 0. 0. 0. 0. 1. 0. 0. 0. 0.]\n",
            " [0. 0. 0. 0. 0. 0. 1. 0. 0. 0.]\n",
            " [1. 0. 0. 0. 0. 0. 0. 0. 0. 0.]\n",
            " [0. 0. 0. 0. 1. 0. 0. 0. 0. 0.]\n",
            " [0. 1. 0. 0. 0. 0. 0. 0. 0. 0.]\n",
            " [0. 0. 0. 0. 0. 0. 0. 0. 0. 1.]\n",
            " [0. 0. 0. 0. 0. 1. 0. 0. 0. 0.]\n",
            " [0. 0. 0. 0. 0. 0. 0. 1. 0. 0.]\n",
            " [0. 0. 0. 0. 0. 0. 0. 0. 1. 0.]\n",
            " [0. 0. 0. 0. 0. 0. 0. 0. 0. 1.]\n",
            " [0. 0. 0. 1. 0. 0. 0. 0. 0. 0.]\n",
            " [0. 0. 0. 0. 0. 0. 0. 1. 0. 0.]\n",
            " [0. 0. 0. 0. 1. 0. 0. 0. 0. 0.]\n",
            " [0. 0. 0. 0. 0. 0. 1. 0. 0. 0.]\n",
            " [0. 0. 0. 0. 1. 0. 0. 0. 0. 0.]\n",
            " [0. 0. 0. 1. 0. 0. 0. 0. 0. 0.]\n",
            " [1. 0. 0. 0. 0. 0. 0. 0. 0. 0.]\n",
            " [0. 0. 0. 0. 0. 0. 0. 1. 0. 0.]\n",
            " [1. 0. 0. 0. 0. 0. 0. 0. 0. 0.]\n",
            " [0. 0. 1. 0. 0. 0. 0. 0. 0. 0.]\n",
            " [0. 0. 0. 0. 0. 0. 0. 0. 0. 1.]\n",
            " [0. 1. 0. 0. 0. 0. 0. 0. 0. 0.]\n",
            " [0. 0. 0. 0. 0. 0. 0. 1. 0. 0.]\n",
            " [0. 0. 0. 1. 0. 0. 0. 0. 0. 0.]\n",
            " [0. 0. 1. 0. 0. 0. 0. 0. 0. 0.]\n",
            " [0. 0. 0. 0. 0. 0. 0. 0. 0. 1.]\n",
            " [0. 0. 0. 0. 0. 0. 0. 1. 0. 0.]\n",
            " [0. 0. 0. 0. 0. 0. 0. 1. 0. 0.]\n",
            " [0. 0. 0. 0. 0. 0. 1. 0. 0. 0.]\n",
            " [0. 0. 1. 0. 0. 0. 0. 0. 0. 0.]\n",
            " [0. 0. 0. 0. 0. 0. 0. 1. 0. 0.]\n",
            " [0. 0. 0. 0. 0. 0. 0. 0. 1. 0.]\n",
            " [0. 0. 0. 0. 1. 0. 0. 0. 0. 0.]\n",
            " [0. 0. 0. 0. 0. 0. 0. 1. 0. 0.]\n",
            " [0. 0. 0. 1. 0. 0. 0. 0. 0. 0.]\n",
            " [0. 0. 0. 0. 0. 0. 1. 0. 0. 0.]\n",
            " [0. 1. 0. 0. 0. 0. 0. 0. 0. 0.]\n",
            " [0. 0. 0. 1. 0. 0. 0. 0. 0. 0.]\n",
            " [0. 0. 0. 0. 0. 0. 1. 0. 0. 0.]\n",
            " [0. 0. 0. 0. 0. 0. 0. 0. 0. 1.]\n",
            " [0. 0. 0. 1. 0. 0. 0. 0. 0. 0.]\n",
            " [0. 1. 0. 0. 0. 0. 0. 0. 0. 0.]\n",
            " [0. 0. 0. 0. 1. 0. 0. 0. 0. 0.]\n",
            " [0. 1. 0. 0. 0. 0. 0. 0. 0. 0.]\n",
            " [0. 0. 0. 0. 0. 0. 0. 1. 0. 0.]\n",
            " [0. 0. 0. 0. 0. 0. 1. 0. 0. 0.]\n",
            " [0. 0. 0. 0. 0. 0. 0. 0. 0. 1.]]\n"
          ]
        }
      ]
    },
    {
      "cell_type": "code",
      "metadata": {
        "colab": {
          "base_uri": "https://localhost:8080/"
        },
        "id": "AxAYhcAL-cBF",
        "outputId": "9a7c935c-4565-44bd-bdf0-56d8d406fcc0"
      },
      "source": [
        "print(test_yc[0][:])"
      ],
      "execution_count": 12,
      "outputs": [
        {
          "output_type": "stream",
          "name": "stdout",
          "text": [
            "[0. 0. 0. 0. 0. 0. 0. 1. 0. 0.]\n"
          ]
        }
      ]
    },
    {
      "cell_type": "code",
      "metadata": {
        "colab": {
          "base_uri": "https://localhost:8080/"
        },
        "id": "yx-AM8r96MqK",
        "outputId": "b4cde94d-fc76-4961-c18a-aba9f13dff02"
      },
      "source": [
        "print(test_yc.shape)\n",
        "print(type(test_yc))"
      ],
      "execution_count": 13,
      "outputs": [
        {
          "output_type": "stream",
          "name": "stdout",
          "text": [
            "(100, 10)\n",
            "<class 'numpy.ndarray'>\n"
          ]
        }
      ]
    },
    {
      "cell_type": "code",
      "metadata": {
        "id": "XdTTZZKEjkxG",
        "colab": {
          "base_uri": "https://localhost:8080/"
        },
        "outputId": "6e45bf59-d254-451d-bf61-64908d38b6d5"
      },
      "source": [
        "def model_fun():\n",
        "  model = keras.Sequential()\n",
        "  model.add(keras.layers.Conv2D(filters=32  ,input_shape=(28,28,1) , kernel_size=(3,3), activation='relu'))\n",
        "  model.add(keras.layers.pooling.MaxPooling2D(pool_size=(2,2)))\n",
        "  model.add(keras.layers.Conv2D(16,kernel_size=(3,3), activation='relu'))\n",
        "  model.add(keras.layers.pooling.MaxPooling2D(pool_size=(2,2)))\n",
        "  model.add(keras.layers.Flatten())\n",
        "\n",
        "  model.add(keras.layers.Dense(100,activation='relu', ))\n",
        "  model.add(keras.layers.Dense(10, activation= keras.activations.softmax))\n",
        "  model.compile(optimizer='adam' , loss= 'categorical_crossentropy', metrics=['accuracy'])\n",
        "  return model\n",
        "\n",
        "model = model_fun()\n",
        "model.fit(train_x,train_yc, epochs=30)\n",
        "\n",
        "\n"
      ],
      "execution_count": 14,
      "outputs": [
        {
          "output_type": "stream",
          "name": "stdout",
          "text": [
            "Epoch 1/30\n",
            "32/32 [==============================] - 2s 23ms/step - loss: 1.9090 - accuracy: 0.4540\n",
            "Epoch 2/30\n",
            "32/32 [==============================] - 1s 22ms/step - loss: 0.7321 - accuracy: 0.7920\n",
            "Epoch 3/30\n",
            "32/32 [==============================] - 1s 22ms/step - loss: 0.4342 - accuracy: 0.8750\n",
            "Epoch 4/30\n",
            "32/32 [==============================] - 1s 21ms/step - loss: 0.2888 - accuracy: 0.9210\n",
            "Epoch 5/30\n",
            "32/32 [==============================] - 1s 22ms/step - loss: 0.2122 - accuracy: 0.9460\n",
            "Epoch 6/30\n",
            "32/32 [==============================] - 1s 22ms/step - loss: 0.1655 - accuracy: 0.9540\n",
            "Epoch 7/30\n",
            "32/32 [==============================] - 1s 22ms/step - loss: 0.1414 - accuracy: 0.9620\n",
            "Epoch 8/30\n",
            "32/32 [==============================] - 1s 23ms/step - loss: 0.1098 - accuracy: 0.9750\n",
            "Epoch 9/30\n",
            "32/32 [==============================] - 1s 22ms/step - loss: 0.0935 - accuracy: 0.9770\n",
            "Epoch 10/30\n",
            "32/32 [==============================] - 1s 22ms/step - loss: 0.0657 - accuracy: 0.9850\n",
            "Epoch 11/30\n",
            "32/32 [==============================] - 1s 22ms/step - loss: 0.0549 - accuracy: 0.9830\n",
            "Epoch 12/30\n",
            "32/32 [==============================] - 1s 22ms/step - loss: 0.0463 - accuracy: 0.9890\n",
            "Epoch 13/30\n",
            "32/32 [==============================] - 1s 22ms/step - loss: 0.0341 - accuracy: 0.9920\n",
            "Epoch 14/30\n",
            "32/32 [==============================] - 1s 22ms/step - loss: 0.0184 - accuracy: 0.9980\n",
            "Epoch 15/30\n",
            "32/32 [==============================] - 1s 22ms/step - loss: 0.0133 - accuracy: 0.9990\n",
            "Epoch 16/30\n",
            "32/32 [==============================] - 1s 22ms/step - loss: 0.0112 - accuracy: 1.0000\n",
            "Epoch 17/30\n",
            "32/32 [==============================] - 1s 23ms/step - loss: 0.0097 - accuracy: 1.0000\n",
            "Epoch 18/30\n",
            "32/32 [==============================] - 1s 22ms/step - loss: 0.0110 - accuracy: 0.9980\n",
            "Epoch 19/30\n",
            "32/32 [==============================] - 1s 22ms/step - loss: 0.0081 - accuracy: 0.9990\n",
            "Epoch 20/30\n",
            "32/32 [==============================] - 1s 21ms/step - loss: 0.0050 - accuracy: 1.0000\n",
            "Epoch 21/30\n",
            "32/32 [==============================] - 1s 21ms/step - loss: 0.0032 - accuracy: 1.0000\n",
            "Epoch 22/30\n",
            "32/32 [==============================] - 1s 23ms/step - loss: 0.0027 - accuracy: 1.0000\n",
            "Epoch 23/30\n",
            "32/32 [==============================] - 1s 21ms/step - loss: 0.0023 - accuracy: 1.0000\n",
            "Epoch 24/30\n",
            "32/32 [==============================] - 1s 22ms/step - loss: 0.0020 - accuracy: 1.0000\n",
            "Epoch 25/30\n",
            "32/32 [==============================] - 1s 21ms/step - loss: 0.0019 - accuracy: 1.0000\n",
            "Epoch 26/30\n",
            "32/32 [==============================] - 1s 21ms/step - loss: 0.0017 - accuracy: 1.0000\n",
            "Epoch 27/30\n",
            "32/32 [==============================] - 1s 29ms/step - loss: 0.0015 - accuracy: 1.0000\n",
            "Epoch 28/30\n",
            "32/32 [==============================] - 1s 26ms/step - loss: 0.0014 - accuracy: 1.0000\n",
            "Epoch 29/30\n",
            "32/32 [==============================] - 1s 21ms/step - loss: 0.0013 - accuracy: 1.0000\n",
            "Epoch 30/30\n",
            "32/32 [==============================] - 1s 21ms/step - loss: 0.0012 - accuracy: 1.0000\n"
          ]
        },
        {
          "output_type": "execute_result",
          "data": {
            "text/plain": [
              "<keras.callbacks.History at 0x7f275e970ad0>"
            ]
          },
          "metadata": {},
          "execution_count": 14
        }
      ]
    },
    {
      "cell_type": "code",
      "metadata": {
        "colab": {
          "base_uri": "https://localhost:8080/"
        },
        "id": "5cYvq_g5CUln",
        "outputId": "238b0e65-0c24-4ee9-b249-9407b12a42e7"
      },
      "source": [
        "model.evaluate(test_x,test_yc)\n",
        "model.predict(test_x)"
      ],
      "execution_count": 15,
      "outputs": [
        {
          "output_type": "stream",
          "name": "stdout",
          "text": [
            "4/4 [==============================] - 0s 7ms/step - loss: 0.0516 - accuracy: 0.9800\n"
          ]
        },
        {
          "output_type": "execute_result",
          "data": {
            "text/plain": [
              "array([[1.12082737e-14, 5.96221748e-14, 8.20629609e-08, 2.30679078e-07,\n",
              "        1.65838714e-19, 2.88828683e-10, 1.06839892e-16, 9.99999642e-01,\n",
              "        7.16228726e-12, 1.21684635e-10],\n",
              "       [1.16842536e-09, 7.48306149e-07, 9.99998927e-01, 4.13368341e-12,\n",
              "        6.22300010e-18, 6.19033836e-14, 3.14169114e-07, 8.76816929e-19,\n",
              "        5.61254732e-12, 2.76729221e-18],\n",
              "       [1.50448787e-09, 9.99975562e-01, 2.73184412e-07, 5.91991067e-10,\n",
              "        9.83941482e-06, 4.36320624e-09, 7.09717642e-06, 6.93732045e-06,\n",
              "        2.66304426e-07, 8.74640023e-08],\n",
              "       [9.99973297e-01, 2.29100918e-12, 3.03498041e-07, 3.15545819e-11,\n",
              "        2.18909946e-13, 9.07898482e-07, 4.54691857e-08, 1.04050041e-05,\n",
              "        7.01397230e-12, 1.50756969e-05],\n",
              "       [1.18860520e-12, 1.62847860e-11, 2.81788637e-09, 1.06590924e-10,\n",
              "        9.99527097e-01, 1.84946242e-11, 3.02362935e-09, 1.83400886e-08,\n",
              "        9.49741262e-13, 4.72975284e-04],\n",
              "       [3.76463305e-11, 9.99993324e-01, 3.43869786e-08, 1.76319390e-10,\n",
              "        8.71801205e-07, 2.38567291e-11, 6.61253026e-08, 5.65695200e-06,\n",
              "        9.58335349e-08, 6.41570068e-08],\n",
              "       [5.31797096e-17, 4.84054297e-10, 1.94019280e-13, 1.96532901e-10,\n",
              "        9.99999881e-01, 1.40501077e-09, 2.37304482e-11, 5.47642987e-10,\n",
              "        1.09070273e-08, 1.26171230e-07],\n",
              "       [2.12751339e-13, 9.32482817e-06, 6.29552289e-07, 2.25022286e-05,\n",
              "        1.27776545e-02, 2.62021672e-06, 4.73626102e-07, 1.47335140e-05,\n",
              "        3.62104620e-05, 9.87135828e-01],\n",
              "       [5.92291581e-05, 2.55664068e-09, 3.30112467e-04, 1.04943513e-13,\n",
              "        7.06144405e-08, 9.98916149e-01, 6.88533997e-04, 7.77590319e-12,\n",
              "        5.86642773e-06, 3.42941640e-08],\n",
              "       [4.15741608e-10, 4.22066895e-11, 4.29977565e-09, 4.59063187e-08,\n",
              "        1.14596730e-06, 1.98825501e-06, 4.87825380e-09, 2.39969119e-02,\n",
              "        4.69700317e-05, 9.75952923e-01],\n",
              "       [9.99997616e-01, 3.48506675e-11, 2.75945865e-07, 1.90729529e-12,\n",
              "        4.19246235e-11, 1.87666256e-08, 2.63248126e-07, 1.18541982e-11,\n",
              "        6.83977831e-12, 1.75622381e-06],\n",
              "       [1.94919025e-07, 6.23226537e-09, 2.42244855e-08, 7.46564865e-13,\n",
              "        6.79204732e-06, 6.91627089e-10, 9.99992490e-01, 2.00592971e-12,\n",
              "        5.21520974e-07, 8.14297785e-09],\n",
              "       [1.16858093e-10, 4.69481767e-13, 3.03870484e-09, 1.43225421e-07,\n",
              "        1.86565876e-06, 1.66665632e-06, 2.37390333e-11, 3.89865418e-05,\n",
              "        1.31960661e-07, 9.99957204e-01],\n",
              "       [9.99989867e-01, 8.33840850e-14, 2.49320720e-11, 4.48393730e-14,\n",
              "        4.21993135e-11, 3.05065584e-10, 1.12810552e-08, 8.08862737e-08,\n",
              "        5.04387461e-12, 1.00131856e-05],\n",
              "       [6.57967639e-11, 9.99855042e-01, 3.42660519e-06, 2.55778701e-07,\n",
              "        1.10456675e-07, 5.82328994e-06, 1.70157443e-06, 1.42624986e-05,\n",
              "        1.15613475e-04, 3.69792701e-06],\n",
              "       [5.32001776e-09, 1.12677424e-06, 4.34631283e-06, 1.27648484e-04,\n",
              "        1.27758383e-07, 9.96971011e-01, 2.62725470e-03, 2.45161618e-06,\n",
              "        2.65949930e-04, 6.36757065e-08],\n",
              "       [5.52847546e-10, 1.21406791e-13, 7.45197042e-07, 2.06250785e-08,\n",
              "        6.64403899e-07, 5.97632237e-08, 3.87378879e-11, 4.93575027e-03,\n",
              "        1.10371923e-09, 9.95062768e-01],\n",
              "       [7.92001725e-15, 9.72584803e-17, 8.86124155e-07, 2.42959853e-04,\n",
              "        3.52439387e-23, 3.29464130e-11, 5.96550509e-19, 9.99756157e-01,\n",
              "        1.77290216e-13, 5.22285210e-12],\n",
              "       [1.03616404e-11, 1.54233632e-07, 7.49329687e-04, 9.96461451e-01,\n",
              "        1.10656892e-07, 2.67199812e-05, 1.24111233e-04, 6.44187592e-09,\n",
              "        2.63815373e-03, 3.30333840e-08],\n",
              "       [3.10625108e-14, 7.72789957e-11, 1.23146882e-10, 1.35440145e-10,\n",
              "        9.99997020e-01, 7.40263739e-10, 1.79269280e-10, 9.95837413e-10,\n",
              "        1.69102921e-09, 2.92741652e-06],\n",
              "       [1.15385713e-11, 1.14767688e-10, 1.41231089e-13, 1.44201906e-07,\n",
              "        9.69956488e-08, 1.45559609e-08, 4.80281810e-14, 4.49735875e-04,\n",
              "        1.51345638e-08, 9.99549925e-01],\n",
              "       [1.34811400e-12, 2.62293269e-12, 2.36718405e-11, 4.41286107e-14,\n",
              "        1.58417664e-04, 8.79820277e-07, 9.99840736e-01, 1.79784268e-14,\n",
              "        2.19378844e-08, 3.15506593e-10],\n",
              "       [1.68171599e-09, 2.20481994e-07, 4.65367194e-08, 1.09388254e-11,\n",
              "        1.21681830e-02, 6.17442417e-11, 9.87831414e-01, 1.58983848e-08,\n",
              "        6.13654372e-09, 7.76553861e-08],\n",
              "       [1.22514651e-10, 2.90246299e-10, 7.00063098e-12, 3.04503478e-10,\n",
              "        4.67534733e-10, 9.99999642e-01, 4.21485495e-08, 1.13083828e-14,\n",
              "        3.84545245e-07, 1.18022037e-10],\n",
              "       [1.12113487e-11, 6.87016595e-08, 3.52506731e-06, 9.89407667e-08,\n",
              "        9.99578178e-01, 2.34474360e-08, 2.06458196e-07, 6.12704207e-06,\n",
              "        4.38338077e-09, 4.11767396e-04],\n",
              "       [1.00000000e+00, 7.80957654e-16, 4.15571089e-09, 6.66192726e-21,\n",
              "        1.60652176e-15, 2.74519209e-12, 2.30388730e-09, 9.90311614e-17,\n",
              "        1.90566272e-13, 6.71485229e-11],\n",
              "       [1.14241970e-10, 4.72707029e-09, 8.04901629e-06, 2.56535495e-05,\n",
              "        1.99218723e-12, 4.85862861e-09, 4.48487357e-13, 9.99934912e-01,\n",
              "        4.43390284e-08, 3.12505254e-05],\n",
              "       [1.27350742e-16, 4.68043979e-15, 3.36101508e-13, 8.41693387e-14,\n",
              "        9.99999881e-01, 2.18345828e-12, 2.04876584e-11, 8.68923463e-14,\n",
              "        6.04453553e-14, 1.34803642e-07],\n",
              "       [9.99996066e-01, 9.43555347e-13, 1.14247666e-06, 3.75979647e-09,\n",
              "        6.18151643e-15, 9.42338829e-07, 4.64618982e-10, 1.23624636e-06,\n",
              "        1.59001243e-10, 5.48661092e-07],\n",
              "       [1.09761956e-11, 9.99559700e-01, 9.27939709e-06, 3.66883739e-07,\n",
              "        3.61469545e-04, 4.87861689e-06, 1.89317198e-05, 2.02469710e-05,\n",
              "        2.45192878e-05, 6.79754578e-07],\n",
              "       [1.98134686e-15, 2.94428648e-11, 1.65592279e-11, 9.99996185e-01,\n",
              "        4.18330938e-15, 3.46031788e-06, 7.94918517e-17, 6.01301338e-08,\n",
              "        4.15126644e-09, 2.16311733e-07],\n",
              "       [8.85830687e-10, 9.98544335e-01, 3.08076305e-05, 2.69866359e-05,\n",
              "        3.02663626e-04, 1.28246669e-04, 1.04013288e-05, 4.19546297e-04,\n",
              "        4.55504865e-04, 8.16261381e-05],\n",
              "       [3.12573091e-17, 7.61647273e-11, 9.21391574e-10, 9.99936819e-01,\n",
              "        6.42577380e-11, 6.30285431e-05, 2.97829036e-13, 8.70732739e-12,\n",
              "        9.04776698e-08, 9.32453670e-10],\n",
              "       [1.53320452e-05, 1.05910463e-11, 6.34736068e-07, 1.79020117e-15,\n",
              "        9.85303402e-01, 8.87241924e-09, 1.46805998e-02, 7.90884665e-13,\n",
              "        9.36779408e-14, 1.30171629e-09],\n",
              "       [1.21088914e-12, 1.21182384e-10, 4.04466991e-05, 2.18887799e-05,\n",
              "        3.02387255e-17, 5.14518948e-11, 2.52666794e-15, 9.99937654e-01,\n",
              "        3.12041664e-08, 9.44669054e-09],\n",
              "       [4.91753660e-15, 2.56044101e-12, 1.00000000e+00, 7.33096038e-13,\n",
              "        4.04993961e-20, 2.35198206e-16, 2.52737149e-14, 1.77361012e-15,\n",
              "        9.84572040e-15, 7.48205378e-17],\n",
              "       [1.27830441e-10, 4.79105067e-09, 9.12651479e-01, 1.65233665e-04,\n",
              "        4.79747509e-18, 7.96881894e-10, 7.83675899e-15, 8.71831551e-02,\n",
              "        3.13512878e-08, 7.72217987e-08],\n",
              "       [3.61595684e-11, 9.99784291e-01, 9.73061560e-07, 6.59803447e-08,\n",
              "        8.31349462e-05, 9.40844984e-06, 3.03613933e-06, 6.09752788e-05,\n",
              "        5.18881097e-05, 6.32308002e-06],\n",
              "       [7.64817305e-05, 9.69759480e-04, 9.98911262e-01, 2.73358110e-05,\n",
              "        6.66343286e-15, 4.92779918e-07, 4.09067161e-06, 8.35695460e-08,\n",
              "        1.06405614e-05, 2.73608024e-12],\n",
              "       [4.25748409e-10, 9.99830961e-01, 6.46832490e-08, 5.90806026e-09,\n",
              "        2.54382689e-06, 3.63706420e-07, 1.49358880e-06, 8.56197403e-06,\n",
              "        1.48128602e-04, 7.88700618e-06],\n",
              "       [2.52575575e-07, 9.88811255e-01, 6.31660339e-04, 1.06097050e-05,\n",
              "        3.53112409e-04, 1.93507716e-04, 4.34945221e-04, 9.08042956e-03,\n",
              "        3.00588261e-04, 1.83592128e-04],\n",
              "       [9.29178783e-12, 1.82800378e-07, 3.48545164e-02, 2.16317756e-04,\n",
              "        3.64294810e-14, 5.39700995e-09, 9.21534116e-13, 9.64914739e-01,\n",
              "        2.53777221e-09, 1.41551991e-05],\n",
              "       [8.60162223e-16, 2.04375361e-09, 9.96882088e-14, 4.18121836e-13,\n",
              "        9.99996662e-01, 7.35381916e-13, 2.01917941e-10, 3.17479210e-10,\n",
              "        8.39223691e-10, 3.29086379e-06],\n",
              "       [3.05315166e-06, 3.82404338e-04, 9.95427012e-01, 1.75008006e-06,\n",
              "        1.93858170e-04, 3.32236732e-06, 3.52936587e-03, 1.77363495e-06,\n",
              "        4.57549759e-04, 1.90455829e-09],\n",
              "       [3.16266041e-11, 1.30624740e-05, 1.10373308e-04, 9.81704950e-01,\n",
              "        8.26095459e-08, 1.81380883e-02, 1.46275468e-07, 6.42585110e-06,\n",
              "        1.72985222e-06, 2.51673919e-05],\n",
              "       [1.36832611e-07, 1.14619514e-09, 2.17290456e-11, 3.03673566e-08,\n",
              "        2.82542834e-09, 9.99970198e-01, 9.73764713e-08, 2.06890949e-10,\n",
              "        2.94527217e-05, 9.55967323e-08],\n",
              "       [1.12854489e-13, 9.98542190e-01, 4.75155684e-05, 1.71020074e-04,\n",
              "        4.11578832e-04, 3.33036114e-05, 2.30230330e-06, 1.83637383e-06,\n",
              "        6.77195902e-04, 1.13024427e-04],\n",
              "       [3.74507893e-14, 7.43455297e-10, 1.00000000e+00, 3.83523560e-11,\n",
              "        1.06005996e-10, 1.51493699e-13, 7.24888416e-09, 1.62920316e-14,\n",
              "        1.06597224e-10, 1.09212650e-12],\n",
              "       [1.66045529e-14, 1.17612569e-11, 5.50087590e-13, 2.60047178e-10,\n",
              "        9.55492318e-01, 9.94653915e-10, 4.21353517e-13, 9.43144243e-11,\n",
              "        1.70619160e-07, 4.45075296e-02],\n",
              "       [1.13363615e-12, 4.76465221e-13, 7.81011106e-12, 3.09327732e-13,\n",
              "        9.99997735e-01, 2.46747692e-11, 1.62473452e-06, 1.24045685e-09,\n",
              "        1.33009888e-11, 5.91670357e-07],\n",
              "       [3.65729456e-08, 1.14902289e-11, 5.05812649e-11, 2.02360322e-14,\n",
              "        7.68001271e-08, 7.97537905e-06, 9.99991894e-01, 5.93860644e-15,\n",
              "        1.69591488e-08, 1.67268907e-11],\n",
              "       [4.83569745e-18, 1.68387649e-16, 2.58792727e-11, 1.00000000e+00,\n",
              "        4.66601334e-17, 7.05339120e-11, 2.78591836e-16, 6.55415555e-13,\n",
              "        2.62819128e-10, 1.21666230e-12],\n",
              "       [1.34808331e-10, 9.95025840e-10, 3.51808223e-14, 3.68969255e-09,\n",
              "        2.10206696e-09, 1.00000000e+00, 1.70400694e-10, 8.50562416e-12,\n",
              "        4.24821200e-09, 1.74848447e-09],\n",
              "       [1.15416754e-09, 2.30106534e-09, 1.59400160e-09, 4.00358203e-06,\n",
              "        1.77354632e-05, 9.99596536e-01, 3.65366694e-04, 6.81216079e-08,\n",
              "        1.56363167e-05, 6.79336949e-07],\n",
              "       [6.28998520e-11, 3.56614377e-10, 8.53536825e-11, 8.94842531e-17,\n",
              "        1.18842571e-07, 1.20034961e-12, 9.99999881e-01, 6.31428651e-16,\n",
              "        1.74823853e-08, 6.41984440e-15],\n",
              "       [9.99985814e-01, 2.51290655e-10, 8.61030802e-09, 3.79203995e-11,\n",
              "        4.11630552e-08, 5.81332813e-07, 2.08525057e-06, 4.38318004e-08,\n",
              "        5.33953653e-07, 1.09193588e-05],\n",
              "       [2.48638133e-21, 3.24768562e-18, 1.18489404e-18, 3.68391284e-20,\n",
              "        1.00000000e+00, 1.11785543e-15, 1.18682245e-12, 1.83869727e-17,\n",
              "        1.06448172e-16, 4.47074832e-13],\n",
              "       [1.53229107e-09, 9.99806702e-01, 4.83852602e-07, 1.25859101e-08,\n",
              "        7.25274867e-06, 1.54775091e-08, 2.12457053e-06, 1.80042101e-04,\n",
              "        2.38153575e-06, 9.42186375e-07],\n",
              "       [9.56594613e-13, 4.47196228e-14, 3.23380300e-09, 1.43925440e-08,\n",
              "        2.17329034e-06, 1.31234913e-07, 7.17107406e-12, 1.55028538e-05,\n",
              "        5.59736657e-09, 9.99982119e-01],\n",
              "       [6.10287570e-05, 4.09158936e-04, 8.42040127e-09, 1.30263779e-05,\n",
              "        9.57484099e-06, 9.40893352e-01, 2.32814364e-05, 5.72448112e-02,\n",
              "        1.32703932e-03, 1.87135465e-05],\n",
              "       [7.56172782e-17, 1.00647973e-12, 7.61676500e-09, 3.69219571e-01,\n",
              "        1.54766353e-17, 4.46837845e-11, 1.55510253e-17, 6.30780458e-01,\n",
              "        2.66712474e-09, 9.77903314e-10],\n",
              "       [8.33902686e-06, 1.15301553e-11, 5.80960768e-05, 2.83891177e-09,\n",
              "        9.47001366e-10, 3.93953035e-03, 8.00873323e-08, 9.51992973e-09,\n",
              "        9.95993853e-01, 6.52771703e-08],\n",
              "       [1.11630707e-05, 4.01050056e-06, 1.49772037e-03, 2.30794540e-05,\n",
              "        1.16259493e-02, 6.20450795e-01, 2.93562451e-04, 2.15267227e-03,\n",
              "        1.74472835e-02, 3.46493781e-01],\n",
              "       [3.88604990e-12, 1.91527516e-10, 1.57387624e-03, 9.98416543e-01,\n",
              "        4.36534462e-13, 1.94749973e-07, 2.42527556e-14, 1.05359081e-08,\n",
              "        1.17064465e-08, 9.21551327e-06],\n",
              "       [3.43371931e-15, 4.13009983e-16, 1.16139054e-05, 1.14999935e-02,\n",
              "        2.45143532e-13, 2.17700400e-08, 3.28208884e-11, 9.88400102e-01,\n",
              "        8.82784298e-05, 1.31514757e-10],\n",
              "       [1.12297983e-10, 1.19868746e-05, 6.03797512e-10, 9.93375870e-05,\n",
              "        9.05785978e-01, 3.59951555e-05, 1.46662174e-07, 8.38255119e-07,\n",
              "        4.63109100e-05, 9.40195099e-02],\n",
              "       [2.57199781e-06, 2.37672367e-07, 2.95891914e-05, 3.01341480e-10,\n",
              "        3.17986065e-04, 9.40466180e-07, 9.99628186e-01, 2.79349388e-06,\n",
              "        1.67231315e-06, 1.60336640e-05],\n",
              "       [5.33435275e-13, 6.11070569e-11, 9.00969188e-10, 7.50843068e-11,\n",
              "        9.99993205e-01, 1.21927787e-10, 3.45450890e-11, 6.90459800e-10,\n",
              "        1.57962304e-12, 6.80659605e-06],\n",
              "       [1.58566167e-15, 7.00647710e-13, 9.55340518e-09, 9.99751508e-01,\n",
              "        1.37451153e-13, 1.75831104e-07, 1.01094610e-15, 6.48445520e-10,\n",
              "        2.47969059e-04, 3.67186232e-07],\n",
              "       [9.99995947e-01, 1.13259298e-11, 2.37227005e-06, 1.35727340e-13,\n",
              "        5.98828181e-18, 1.71854617e-06, 3.96142230e-09, 1.51406283e-11,\n",
              "        1.22410057e-13, 1.12551621e-08],\n",
              "       [6.79169864e-16, 1.00645825e-16, 2.06808394e-07, 2.76749488e-05,\n",
              "        8.03959861e-24, 1.80169830e-13, 1.98891313e-19, 9.99972105e-01,\n",
              "        4.77162153e-14, 1.59930717e-12],\n",
              "       [1.00000000e+00, 4.90799773e-15, 1.61768984e-11, 1.82999152e-18,\n",
              "        1.16118466e-15, 3.52305289e-13, 5.10136555e-09, 4.35305584e-16,\n",
              "        4.11283094e-16, 2.21623542e-09],\n",
              "       [3.07459006e-12, 1.50717845e-15, 9.99999166e-01, 8.66339406e-07,\n",
              "        1.03724886e-20, 3.08785692e-14, 3.72830869e-16, 1.54911500e-12,\n",
              "        5.06033322e-15, 1.24238041e-14],\n",
              "       [9.72632179e-08, 8.94092409e-06, 1.21472652e-07, 3.70009673e-07,\n",
              "        2.63229133e-10, 1.74073890e-07, 1.02471573e-10, 9.23179276e-03,\n",
              "        1.02191453e-03, 9.89736676e-01],\n",
              "       [1.82992413e-10, 9.99598682e-01, 3.04743168e-07, 1.32997844e-08,\n",
              "        6.69572764e-05, 2.98580871e-05, 5.39319353e-06, 1.19875433e-04,\n",
              "        1.50872991e-04, 2.79595552e-05],\n",
              "       [1.61128073e-16, 2.59749933e-09, 3.13525675e-07, 2.63270726e-06,\n",
              "        1.16311849e-10, 1.19932198e-09, 5.31330145e-12, 9.99845624e-01,\n",
              "        1.51341927e-04, 1.12354757e-08],\n",
              "       [2.10687696e-12, 3.37691176e-07, 3.97367117e-08, 9.99649525e-01,\n",
              "        3.24725602e-09, 2.78742751e-04, 3.23292310e-10, 1.73665626e-09,\n",
              "        5.76153179e-05, 1.37633670e-05],\n",
              "       [2.47873445e-13, 4.41431602e-09, 9.99999881e-01, 4.30547320e-10,\n",
              "        1.89453870e-18, 3.42446747e-14, 1.44993197e-12, 1.28993904e-07,\n",
              "        8.75219764e-13, 6.52194243e-10],\n",
              "       [3.14576559e-11, 7.95506594e-07, 1.11036569e-10, 2.08799747e-07,\n",
              "        6.19029233e-05, 2.52765417e-08, 3.35404882e-09, 3.11839103e-05,\n",
              "        2.97099032e-05, 9.99876142e-01],\n",
              "       [1.67384759e-10, 1.06072495e-09, 2.00172257e-09, 3.08887182e-09,\n",
              "        1.37485316e-15, 1.41065258e-11, 2.15540408e-14, 9.99999046e-01,\n",
              "        3.52885422e-07, 6.13025065e-07],\n",
              "       [1.41449602e-10, 3.12030647e-06, 2.34859812e-07, 9.12772011e-05,\n",
              "        9.70404017e-06, 1.83437805e-05, 5.44796187e-11, 4.99967098e-01,\n",
              "        7.94619098e-07, 4.99909401e-01],\n",
              "       [8.72792327e-09, 2.75949055e-12, 3.57662273e-08, 1.71090160e-16,\n",
              "        3.31837754e-07, 4.03583954e-06, 9.99995589e-01, 5.03506048e-12,\n",
              "        2.04199413e-09, 2.18852002e-11],\n",
              "       [3.76625854e-19, 2.71070958e-17, 1.00000000e+00, 2.99136504e-15,\n",
              "        1.35023342e-23, 7.08490987e-20, 3.87456310e-19, 1.18266324e-18,\n",
              "        1.04391669e-16, 1.95816883e-20],\n",
              "       [1.52231645e-12, 1.35834988e-09, 2.21480661e-07, 5.44666318e-06,\n",
              "        6.58147634e-11, 1.25515749e-08, 1.25508002e-13, 9.99800503e-01,\n",
              "        9.85331017e-09, 1.93737826e-04],\n",
              "       [7.86250454e-10, 1.42451991e-05, 3.44879503e-08, 2.56974747e-10,\n",
              "        1.80908853e-06, 6.42264865e-07, 1.31064257e-06, 5.89741797e-11,\n",
              "        9.99949813e-01, 3.21378939e-05],\n",
              "       [1.78341877e-17, 2.46048678e-13, 1.27535011e-16, 2.76278473e-15,\n",
              "        1.00000000e+00, 1.48051818e-13, 2.71905870e-12, 9.24161565e-15,\n",
              "        6.71014078e-11, 6.45646814e-10],\n",
              "       [1.01262069e-17, 4.80489433e-12, 8.33340674e-10, 2.58523009e-10,\n",
              "        2.54373672e-18, 5.05281038e-13, 1.07589968e-17, 1.00000000e+00,\n",
              "        5.38842138e-10, 2.03376294e-09],\n",
              "       [2.68292434e-14, 8.50190474e-11, 9.53892823e-08, 9.99747097e-01,\n",
              "        5.71407699e-10, 2.47519783e-04, 3.99198524e-13, 5.22934488e-06,\n",
              "        3.55031515e-09, 5.60869173e-09],\n",
              "       [1.33360298e-15, 2.07583296e-15, 1.56395716e-10, 1.08442401e-20,\n",
              "        3.18658954e-06, 9.29489341e-13, 9.99996781e-01, 7.46589332e-17,\n",
              "        9.16704795e-14, 7.05862572e-16],\n",
              "       [1.21293128e-10, 9.99992847e-01, 6.10477287e-08, 6.20996518e-11,\n",
              "        4.38293091e-06, 4.11898460e-10, 1.73726528e-06, 1.60578779e-07,\n",
              "        7.64192237e-07, 8.21889685e-08],\n",
              "       [1.93912438e-11, 1.04834519e-09, 7.28410976e-09, 9.99995351e-01,\n",
              "        6.89108313e-15, 1.03012997e-06, 4.60530490e-16, 1.21714606e-07,\n",
              "        4.18333705e-08, 3.40718111e-06],\n",
              "       [8.82510685e-14, 3.41834444e-14, 7.02584432e-12, 1.21979064e-17,\n",
              "        5.91008757e-07, 6.75534606e-09, 9.99999404e-01, 4.07660573e-16,\n",
              "        4.19892003e-11, 1.93829815e-13],\n",
              "       [2.97291137e-07, 7.77417517e-05, 1.88133515e-06, 2.46232321e-05,\n",
              "        1.37411393e-02, 1.19215096e-04, 1.63430250e-05, 1.74277709e-04,\n",
              "        5.44895325e-03, 9.80395496e-01],\n",
              "       [2.62049670e-12, 7.52056284e-09, 1.89706820e-10, 9.99621153e-01,\n",
              "        5.06590619e-14, 9.02034808e-05, 1.16842531e-16, 4.39097683e-08,\n",
              "        4.01064170e-07, 2.88271229e-04],\n",
              "       [3.62548208e-13, 9.98764277e-01, 2.96289159e-06, 7.67249730e-09,\n",
              "        1.60940224e-04, 9.62522222e-07, 3.36020385e-05, 2.95788283e-08,\n",
              "        1.03542197e-03, 1.80579127e-06],\n",
              "       [2.42728433e-08, 1.92894423e-10, 1.67335742e-07, 8.94497931e-12,\n",
              "        9.98430789e-01, 1.28793642e-08, 3.15515899e-05, 4.65789318e-09,\n",
              "        1.46003104e-05, 1.52289483e-03],\n",
              "       [5.77788303e-11, 9.55125690e-01, 1.72982491e-05, 8.94609140e-04,\n",
              "        3.05955447e-02, 4.19793825e-04, 1.25709857e-05, 2.50796718e-03,\n",
              "        4.72649699e-03, 5.70004480e-03],\n",
              "       [3.50016195e-16, 5.15174743e-11, 4.71459714e-07, 2.66182673e-04,\n",
              "        9.65254330e-08, 3.94548536e-08, 1.30836444e-08, 9.48930800e-01,\n",
              "        5.08024134e-02, 8.97097241e-09],\n",
              "       [6.38902179e-07, 2.49553656e-10, 1.25604640e-06, 8.13816411e-20,\n",
              "        8.57350901e-09, 3.98174969e-08, 9.99998093e-01, 1.97582479e-16,\n",
              "        6.95955515e-10, 6.84081833e-14],\n",
              "       [2.54906836e-15, 9.97156196e-16, 5.99532735e-09, 7.93989852e-09,\n",
              "        7.34875361e-09, 3.14711365e-12, 6.49136167e-14, 1.34727170e-05,\n",
              "        3.93582701e-11, 9.99986529e-01]], dtype=float32)"
            ]
          },
          "metadata": {},
          "execution_count": 15
        }
      ]
    }
  ]
}