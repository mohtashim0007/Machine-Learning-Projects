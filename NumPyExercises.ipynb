{
  "nbformat": 4,
  "nbformat_minor": 0,
  "metadata": {
    "colab": {
      "name": "NumPyExercises.ipynb",
      "provenance": [],
      "authorship_tag": "ABX9TyM4LOxqgsk6+LUmqg39s9gS",
      "include_colab_link": true
    },
    "kernelspec": {
      "name": "python3",
      "display_name": "Python 3"
    },
    "language_info": {
      "name": "python"
    }
  },
  "cells": [
    {
      "cell_type": "markdown",
      "metadata": {
        "id": "view-in-github",
        "colab_type": "text"
      },
      "source": [
        "<a href=\"https://colab.research.google.com/github/mohtashim0007/Machine-Learning-Projects/blob/main/NumPyExercises.ipynb\" target=\"_parent\"><img src=\"https://colab.research.google.com/assets/colab-badge.svg\" alt=\"Open In Colab\"/></a>"
      ]
    },
    {
      "cell_type": "code",
      "metadata": {
        "id": "71OB_HjkV4Ly"
      },
      "source": [
        ""
      ],
      "execution_count": null,
      "outputs": []
    },
    {
      "cell_type": "markdown",
      "metadata": {
        "id": "jqkXfgsMWGjb"
      },
      "source": [
        "Creating arrays \n"
      ]
    },
    {
      "cell_type": "code",
      "metadata": {
        "id": "N2RB2lY5YbLP"
      },
      "source": [
        "import numpy as np"
      ],
      "execution_count": 1,
      "outputs": []
    },
    {
      "cell_type": "code",
      "metadata": {
        "colab": {
          "base_uri": "https://localhost:8080/"
        },
        "id": "j2Cfh2N9Ye51",
        "outputId": "a8281686-7378-4875-93a7-8c7bf9aa11c1"
      },
      "source": [
        "arr = np.array([[2,5,1],[2,4,7]])\n",
        "print(arr)"
      ],
      "execution_count": 2,
      "outputs": [
        {
          "output_type": "stream",
          "name": "stdout",
          "text": [
            "[[2 5 1]\n",
            " [2 4 7]]\n"
          ]
        }
      ]
    },
    {
      "cell_type": "markdown",
      "metadata": {
        "id": "erhSQJA_ZGok"
      },
      "source": [
        "Iteration over array like c"
      ]
    },
    {
      "cell_type": "code",
      "metadata": {
        "colab": {
          "base_uri": "https://localhost:8080/"
        },
        "id": "CP6ehdpwYxmW",
        "outputId": "c5228753-2c41-4a9e-dea0-2c8255dd71d2"
      },
      "source": [
        "for row in arr:\n",
        "  for el in row:\n",
        "    print(el)"
      ],
      "execution_count": 3,
      "outputs": [
        {
          "output_type": "stream",
          "name": "stdout",
          "text": [
            "2\n",
            "5\n",
            "1\n",
            "2\n",
            "4\n",
            "7\n"
          ]
        }
      ]
    },
    {
      "cell_type": "markdown",
      "metadata": {
        "id": "reXRUW45ZX6t"
      },
      "source": [
        "Iteration over array in terms of indexs"
      ]
    },
    {
      "cell_type": "code",
      "metadata": {
        "colab": {
          "base_uri": "https://localhost:8080/"
        },
        "id": "lzBWyTAZZdHb",
        "outputId": "d45d5119-af1e-469e-81ba-4b2d327dcb39"
      },
      "source": [
        "i,j = arr.shape\n",
        "print(i,j)"
      ],
      "execution_count": 4,
      "outputs": [
        {
          "output_type": "stream",
          "name": "stdout",
          "text": [
            "2 3\n"
          ]
        }
      ]
    },
    {
      "cell_type": "code",
      "metadata": {
        "colab": {
          "base_uri": "https://localhost:8080/"
        },
        "id": "SQrVzYWzZkn_",
        "outputId": "2d5ef158-83ef-478c-d7fa-3f897d51494c"
      },
      "source": [
        "for rowi in range(i):\n",
        "  for rowj in range(j):\n",
        "    print(arr[rowi][rowj])"
      ],
      "execution_count": 5,
      "outputs": [
        {
          "output_type": "stream",
          "name": "stdout",
          "text": [
            "2\n",
            "5\n",
            "1\n",
            "2\n",
            "4\n",
            "7\n"
          ]
        }
      ]
    },
    {
      "cell_type": "markdown",
      "metadata": {
        "id": "yBEizRbjjcbt"
      },
      "source": [
        "Sum of numbers in coulumnwise and row wise\n"
      ]
    },
    {
      "cell_type": "code",
      "metadata": {
        "colab": {
          "base_uri": "https://localhost:8080/"
        },
        "id": "HfBzDYcQZywr",
        "outputId": "57441b8e-4233-43ce-ec17-3a93d25b729c"
      },
      "source": [
        "print(arr.sum(axis=0))\n",
        "print(arr.sum(axis=1))"
      ],
      "execution_count": 6,
      "outputs": [
        {
          "output_type": "stream",
          "name": "stdout",
          "text": [
            "[4 9 8]\n",
            "[ 8 13]\n"
          ]
        }
      ]
    },
    {
      "cell_type": "markdown",
      "metadata": {
        "id": "Y7Z_6lovju9W"
      },
      "source": [
        "Array with different datatypes\n"
      ]
    },
    {
      "cell_type": "code",
      "metadata": {
        "colab": {
          "base_uri": "https://localhost:8080/"
        },
        "id": "Qu-k5dmeaoBy",
        "outputId": "1d925ab6-23d9-4915-b1ad-4f52bb9394cb"
      },
      "source": [
        "arr2 = np.array([[1,2,'str'],['sw',2,3]])\n",
        "print(arr2)\n",
        "print(type(arr2))\n",
        "print(arr2.dtype)"
      ],
      "execution_count": 7,
      "outputs": [
        {
          "output_type": "stream",
          "name": "stdout",
          "text": [
            "[['1' '2' 'str']\n",
            " ['sw' '2' '3']]\n",
            "<class 'numpy.ndarray'>\n",
            "<U21\n"
          ]
        }
      ]
    },
    {
      "cell_type": "markdown",
      "metadata": {
        "id": "AEowFyL8jy1N"
      },
      "source": [
        "Arrange numbers using arrange and linspace"
      ]
    },
    {
      "cell_type": "code",
      "metadata": {
        "colab": {
          "base_uri": "https://localhost:8080/"
        },
        "id": "bU-p6ZS_iDNg",
        "outputId": "86bc631c-6597-4d6a-9f96-d9ded9064087"
      },
      "source": [
        "arr3 = np.arange(5,0,-2)\n",
        "print(arr3)"
      ],
      "execution_count": 8,
      "outputs": [
        {
          "output_type": "stream",
          "name": "stdout",
          "text": [
            "[5 3 1]\n"
          ]
        }
      ]
    },
    {
      "cell_type": "code",
      "metadata": {
        "colab": {
          "base_uri": "https://localhost:8080/"
        },
        "id": "Y-9aB8sTjKhH",
        "outputId": "98c9a7b3-59d9-48f7-82a2-6e3a5a36fb38"
      },
      "source": [
        "arr4 = np.linspace(2,10,4, dtype=int)\n",
        "print(arr4)"
      ],
      "execution_count": 9,
      "outputs": [
        {
          "output_type": "stream",
          "name": "stdout",
          "text": [
            "[ 2  4  7 10]\n"
          ]
        }
      ]
    },
    {
      "cell_type": "markdown",
      "metadata": {
        "id": "JUVquDshl_l8"
      },
      "source": [
        "Initializing arrays with empty, ones and zeros"
      ]
    },
    {
      "cell_type": "code",
      "metadata": {
        "id": "M-wvA83Rk1SD"
      },
      "source": [
        "arr5 = np.empty([2,2])\n",
        "arr6 = np.ones([2,5])\n",
        "arr7 = np.zeros([3,5])"
      ],
      "execution_count": 10,
      "outputs": []
    },
    {
      "cell_type": "markdown",
      "metadata": {
        "id": "GuIPHFDlmMRO"
      },
      "source": [
        "Initialize array as ones on diagonal"
      ]
    },
    {
      "cell_type": "code",
      "metadata": {
        "colab": {
          "base_uri": "https://localhost:8080/"
        },
        "id": "uik2VEKUmRN_",
        "outputId": "62be3bcd-70ee-494b-d295-af45cbe52f9a"
      },
      "source": [
        "arr8 = np.eye(2,2)\n",
        "print(arr8)"
      ],
      "execution_count": 11,
      "outputs": [
        {
          "output_type": "stream",
          "name": "stdout",
          "text": [
            "[[1. 0.]\n",
            " [0. 1.]]\n"
          ]
        }
      ]
    },
    {
      "cell_type": "markdown",
      "metadata": {
        "id": "LvYTYwl_mugj"
      },
      "source": [
        "Initialize array as identity\n"
      ]
    },
    {
      "cell_type": "code",
      "metadata": {
        "colab": {
          "base_uri": "https://localhost:8080/"
        },
        "id": "UJsdHVJGmyFg",
        "outputId": "3aaf02f9-c242-4136-addd-d59cffd830bf"
      },
      "source": [
        "arr9 = np.identity(5)\n",
        "print(arr9)"
      ],
      "execution_count": 12,
      "outputs": [
        {
          "output_type": "stream",
          "name": "stdout",
          "text": [
            "[[1. 0. 0. 0. 0.]\n",
            " [0. 1. 0. 0. 0.]\n",
            " [0. 0. 1. 0. 0.]\n",
            " [0. 0. 0. 1. 0.]\n",
            " [0. 0. 0. 0. 1.]]\n"
          ]
        }
      ]
    },
    {
      "cell_type": "markdown",
      "metadata": {
        "id": "uLl7KCoOmxOG"
      },
      "source": [
        "copy and view"
      ]
    },
    {
      "cell_type": "code",
      "metadata": {
        "colab": {
          "base_uri": "https://localhost:8080/"
        },
        "id": "b27pcB3gp7bR",
        "outputId": "cf987282-67d4-42fc-b8fd-c95250efabbb"
      },
      "source": [
        "arr = np.arange(2,10)\n",
        "print(arr)\n",
        "arr2 = arr.copy()\n",
        "print(id(arr2))\n",
        "arr3 = arr.view()\n",
        "print(id(arr3))\n",
        "print(id(arr))"
      ],
      "execution_count": 13,
      "outputs": [
        {
          "output_type": "stream",
          "name": "stdout",
          "text": [
            "[2 3 4 5 6 7 8 9]\n",
            "140155992239152\n",
            "140156053797552\n",
            "140155992239536\n"
          ]
        }
      ]
    },
    {
      "cell_type": "markdown",
      "metadata": {
        "id": "tfTimZKJqdyO"
      },
      "source": [
        "appending values "
      ]
    },
    {
      "cell_type": "code",
      "metadata": {
        "colab": {
          "base_uri": "https://localhost:8080/"
        },
        "id": "X3-2JgllqgCa",
        "outputId": "85588100-8a86-4fc3-e7cc-7151489a785a"
      },
      "source": [
        "arr1 = np.append(arr,[2,4])\n",
        "print(arr1)\n",
        "print(np.append(arr,arr1))\n",
        "\n",
        "#2d append\n",
        "\n",
        "arr = np.arange(10).reshape(2,5)\n",
        "print(arr)\n",
        "arr2 = np.arange(10,20).reshape(2,5)\n",
        "print(arr2)\n",
        "\n",
        "print(np.append(arr,arr2,axis=0))"
      ],
      "execution_count": 14,
      "outputs": [
        {
          "output_type": "stream",
          "name": "stdout",
          "text": [
            "[2 3 4 5 6 7 8 9 2 4]\n",
            "[2 3 4 5 6 7 8 9 2 3 4 5 6 7 8 9 2 4]\n",
            "[[0 1 2 3 4]\n",
            " [5 6 7 8 9]]\n",
            "[[10 11 12 13 14]\n",
            " [15 16 17 18 19]]\n",
            "[[ 0  1  2  3  4]\n",
            " [ 5  6  7  8  9]\n",
            " [10 11 12 13 14]\n",
            " [15 16 17 18 19]]\n"
          ]
        }
      ]
    },
    {
      "cell_type": "code",
      "metadata": {
        "colab": {
          "base_uri": "https://localhost:8080/"
        },
        "id": "zAnibXiYPSg0",
        "outputId": "3454d052-af5e-4fcf-ce23-84f24bbad5f6"
      },
      "source": [
        "arr = np.linspace(1,7,4,dtype=int).reshape(2,2)\n",
        "arr2 = np.linspace(10,17,4,dtype=int).reshape(2,2)\n",
        "print(arr)\n",
        "print(arr2)"
      ],
      "execution_count": 15,
      "outputs": [
        {
          "output_type": "stream",
          "name": "stdout",
          "text": [
            "[[1 3]\n",
            " [5 7]]\n",
            "[[10 12]\n",
            " [14 17]]\n"
          ]
        }
      ]
    },
    {
      "cell_type": "code",
      "metadata": {
        "colab": {
          "base_uri": "https://localhost:8080/"
        },
        "id": "5lwAVbx6PiYw",
        "outputId": "3de27275-ab82-4790-9f5e-badd0e4154f7"
      },
      "source": [
        "print(np.dot(arr,arr2))"
      ],
      "execution_count": 16,
      "outputs": [
        {
          "output_type": "stream",
          "name": "stdout",
          "text": [
            "[[ 52  63]\n",
            " [148 179]]\n"
          ]
        }
      ]
    }
  ]
}