{
  "nbformat": 4,
  "nbformat_minor": 0,
  "metadata": {
    "colab": {
      "name": "ObjectClassificationCNN.ipynb",
      "provenance": [],
      "collapsed_sections": [],
      "authorship_tag": "ABX9TyNJflsvmHNLeICQx+y2As/j",
      "include_colab_link": true
    },
    "kernelspec": {
      "display_name": "Python 3",
      "name": "python3"
    },
    "language_info": {
      "name": "python"
    },
    "accelerator": "GPU"
  },
  "cells": [
    {
      "cell_type": "markdown",
      "metadata": {
        "id": "view-in-github",
        "colab_type": "text"
      },
      "source": [
        "<a href=\"https://colab.research.google.com/github/mohtashim0007/Machine-Learning-Projects/blob/main/ObjectClassificationCNN.ipynb\" target=\"_parent\"><img src=\"https://colab.research.google.com/assets/colab-badge.svg\" alt=\"Open In Colab\"/></a>"
      ]
    },
    {
      "cell_type": "code",
      "metadata": {
        "id": "v7nuDm7bSdPz"
      },
      "source": [
        "#Imorting dependancy packages\n",
        "\n",
        "import keras"
      ],
      "execution_count": 1,
      "outputs": []
    },
    {
      "cell_type": "code",
      "metadata": {
        "id": "u_cmua3kS0gy"
      },
      "source": [
        "# importing object classificaton dataset\n",
        "\n",
        "from keras.datasets import cifar10"
      ],
      "execution_count": 2,
      "outputs": []
    },
    {
      "cell_type": "code",
      "metadata": {
        "id": "T9x3lbxITC8X",
        "colab": {
          "base_uri": "https://localhost:8080/"
        },
        "outputId": "fc452782-3e20-4df1-d257-c4e2e6765e03"
      },
      "source": [
        "ds = cifar10.load_data()"
      ],
      "execution_count": 3,
      "outputs": [
        {
          "output_type": "stream",
          "name": "stdout",
          "text": [
            "Downloading data from https://www.cs.toronto.edu/~kriz/cifar-10-python.tar.gz\n",
            "170500096/170498071 [==============================] - 2s 0us/step\n",
            "170508288/170498071 [==============================] - 2s 0us/step\n"
          ]
        }
      ]
    },
    {
      "cell_type": "code",
      "metadata": {
        "colab": {
          "base_uri": "https://localhost:8080/"
        },
        "id": "IIGazEuiTL5A",
        "outputId": "9ba4d376-55f7-400a-94c3-2771370226a6"
      },
      "source": [
        "type(ds)"
      ],
      "execution_count": 4,
      "outputs": [
        {
          "output_type": "execute_result",
          "data": {
            "text/plain": [
              "tuple"
            ]
          },
          "metadata": {},
          "execution_count": 4
        }
      ]
    },
    {
      "cell_type": "code",
      "metadata": {
        "colab": {
          "base_uri": "https://localhost:8080/"
        },
        "id": "EEDZaGiXTP5I",
        "outputId": "10c13977-ed30-4949-87b8-f2e6ff23414a"
      },
      "source": [
        "len(ds)"
      ],
      "execution_count": 5,
      "outputs": [
        {
          "output_type": "execute_result",
          "data": {
            "text/plain": [
              "2"
            ]
          },
          "metadata": {},
          "execution_count": 5
        }
      ]
    },
    {
      "cell_type": "code",
      "metadata": {
        "id": "GLZ20SOITSUG"
      },
      "source": [
        "train, test = ds"
      ],
      "execution_count": 6,
      "outputs": []
    },
    {
      "cell_type": "code",
      "metadata": {
        "colab": {
          "base_uri": "https://localhost:8080/"
        },
        "id": "Gj6A7JTZTWbG",
        "outputId": "8d550109-36e8-43e0-cb6f-3dffe62dcfa5"
      },
      "source": [
        "type(train)"
      ],
      "execution_count": 7,
      "outputs": [
        {
          "output_type": "execute_result",
          "data": {
            "text/plain": [
              "tuple"
            ]
          },
          "metadata": {},
          "execution_count": 7
        }
      ]
    },
    {
      "cell_type": "code",
      "metadata": {
        "colab": {
          "base_uri": "https://localhost:8080/"
        },
        "id": "w9YxkwMtTYwm",
        "outputId": "9e756ffb-cc76-4cf3-9853-cb9b9e1dcf75"
      },
      "source": [
        "len(train)"
      ],
      "execution_count": 8,
      "outputs": [
        {
          "output_type": "execute_result",
          "data": {
            "text/plain": [
              "2"
            ]
          },
          "metadata": {},
          "execution_count": 8
        }
      ]
    },
    {
      "cell_type": "code",
      "metadata": {
        "id": "YZ24Q7ujTbOp"
      },
      "source": [
        "train_x, train_y = train\n",
        "test_x , test_y = test"
      ],
      "execution_count": 9,
      "outputs": []
    },
    {
      "cell_type": "code",
      "metadata": {
        "colab": {
          "base_uri": "https://localhost:8080/"
        },
        "id": "ghwtHQC_ThzQ",
        "outputId": "6cb50115-0952-4e76-8d2d-fa39f23193fe"
      },
      "source": [
        "type(train_x)"
      ],
      "execution_count": 10,
      "outputs": [
        {
          "output_type": "execute_result",
          "data": {
            "text/plain": [
              "numpy.ndarray"
            ]
          },
          "metadata": {},
          "execution_count": 10
        }
      ]
    },
    {
      "cell_type": "code",
      "metadata": {
        "colab": {
          "base_uri": "https://localhost:8080/"
        },
        "id": "unx0ZAmWTlV4",
        "outputId": "f89d0b01-45fc-4ec1-d9c2-68f63b41ec9b"
      },
      "source": [
        "# training dataset contains 50k records\n",
        "len(train_x)"
      ],
      "execution_count": 11,
      "outputs": [
        {
          "output_type": "execute_result",
          "data": {
            "text/plain": [
              "50000"
            ]
          },
          "metadata": {},
          "execution_count": 11
        }
      ]
    },
    {
      "cell_type": "code",
      "metadata": {
        "colab": {
          "base_uri": "https://localhost:8080/"
        },
        "id": "FA1EANWhT57f",
        "outputId": "161e8bbe-ce22-4059-be06-b79b1c68a27a"
      },
      "source": [
        "train_x.shape"
      ],
      "execution_count": 12,
      "outputs": [
        {
          "output_type": "execute_result",
          "data": {
            "text/plain": [
              "(50000, 32, 32, 3)"
            ]
          },
          "metadata": {},
          "execution_count": 12
        }
      ]
    },
    {
      "cell_type": "code",
      "metadata": {
        "colab": {
          "base_uri": "https://localhost:8080/"
        },
        "id": "Vj4f6_TDUDD3",
        "outputId": "5b87507a-5007-494a-a9cc-ce314351fbef"
      },
      "source": [
        "train_y.shape"
      ],
      "execution_count": 13,
      "outputs": [
        {
          "output_type": "execute_result",
          "data": {
            "text/plain": [
              "(50000, 1)"
            ]
          },
          "metadata": {},
          "execution_count": 13
        }
      ]
    },
    {
      "cell_type": "code",
      "metadata": {
        "colab": {
          "base_uri": "https://localhost:8080/"
        },
        "id": "CL4kt3bNUF0K",
        "outputId": "c05785ab-a788-47a9-f26c-26c245c9372e"
      },
      "source": [
        "type(train_y)"
      ],
      "execution_count": 14,
      "outputs": [
        {
          "output_type": "execute_result",
          "data": {
            "text/plain": [
              "numpy.ndarray"
            ]
          },
          "metadata": {},
          "execution_count": 14
        }
      ]
    },
    {
      "cell_type": "code",
      "metadata": {
        "colab": {
          "base_uri": "https://localhost:8080/"
        },
        "id": "uANllDv-UJAh",
        "outputId": "d576f2dc-4942-47c5-d120-5749bef4f636"
      },
      "source": [
        "train_y[0:20]"
      ],
      "execution_count": 15,
      "outputs": [
        {
          "output_type": "execute_result",
          "data": {
            "text/plain": [
              "array([[6],\n",
              "       [9],\n",
              "       [9],\n",
              "       [4],\n",
              "       [1],\n",
              "       [1],\n",
              "       [2],\n",
              "       [7],\n",
              "       [8],\n",
              "       [3],\n",
              "       [4],\n",
              "       [7],\n",
              "       [7],\n",
              "       [2],\n",
              "       [9],\n",
              "       [9],\n",
              "       [9],\n",
              "       [3],\n",
              "       [2],\n",
              "       [6]], dtype=uint8)"
            ]
          },
          "metadata": {},
          "execution_count": 15
        }
      ]
    },
    {
      "cell_type": "code",
      "metadata": {
        "colab": {
          "base_uri": "https://localhost:8080/"
        },
        "id": "3uwReFZEaTll",
        "outputId": "c2ced0a8-15de-4771-ccf4-d386d78ef512"
      },
      "source": [
        "print(train_y.max(), train_y.min())"
      ],
      "execution_count": 16,
      "outputs": [
        {
          "output_type": "stream",
          "name": "stdout",
          "text": [
            "9 0\n"
          ]
        }
      ]
    },
    {
      "cell_type": "code",
      "metadata": {
        "colab": {
          "base_uri": "https://localhost:8080/",
          "height": 267
        },
        "id": "f6tywa1nTreJ",
        "outputId": "58eaae10-ef6a-47d8-f7ba-ee8037d02433"
      },
      "source": [
        "#importing required package and plotting first 6 iages of dataset using subplot fuction\n",
        "\n",
        "from matplotlib import pyplot as plt\n",
        "c=1\n",
        "for i in train_x[0:6]:\n",
        "  plt.subplot(2,3,c)\n",
        "  c+=1\n",
        "  plt.imshow(i)"
      ],
      "execution_count": 17,
      "outputs": [
        {
          "output_type": "display_data",
          "data": {
            "text/plain": [
              "<Figure size 432x288 with 6 Axes>"
            ],
            "image/png": "[encoded data removed]"
          },
          "metadata": {
            "needs_background": "light"
          }
        }
      ]
    },
    {
      "cell_type": "code",
      "metadata": {
        "id": "0HVjc94_WYXZ"
      },
      "source": [
        "#noralizing training and testing data pixels for faster execution and computation\n",
        "\n",
        "train_x = train_x/255\n",
        "train_y = train_y\n",
        "\n",
        "test_x = test_x/255\n",
        "test_y = test_y"
      ],
      "execution_count": 18,
      "outputs": []
    },
    {
      "cell_type": "code",
      "source": [
        "#importing required packages\n",
        "\n",
        "import tensorflow as tf\n",
        "from tensorflow.keras.utils import to_categorical"
      ],
      "metadata": {
        "id": "Yyxz3KbO4Tsi"
      },
      "execution_count": 19,
      "outputs": []
    },
    {
      "cell_type": "code",
      "metadata": {
        "id": "h9C_3XEHXKsK"
      },
      "source": [
        "#converting categorical data to numerical for computation\n",
        "\n",
        "test_yc = to_categorical(test_y)\n",
        "train_yc = to_categorical(train_y)"
      ],
      "execution_count": 20,
      "outputs": []
    },
    {
      "cell_type": "code",
      "metadata": {
        "colab": {
          "base_uri": "https://localhost:8080/"
        },
        "id": "pCI9TLXYXU1d",
        "outputId": "abfd4016-c900-4703-d3c5-35446adff9c6"
      },
      "source": [
        "#testing data contains 10K records\n",
        "\n",
        "test_yc.shape"
      ],
      "execution_count": 21,
      "outputs": [
        {
          "output_type": "execute_result",
          "data": {
            "text/plain": [
              "(10000, 10)"
            ]
          },
          "metadata": {},
          "execution_count": 21
        }
      ]
    },
    {
      "cell_type": "code",
      "metadata": {
        "id": "dzLitDtAYpc_"
      },
      "source": [
        "#Model building for Convolution Neural Network using keras package\n",
        "\n",
        "def model_fun():\n",
        "  model = keras.Sequential()\n",
        "  model.add(keras.layers.Conv2D(filters= 32, kernel_size=(3,3) ,activation='relu', input_shape=(32,32,3)))\n",
        "  #dropout to reduce overfitting problems\n",
        "  model.add(keras.layers.Dropout(0.4))\n",
        "  model.add(keras.layers.pooling.MaxPooling2D(pool_size=(2,2)))\n",
        "  model.add(keras.layers.Conv2D(filters = 64, kernel_size = (3,3) , activation='relu'))\n",
        "  model.add(keras.layers.Dropout(0.3))\n",
        "  model.add(keras.layers.pooling.MaxPooling2D(pool_size=(2,2)))\n",
        "\n",
        "  model.add(keras.layers.Flatten())\n",
        "  model.add(keras.layers.Dense(100,activation='sigmoid'))\n",
        "  model.add(keras.layers.Dense(10,activation= keras.activations.softmax))\n",
        "\n",
        "  model.compile(optimizer='adam', loss='categorical_crossentropy', metrics=['accuracy'])\n",
        "  return model"
      ],
      "execution_count": 22,
      "outputs": []
    },
    {
      "cell_type": "code",
      "metadata": {
        "colab": {
          "base_uri": "https://localhost:8080/"
        },
        "id": "Kd8LOpywbtRZ",
        "outputId": "59f128e7-1a3c-4d60-dd77-480c805afe77"
      },
      "source": [
        "#Model training with 30 iteration\n",
        "\n",
        "model = model_fun()\n",
        "model.fit(train_x, train_yc, epochs= 30)"
      ],
      "execution_count": 23,
      "outputs": [
        {
          "output_type": "stream",
          "name": "stdout",
          "text": [
            "Epoch 1/30\n",
            "1563/1563 [==============================] - 19s 4ms/step - loss: 1.4439 - accuracy: 0.4799\n",
            "Epoch 2/30\n",
            "1563/1563 [==============================] - 6s 4ms/step - loss: 1.1154 - accuracy: 0.6076\n",
            "Epoch 3/30\n",
            "1563/1563 [==============================] - 6s 4ms/step - loss: 0.9834 - accuracy: 0.6552\n",
            "Epoch 4/30\n",
            "1563/1563 [==============================] - 6s 4ms/step - loss: 0.8957 - accuracy: 0.6887\n",
            "Epoch 5/30\n",
            "1563/1563 [==============================] - 6s 4ms/step - loss: 0.8292 - accuracy: 0.7104\n",
            "Epoch 6/30\n",
            "1563/1563 [==============================] - 7s 4ms/step - loss: 0.7646 - accuracy: 0.7353\n",
            "Epoch 7/30\n",
            "1563/1563 [==============================] - 6s 4ms/step - loss: 0.7113 - accuracy: 0.7527\n",
            "Epoch 8/30\n",
            "1563/1563 [==============================] - 7s 4ms/step - loss: 0.6690 - accuracy: 0.7673\n",
            "Epoch 9/30\n",
            "1563/1563 [==============================] - 7s 4ms/step - loss: 0.6267 - accuracy: 0.7824\n",
            "Epoch 10/30\n",
            "1563/1563 [==============================] - 6s 4ms/step - loss: 0.5945 - accuracy: 0.7930\n",
            "Epoch 11/30\n",
            "1563/1563 [==============================] - 7s 4ms/step - loss: 0.5613 - accuracy: 0.8053\n",
            "Epoch 12/30\n",
            "1563/1563 [==============================] - 6s 4ms/step - loss: 0.5370 - accuracy: 0.8115\n",
            "Epoch 13/30\n",
            "1563/1563 [==============================] - 6s 4ms/step - loss: 0.5109 - accuracy: 0.8230\n",
            "Epoch 14/30\n",
            "1563/1563 [==============================] - 6s 4ms/step - loss: 0.4884 - accuracy: 0.8289\n",
            "Epoch 15/30\n",
            "1563/1563 [==============================] - 6s 4ms/step - loss: 0.4645 - accuracy: 0.8371\n",
            "Epoch 16/30\n",
            "1563/1563 [==============================] - 6s 4ms/step - loss: 0.4494 - accuracy: 0.8424\n",
            "Epoch 17/30\n",
            "1563/1563 [==============================] - 6s 4ms/step - loss: 0.4309 - accuracy: 0.8498\n",
            "Epoch 18/30\n",
            "1563/1563 [==============================] - 6s 4ms/step - loss: 0.4198 - accuracy: 0.8520\n",
            "Epoch 19/30\n",
            "1563/1563 [==============================] - 6s 4ms/step - loss: 0.4023 - accuracy: 0.8587\n",
            "Epoch 20/30\n",
            "1563/1563 [==============================] - 6s 4ms/step - loss: 0.3968 - accuracy: 0.8600\n",
            "Epoch 21/30\n",
            "1563/1563 [==============================] - 6s 4ms/step - loss: 0.3887 - accuracy: 0.8627\n",
            "Epoch 22/30\n",
            "1563/1563 [==============================] - 6s 4ms/step - loss: 0.3739 - accuracy: 0.8674\n",
            "Epoch 23/30\n",
            "1563/1563 [==============================] - 6s 4ms/step - loss: 0.3588 - accuracy: 0.8749\n",
            "Epoch 24/30\n",
            "1563/1563 [==============================] - 6s 4ms/step - loss: 0.3506 - accuracy: 0.8762\n",
            "Epoch 25/30\n",
            "1563/1563 [==============================] - 6s 4ms/step - loss: 0.3522 - accuracy: 0.8755\n",
            "Epoch 26/30\n",
            "1563/1563 [==============================] - 7s 4ms/step - loss: 0.3398 - accuracy: 0.8800\n",
            "Epoch 27/30\n",
            "1563/1563 [==============================] - 6s 4ms/step - loss: 0.3375 - accuracy: 0.8810\n",
            "Epoch 28/30\n",
            "1563/1563 [==============================] - 6s 4ms/step - loss: 0.3278 - accuracy: 0.8824\n",
            "Epoch 29/30\n",
            "1563/1563 [==============================] - 6s 4ms/step - loss: 0.3237 - accuracy: 0.8852\n",
            "Epoch 30/30\n",
            "1563/1563 [==============================] - 7s 4ms/step - loss: 0.3214 - accuracy: 0.8870\n"
          ]
        },
        {
          "output_type": "execute_result",
          "data": {
            "text/plain": [
              "<keras.callbacks.History at 0x7f5e70495d10>"
            ]
          },
          "metadata": {},
          "execution_count": 23
        }
      ]
    },
    {
      "cell_type": "code",
      "metadata": {
        "colab": {
          "base_uri": "https://localhost:8080/"
        },
        "id": "l0APXPYg90-S",
        "outputId": "acc3dbe5-da91-4a0e-cf3d-0c97e0ddc2f5"
      },
      "source": [
        "model.evaluate(test_x, test_yc)"
      ],
      "execution_count": 24,
      "outputs": [
        {
          "output_type": "stream",
          "name": "stdout",
          "text": [
            "313/313 [==============================] - 1s 3ms/step - loss: 1.0189 - accuracy: 0.7065\n"
          ]
        },
        {
          "output_type": "execute_result",
          "data": {
            "text/plain": [
              "[1.0188536643981934, 0.7064999938011169]"
            ]
          },
          "metadata": {},
          "execution_count": 24
        }
      ]
    },
    {
      "cell_type": "code",
      "source": [
        "# accuracy achieved 70% for test data"
      ],
      "metadata": {
        "id": "9SKnJ62q533J"
      },
      "execution_count": 25,
      "outputs": []
    }
  ]
}