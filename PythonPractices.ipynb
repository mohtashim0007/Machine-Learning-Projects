{
  "nbformat": 4,
  "nbformat_minor": 0,
  "metadata": {
    "colab": {
      "name": "PythonPractices.ipynb",
      "provenance": [],
      "authorship_tag": "ABX9TyNk72NKuGPVzzmV3yjWDy0p",
      "include_colab_link": true
    },
    "kernelspec": {
      "name": "python3",
      "display_name": "Python 3"
    },
    "language_info": {
      "name": "python"
    }
  },
  "cells": [
    {
      "cell_type": "markdown",
      "metadata": {
        "id": "view-in-github",
        "colab_type": "text"
      },
      "source": [
        "<a href=\"https://colab.research.google.com/github/mohtashim0007/Machine-Learning-Projects/blob/main/PythonPractices.ipynb\" target=\"_parent\"><img src=\"https://colab.research.google.com/assets/colab-badge.svg\" alt=\"Open In Colab\"/></a>"
      ]
    },
    {
      "cell_type": "code",
      "metadata": {
        "colab": {
          "base_uri": "https://localhost:8080/"
        },
        "id": "nbcghKrOLUfd",
        "outputId": "3752f6a5-9eab-4a37-823d-7c11d79c5d18"
      },
      "source": [
        "s1= input()\n",
        "s2 = input()\n",
        "s3 = s2+' ' +s1\n",
        "print(s3)"
      ],
      "execution_count": 7,
      "outputs": [
        {
          "output_type": "stream",
          "name": "stdout",
          "text": [
            "ohd\n",
            "hge\n",
            "hge ohd\n"
          ]
        }
      ]
    },
    {
      "cell_type": "code",
      "metadata": {
        "colab": {
          "base_uri": "https://localhost:8080/"
        },
        "id": "dI7ydMX6MsGs",
        "outputId": "04607bf7-49ad-49c3-e0eb-a32e95732037"
      },
      "source": [
        "print(s3.find(s2))"
      ],
      "execution_count": 8,
      "outputs": [
        {
          "output_type": "stream",
          "name": "stdout",
          "text": [
            "0\n"
          ]
        }
      ]
    },
    {
      "cell_type": "code",
      "metadata": {
        "colab": {
          "base_uri": "https://localhost:8080/"
        },
        "id": "pVy9IkmjRD_B",
        "outputId": "e6bd0c87-809b-4d61-afd1-8d811a63f9c8"
      },
      "source": [
        "import datetime  as dt\n",
        "ct = dt.datetime.now()\n",
        "ct"
      ],
      "execution_count": 9,
      "outputs": [
        {
          "output_type": "execute_result",
          "data": {
            "text/plain": [
              "datetime.datetime(2022, 6, 28, 15, 54, 47, 472612)"
            ]
          },
          "metadata": {},
          "execution_count": 9
        }
      ]
    },
    {
      "cell_type": "code",
      "metadata": {
        "id": "Ye4zsdDTn-ye",
        "colab": {
          "base_uri": "https://localhost:8080/"
        },
        "outputId": "ab3643a9-dbcc-4a95-a3c6-a02cbbab9d83"
      },
      "source": [
        "import time as t\n",
        "tm = t.localtime()\n",
        "type(tm.tm_year)\n",
        "print(tm.tm_hour)\n",
        "print(tm.tm_min)\n",
        "print(tm.tm_wday)\n",
        "print(tm.tm_mon)\n",
        "\n"
      ],
      "execution_count": 10,
      "outputs": [
        {
          "output_type": "stream",
          "name": "stdout",
          "text": [
            "15\n",
            "54\n",
            "1\n",
            "6\n"
          ]
        }
      ]
    },
    {
      "cell_type": "code",
      "metadata": {
        "colab": {
          "base_uri": "https://localhost:8080/"
        },
        "id": "7YfuWNI9EWOc",
        "outputId": "05bee14d-681a-46c5-ba50-148532d0f959"
      },
      "source": [
        "#printing pattern\n",
        "\n",
        "num = int(input())\n",
        "\n",
        "for i in range(0,num):\n",
        "  str = ''\n",
        "  for j in range(0,i+1):\n",
        "    str = str + '*'\n",
        "  print(str)\n",
        "for i in range(num-1,0,-1):\n",
        "  str = ''\n",
        "  for j in range(0,i):\n",
        "    str = str + '*'\n",
        "  print(str)"
      ],
      "execution_count": 11,
      "outputs": [
        {
          "output_type": "stream",
          "name": "stdout",
          "text": [
            "5\n",
            "*\n",
            "**\n",
            "***\n",
            "****\n",
            "*****\n",
            "****\n",
            "***\n",
            "**\n",
            "*\n"
          ]
        }
      ]
    },
    {
      "cell_type": "code",
      "metadata": {
        "colab": {
          "base_uri": "https://localhost:8080/"
        },
        "id": "efOfE758HFbE",
        "outputId": "fa128036-c541-4a40-b5f9-faaa73e4d4fb"
      },
      "source": [
        "#python program for prime number less than 20\n",
        "import math\n",
        "num = int(input())\n",
        "for i in range(3,num+1):\n",
        "  flag = 0\n",
        "  for j in range(2,int(math.sqrt(i))+1):\n",
        "    if i%j == 0:\n",
        "      flag = 1\n",
        "  if flag==0:\n",
        "    print(i)"
      ],
      "execution_count": 12,
      "outputs": [
        {
          "output_type": "stream",
          "name": "stdout",
          "text": [
            "6\n",
            "3\n",
            "5\n"
          ]
        }
      ]
    },
    {
      "cell_type": "code",
      "metadata": {
        "id": "951rs8-8JeQa"
      },
      "source": [
        "# python program for finding factorial of a number\n",
        "\n",
        "def fact(n):\n",
        "  prod = 1\n",
        "  for i in range(1,n+1):\n",
        "    prod*=i\n",
        "\n",
        "  return prod"
      ],
      "execution_count": 13,
      "outputs": []
    },
    {
      "cell_type": "code",
      "metadata": {
        "colab": {
          "base_uri": "https://localhost:8080/"
        },
        "id": "u0e55y1YJpgl",
        "outputId": "e89a5c13-bbea-4eb9-9d2a-2e819422599e"
      },
      "source": [
        "n = int(input())\n",
        "print(fact(n))\n",
        "\n",
        "print(math.factorial(n))"
      ],
      "execution_count": 14,
      "outputs": [
        {
          "output_type": "stream",
          "name": "stdout",
          "text": [
            "7\n",
            "5040\n",
            "5040\n"
          ]
        }
      ]
    },
    {
      "cell_type": "code",
      "metadata": {
        "colab": {
          "base_uri": "https://localhost:8080/"
        },
        "id": "eVwy9QTiLLDH",
        "outputId": "d4521300-8629-4cd0-dd74-99d09ece8286"
      },
      "source": [
        "#check right angleed triangle\n",
        "\n",
        "a = int(input())\n",
        "b = int(input())\n",
        "c = int(input())\n",
        "a = a*a\n",
        "b = b*b\n",
        "c = c*c\n",
        "\n",
        "if a+b == c:\n",
        "  print('RAT')\n",
        "elif a+c == b:\n",
        "  print(\"RAT\")\n",
        "elif b+c ==a :\n",
        "  print(\"RAT\")\n",
        "else:\n",
        "  print('NRAT')\n"
      ],
      "execution_count": 15,
      "outputs": [
        {
          "output_type": "stream",
          "name": "stdout",
          "text": [
            "5\n",
            "9\n",
            "3\n",
            "NRAT\n"
          ]
        }
      ]
    },
    {
      "cell_type": "code",
      "metadata": {
        "id": "VYiVHexZMwUF"
      },
      "source": [
        ""
      ],
      "execution_count": 15,
      "outputs": []
    }
  ]
}