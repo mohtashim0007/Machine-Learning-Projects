{
  "nbformat": 4,
  "nbformat_minor": 0,
  "metadata": {
    "colab": {
      "name": "WhichCelebYouAre.ipynb",
      "provenance": [],
      "include_colab_link": true
    },
    "kernelspec": {
      "name": "python3",
      "display_name": "Python 3"
    },
    "language_info": {
      "name": "python"
    }
  },
  "cells": [
    {
      "cell_type": "markdown",
      "metadata": {
        "id": "view-in-github",
        "colab_type": "text"
      },
      "source": [
        "<a href=\"https://colab.research.google.com/github/mohtashim0007/Machine-Learning-Projects/blob/main/WhichCelebYouAre.ipynb\" target=\"_parent\"><img src=\"https://colab.research.google.com/assets/colab-badge.svg\" alt=\"Open In Colab\"/></a>"
      ]
    },
    {
      "cell_type": "code",
      "source": [
        "import glob\n",
        "import cv2\n",
        "import matplotlib.pyplot as plt\n",
        "import pandas as pd\n",
        "import numpy as np\n",
        "from tqdm import tqdm\n",
        "import pickle\n",
        "import os\n",
        "from numpy.linalg import norm"
      ],
      "metadata": {
        "id": "T-XgA3bDj0dV"
      },
      "execution_count": 3,
      "outputs": []
    },
    {
      "cell_type": "code",
      "source": [
        "from google.colab import drive\n",
        "drive.mount('/content/drive')"
      ],
      "metadata": {
        "colab": {
          "base_uri": "https://localhost:8080/"
        },
        "id": "vSQYknrzu3oi",
        "outputId": "f447f613-f68c-4d30-d2ed-84bf2d2afffa"
      },
      "execution_count": 4,
      "outputs": [
        {
          "output_type": "stream",
          "name": "stdout",
          "text": [
            "Mounted at /content/drive\n"
          ]
        }
      ]
    },
    {
      "cell_type": "code",
      "source": [
        "actorsName = []\n",
        "\n",
        "files = open('/content/drive/MyDrive/DataSet/List of Actors.txt', 'r')\n",
        "\n",
        "for f in files.readlines():\n",
        "  if f is not None and f != '\\n':\n",
        "    actorsName.append(f.replace('\\n',''))\n",
        "\n",
        "print(actorsName)"
      ],
      "metadata": {
        "colab": {
          "base_uri": "https://localhost:8080/"
        },
        "id": "39kfn1tLvZZI",
        "outputId": "33599d8d-4fcd-4d87-acd1-12f1a09e67ac"
      },
      "execution_count": 5,
      "outputs": [
        {
          "output_type": "stream",
          "name": "stdout",
          "text": [
            "['abhay_deol', 'adil_hussain', 'ajay_devgn', 'akshay_kumar', 'akshaye_khanna', 'amitabh_bachchan', 'amjad_khan', 'amol_palekar', 'amole_gupte', 'amrish_puri', 'anil_kapoor', 'annu_kapoor', 'anupam_kher', 'anushka_shetty', 'arshad_warsi', 'aruna_irani', 'ashish_vidyarthi', 'asrani', 'atul_kulkarni', 'ayushmann_khurrana', 'boman_irani', 'chiranjeevi', 'chunky_panday', 'danny_denzongpa', 'darsheel_safary', 'deepika_padukone', 'deepti_naval', 'dev_anand', 'dharmendra', 'dilip_kumar', 'dimple_kapadia', 'farhan_akhtar', 'farida_jalal', 'farooq_shaikh', 'girish_karnad', 'govinda', 'gulshan_grover', 'hrithik_roshan', 'huma_qureshi', 'irrfan_khan', 'jaspal_bhatti', 'jeetendra', 'jimmy_sheirgill', 'johnny_lever', 'kader_khan', 'kajol', 'kalki_koechlin', 'kamal_haasan', 'kangana_ranaut', 'kay_kay_menon', 'konkona_sen_sharma', 'kulbhushan_kharbanda', 'lara_dutta', 'madhavan', 'madhuri_dixit', 'mammootty', 'manoj_bajpayee', 'manoj_pahwa', 'mehmood', 'mita_vashisht', 'mithun_chakraborty', 'mohanlal', 'mohnish_bahl', 'mukesh_khanna', 'mukul_dev', 'nagarjuna_akkineni', 'nana_patekar', 'nandita_das', 'nargis', 'naseeruddin_shah', 'navin_nischol', 'nawazuddin_siddiqui', 'neeraj_kabi', 'nirupa_roy', 'om_puri', 'pankaj_kapur', 'pankaj_tripathi', 'paresh_rawal', 'pawan_malhotra', 'pooja_bhatt', 'prabhas', 'prabhu_deva', 'prakash_raj', 'pran', 'prem_chopra', 'priyanka_chopra', 'raaj_kumar', 'radhika_apte', 'rahul_bose', 'raj_babbar', 'raj_kapoor', 'rajat_kapoor', 'rajesh_khanna', 'rajinikanth', 'rajit_kapoor', 'rajkummar_rao', 'rajpal_yadav', 'rakhee_gulzar', 'ramya_krishnan', 'ranbir_kapoor', 'randeep_hooda', 'rani_mukerji', 'ranveer_singh', 'ranvir_shorey', 'ratna_pathak_shah', 'rekha', 'richa_chadha', 'rishi_kapoor', 'riteish_deshmukh', 'sachin_khedekar', 'saeed_jaffrey', 'saif_ali_khan', 'salman_khan', 'sanjay_dutt', 'sanjay_mishra', 'shabana_azmi', 'shah_rukh_khan', 'sharman_joshi', 'sharmila_tagore', 'shashi_kapoor', 'shreyas_talpade', 'smita_patil', 'soumitra_chatterjee', 'sridevi', 'sunil_shetty', 'sunny_deol', 'tabu', 'tinnu_anand', 'utpal_dutt', 'varun_dhawan', 'vidya_balan', 'vinod_khanna', 'waheeda_rehman', 'zarina_wahab', 'zeenat_aman']\n"
          ]
        }
      ]
    },
    {
      "cell_type": "code",
      "source": [
        ""
      ],
      "metadata": {
        "id": "HGhbQyMIBQbK"
      },
      "execution_count": 5,
      "outputs": []
    },
    {
      "cell_type": "code",
      "source": [
        "#creating path to read images for every actor image folders\n",
        "\n",
        "path = '/content/drive/My Drive/DataSet/Bollywood Actor Images/Bollywood Actor Images/'\n",
        "pathfile = []\n",
        "\n",
        "for i in actorsName:\n",
        "  pathfile.append(path+i)\n",
        "  \n",
        "print(pathfile)"
      ],
      "metadata": {
        "colab": {
          "base_uri": "https://localhost:8080/"
        },
        "id": "75F05iapt5Cw",
        "outputId": "67a61fc4-6388-4b65-d155-aaa4ff9d8148"
      },
      "execution_count": 6,
      "outputs": [
        {
          "output_type": "stream",
          "name": "stdout",
          "text": [
            "['/content/drive/My Drive/DataSet/Bollywood Actor Images/Bollywood Actor Images/abhay_deol', '/content/drive/My Drive/DataSet/Bollywood Actor Images/Bollywood Actor Images/adil_hussain', '/content/drive/My Drive/DataSet/Bollywood Actor Images/Bollywood Actor Images/ajay_devgn', '/content/drive/My Drive/DataSet/Bollywood Actor Images/Bollywood Actor Images/akshay_kumar', '/content/drive/My Drive/DataSet/Bollywood Actor Images/Bollywood Actor Images/akshaye_khanna', '/content/drive/My Drive/DataSet/Bollywood Actor Images/Bollywood Actor Images/amitabh_bachchan', '/content/drive/My Drive/DataSet/Bollywood Actor Images/Bollywood Actor Images/amjad_khan', '/content/drive/My Drive/DataSet/Bollywood Actor Images/Bollywood Actor Images/amol_palekar', '/content/drive/My Drive/DataSet/Bollywood Actor Images/Bollywood Actor Images/amole_gupte', '/content/drive/My Drive/DataSet/Bollywood Actor Images/Bollywood Actor Images/amrish_puri', '/content/drive/My Drive/DataSet/Bollywood Actor Images/Bollywood Actor Images/anil_kapoor', '/content/drive/My Drive/DataSet/Bollywood Actor Images/Bollywood Actor Images/annu_kapoor', '/content/drive/My Drive/DataSet/Bollywood Actor Images/Bollywood Actor Images/anupam_kher', '/content/drive/My Drive/DataSet/Bollywood Actor Images/Bollywood Actor Images/anushka_shetty', '/content/drive/My Drive/DataSet/Bollywood Actor Images/Bollywood Actor Images/arshad_warsi', '/content/drive/My Drive/DataSet/Bollywood Actor Images/Bollywood Actor Images/aruna_irani', '/content/drive/My Drive/DataSet/Bollywood Actor Images/Bollywood Actor Images/ashish_vidyarthi', '/content/drive/My Drive/DataSet/Bollywood Actor Images/Bollywood Actor Images/asrani', '/content/drive/My Drive/DataSet/Bollywood Actor Images/Bollywood Actor Images/atul_kulkarni', '/content/drive/My Drive/DataSet/Bollywood Actor Images/Bollywood Actor Images/ayushmann_khurrana', '/content/drive/My Drive/DataSet/Bollywood Actor Images/Bollywood Actor Images/boman_irani', '/content/drive/My Drive/DataSet/Bollywood Actor Images/Bollywood Actor Images/chiranjeevi', '/content/drive/My Drive/DataSet/Bollywood Actor Images/Bollywood Actor Images/chunky_panday', '/content/drive/My Drive/DataSet/Bollywood Actor Images/Bollywood Actor Images/danny_denzongpa', '/content/drive/My Drive/DataSet/Bollywood Actor Images/Bollywood Actor Images/darsheel_safary', '/content/drive/My Drive/DataSet/Bollywood Actor Images/Bollywood Actor Images/deepika_padukone', '/content/drive/My Drive/DataSet/Bollywood Actor Images/Bollywood Actor Images/deepti_naval', '/content/drive/My Drive/DataSet/Bollywood Actor Images/Bollywood Actor Images/dev_anand', '/content/drive/My Drive/DataSet/Bollywood Actor Images/Bollywood Actor Images/dharmendra', '/content/drive/My Drive/DataSet/Bollywood Actor Images/Bollywood Actor Images/dilip_kumar', '/content/drive/My Drive/DataSet/Bollywood Actor Images/Bollywood Actor Images/dimple_kapadia', '/content/drive/My Drive/DataSet/Bollywood Actor Images/Bollywood Actor Images/farhan_akhtar', '/content/drive/My Drive/DataSet/Bollywood Actor Images/Bollywood Actor Images/farida_jalal', '/content/drive/My Drive/DataSet/Bollywood Actor Images/Bollywood Actor Images/farooq_shaikh', '/content/drive/My Drive/DataSet/Bollywood Actor Images/Bollywood Actor Images/girish_karnad', '/content/drive/My Drive/DataSet/Bollywood Actor Images/Bollywood Actor Images/govinda', '/content/drive/My Drive/DataSet/Bollywood Actor Images/Bollywood Actor Images/gulshan_grover', '/content/drive/My Drive/DataSet/Bollywood Actor Images/Bollywood Actor Images/hrithik_roshan', '/content/drive/My Drive/DataSet/Bollywood Actor Images/Bollywood Actor Images/huma_qureshi', '/content/drive/My Drive/DataSet/Bollywood Actor Images/Bollywood Actor Images/irrfan_khan', '/content/drive/My Drive/DataSet/Bollywood Actor Images/Bollywood Actor Images/jaspal_bhatti', '/content/drive/My Drive/DataSet/Bollywood Actor Images/Bollywood Actor Images/jeetendra', '/content/drive/My Drive/DataSet/Bollywood Actor Images/Bollywood Actor Images/jimmy_sheirgill', '/content/drive/My Drive/DataSet/Bollywood Actor Images/Bollywood Actor Images/johnny_lever', '/content/drive/My Drive/DataSet/Bollywood Actor Images/Bollywood Actor Images/kader_khan', '/content/drive/My Drive/DataSet/Bollywood Actor Images/Bollywood Actor Images/kajol', '/content/drive/My Drive/DataSet/Bollywood Actor Images/Bollywood Actor Images/kalki_koechlin', '/content/drive/My Drive/DataSet/Bollywood Actor Images/Bollywood Actor Images/kamal_haasan', '/content/drive/My Drive/DataSet/Bollywood Actor Images/Bollywood Actor Images/kangana_ranaut', '/content/drive/My Drive/DataSet/Bollywood Actor Images/Bollywood Actor Images/kay_kay_menon', '/content/drive/My Drive/DataSet/Bollywood Actor Images/Bollywood Actor Images/konkona_sen_sharma', '/content/drive/My Drive/DataSet/Bollywood Actor Images/Bollywood Actor Images/kulbhushan_kharbanda', '/content/drive/My Drive/DataSet/Bollywood Actor Images/Bollywood Actor Images/lara_dutta', '/content/drive/My Drive/DataSet/Bollywood Actor Images/Bollywood Actor Images/madhavan', '/content/drive/My Drive/DataSet/Bollywood Actor Images/Bollywood Actor Images/madhuri_dixit', '/content/drive/My Drive/DataSet/Bollywood Actor Images/Bollywood Actor Images/mammootty', '/content/drive/My Drive/DataSet/Bollywood Actor Images/Bollywood Actor Images/manoj_bajpayee', '/content/drive/My Drive/DataSet/Bollywood Actor Images/Bollywood Actor Images/manoj_pahwa', '/content/drive/My Drive/DataSet/Bollywood Actor Images/Bollywood Actor Images/mehmood', '/content/drive/My Drive/DataSet/Bollywood Actor Images/Bollywood Actor Images/mita_vashisht', '/content/drive/My Drive/DataSet/Bollywood Actor Images/Bollywood Actor Images/mithun_chakraborty', '/content/drive/My Drive/DataSet/Bollywood Actor Images/Bollywood Actor Images/mohanlal', '/content/drive/My Drive/DataSet/Bollywood Actor Images/Bollywood Actor Images/mohnish_bahl', '/content/drive/My Drive/DataSet/Bollywood Actor Images/Bollywood Actor Images/mukesh_khanna', '/content/drive/My Drive/DataSet/Bollywood Actor Images/Bollywood Actor Images/mukul_dev', '/content/drive/My Drive/DataSet/Bollywood Actor Images/Bollywood Actor Images/nagarjuna_akkineni', '/content/drive/My Drive/DataSet/Bollywood Actor Images/Bollywood Actor Images/nana_patekar', '/content/drive/My Drive/DataSet/Bollywood Actor Images/Bollywood Actor Images/nandita_das', '/content/drive/My Drive/DataSet/Bollywood Actor Images/Bollywood Actor Images/nargis', '/content/drive/My Drive/DataSet/Bollywood Actor Images/Bollywood Actor Images/naseeruddin_shah', '/content/drive/My Drive/DataSet/Bollywood Actor Images/Bollywood Actor Images/navin_nischol', '/content/drive/My Drive/DataSet/Bollywood Actor Images/Bollywood Actor Images/nawazuddin_siddiqui', '/content/drive/My Drive/DataSet/Bollywood Actor Images/Bollywood Actor Images/neeraj_kabi', '/content/drive/My Drive/DataSet/Bollywood Actor Images/Bollywood Actor Images/nirupa_roy', '/content/drive/My Drive/DataSet/Bollywood Actor Images/Bollywood Actor Images/om_puri', '/content/drive/My Drive/DataSet/Bollywood Actor Images/Bollywood Actor Images/pankaj_kapur', '/content/drive/My Drive/DataSet/Bollywood Actor Images/Bollywood Actor Images/pankaj_tripathi', '/content/drive/My Drive/DataSet/Bollywood Actor Images/Bollywood Actor Images/paresh_rawal', '/content/drive/My Drive/DataSet/Bollywood Actor Images/Bollywood Actor Images/pawan_malhotra', '/content/drive/My Drive/DataSet/Bollywood Actor Images/Bollywood Actor Images/pooja_bhatt', '/content/drive/My Drive/DataSet/Bollywood Actor Images/Bollywood Actor Images/prabhas', '/content/drive/My Drive/DataSet/Bollywood Actor Images/Bollywood Actor Images/prabhu_deva', '/content/drive/My Drive/DataSet/Bollywood Actor Images/Bollywood Actor Images/prakash_raj', '/content/drive/My Drive/DataSet/Bollywood Actor Images/Bollywood Actor Images/pran', '/content/drive/My Drive/DataSet/Bollywood Actor Images/Bollywood Actor Images/prem_chopra', '/content/drive/My Drive/DataSet/Bollywood Actor Images/Bollywood Actor Images/priyanka_chopra', '/content/drive/My Drive/DataSet/Bollywood Actor Images/Bollywood Actor Images/raaj_kumar', '/content/drive/My Drive/DataSet/Bollywood Actor Images/Bollywood Actor Images/radhika_apte', '/content/drive/My Drive/DataSet/Bollywood Actor Images/Bollywood Actor Images/rahul_bose', '/content/drive/My Drive/DataSet/Bollywood Actor Images/Bollywood Actor Images/raj_babbar', '/content/drive/My Drive/DataSet/Bollywood Actor Images/Bollywood Actor Images/raj_kapoor', '/content/drive/My Drive/DataSet/Bollywood Actor Images/Bollywood Actor Images/rajat_kapoor', '/content/drive/My Drive/DataSet/Bollywood Actor Images/Bollywood Actor Images/rajesh_khanna', '/content/drive/My Drive/DataSet/Bollywood Actor Images/Bollywood Actor Images/rajinikanth', '/content/drive/My Drive/DataSet/Bollywood Actor Images/Bollywood Actor Images/rajit_kapoor', '/content/drive/My Drive/DataSet/Bollywood Actor Images/Bollywood Actor Images/rajkummar_rao', '/content/drive/My Drive/DataSet/Bollywood Actor Images/Bollywood Actor Images/rajpal_yadav', '/content/drive/My Drive/DataSet/Bollywood Actor Images/Bollywood Actor Images/rakhee_gulzar', '/content/drive/My Drive/DataSet/Bollywood Actor Images/Bollywood Actor Images/ramya_krishnan', '/content/drive/My Drive/DataSet/Bollywood Actor Images/Bollywood Actor Images/ranbir_kapoor', '/content/drive/My Drive/DataSet/Bollywood Actor Images/Bollywood Actor Images/randeep_hooda', '/content/drive/My Drive/DataSet/Bollywood Actor Images/Bollywood Actor Images/rani_mukerji', '/content/drive/My Drive/DataSet/Bollywood Actor Images/Bollywood Actor Images/ranveer_singh', '/content/drive/My Drive/DataSet/Bollywood Actor Images/Bollywood Actor Images/ranvir_shorey', '/content/drive/My Drive/DataSet/Bollywood Actor Images/Bollywood Actor Images/ratna_pathak_shah', '/content/drive/My Drive/DataSet/Bollywood Actor Images/Bollywood Actor Images/rekha', '/content/drive/My Drive/DataSet/Bollywood Actor Images/Bollywood Actor Images/richa_chadha', '/content/drive/My Drive/DataSet/Bollywood Actor Images/Bollywood Actor Images/rishi_kapoor', '/content/drive/My Drive/DataSet/Bollywood Actor Images/Bollywood Actor Images/riteish_deshmukh', '/content/drive/My Drive/DataSet/Bollywood Actor Images/Bollywood Actor Images/sachin_khedekar', '/content/drive/My Drive/DataSet/Bollywood Actor Images/Bollywood Actor Images/saeed_jaffrey', '/content/drive/My Drive/DataSet/Bollywood Actor Images/Bollywood Actor Images/saif_ali_khan', '/content/drive/My Drive/DataSet/Bollywood Actor Images/Bollywood Actor Images/salman_khan', '/content/drive/My Drive/DataSet/Bollywood Actor Images/Bollywood Actor Images/sanjay_dutt', '/content/drive/My Drive/DataSet/Bollywood Actor Images/Bollywood Actor Images/sanjay_mishra', '/content/drive/My Drive/DataSet/Bollywood Actor Images/Bollywood Actor Images/shabana_azmi', '/content/drive/My Drive/DataSet/Bollywood Actor Images/Bollywood Actor Images/shah_rukh_khan', '/content/drive/My Drive/DataSet/Bollywood Actor Images/Bollywood Actor Images/sharman_joshi', '/content/drive/My Drive/DataSet/Bollywood Actor Images/Bollywood Actor Images/sharmila_tagore', '/content/drive/My Drive/DataSet/Bollywood Actor Images/Bollywood Actor Images/shashi_kapoor', '/content/drive/My Drive/DataSet/Bollywood Actor Images/Bollywood Actor Images/shreyas_talpade', '/content/drive/My Drive/DataSet/Bollywood Actor Images/Bollywood Actor Images/smita_patil', '/content/drive/My Drive/DataSet/Bollywood Actor Images/Bollywood Actor Images/soumitra_chatterjee', '/content/drive/My Drive/DataSet/Bollywood Actor Images/Bollywood Actor Images/sridevi', '/content/drive/My Drive/DataSet/Bollywood Actor Images/Bollywood Actor Images/sunil_shetty', '/content/drive/My Drive/DataSet/Bollywood Actor Images/Bollywood Actor Images/sunny_deol', '/content/drive/My Drive/DataSet/Bollywood Actor Images/Bollywood Actor Images/tabu', '/content/drive/My Drive/DataSet/Bollywood Actor Images/Bollywood Actor Images/tinnu_anand', '/content/drive/My Drive/DataSet/Bollywood Actor Images/Bollywood Actor Images/utpal_dutt', '/content/drive/My Drive/DataSet/Bollywood Actor Images/Bollywood Actor Images/varun_dhawan', '/content/drive/My Drive/DataSet/Bollywood Actor Images/Bollywood Actor Images/vidya_balan', '/content/drive/My Drive/DataSet/Bollywood Actor Images/Bollywood Actor Images/vinod_khanna', '/content/drive/My Drive/DataSet/Bollywood Actor Images/Bollywood Actor Images/waheeda_rehman', '/content/drive/My Drive/DataSet/Bollywood Actor Images/Bollywood Actor Images/zarina_wahab', '/content/drive/My Drive/DataSet/Bollywood Actor Images/Bollywood Actor Images/zeenat_aman']\n"
          ]
        }
      ]
    },
    {
      "cell_type": "code",
      "source": [
        "#Redaing images from path using glob\n",
        "\n",
        "\n",
        "img1 = glob.glob('/content/drive/My Drive/DataSet/Bollywood Actor Images/Bollywood Actor Images/irrfan_khan/*.jpg')\n",
        "len(img1)"
      ],
      "metadata": {
        "colab": {
          "base_uri": "https://localhost:8080/"
        },
        "id": "QyP14vM2vGe0",
        "outputId": "4b60e551-4bd4-47d4-bfaf-5b7201ec4fa9"
      },
      "execution_count": 7,
      "outputs": [
        {
          "output_type": "execute_result",
          "data": {
            "text/plain": [
              "50"
            ]
          },
          "metadata": {},
          "execution_count": 7
        }
      ]
    },
    {
      "cell_type": "code",
      "source": [
        "#read images using imread func \n",
        "img1 = cv2.imread(img1[5])\n",
        "print(type(img1))\n",
        "print(img1)\n",
        "import matplotlib.pyplot as plt\n",
        "plt.imshow(img1)"
      ],
      "metadata": {
        "colab": {
          "base_uri": "https://localhost:8080/",
          "height": 1000
        },
        "id": "jYFEv_JQyNAY",
        "outputId": "041a7c5c-0217-445f-d3b0-7a55aae72309"
      },
      "execution_count": 8,
      "outputs": [
        {
          "output_type": "stream",
          "name": "stdout",
          "text": [
            "<class 'numpy.ndarray'>\n",
            "[[[ 16  16  22]\n",
            "  [ 16  16  22]\n",
            "  [ 16  16  22]\n",
            "  ...\n",
            "  [225 200 184]\n",
            "  [225 200 184]\n",
            "  [225 200 184]]\n",
            "\n",
            " [[ 16  16  22]\n",
            "  [ 16  16  22]\n",
            "  [ 16  16  22]\n",
            "  ...\n",
            "  [225 200 184]\n",
            "  [225 200 184]\n",
            "  [225 200 184]]\n",
            "\n",
            " [[ 16  16  22]\n",
            "  [ 16  16  22]\n",
            "  [ 16  16  22]\n",
            "  ...\n",
            "  [225 200 184]\n",
            "  [225 200 184]\n",
            "  [225 200 184]]\n",
            "\n",
            " ...\n",
            "\n",
            " [[ 12  12  12]\n",
            "  [ 12  12  12]\n",
            "  [ 12  12  12]\n",
            "  ...\n",
            "  [100  49  16]\n",
            "  [102  49  16]\n",
            "  [100  49  16]]\n",
            "\n",
            " [[ 12  12  12]\n",
            "  [ 12  12  12]\n",
            "  [ 12  12  12]\n",
            "  ...\n",
            "  [100  49  16]\n",
            "  [100  49  16]\n",
            "  [100  49  16]]\n",
            "\n",
            " [[ 12  12  12]\n",
            "  [ 12  12  12]\n",
            "  [ 12  12  12]\n",
            "  ...\n",
            "  [100  49  16]\n",
            "  [100  49  16]\n",
            "  [100  49  16]]]\n"
          ]
        },
        {
          "output_type": "execute_result",
          "data": {
            "text/plain": [
              "<matplotlib.image.AxesImage at 0x7ff6c96df590>"
            ]
          },
          "metadata": {},
          "execution_count": 8
        },
        {
          "output_type": "display_data",
          "data": {
            "text/plain": [
              "<Figure size 432x288 with 1 Axes>"
            ],
            "image/png": "[encoded data removed]"
          },
          "metadata": {
            "needs_background": "light"
          }
        }
      ]
    },
    {
      "cell_type": "code",
      "source": [
        "#Creating dataframe for every images and there name : columns {images, name}\n",
        "images_list = []\n",
        "name = []\n",
        "i = 0\n",
        "for p in pathfile:\n",
        "  img_list = glob.glob(p+'/*.jpg')\n",
        "  for img in img_list:\n",
        "    images_list.append(img)\n",
        "    name.append(actorsName[i])\n",
        "  i = i+1\n"
      ],
      "metadata": {
        "id": "aXVAYFTg0XIR"
      },
      "execution_count": 9,
      "outputs": []
    },
    {
      "cell_type": "code",
      "source": [
        "print(images_list[5])\n",
        "print(name[5])"
      ],
      "metadata": {
        "colab": {
          "base_uri": "https://localhost:8080/"
        },
        "id": "uvXb16sEhXgt",
        "outputId": "be865f15-09cc-4c30-8cf4-78a2726f7ffb"
      },
      "execution_count": 10,
      "outputs": [
        {
          "output_type": "stream",
          "name": "stdout",
          "text": [
            "/content/drive/My Drive/DataSet/Bollywood Actor Images/Bollywood Actor Images/adil_hussain/3bdaf0bc3b.jpg\n",
            "adil_hussain\n"
          ]
        }
      ]
    },
    {
      "cell_type": "code",
      "source": [
        "len(images_list)"
      ],
      "metadata": {
        "colab": {
          "base_uri": "https://localhost:8080/"
        },
        "id": "1aE0RwesjrN4",
        "outputId": "ec99ee8e-83be-4d6c-ad77-6c3175e9ba9a"
      },
      "execution_count": 11,
      "outputs": [
        {
          "output_type": "execute_result",
          "data": {
            "text/plain": [
              "6688"
            ]
          },
          "metadata": {},
          "execution_count": 11
        }
      ]
    },
    {
      "cell_type": "code",
      "source": [
        "df = pd.DataFrame({'Images' : images_list, 'Name':name})\n",
        "df"
      ],
      "metadata": {
        "colab": {
          "base_uri": "https://localhost:8080/",
          "height": 424
        },
        "id": "ghyY9IjPjt5q",
        "outputId": "a3112120-3e0d-4597-bbf5-c9600bc39ea3"
      },
      "execution_count": 12,
      "outputs": [
        {
          "output_type": "execute_result",
          "data": {
            "text/plain": [
              "                                                 Images          Name\n",
              "0     /content/drive/My Drive/DataSet/Bollywood Acto...  adil_hussain\n",
              "1     /content/drive/My Drive/DataSet/Bollywood Acto...  adil_hussain\n",
              "2     /content/drive/My Drive/DataSet/Bollywood Acto...  adil_hussain\n",
              "3     /content/drive/My Drive/DataSet/Bollywood Acto...  adil_hussain\n",
              "4     /content/drive/My Drive/DataSet/Bollywood Acto...  adil_hussain\n",
              "...                                                 ...           ...\n",
              "6683  /content/drive/My Drive/DataSet/Bollywood Acto...   zeenat_aman\n",
              "6684  /content/drive/My Drive/DataSet/Bollywood Acto...   zeenat_aman\n",
              "6685  /content/drive/My Drive/DataSet/Bollywood Acto...   zeenat_aman\n",
              "6686  /content/drive/My Drive/DataSet/Bollywood Acto...   zeenat_aman\n",
              "6687  /content/drive/My Drive/DataSet/Bollywood Acto...   zeenat_aman\n",
              "\n",
              "[6688 rows x 2 columns]"
            ],
            "text/html": [
              "\n",
              "  <div id=\"df-6560cc87-45fe-4ac9-9376-6251608f6b2f\">\n",
              "    <div class=\"colab-df-container\">\n",
              "      <div>\n",
              "<style scoped>\n",
              "    .dataframe tbody tr th:only-of-type {\n",
              "        vertical-align: middle;\n",
              "    }\n",
              "\n",
              "    .dataframe tbody tr th {\n",
              "        vertical-align: top;\n",
              "    }\n",
              "\n",
              "    .dataframe thead th {\n",
              "        text-align: right;\n",
              "    }\n",
              "</style>\n",
              "<table border=\"1\" class=\"dataframe\">\n",
              "  <thead>\n",
              "    <tr style=\"text-align: right;\">\n",
              "      <th></th>\n",
              "      <th>Images</th>\n",
              "      <th>Name</th>\n",
              "    </tr>\n",
              "  </thead>\n",
              "  <tbody>\n",
              "    <tr>\n",
              "      <th>0</th>\n",
              "      <td>/content/drive/My Drive/DataSet/Bollywood Acto...</td>\n",
              "      <td>adil_hussain</td>\n",
              "    </tr>\n",
              "    <tr>\n",
              "      <th>1</th>\n",
              "      <td>/content/drive/My Drive/DataSet/Bollywood Acto...</td>\n",
              "      <td>adil_hussain</td>\n",
              "    </tr>\n",
              "    <tr>\n",
              "      <th>2</th>\n",
              "      <td>/content/drive/My Drive/DataSet/Bollywood Acto...</td>\n",
              "      <td>adil_hussain</td>\n",
              "    </tr>\n",
              "    <tr>\n",
              "      <th>3</th>\n",
              "      <td>/content/drive/My Drive/DataSet/Bollywood Acto...</td>\n",
              "      <td>adil_hussain</td>\n",
              "    </tr>\n",
              "    <tr>\n",
              "      <th>4</th>\n",
              "      <td>/content/drive/My Drive/DataSet/Bollywood Acto...</td>\n",
              "      <td>adil_hussain</td>\n",
              "    </tr>\n",
              "    <tr>\n",
              "      <th>...</th>\n",
              "      <td>...</td>\n",
              "      <td>...</td>\n",
              "    </tr>\n",
              "    <tr>\n",
              "      <th>6683</th>\n",
              "      <td>/content/drive/My Drive/DataSet/Bollywood Acto...</td>\n",
              "      <td>zeenat_aman</td>\n",
              "    </tr>\n",
              "    <tr>\n",
              "      <th>6684</th>\n",
              "      <td>/content/drive/My Drive/DataSet/Bollywood Acto...</td>\n",
              "      <td>zeenat_aman</td>\n",
              "    </tr>\n",
              "    <tr>\n",
              "      <th>6685</th>\n",
              "      <td>/content/drive/My Drive/DataSet/Bollywood Acto...</td>\n",
              "      <td>zeenat_aman</td>\n",
              "    </tr>\n",
              "    <tr>\n",
              "      <th>6686</th>\n",
              "      <td>/content/drive/My Drive/DataSet/Bollywood Acto...</td>\n",
              "      <td>zeenat_aman</td>\n",
              "    </tr>\n",
              "    <tr>\n",
              "      <th>6687</th>\n",
              "      <td>/content/drive/My Drive/DataSet/Bollywood Acto...</td>\n",
              "      <td>zeenat_aman</td>\n",
              "    </tr>\n",
              "  </tbody>\n",
              "</table>\n",
              "<p>6688 rows × 2 columns</p>\n",
              "</div>\n",
              "      <button class=\"colab-df-convert\" onclick=\"convertToInteractive('df-6560cc87-45fe-4ac9-9376-6251608f6b2f')\"\n",
              "              title=\"Convert this dataframe to an interactive table.\"\n",
              "              style=\"display:none;\">\n",
              "        \n",
              "  <svg xmlns=\"http://www.w3.org/2000/svg\" height=\"24px\"viewBox=\"0 0 24 24\"\n",
              "       width=\"24px\">\n",
              "    <path d=\"M0 0h24v24H0V0z\" fill=\"none\"/>\n",
              "    <path d=\"M18.56 5.44l.94 2.06.94-2.06 2.06-.94-2.06-.94-.94-2.06-.94 2.06-2.06.94zm-11 1L8.5 8.5l.94-2.06 2.06-.94-2.06-.94L8.5 2.5l-.94 2.06-2.06.94zm10 10l.94 2.06.94-2.06 2.06-.94-2.06-.94-.94-2.06-.94 2.06-2.06.94z\"/><path d=\"M17.41 7.96l-1.37-1.37c-.4-.4-.92-.59-1.43-.59-.52 0-1.04.2-1.43.59L10.3 9.45l-7.72 7.72c-.78.78-.78 2.05 0 2.83L4 21.41c.39.39.9.59 1.41.59.51 0 1.02-.2 1.41-.59l7.78-7.78 2.81-2.81c.8-.78.8-2.07 0-2.86zM5.41 20L4 18.59l7.72-7.72 1.47 1.35L5.41 20z\"/>\n",
              "  </svg>\n",
              "      </button>\n",
              "      \n",
              "  <style>\n",
              "    .colab-df-container {\n",
              "      display:flex;\n",
              "      flex-wrap:wrap;\n",
              "      gap: 12px;\n",
              "    }\n",
              "\n",
              "    .colab-df-convert {\n",
              "      background-color: #E8F0FE;\n",
              "      border: none;\n",
              "      border-radius: 50%;\n",
              "      cursor: pointer;\n",
              "      display: none;\n",
              "      fill: #1967D2;\n",
              "      height: 32px;\n",
              "      padding: 0 0 0 0;\n",
              "      width: 32px;\n",
              "    }\n",
              "\n",
              "    .colab-df-convert:hover {\n",
              "      background-color: #E2EBFA;\n",
              "      box-shadow: 0px 1px 2px rgba(60, 64, 67, 0.3), 0px 1px 3px 1px rgba(60, 64, 67, 0.15);\n",
              "      fill: #174EA6;\n",
              "    }\n",
              "\n",
              "    [theme=dark] .colab-df-convert {\n",
              "      background-color: #3B4455;\n",
              "      fill: #D2E3FC;\n",
              "    }\n",
              "\n",
              "    [theme=dark] .colab-df-convert:hover {\n",
              "      background-color: #434B5C;\n",
              "      box-shadow: 0px 1px 3px 1px rgba(0, 0, 0, 0.15);\n",
              "      filter: drop-shadow(0px 1px 2px rgba(0, 0, 0, 0.3));\n",
              "      fill: #FFFFFF;\n",
              "    }\n",
              "  </style>\n",
              "\n",
              "      <script>\n",
              "        const buttonEl =\n",
              "          document.querySelector('#df-6560cc87-45fe-4ac9-9376-6251608f6b2f button.colab-df-convert');\n",
              "        buttonEl.style.display =\n",
              "          google.colab.kernel.accessAllowed ? 'block' : 'none';\n",
              "\n",
              "        async function convertToInteractive(key) {\n",
              "          const element = document.querySelector('#df-6560cc87-45fe-4ac9-9376-6251608f6b2f');\n",
              "          const dataTable =\n",
              "            await google.colab.kernel.invokeFunction('convertToInteractive',\n",
              "                                                     [key], {});\n",
              "          if (!dataTable) return;\n",
              "\n",
              "          const docLinkHtml = 'Like what you see? Visit the ' +\n",
              "            '<a target=\"_blank\" href=https://colab.research.google.com/notebooks/data_table.ipynb>data table notebook</a>'\n",
              "            + ' to learn more about interactive tables.';\n",
              "          element.innerHTML = '';\n",
              "          dataTable['output_type'] = 'display_data';\n",
              "          await google.colab.output.renderOutput(dataTable, element);\n",
              "          const docLink = document.createElement('div');\n",
              "          docLink.innerHTML = docLinkHtml;\n",
              "          element.appendChild(docLink);\n",
              "        }\n",
              "      </script>\n",
              "    </div>\n",
              "  </div>\n",
              "  "
            ]
          },
          "metadata": {},
          "execution_count": 12
        }
      ]
    },
    {
      "cell_type": "code",
      "source": [
        "plt.imshow(cv2.imread(df['Images'][5600]))"
      ],
      "metadata": {
        "colab": {
          "base_uri": "https://localhost:8080/",
          "height": 286
        },
        "id": "PYYt_OM2lI_T",
        "outputId": "de537d68-7233-4f82-cbfa-3ed73ed6020e"
      },
      "execution_count": 13,
      "outputs": [
        {
          "output_type": "execute_result",
          "data": {
            "text/plain": [
              "<matplotlib.image.AxesImage at 0x7ff6c6fd3a10>"
            ]
          },
          "metadata": {},
          "execution_count": 13
        },
        {
          "output_type": "display_data",
          "data": {
            "text/plain": [
              "<Figure size 432x288 with 1 Axes>"
            ],
            "image/png": "[encoded data removed]"
          },
          "metadata": {
            "needs_background": "light"
          }
        }
      ]
    },
    {
      "cell_type": "code",
      "source": [
        "df['Name'].value_counts()"
      ],
      "metadata": {
        "colab": {
          "base_uri": "https://localhost:8080/"
        },
        "id": "lykYwv3HlcqN",
        "outputId": "7eb65a0b-5f08-417d-c3a7-20ecbf2df81c"
      },
      "execution_count": 14,
      "outputs": [
        {
          "output_type": "execute_result",
          "data": {
            "text/plain": [
              "nargis             50\n",
              "priyanka_chopra    50\n",
              "ranbir_kapoor      50\n",
              "ramya_krishnan     50\n",
              "rakhee_gulzar      50\n",
              "                   ..\n",
              "jaspal_bhatti      50\n",
              "irrfan_khan        50\n",
              "huma_qureshi       50\n",
              "hrithik_roshan     50\n",
              "adil_hussain       38\n",
              "Name: Name, Length: 134, dtype: int64"
            ]
          },
          "metadata": {},
          "execution_count": 14
        }
      ]
    },
    {
      "cell_type": "code",
      "source": [
        "#Images resize\n",
        "\n",
        "img2 = cv2.imread(images_list[5])\n",
        "img2.shape\n",
        "img2 = cv2.resize(img2, (224,224))\n",
        "img2.shape"
      ],
      "metadata": {
        "colab": {
          "base_uri": "https://localhost:8080/"
        },
        "id": "c3vg1qUTlwPU",
        "outputId": "0c0954e2-9a6f-4ac6-af87-5278bed62244"
      },
      "execution_count": 15,
      "outputs": [
        {
          "output_type": "execute_result",
          "data": {
            "text/plain": [
              "(224, 224, 3)"
            ]
          },
          "metadata": {},
          "execution_count": 15
        }
      ]
    },
    {
      "cell_type": "code",
      "source": [
        "images_array = []\n",
        "images_array"
      ],
      "metadata": {
        "colab": {
          "base_uri": "https://localhost:8080/"
        },
        "id": "K5Z2vU596NML",
        "outputId": "4e7f995a-357c-46d7-cc37-c7d28a3980b1"
      },
      "execution_count": 16,
      "outputs": [
        {
          "output_type": "execute_result",
          "data": {
            "text/plain": [
              "[]"
            ]
          },
          "metadata": {},
          "execution_count": 16
        }
      ]
    },
    {
      "cell_type": "code",
      "source": [
        "images_array = []\n",
        "\n",
        "for img3 in tqdm(images_list):\n",
        "  img3 = cv2.imread(img3)\n",
        "  img3 = cv2.resize(img3, (224,224))\n",
        "  images_array.append(img3)\n",
        "\n",
        "print(images_array[3])"
      ],
      "metadata": {
        "colab": {
          "base_uri": "https://localhost:8080/"
        },
        "id": "s9svoYlnyPED",
        "outputId": "2fc7826a-8b5c-46b6-a7ad-c018339b55d9"
      },
      "execution_count": 17,
      "outputs": [
        {
          "output_type": "stream",
          "name": "stderr",
          "text": [
            "100%|██████████| 6688/6688 [26:07<00:00,  4.27it/s]"
          ]
        },
        {
          "output_type": "stream",
          "name": "stdout",
          "text": [
            "[[[ 55  65  95]\n",
            "  [ 58  68  98]\n",
            "  [ 62  72 102]\n",
            "  ...\n",
            "  [105 226 240]\n",
            "  [100 223 237]\n",
            "  [100 223 237]]\n",
            "\n",
            " [[ 47  57  87]\n",
            "  [ 56  65  96]\n",
            "  [ 63  73 103]\n",
            "  ...\n",
            "  [104 226 240]\n",
            "  [102 225 239]\n",
            "  [102 225 239]]\n",
            "\n",
            " [[ 50  60  90]\n",
            "  [ 54  64  94]\n",
            "  [ 58  68  98]\n",
            "  ...\n",
            "  [104 226 240]\n",
            "  [103 226 240]\n",
            "  [103 226 240]]\n",
            "\n",
            " ...\n",
            "\n",
            " [[ 64  89 128]\n",
            "  [ 77 144 189]\n",
            "  [ 64 161 215]\n",
            "  ...\n",
            "  [ 95 193 199]\n",
            "  [ 96 194 200]\n",
            "  [ 96 194 200]]\n",
            "\n",
            " [[ 66  92 129]\n",
            "  [ 77 147 190]\n",
            "  [ 66 165 216]\n",
            "  ...\n",
            "  [ 94 194 199]\n",
            "  [ 96 196 201]\n",
            "  [ 96 196 201]]\n",
            "\n",
            " [[ 59  89 123]\n",
            "  [ 79 154 198]\n",
            "  [ 62 163 215]\n",
            "  ...\n",
            "  [ 91 190 198]\n",
            "  [ 96 194 199]\n",
            "  [ 92 190 196]]]\n"
          ]
        },
        {
          "output_type": "stream",
          "name": "stderr",
          "text": [
            "\n"
          ]
        }
      ]
    },
    {
      "cell_type": "code",
      "source": [
        "#dimension changing of images to 4D array which s acceptabele by keras lib\n",
        "\n",
        "images_array_dims = []\n",
        "for img4 in tqdm(images_array):\n",
        "  img4 = np.expand_dims(img4,axis = 0)\n",
        "  images_array_dims.append(img4)\n",
        "\n",
        "print(images_array_dims[2].shape)\n"
      ],
      "metadata": {
        "colab": {
          "base_uri": "https://localhost:8080/"
        },
        "id": "FUAYL2hRytmb",
        "outputId": "0aa5913f-5c92-4b95-a630-c00cd642db3b"
      },
      "execution_count": 18,
      "outputs": [
        {
          "output_type": "stream",
          "name": "stderr",
          "text": [
            "100%|██████████| 6688/6688 [00:00<00:00, 145455.37it/s]"
          ]
        },
        {
          "output_type": "stream",
          "name": "stdout",
          "text": [
            "(1, 224, 224, 3)\n"
          ]
        },
        {
          "output_type": "stream",
          "name": "stderr",
          "text": [
            "\n"
          ]
        }
      ]
    },
    {
      "cell_type": "code",
      "source": [
        "outputfile = open('images_array_dims.pkl', 'wb')\n",
        "pickle.dump(images_array_dims, outputfile)\n",
        "outputfile.close()"
      ],
      "metadata": {
        "id": "HW_Xh1PYA3dr"
      },
      "execution_count": 19,
      "outputs": []
    },
    {
      "cell_type": "code",
      "source": [
        "import os\n",
        "os.listdir()"
      ],
      "metadata": {
        "colab": {
          "base_uri": "https://localhost:8080/"
        },
        "id": "G9QviiAmzFAt",
        "outputId": "0bd9ff98-0d4e-4fef-9a8a-48d4f0b3ebd1"
      },
      "execution_count": 21,
      "outputs": [
        {
          "output_type": "execute_result",
          "data": {
            "text/plain": [
              "['.config', 'drive', 'images_array_dims.pkl', 'sample_data']"
            ]
          },
          "metadata": {},
          "execution_count": 21
        }
      ]
    },
    {
      "cell_type": "code",
      "source": [
        "from google.colab import files\n",
        "files.download('images_array_dims.pkl')"
      ],
      "metadata": {
        "colab": {
          "base_uri": "https://localhost:8080/",
          "height": 34
        },
        "id": "IzVMk-gtzM98",
        "outputId": "ba249ae8-b44a-4149-c16b-ddeee9155621"
      },
      "execution_count": 59,
      "outputs": [
        {
          "output_type": "display_data",
          "data": {
            "text/plain": [
              "<IPython.core.display.Javascript object>"
            ],
            "application/javascript": [
              "\n",
              "    async function download(id, filename, size) {\n",
              "      if (!google.colab.kernel.accessAllowed) {\n",
              "        return;\n",
              "      }\n",
              "      const div = document.createElement('div');\n",
              "      const label = document.createElement('label');\n",
              "      label.textContent = `Downloading \"${filename}\": `;\n",
              "      div.appendChild(label);\n",
              "      const progress = document.createElement('progress');\n",
              "      progress.max = size;\n",
              "      div.appendChild(progress);\n",
              "      document.body.appendChild(div);\n",
              "\n",
              "      const buffers = [];\n",
              "      let downloaded = 0;\n",
              "\n",
              "      const channel = await google.colab.kernel.comms.open(id);\n",
              "      // Send a message to notify the kernel that we're ready.\n",
              "      channel.send({})\n",
              "\n",
              "      for await (const message of channel.messages) {\n",
              "        // Send a message to notify the kernel that we're ready.\n",
              "        channel.send({})\n",
              "        if (message.buffers) {\n",
              "          for (const buffer of message.buffers) {\n",
              "            buffers.push(buffer);\n",
              "            downloaded += buffer.byteLength;\n",
              "            progress.value = downloaded;\n",
              "          }\n",
              "        }\n",
              "      }\n",
              "      const blob = new Blob(buffers, {type: 'application/binary'});\n",
              "      const a = document.createElement('a');\n",
              "      a.href = window.URL.createObjectURL(blob);\n",
              "      a.download = filename;\n",
              "      div.appendChild(a);\n",
              "      a.click();\n",
              "      div.remove();\n",
              "    }\n",
              "  "
            ]
          },
          "metadata": {}
        },
        {
          "output_type": "display_data",
          "data": {
            "text/plain": [
              "<IPython.core.display.Javascript object>"
            ],
            "application/javascript": [
              "download(\"download_069c130e-5d3c-4377-8c12-018f003e8821\", \"images_array_dims.pkl\", 1007158692)"
            ]
          },
          "metadata": {}
        }
      ]
    },
    {
      "cell_type": "code",
      "source": [
        "import keras\n",
        "from keras.applications.resnet import ResNet50 \n",
        "from keras.applications.resnet import preprocess_input\n",
        "\n",
        "from keras.layers import GlobalMaxPooling2D \n"
      ],
      "metadata": {
        "id": "7Zl4xlkfuHSs"
      },
      "execution_count": 37,
      "outputs": []
    },
    {
      "cell_type": "code",
      "source": [
        "model = ResNet50(include_top = False, weights='imagenet')\n",
        "model.trainable = False\n",
        "\n",
        "model = keras.Sequential([model,GlobalMaxPooling2D()])\n"
      ],
      "metadata": {
        "id": "oH1G3RI5xhEQ"
      },
      "execution_count": 39,
      "outputs": []
    },
    {
      "cell_type": "code",
      "source": [
        "#now predict the output for first photo, \n",
        "pred1 = model.predict(preprocess_input(images_array_dims[0]))\n",
        "pred1.shape\n"
      ],
      "metadata": {
        "id": "TKKWe1w4zjVo",
        "colab": {
          "base_uri": "https://localhost:8080/"
        },
        "outputId": "92a1fa9b-ab8c-43f6-d23a-81ab5cb11483"
      },
      "execution_count": 43,
      "outputs": [
        {
          "output_type": "execute_result",
          "data": {
            "text/plain": [
              "(1, 2048)"
            ]
          },
          "metadata": {},
          "execution_count": 43
        }
      ]
    },
    {
      "cell_type": "code",
      "source": [
        "pred1"
      ],
      "metadata": {
        "colab": {
          "base_uri": "https://localhost:8080/"
        },
        "id": "1T3H78HU1f7u",
        "outputId": "e602ab50-73e0-4812-a147-5d40b827bb6c"
      },
      "execution_count": 44,
      "outputs": [
        {
          "output_type": "execute_result",
          "data": {
            "text/plain": [
              "array([[1.7345965 , 7.3371496 , 1.197293  , ..., 2.6937442 , 0.44821393,\n",
              "        2.8665588 ]], dtype=float32)"
            ]
          },
          "metadata": {},
          "execution_count": 44
        }
      ]
    },
    {
      "cell_type": "code",
      "source": [
        "#flatten this data to only single list like [], \n",
        "pred1 = pred1.flatten()\n",
        "pred1.shape"
      ],
      "metadata": {
        "colab": {
          "base_uri": "https://localhost:8080/"
        },
        "id": "m1utivB21iFm",
        "outputId": "5e40b321-6231-48fc-ba50-068d0397b535"
      },
      "execution_count": 45,
      "outputs": [
        {
          "output_type": "execute_result",
          "data": {
            "text/plain": [
              "(2048,)"
            ]
          },
          "metadata": {},
          "execution_count": 45
        }
      ]
    },
    {
      "cell_type": "code",
      "source": [
        "#!pip install linalg"
      ],
      "metadata": {
        "colab": {
          "base_uri": "https://localhost:8080/"
        },
        "id": "_lIu4q2d2A62",
        "outputId": "143cf00f-1721-4b0d-de48-8416db89464e"
      },
      "execution_count": 47,
      "outputs": [
        {
          "output_type": "stream",
          "name": "stdout",
          "text": [
            "Looking in indexes: https://pypi.org/simple, https://us-python.pkg.dev/colab-wheels/public/simple/\n",
            "Collecting linalg\n",
            "  Downloading linalg-1.0.4.tar.gz (4.7 kB)\n",
            "Building wheels for collected packages: linalg\n",
            "  Building wheel for linalg (setup.py) ... \u001b[?25l\u001b[?25hdone\n",
            "  Created wheel for linalg: filename=linalg-1.0.4-py3-none-any.whl size=6293 sha256=a283d32dff36d2d8a9b751be26de186295914b2931dfcbe71beebb3ed71e5187\n",
            "  Stored in directory: /root/.cache/pip/wheels/95/b7/4f/80270f2a339ca90d7abee59235fba6650748e505fc990206f9\n",
            "Successfully built linalg\n",
            "Installing collected packages: linalg\n",
            "Successfully installed linalg-1.0.4\n"
          ]
        }
      ]
    },
    {
      "cell_type": "code",
      "source": [
        "#we need to normalised the data to reduce computtion time, so here we uses norm fuction of linear algebra package\n",
        "from numpy.linalg import norm\n",
        "pred1/norm(pred1)\n"
      ],
      "metadata": {
        "colab": {
          "base_uri": "https://localhost:8080/"
        },
        "id": "-5CttZBr1r36",
        "outputId": "e3565b41-58c5-4342-df6b-654affe2956c"
      },
      "execution_count": 50,
      "outputs": [
        {
          "output_type": "execute_result",
          "data": {
            "text/plain": [
              "array([0.00506203, 0.02141184, 0.00349403, ..., 0.00786109, 0.00130801,\n",
              "       0.00836541], dtype=float32)"
            ]
          },
          "metadata": {},
          "execution_count": 50
        }
      ]
    },
    {
      "cell_type": "code",
      "source": [
        "#function making to perform above task for every images data in images_array_dims\n",
        "\n",
        "#feature_list to hold features\n",
        "\n",
        "feature_list = []\n",
        "\n",
        "def feature_extraction(img_array):\n",
        "  img_array = preprocess_input(img_array)\n",
        "  img_array = model.predict(img_array)\n",
        "  img_array = img_array.flatten()\n",
        "  img_array = img_array/norm(img_array)\n",
        "  feature_list.append(img_array)\n",
        "  \n"
      ],
      "metadata": {
        "id": "yjbsh9hq2poL"
      },
      "execution_count": 54,
      "outputs": []
    },
    {
      "cell_type": "code",
      "source": [
        "#main function to call feature extraction\n",
        "\n",
        "for img5 in tqdm(images_array_dims):\n",
        "  feature_extraction(img5)\n",
        "\n",
        "print(len(feature_list))"
      ],
      "metadata": {
        "colab": {
          "base_uri": "https://localhost:8080/"
        },
        "id": "SO6Q9_2t3iBZ",
        "outputId": "024978ff-3524-43c7-ff05-3c86242a536b"
      },
      "execution_count": 56,
      "outputs": [
        {
          "output_type": "stream",
          "name": "stderr",
          "text": [
            "100%|██████████| 6688/6688 [27:07<00:00,  4.11it/s]"
          ]
        },
        {
          "output_type": "stream",
          "name": "stdout",
          "text": [
            "6691\n"
          ]
        },
        {
          "output_type": "stream",
          "name": "stderr",
          "text": [
            "\n"
          ]
        }
      ]
    },
    {
      "cell_type": "code",
      "source": [
        "outputfile = open('feature_list.pkl', 'wb')\n",
        "pickle.dump(feature_list, outputfile)"
      ],
      "metadata": {
        "id": "epOiqVzF4306"
      },
      "execution_count": 57,
      "outputs": []
    },
    {
      "cell_type": "code",
      "source": [
        "files.download('feature_list.pkl')"
      ],
      "metadata": {
        "colab": {
          "base_uri": "https://localhost:8080/",
          "height": 17
        },
        "id": "IgCrXdYe_Eqd",
        "outputId": "7117a749-afe6-41e7-bd97-00c2eef63de8"
      },
      "execution_count": 58,
      "outputs": [
        {
          "output_type": "display_data",
          "data": {
            "text/plain": [
              "<IPython.core.display.Javascript object>"
            ],
            "application/javascript": [
              "\n",
              "    async function download(id, filename, size) {\n",
              "      if (!google.colab.kernel.accessAllowed) {\n",
              "        return;\n",
              "      }\n",
              "      const div = document.createElement('div');\n",
              "      const label = document.createElement('label');\n",
              "      label.textContent = `Downloading \"${filename}\": `;\n",
              "      div.appendChild(label);\n",
              "      const progress = document.createElement('progress');\n",
              "      progress.max = size;\n",
              "      div.appendChild(progress);\n",
              "      document.body.appendChild(div);\n",
              "\n",
              "      const buffers = [];\n",
              "      let downloaded = 0;\n",
              "\n",
              "      const channel = await google.colab.kernel.comms.open(id);\n",
              "      // Send a message to notify the kernel that we're ready.\n",
              "      channel.send({})\n",
              "\n",
              "      for await (const message of channel.messages) {\n",
              "        // Send a message to notify the kernel that we're ready.\n",
              "        channel.send({})\n",
              "        if (message.buffers) {\n",
              "          for (const buffer of message.buffers) {\n",
              "            buffers.push(buffer);\n",
              "            downloaded += buffer.byteLength;\n",
              "            progress.value = downloaded;\n",
              "          }\n",
              "        }\n",
              "      }\n",
              "      const blob = new Blob(buffers, {type: 'application/binary'});\n",
              "      const a = document.createElement('a');\n",
              "      a.href = window.URL.createObjectURL(blob);\n",
              "      a.download = filename;\n",
              "      div.appendChild(a);\n",
              "      a.click();\n",
              "      div.remove();\n",
              "    }\n",
              "  "
            ]
          },
          "metadata": {}
        },
        {
          "output_type": "display_data",
          "data": {
            "text/plain": [
              "<IPython.core.display.Javascript object>"
            ],
            "application/javascript": [
              "download(\"download_195f3fb4-4f53-4ae2-98c1-cf4defb0cc79\", \"feature_list.pkl\", 55200146)"
            ]
          },
          "metadata": {}
        }
      ]
    },
    {
      "cell_type": "code",
      "source": [
        ""
      ],
      "metadata": {
        "id": "fK1oLV60AaQf"
      },
      "execution_count": null,
      "outputs": []
    }
  ]
}