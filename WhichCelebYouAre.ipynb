{
  "cells": [
    {
      "cell_type": "markdown",
      "metadata": {
        "id": "view-in-github",
        "colab_type": "text"
      },
      "source": [
        "<a href=\"https://colab.research.google.com/github/mohtashim0007/Machine-Learning-Projects/blob/main/WhichCelebYouAre.ipynb\" target=\"_parent\"><img src=\"https://colab.research.google.com/assets/colab-badge.svg\" alt=\"Open In Colab\"/></a>"
      ]
    },
    {
      "cell_type": "code",
      "execution_count": 1,
      "metadata": {
        "id": "T-XgA3bDj0dV"
      },
      "outputs": [],
      "source": [
        "import glob\n",
        "import cv2\n",
        "import matplotlib.pyplot as plt\n",
        "import pandas as pd\n",
        "import numpy as np\n",
        "from tqdm import tqdm\n",
        "import pickle\n",
        "import os\n",
        "from numpy.linalg import norm\n",
        "from google.colab.patches import cv2_imshow"
      ]
    },
    {
      "cell_type": "code",
      "execution_count": 3,
      "metadata": {
        "colab": {
          "base_uri": "https://localhost:8080/"
        },
        "id": "vSQYknrzu3oi",
        "outputId": "67ec6dc8-514d-4933-a1dc-f4b7ba6ae99a"
      },
      "outputs": [
        {
          "output_type": "stream",
          "name": "stdout",
          "text": [
            "Mounted at /content/drive\n"
          ]
        }
      ],
      "source": [
        "from google.colab import drive\n",
        "drive.mount('/content/drive')"
      ]
    },
    {
      "cell_type": "code",
      "execution_count": 4,
      "metadata": {
        "colab": {
          "base_uri": "https://localhost:8080/"
        },
        "id": "39kfn1tLvZZI",
        "outputId": "18d66780-f44b-4fc1-cc73-c09f954dd222"
      },
      "outputs": [
        {
          "output_type": "stream",
          "name": "stdout",
          "text": [
            "['abhay_deol', 'adil_hussain', 'ajay_devgn', 'akshay_kumar', 'akshaye_khanna', 'amitabh_bachchan', 'amjad_khan', 'amol_palekar', 'amole_gupte', 'amrish_puri', 'anil_kapoor', 'annu_kapoor', 'anupam_kher', 'anushka_shetty', 'arshad_warsi', 'aruna_irani', 'ashish_vidyarthi', 'asrani', 'atul_kulkarni', 'ayushmann_khurrana', 'boman_irani', 'chiranjeevi', 'chunky_panday', 'danny_denzongpa', 'darsheel_safary', 'deepika_padukone', 'deepti_naval', 'dev_anand', 'dharmendra', 'dilip_kumar', 'dimple_kapadia', 'farhan_akhtar', 'farida_jalal', 'farooq_shaikh', 'girish_karnad', 'govinda', 'gulshan_grover', 'hrithik_roshan', 'huma_qureshi', 'irrfan_khan', 'jaspal_bhatti', 'jeetendra', 'jimmy_sheirgill', 'johnny_lever', 'kader_khan', 'kajol', 'kalki_koechlin', 'kamal_haasan', 'kangana_ranaut', 'kay_kay_menon', 'konkona_sen_sharma', 'kulbhushan_kharbanda', 'lara_dutta', 'madhavan', 'madhuri_dixit', 'mammootty', 'manoj_bajpayee', 'manoj_pahwa', 'mehmood', 'mita_vashisht', 'mithun_chakraborty', 'mohanlal', 'mohnish_bahl', 'mukesh_khanna', 'mukul_dev', 'nagarjuna_akkineni', 'nana_patekar', 'nandita_das', 'nargis', 'naseeruddin_shah', 'navin_nischol', 'nawazuddin_siddiqui', 'neeraj_kabi', 'nirupa_roy', 'om_puri', 'pankaj_kapur', 'pankaj_tripathi', 'paresh_rawal', 'pawan_malhotra', 'pooja_bhatt', 'prabhas', 'prabhu_deva', 'prakash_raj', 'pran', 'prem_chopra', 'priyanka_chopra', 'raaj_kumar', 'radhika_apte', 'rahul_bose', 'raj_babbar', 'raj_kapoor', 'rajat_kapoor', 'rajesh_khanna', 'rajinikanth', 'rajit_kapoor', 'rajkummar_rao', 'rajpal_yadav', 'rakhee_gulzar', 'ramya_krishnan', 'ranbir_kapoor', 'randeep_hooda', 'rani_mukerji', 'ranveer_singh', 'ranvir_shorey', 'ratna_pathak_shah', 'rekha', 'richa_chadha', 'rishi_kapoor', 'riteish_deshmukh', 'sachin_khedekar', 'saeed_jaffrey', 'saif_ali_khan', 'salman_khan', 'sanjay_dutt', 'sanjay_mishra', 'shabana_azmi', 'shah_rukh_khan', 'sharman_joshi', 'sharmila_tagore', 'shashi_kapoor', 'shreyas_talpade', 'smita_patil', 'soumitra_chatterjee', 'sridevi', 'sunil_shetty', 'sunny_deol', 'tabu', 'tinnu_anand', 'utpal_dutt', 'varun_dhawan', 'vidya_balan', 'vinod_khanna', 'waheeda_rehman', 'zarina_wahab', 'zeenat_aman']\n"
          ]
        }
      ],
      "source": [
        "actorsName = []\n",
        "\n",
        "files = open('/content/drive/MyDrive/DataSet/List of Actors.txt', 'r')\n",
        "\n",
        "for f in files.readlines():\n",
        "  if f is not None and f != '\\n':\n",
        "    actorsName.append(f.replace('\\n',''))\n",
        "\n",
        "print(actorsName)"
      ]
    },
    {
      "cell_type": "code",
      "execution_count": null,
      "metadata": {
        "id": "HGhbQyMIBQbK"
      },
      "outputs": [],
      "source": [
        ""
      ]
    },
    {
      "cell_type": "code",
      "execution_count": 5,
      "metadata": {
        "colab": {
          "base_uri": "https://localhost:8080/"
        },
        "id": "75F05iapt5Cw",
        "outputId": "c981cb54-758e-4651-c75b-4c387d84eb27"
      },
      "outputs": [
        {
          "output_type": "stream",
          "name": "stdout",
          "text": [
            "['/content/drive/My Drive/DataSet/Bollywood Actor Images/Bollywood Actor Images/abhay_deol', '/content/drive/My Drive/DataSet/Bollywood Actor Images/Bollywood Actor Images/adil_hussain', '/content/drive/My Drive/DataSet/Bollywood Actor Images/Bollywood Actor Images/ajay_devgn', '/content/drive/My Drive/DataSet/Bollywood Actor Images/Bollywood Actor Images/akshay_kumar', '/content/drive/My Drive/DataSet/Bollywood Actor Images/Bollywood Actor Images/akshaye_khanna', '/content/drive/My Drive/DataSet/Bollywood Actor Images/Bollywood Actor Images/amitabh_bachchan', '/content/drive/My Drive/DataSet/Bollywood Actor Images/Bollywood Actor Images/amjad_khan', '/content/drive/My Drive/DataSet/Bollywood Actor Images/Bollywood Actor Images/amol_palekar', '/content/drive/My Drive/DataSet/Bollywood Actor Images/Bollywood Actor Images/amole_gupte', '/content/drive/My Drive/DataSet/Bollywood Actor Images/Bollywood Actor Images/amrish_puri', '/content/drive/My Drive/DataSet/Bollywood Actor Images/Bollywood Actor Images/anil_kapoor', '/content/drive/My Drive/DataSet/Bollywood Actor Images/Bollywood Actor Images/annu_kapoor', '/content/drive/My Drive/DataSet/Bollywood Actor Images/Bollywood Actor Images/anupam_kher', '/content/drive/My Drive/DataSet/Bollywood Actor Images/Bollywood Actor Images/anushka_shetty', '/content/drive/My Drive/DataSet/Bollywood Actor Images/Bollywood Actor Images/arshad_warsi', '/content/drive/My Drive/DataSet/Bollywood Actor Images/Bollywood Actor Images/aruna_irani', '/content/drive/My Drive/DataSet/Bollywood Actor Images/Bollywood Actor Images/ashish_vidyarthi', '/content/drive/My Drive/DataSet/Bollywood Actor Images/Bollywood Actor Images/asrani', '/content/drive/My Drive/DataSet/Bollywood Actor Images/Bollywood Actor Images/atul_kulkarni', '/content/drive/My Drive/DataSet/Bollywood Actor Images/Bollywood Actor Images/ayushmann_khurrana', '/content/drive/My Drive/DataSet/Bollywood Actor Images/Bollywood Actor Images/boman_irani', '/content/drive/My Drive/DataSet/Bollywood Actor Images/Bollywood Actor Images/chiranjeevi', '/content/drive/My Drive/DataSet/Bollywood Actor Images/Bollywood Actor Images/chunky_panday', '/content/drive/My Drive/DataSet/Bollywood Actor Images/Bollywood Actor Images/danny_denzongpa', '/content/drive/My Drive/DataSet/Bollywood Actor Images/Bollywood Actor Images/darsheel_safary', '/content/drive/My Drive/DataSet/Bollywood Actor Images/Bollywood Actor Images/deepika_padukone', '/content/drive/My Drive/DataSet/Bollywood Actor Images/Bollywood Actor Images/deepti_naval', '/content/drive/My Drive/DataSet/Bollywood Actor Images/Bollywood Actor Images/dev_anand', '/content/drive/My Drive/DataSet/Bollywood Actor Images/Bollywood Actor Images/dharmendra', '/content/drive/My Drive/DataSet/Bollywood Actor Images/Bollywood Actor Images/dilip_kumar', '/content/drive/My Drive/DataSet/Bollywood Actor Images/Bollywood Actor Images/dimple_kapadia', '/content/drive/My Drive/DataSet/Bollywood Actor Images/Bollywood Actor Images/farhan_akhtar', '/content/drive/My Drive/DataSet/Bollywood Actor Images/Bollywood Actor Images/farida_jalal', '/content/drive/My Drive/DataSet/Bollywood Actor Images/Bollywood Actor Images/farooq_shaikh', '/content/drive/My Drive/DataSet/Bollywood Actor Images/Bollywood Actor Images/girish_karnad', '/content/drive/My Drive/DataSet/Bollywood Actor Images/Bollywood Actor Images/govinda', '/content/drive/My Drive/DataSet/Bollywood Actor Images/Bollywood Actor Images/gulshan_grover', '/content/drive/My Drive/DataSet/Bollywood Actor Images/Bollywood Actor Images/hrithik_roshan', '/content/drive/My Drive/DataSet/Bollywood Actor Images/Bollywood Actor Images/huma_qureshi', '/content/drive/My Drive/DataSet/Bollywood Actor Images/Bollywood Actor Images/irrfan_khan', '/content/drive/My Drive/DataSet/Bollywood Actor Images/Bollywood Actor Images/jaspal_bhatti', '/content/drive/My Drive/DataSet/Bollywood Actor Images/Bollywood Actor Images/jeetendra', '/content/drive/My Drive/DataSet/Bollywood Actor Images/Bollywood Actor Images/jimmy_sheirgill', '/content/drive/My Drive/DataSet/Bollywood Actor Images/Bollywood Actor Images/johnny_lever', '/content/drive/My Drive/DataSet/Bollywood Actor Images/Bollywood Actor Images/kader_khan', '/content/drive/My Drive/DataSet/Bollywood Actor Images/Bollywood Actor Images/kajol', '/content/drive/My Drive/DataSet/Bollywood Actor Images/Bollywood Actor Images/kalki_koechlin', '/content/drive/My Drive/DataSet/Bollywood Actor Images/Bollywood Actor Images/kamal_haasan', '/content/drive/My Drive/DataSet/Bollywood Actor Images/Bollywood Actor Images/kangana_ranaut', '/content/drive/My Drive/DataSet/Bollywood Actor Images/Bollywood Actor Images/kay_kay_menon', '/content/drive/My Drive/DataSet/Bollywood Actor Images/Bollywood Actor Images/konkona_sen_sharma', '/content/drive/My Drive/DataSet/Bollywood Actor Images/Bollywood Actor Images/kulbhushan_kharbanda', '/content/drive/My Drive/DataSet/Bollywood Actor Images/Bollywood Actor Images/lara_dutta', '/content/drive/My Drive/DataSet/Bollywood Actor Images/Bollywood Actor Images/madhavan', '/content/drive/My Drive/DataSet/Bollywood Actor Images/Bollywood Actor Images/madhuri_dixit', '/content/drive/My Drive/DataSet/Bollywood Actor Images/Bollywood Actor Images/mammootty', '/content/drive/My Drive/DataSet/Bollywood Actor Images/Bollywood Actor Images/manoj_bajpayee', '/content/drive/My Drive/DataSet/Bollywood Actor Images/Bollywood Actor Images/manoj_pahwa', '/content/drive/My Drive/DataSet/Bollywood Actor Images/Bollywood Actor Images/mehmood', '/content/drive/My Drive/DataSet/Bollywood Actor Images/Bollywood Actor Images/mita_vashisht', '/content/drive/My Drive/DataSet/Bollywood Actor Images/Bollywood Actor Images/mithun_chakraborty', '/content/drive/My Drive/DataSet/Bollywood Actor Images/Bollywood Actor Images/mohanlal', '/content/drive/My Drive/DataSet/Bollywood Actor Images/Bollywood Actor Images/mohnish_bahl', '/content/drive/My Drive/DataSet/Bollywood Actor Images/Bollywood Actor Images/mukesh_khanna', '/content/drive/My Drive/DataSet/Bollywood Actor Images/Bollywood Actor Images/mukul_dev', '/content/drive/My Drive/DataSet/Bollywood Actor Images/Bollywood Actor Images/nagarjuna_akkineni', '/content/drive/My Drive/DataSet/Bollywood Actor Images/Bollywood Actor Images/nana_patekar', '/content/drive/My Drive/DataSet/Bollywood Actor Images/Bollywood Actor Images/nandita_das', '/content/drive/My Drive/DataSet/Bollywood Actor Images/Bollywood Actor Images/nargis', '/content/drive/My Drive/DataSet/Bollywood Actor Images/Bollywood Actor Images/naseeruddin_shah', '/content/drive/My Drive/DataSet/Bollywood Actor Images/Bollywood Actor Images/navin_nischol', '/content/drive/My Drive/DataSet/Bollywood Actor Images/Bollywood Actor Images/nawazuddin_siddiqui', '/content/drive/My Drive/DataSet/Bollywood Actor Images/Bollywood Actor Images/neeraj_kabi', '/content/drive/My Drive/DataSet/Bollywood Actor Images/Bollywood Actor Images/nirupa_roy', '/content/drive/My Drive/DataSet/Bollywood Actor Images/Bollywood Actor Images/om_puri', '/content/drive/My Drive/DataSet/Bollywood Actor Images/Bollywood Actor Images/pankaj_kapur', '/content/drive/My Drive/DataSet/Bollywood Actor Images/Bollywood Actor Images/pankaj_tripathi', '/content/drive/My Drive/DataSet/Bollywood Actor Images/Bollywood Actor Images/paresh_rawal', '/content/drive/My Drive/DataSet/Bollywood Actor Images/Bollywood Actor Images/pawan_malhotra', '/content/drive/My Drive/DataSet/Bollywood Actor Images/Bollywood Actor Images/pooja_bhatt', '/content/drive/My Drive/DataSet/Bollywood Actor Images/Bollywood Actor Images/prabhas', '/content/drive/My Drive/DataSet/Bollywood Actor Images/Bollywood Actor Images/prabhu_deva', '/content/drive/My Drive/DataSet/Bollywood Actor Images/Bollywood Actor Images/prakash_raj', '/content/drive/My Drive/DataSet/Bollywood Actor Images/Bollywood Actor Images/pran', '/content/drive/My Drive/DataSet/Bollywood Actor Images/Bollywood Actor Images/prem_chopra', '/content/drive/My Drive/DataSet/Bollywood Actor Images/Bollywood Actor Images/priyanka_chopra', '/content/drive/My Drive/DataSet/Bollywood Actor Images/Bollywood Actor Images/raaj_kumar', '/content/drive/My Drive/DataSet/Bollywood Actor Images/Bollywood Actor Images/radhika_apte', '/content/drive/My Drive/DataSet/Bollywood Actor Images/Bollywood Actor Images/rahul_bose', '/content/drive/My Drive/DataSet/Bollywood Actor Images/Bollywood Actor Images/raj_babbar', '/content/drive/My Drive/DataSet/Bollywood Actor Images/Bollywood Actor Images/raj_kapoor', '/content/drive/My Drive/DataSet/Bollywood Actor Images/Bollywood Actor Images/rajat_kapoor', '/content/drive/My Drive/DataSet/Bollywood Actor Images/Bollywood Actor Images/rajesh_khanna', '/content/drive/My Drive/DataSet/Bollywood Actor Images/Bollywood Actor Images/rajinikanth', '/content/drive/My Drive/DataSet/Bollywood Actor Images/Bollywood Actor Images/rajit_kapoor', '/content/drive/My Drive/DataSet/Bollywood Actor Images/Bollywood Actor Images/rajkummar_rao', '/content/drive/My Drive/DataSet/Bollywood Actor Images/Bollywood Actor Images/rajpal_yadav', '/content/drive/My Drive/DataSet/Bollywood Actor Images/Bollywood Actor Images/rakhee_gulzar', '/content/drive/My Drive/DataSet/Bollywood Actor Images/Bollywood Actor Images/ramya_krishnan', '/content/drive/My Drive/DataSet/Bollywood Actor Images/Bollywood Actor Images/ranbir_kapoor', '/content/drive/My Drive/DataSet/Bollywood Actor Images/Bollywood Actor Images/randeep_hooda', '/content/drive/My Drive/DataSet/Bollywood Actor Images/Bollywood Actor Images/rani_mukerji', '/content/drive/My Drive/DataSet/Bollywood Actor Images/Bollywood Actor Images/ranveer_singh', '/content/drive/My Drive/DataSet/Bollywood Actor Images/Bollywood Actor Images/ranvir_shorey', '/content/drive/My Drive/DataSet/Bollywood Actor Images/Bollywood Actor Images/ratna_pathak_shah', '/content/drive/My Drive/DataSet/Bollywood Actor Images/Bollywood Actor Images/rekha', '/content/drive/My Drive/DataSet/Bollywood Actor Images/Bollywood Actor Images/richa_chadha', '/content/drive/My Drive/DataSet/Bollywood Actor Images/Bollywood Actor Images/rishi_kapoor', '/content/drive/My Drive/DataSet/Bollywood Actor Images/Bollywood Actor Images/riteish_deshmukh', '/content/drive/My Drive/DataSet/Bollywood Actor Images/Bollywood Actor Images/sachin_khedekar', '/content/drive/My Drive/DataSet/Bollywood Actor Images/Bollywood Actor Images/saeed_jaffrey', '/content/drive/My Drive/DataSet/Bollywood Actor Images/Bollywood Actor Images/saif_ali_khan', '/content/drive/My Drive/DataSet/Bollywood Actor Images/Bollywood Actor Images/salman_khan', '/content/drive/My Drive/DataSet/Bollywood Actor Images/Bollywood Actor Images/sanjay_dutt', '/content/drive/My Drive/DataSet/Bollywood Actor Images/Bollywood Actor Images/sanjay_mishra', '/content/drive/My Drive/DataSet/Bollywood Actor Images/Bollywood Actor Images/shabana_azmi', '/content/drive/My Drive/DataSet/Bollywood Actor Images/Bollywood Actor Images/shah_rukh_khan', '/content/drive/My Drive/DataSet/Bollywood Actor Images/Bollywood Actor Images/sharman_joshi', '/content/drive/My Drive/DataSet/Bollywood Actor Images/Bollywood Actor Images/sharmila_tagore', '/content/drive/My Drive/DataSet/Bollywood Actor Images/Bollywood Actor Images/shashi_kapoor', '/content/drive/My Drive/DataSet/Bollywood Actor Images/Bollywood Actor Images/shreyas_talpade', '/content/drive/My Drive/DataSet/Bollywood Actor Images/Bollywood Actor Images/smita_patil', '/content/drive/My Drive/DataSet/Bollywood Actor Images/Bollywood Actor Images/soumitra_chatterjee', '/content/drive/My Drive/DataSet/Bollywood Actor Images/Bollywood Actor Images/sridevi', '/content/drive/My Drive/DataSet/Bollywood Actor Images/Bollywood Actor Images/sunil_shetty', '/content/drive/My Drive/DataSet/Bollywood Actor Images/Bollywood Actor Images/sunny_deol', '/content/drive/My Drive/DataSet/Bollywood Actor Images/Bollywood Actor Images/tabu', '/content/drive/My Drive/DataSet/Bollywood Actor Images/Bollywood Actor Images/tinnu_anand', '/content/drive/My Drive/DataSet/Bollywood Actor Images/Bollywood Actor Images/utpal_dutt', '/content/drive/My Drive/DataSet/Bollywood Actor Images/Bollywood Actor Images/varun_dhawan', '/content/drive/My Drive/DataSet/Bollywood Actor Images/Bollywood Actor Images/vidya_balan', '/content/drive/My Drive/DataSet/Bollywood Actor Images/Bollywood Actor Images/vinod_khanna', '/content/drive/My Drive/DataSet/Bollywood Actor Images/Bollywood Actor Images/waheeda_rehman', '/content/drive/My Drive/DataSet/Bollywood Actor Images/Bollywood Actor Images/zarina_wahab', '/content/drive/My Drive/DataSet/Bollywood Actor Images/Bollywood Actor Images/zeenat_aman']\n"
          ]
        }
      ],
      "source": [
        "#creating path to read images for every actor image folders\n",
        "\n",
        "path = '/content/drive/My Drive/DataSet/Bollywood Actor Images/Bollywood Actor Images/'\n",
        "pathfile = []\n",
        "\n",
        "for i in actorsName:\n",
        "  pathfile.append(path+i)\n",
        "  \n",
        "print(pathfile)"
      ]
    },
    {
      "cell_type": "code",
      "execution_count": 6,
      "metadata": {
        "colab": {
          "base_uri": "https://localhost:8080/"
        },
        "id": "QyP14vM2vGe0",
        "outputId": "335399cf-8a6a-4219-d8f4-4fceeda6b91f"
      },
      "outputs": [
        {
          "output_type": "execute_result",
          "data": {
            "text/plain": [
              "50"
            ]
          },
          "metadata": {},
          "execution_count": 6
        }
      ],
      "source": [
        "#Redaing images from path using glob\n",
        "\n",
        "\n",
        "img1 = glob.glob('/content/drive/My Drive/DataSet/Bollywood Actor Images/Bollywood Actor Images/irrfan_khan/*.jpg')\n",
        "len(img1)"
      ]
    },
    {
      "cell_type": "code",
      "execution_count": 7,
      "metadata": {
        "colab": {
          "base_uri": "https://localhost:8080/",
          "height": 197
        },
        "id": "jYFEv_JQyNAY",
        "outputId": "e0355310-e15f-4f40-c3d5-ebb59740dda5"
      },
      "outputs": [
        {
          "output_type": "stream",
          "name": "stdout",
          "text": [
            "<class 'numpy.ndarray'>\n"
          ]
        },
        {
          "output_type": "display_data",
          "data": {
            "text/plain": [
              "<PIL.Image.Image image mode=RGB size=310x163 at 0x7FD162307910>"
            ],
            "image/png": "[encoded data removed]"
          },
          "metadata": {}
        }
      ],
      "source": [
        "#read images using imread func \n",
        "img2 = cv2.imread(img1[5])\n",
        "print(type(img2))\n",
        "#print(img1)\n",
        "import matplotlib.pyplot as plt\n",
        "cv2_imshow(img2\n",
        "           )"
      ]
    },
    {
      "cell_type": "code",
      "execution_count": 8,
      "metadata": {
        "id": "aXVAYFTg0XIR",
        "colab": {
          "base_uri": "https://localhost:8080/"
        },
        "outputId": "f2078276-3bc5-4e9d-9ee1-ab73ea8430e5"
      },
      "outputs": [
        {
          "output_type": "stream",
          "name": "stderr",
          "text": [
            "100%|██████████| 135/135 [00:49<00:00,  2.70it/s]\n"
          ]
        }
      ],
      "source": [
        "\n",
        "images_list = []\n",
        "name = []\n",
        "i = 0\n",
        "for p in tqdm(pathfile):\n",
        "  img_list = glob.glob(p+'/*.jpg')\n",
        "  for img in img_list:\n",
        "    images_list.append(img)\n",
        "    name.append(actorsName[i])\n",
        "  i = i+1\n"
      ]
    },
    {
      "cell_type": "code",
      "source": [
        "pickle.dump(images_list, open('/content/drive/My Drive/DataSet/images_list.pkl', 'wb'))"
      ],
      "metadata": {
        "id": "1Wh-fdzGJC3O"
      },
      "execution_count": 9,
      "outputs": []
    },
    {
      "cell_type": "code",
      "execution_count": 21,
      "metadata": {
        "colab": {
          "base_uri": "https://localhost:8080/"
        },
        "id": "uvXb16sEhXgt",
        "outputId": "0de7749b-3441-40d0-edc2-d347f466523c"
      },
      "outputs": [
        {
          "output_type": "stream",
          "name": "stdout",
          "text": [
            "/content/drive/My Drive/DataSet/Bollywood Actor Images/Bollywood Actor Images/adil_hussain/3bdaf0bc3b.jpg\n",
            "adil_hussain\n"
          ]
        }
      ],
      "source": [
        "print(images_list[5])\n",
        "print(name[5])"
      ]
    },
    {
      "cell_type": "code",
      "execution_count": 22,
      "metadata": {
        "colab": {
          "base_uri": "https://localhost:8080/"
        },
        "id": "1aE0RwesjrN4",
        "outputId": "a6a55a22-5dac-4e80-eb01-fe943624c301"
      },
      "outputs": [
        {
          "output_type": "execute_result",
          "data": {
            "text/plain": [
              "6688"
            ]
          },
          "metadata": {},
          "execution_count": 22
        }
      ],
      "source": [
        "len(images_list)"
      ]
    },
    {
      "cell_type": "code",
      "execution_count": 23,
      "metadata": {
        "colab": {
          "base_uri": "https://localhost:8080/"
        },
        "id": "c3vg1qUTlwPU",
        "outputId": "581bfa00-e216-408e-db43-9bf587044e8e"
      },
      "outputs": [
        {
          "output_type": "execute_result",
          "data": {
            "text/plain": [
              "(224, 224, 3)"
            ]
          },
          "metadata": {},
          "execution_count": 23
        }
      ],
      "source": [
        "#Images resize\n",
        "\n",
        "img2 = cv2.imread(images_list[5])\n",
        "img2.shape\n",
        "img2 = cv2.resize(img2, (224,224))\n",
        "img2.shape"
      ]
    },
    {
      "cell_type": "code",
      "execution_count": 23,
      "metadata": {
        "colab": {
          "base_uri": "https://localhost:8080/"
        },
        "id": "K5Z2vU596NML",
        "outputId": "1be7212c-b7fd-47cb-fc5f-7a20656254ee"
      },
      "outputs": [
        {
          "output_type": "execute_result",
          "data": {
            "text/plain": [
              "[]"
            ]
          },
          "metadata": {},
          "execution_count": 23
        }
      ],
      "source": [
        "images_array = []\n",
        "images_array"
      ]
    },
    {
      "cell_type": "code",
      "execution_count": null,
      "metadata": {
        "colab": {
          "base_uri": "https://localhost:8080/"
        },
        "id": "s9svoYlnyPED",
        "outputId": "2fc7826a-8b5c-46b6-a7ad-c018339b55d9"
      },
      "outputs": [
        {
          "name": "stderr",
          "output_type": "stream",
          "text": [
            "100%|██████████| 6688/6688 [26:07<00:00,  4.27it/s]"
          ]
        },
        {
          "name": "stdout",
          "output_type": "stream",
          "text": [
            "[[[ 55  65  95]\n",
            "  [ 58  68  98]\n",
            "  [ 62  72 102]\n",
            "  ...\n",
            "  [105 226 240]\n",
            "  [100 223 237]\n",
            "  [100 223 237]]\n",
            "\n",
            " [[ 47  57  87]\n",
            "  [ 56  65  96]\n",
            "  [ 63  73 103]\n",
            "  ...\n",
            "  [104 226 240]\n",
            "  [102 225 239]\n",
            "  [102 225 239]]\n",
            "\n",
            " [[ 50  60  90]\n",
            "  [ 54  64  94]\n",
            "  [ 58  68  98]\n",
            "  ...\n",
            "  [104 226 240]\n",
            "  [103 226 240]\n",
            "  [103 226 240]]\n",
            "\n",
            " ...\n",
            "\n",
            " [[ 64  89 128]\n",
            "  [ 77 144 189]\n",
            "  [ 64 161 215]\n",
            "  ...\n",
            "  [ 95 193 199]\n",
            "  [ 96 194 200]\n",
            "  [ 96 194 200]]\n",
            "\n",
            " [[ 66  92 129]\n",
            "  [ 77 147 190]\n",
            "  [ 66 165 216]\n",
            "  ...\n",
            "  [ 94 194 199]\n",
            "  [ 96 196 201]\n",
            "  [ 96 196 201]]\n",
            "\n",
            " [[ 59  89 123]\n",
            "  [ 79 154 198]\n",
            "  [ 62 163 215]\n",
            "  ...\n",
            "  [ 91 190 198]\n",
            "  [ 96 194 199]\n",
            "  [ 92 190 196]]]\n"
          ]
        },
        {
          "name": "stderr",
          "output_type": "stream",
          "text": [
            "\n"
          ]
        }
      ],
      "source": [
        "images_array = []\n",
        "\n",
        "for img3 in tqdm(images_list):\n",
        "  img3 = cv2.imread(img3)\n",
        "  img3 = cv2.resize(img3, (224,224))\n",
        "  images_array.append(img3)\n",
        "\n",
        "print(images_array[3])"
      ]
    },
    {
      "cell_type": "code",
      "execution_count": null,
      "metadata": {
        "id": "hrzN0ifXKlgg"
      },
      "outputs": [],
      "source": [
        ""
      ]
    },
    {
      "cell_type": "code",
      "execution_count": 24,
      "metadata": {
        "colab": {
          "base_uri": "https://localhost:8080/",
          "height": 217
        },
        "id": "FUAYL2hRytmb",
        "outputId": "acc41b94-0113-4cbb-dc4d-c667a3fcecef"
      },
      "outputs": [
        {
          "output_type": "stream",
          "name": "stderr",
          "text": [
            "0it [00:00, ?it/s]\n"
          ]
        },
        {
          "output_type": "error",
          "ename": "IndexError",
          "evalue": "ignored",
          "traceback": [
            "\u001b[0;31m---------------------------------------------------------------------------\u001b[0m",
            "\u001b[0;31mIndexError\u001b[0m                                Traceback (most recent call last)",
            "\u001b[0;32m<ipython-input-24-25b6b7aa46aa>\u001b[0m in \u001b[0;36m<module>\u001b[0;34m()\u001b[0m\n\u001b[1;32m      6\u001b[0m   \u001b[0mimages_array_dims\u001b[0m\u001b[0;34m.\u001b[0m\u001b[0mappend\u001b[0m\u001b[0;34m(\u001b[0m\u001b[0mimg4\u001b[0m\u001b[0;34m)\u001b[0m\u001b[0;34m\u001b[0m\u001b[0;34m\u001b[0m\u001b[0m\n\u001b[1;32m      7\u001b[0m \u001b[0;34m\u001b[0m\u001b[0m\n\u001b[0;32m----> 8\u001b[0;31m \u001b[0mprint\u001b[0m\u001b[0;34m(\u001b[0m\u001b[0mimages_array_dims\u001b[0m\u001b[0;34m[\u001b[0m\u001b[0;36m2\u001b[0m\u001b[0;34m]\u001b[0m\u001b[0;34m.\u001b[0m\u001b[0mshape\u001b[0m\u001b[0;34m)\u001b[0m\u001b[0;34m\u001b[0m\u001b[0;34m\u001b[0m\u001b[0m\n\u001b[0m",
            "\u001b[0;31mIndexError\u001b[0m: list index out of range"
          ]
        }
      ],
      "source": [
        "#dimension changing of images to 4D array which s acceptabele by keras lib\n",
        "\n",
        "images_array_dims = []\n",
        "for img4 in tqdm(images_array):\n",
        "  img4 = np.expand_dims(img4,axis = 0)\n",
        "  images_array_dims.append(img4)\n",
        "\n",
        "print(images_array_dims[2].shape)\n"
      ]
    },
    {
      "cell_type": "code",
      "execution_count": null,
      "metadata": {
        "id": "HW_Xh1PYA3dr"
      },
      "outputs": [],
      "source": [
        "outputfile = open('images_array_dims.pkl', 'wb')\n",
        "pickle.dump(images_array_dims, outputfile)\n",
        "outputfile.close()"
      ]
    },
    {
      "cell_type": "code",
      "execution_count": null,
      "metadata": {
        "colab": {
          "base_uri": "https://localhost:8080/"
        },
        "id": "G9QviiAmzFAt",
        "outputId": "0bd9ff98-0d4e-4fef-9a8a-48d4f0b3ebd1"
      },
      "outputs": [
        {
          "data": {
            "text/plain": [
              "['.config', 'drive', 'images_array_dims.pkl', 'sample_data']"
            ]
          },
          "execution_count": 21,
          "metadata": {},
          "output_type": "execute_result"
        }
      ],
      "source": [
        "import os\n",
        "os.listdir()"
      ]
    },
    {
      "cell_type": "code",
      "execution_count": null,
      "metadata": {
        "colab": {
          "base_uri": "https://localhost:8080/",
          "height": 34
        },
        "id": "IzVMk-gtzM98",
        "outputId": "ba249ae8-b44a-4149-c16b-ddeee9155621"
      },
      "outputs": [
        {
          "data": {
            "application/javascript": [
              "\n",
              "    async function download(id, filename, size) {\n",
              "      if (!google.colab.kernel.accessAllowed) {\n",
              "        return;\n",
              "      }\n",
              "      const div = document.createElement('div');\n",
              "      const label = document.createElement('label');\n",
              "      label.textContent = `Downloading \"${filename}\": `;\n",
              "      div.appendChild(label);\n",
              "      const progress = document.createElement('progress');\n",
              "      progress.max = size;\n",
              "      div.appendChild(progress);\n",
              "      document.body.appendChild(div);\n",
              "\n",
              "      const buffers = [];\n",
              "      let downloaded = 0;\n",
              "\n",
              "      const channel = await google.colab.kernel.comms.open(id);\n",
              "      // Send a message to notify the kernel that we're ready.\n",
              "      channel.send({})\n",
              "\n",
              "      for await (const message of channel.messages) {\n",
              "        // Send a message to notify the kernel that we're ready.\n",
              "        channel.send({})\n",
              "        if (message.buffers) {\n",
              "          for (const buffer of message.buffers) {\n",
              "            buffers.push(buffer);\n",
              "            downloaded += buffer.byteLength;\n",
              "            progress.value = downloaded;\n",
              "          }\n",
              "        }\n",
              "      }\n",
              "      const blob = new Blob(buffers, {type: 'application/binary'});\n",
              "      const a = document.createElement('a');\n",
              "      a.href = window.URL.createObjectURL(blob);\n",
              "      a.download = filename;\n",
              "      div.appendChild(a);\n",
              "      a.click();\n",
              "      div.remove();\n",
              "    }\n",
              "  "
            ],
            "text/plain": [
              "<IPython.core.display.Javascript object>"
            ]
          },
          "metadata": {},
          "output_type": "display_data"
        },
        {
          "data": {
            "application/javascript": [
              "download(\"download_069c130e-5d3c-4377-8c12-018f003e8821\", \"images_array_dims.pkl\", 1007158692)"
            ],
            "text/plain": [
              "<IPython.core.display.Javascript object>"
            ]
          },
          "metadata": {},
          "output_type": "display_data"
        }
      ],
      "source": [
        "from google.colab import files\n",
        "files.download('images_array_dims.pkl')"
      ]
    },
    {
      "cell_type": "code",
      "execution_count": 25,
      "metadata": {
        "id": "7Zl4xlkfuHSs"
      },
      "outputs": [],
      "source": [
        "import keras\n",
        "from keras.applications.resnet import ResNet50 \n",
        "from keras.applications.resnet import preprocess_input\n",
        "\n",
        "from keras.layers import GlobalMaxPooling2D \n"
      ]
    },
    {
      "cell_type": "code",
      "execution_count": 26,
      "metadata": {
        "id": "oH1G3RI5xhEQ",
        "colab": {
          "base_uri": "https://localhost:8080/"
        },
        "outputId": "a526d704-77e1-4f5e-ac0a-1c3f97f1e02e"
      },
      "outputs": [
        {
          "output_type": "stream",
          "name": "stdout",
          "text": [
            "Downloading data from https://storage.googleapis.com/tensorflow/keras-applications/resnet/resnet50_weights_tf_dim_ordering_tf_kernels_notop.h5\n",
            "94773248/94765736 [==============================] - 1s 0us/step\n",
            "94781440/94765736 [==============================] - 1s 0us/step\n"
          ]
        }
      ],
      "source": [
        "model = ResNet50(include_top = False, weights='imagenet')\n",
        "model.trainable = False\n",
        "\n",
        "model = keras.Sequential([model,GlobalMaxPooling2D()])\n"
      ]
    },
    {
      "cell_type": "code",
      "execution_count": 27,
      "metadata": {
        "colab": {
          "base_uri": "https://localhost:8080/",
          "height": 200
        },
        "id": "TKKWe1w4zjVo",
        "outputId": "5a70cf49-3ad6-4e8c-8057-264f05211093"
      },
      "outputs": [
        {
          "output_type": "error",
          "ename": "IndexError",
          "evalue": "ignored",
          "traceback": [
            "\u001b[0;31m---------------------------------------------------------------------------\u001b[0m",
            "\u001b[0;31mIndexError\u001b[0m                                Traceback (most recent call last)",
            "\u001b[0;32m<ipython-input-27-7cb9618a755b>\u001b[0m in \u001b[0;36m<module>\u001b[0;34m()\u001b[0m\n\u001b[1;32m      1\u001b[0m \u001b[0;31m#now predict the output for first photo,\u001b[0m\u001b[0;34m\u001b[0m\u001b[0;34m\u001b[0m\u001b[0;34m\u001b[0m\u001b[0m\n\u001b[0;32m----> 2\u001b[0;31m \u001b[0mpred1\u001b[0m \u001b[0;34m=\u001b[0m \u001b[0mmodel\u001b[0m\u001b[0;34m.\u001b[0m\u001b[0mpredict\u001b[0m\u001b[0;34m(\u001b[0m\u001b[0mpreprocess_input\u001b[0m\u001b[0;34m(\u001b[0m\u001b[0mimages_array_dims\u001b[0m\u001b[0;34m[\u001b[0m\u001b[0;36m0\u001b[0m\u001b[0;34m]\u001b[0m\u001b[0;34m)\u001b[0m\u001b[0;34m)\u001b[0m\u001b[0;34m\u001b[0m\u001b[0;34m\u001b[0m\u001b[0m\n\u001b[0m\u001b[1;32m      3\u001b[0m \u001b[0mpred1\u001b[0m\u001b[0;34m.\u001b[0m\u001b[0mshape\u001b[0m\u001b[0;34m\u001b[0m\u001b[0;34m\u001b[0m\u001b[0m\n",
            "\u001b[0;31mIndexError\u001b[0m: list index out of range"
          ]
        }
      ],
      "source": [
        "#now predict the output for first photo, \n",
        "pred1 = model.predict(preprocess_input(images_array_dims[0]))\n",
        "pred1.shape\n"
      ]
    },
    {
      "cell_type": "code",
      "execution_count": null,
      "metadata": {
        "colab": {
          "base_uri": "https://localhost:8080/"
        },
        "id": "1T3H78HU1f7u",
        "outputId": "e602ab50-73e0-4812-a147-5d40b827bb6c"
      },
      "outputs": [
        {
          "data": {
            "text/plain": [
              "array([[1.7345965 , 7.3371496 , 1.197293  , ..., 2.6937442 , 0.44821393,\n",
              "        2.8665588 ]], dtype=float32)"
            ]
          },
          "execution_count": 44,
          "metadata": {},
          "output_type": "execute_result"
        }
      ],
      "source": [
        "pred1"
      ]
    },
    {
      "cell_type": "code",
      "execution_count": null,
      "metadata": {
        "colab": {
          "base_uri": "https://localhost:8080/"
        },
        "id": "m1utivB21iFm",
        "outputId": "5e40b321-6231-48fc-ba50-068d0397b535"
      },
      "outputs": [
        {
          "data": {
            "text/plain": [
              "(2048,)"
            ]
          },
          "execution_count": 45,
          "metadata": {},
          "output_type": "execute_result"
        }
      ],
      "source": [
        "#flatten this data to only single list like [], \n",
        "pred1 = pred1.flatten()\n",
        "pred1.shape"
      ]
    },
    {
      "cell_type": "code",
      "execution_count": null,
      "metadata": {
        "colab": {
          "base_uri": "https://localhost:8080/"
        },
        "id": "_lIu4q2d2A62",
        "outputId": "143cf00f-1721-4b0d-de48-8416db89464e"
      },
      "outputs": [
        {
          "name": "stdout",
          "output_type": "stream",
          "text": [
            "Looking in indexes: https://pypi.org/simple, https://us-python.pkg.dev/colab-wheels/public/simple/\n",
            "Collecting linalg\n",
            "  Downloading linalg-1.0.4.tar.gz (4.7 kB)\n",
            "Building wheels for collected packages: linalg\n",
            "  Building wheel for linalg (setup.py) ... \u001b[?25l\u001b[?25hdone\n",
            "  Created wheel for linalg: filename=linalg-1.0.4-py3-none-any.whl size=6293 sha256=a283d32dff36d2d8a9b751be26de186295914b2931dfcbe71beebb3ed71e5187\n",
            "  Stored in directory: /root/.cache/pip/wheels/95/b7/4f/80270f2a339ca90d7abee59235fba6650748e505fc990206f9\n",
            "Successfully built linalg\n",
            "Installing collected packages: linalg\n",
            "Successfully installed linalg-1.0.4\n"
          ]
        }
      ],
      "source": [
        "#!pip install linalg"
      ]
    },
    {
      "cell_type": "code",
      "execution_count": 28,
      "metadata": {
        "colab": {
          "base_uri": "https://localhost:8080/",
          "height": 200
        },
        "id": "-5CttZBr1r36",
        "outputId": "b5375e4f-d6f2-4290-9197-e9986c3e9395"
      },
      "outputs": [
        {
          "output_type": "error",
          "ename": "NameError",
          "evalue": "ignored",
          "traceback": [
            "\u001b[0;31m---------------------------------------------------------------------------\u001b[0m",
            "\u001b[0;31mNameError\u001b[0m                                 Traceback (most recent call last)",
            "\u001b[0;32m<ipython-input-28-5c0d5134dc44>\u001b[0m in \u001b[0;36m<module>\u001b[0;34m()\u001b[0m\n\u001b[1;32m      1\u001b[0m \u001b[0;31m#we need to normalised the data to reduce computtion time, so here we uses norm fuction of linear algebra package\u001b[0m\u001b[0;34m\u001b[0m\u001b[0;34m\u001b[0m\u001b[0;34m\u001b[0m\u001b[0m\n\u001b[1;32m      2\u001b[0m \u001b[0;32mfrom\u001b[0m \u001b[0mnumpy\u001b[0m\u001b[0;34m.\u001b[0m\u001b[0mlinalg\u001b[0m \u001b[0;32mimport\u001b[0m \u001b[0mnorm\u001b[0m\u001b[0;34m\u001b[0m\u001b[0;34m\u001b[0m\u001b[0m\n\u001b[0;32m----> 3\u001b[0;31m \u001b[0mpred1\u001b[0m\u001b[0;34m/\u001b[0m\u001b[0mnorm\u001b[0m\u001b[0;34m(\u001b[0m\u001b[0mpred1\u001b[0m\u001b[0;34m)\u001b[0m\u001b[0;34m\u001b[0m\u001b[0;34m\u001b[0m\u001b[0m\n\u001b[0m",
            "\u001b[0;31mNameError\u001b[0m: name 'pred1' is not defined"
          ]
        }
      ],
      "source": [
        "#we need to normalised the data to reduce computtion time, so here we uses norm fuction of linear algebra package\n",
        "from numpy.linalg import norm\n",
        "pred1/norm(pred1)\n"
      ]
    },
    {
      "cell_type": "code",
      "execution_count": null,
      "metadata": {
        "id": "yjbsh9hq2poL"
      },
      "outputs": [],
      "source": [
        "#function making to perform above task for every images data in images_array_dims\n",
        "\n",
        "#feature_list to hold features\n",
        "\n",
        "feature_list = []\n",
        "\n",
        "def feature_extraction(img_array):\n",
        "  img_array = preprocess_input(img_array)\n",
        "  img_array = model.predict(img_array)\n",
        "  img_array = img_array.flatten()\n",
        "  img_array = img_array/norm(img_array)\n",
        "  feature_list.append(img_array)\n",
        "  \n"
      ]
    },
    {
      "cell_type": "code",
      "execution_count": null,
      "metadata": {
        "colab": {
          "base_uri": "https://localhost:8080/"
        },
        "id": "SO6Q9_2t3iBZ",
        "outputId": "024978ff-3524-43c7-ff05-3c86242a536b"
      },
      "outputs": [
        {
          "name": "stderr",
          "output_type": "stream",
          "text": [
            "100%|██████████| 6688/6688 [27:07<00:00,  4.11it/s]"
          ]
        },
        {
          "name": "stdout",
          "output_type": "stream",
          "text": [
            "6691\n"
          ]
        },
        {
          "name": "stderr",
          "output_type": "stream",
          "text": [
            "\n"
          ]
        }
      ],
      "source": [
        "#main function to call feature extraction\n",
        "\n",
        "for img5 in tqdm(images_array_dims):\n",
        "  feature_extraction(img5)\n",
        "\n",
        "print(len(feature_list))"
      ]
    },
    {
      "cell_type": "code",
      "execution_count": null,
      "metadata": {
        "id": "epOiqVzF4306"
      },
      "outputs": [],
      "source": [
        "outputfile = open('feature_list.pkl', 'wb')\n",
        "pickle.dump(feature_list, outputfile)"
      ]
    },
    {
      "cell_type": "code",
      "execution_count": null,
      "metadata": {
        "colab": {
          "base_uri": "https://localhost:8080/",
          "height": 17
        },
        "id": "IgCrXdYe_Eqd",
        "outputId": "7117a749-afe6-41e7-bd97-00c2eef63de8"
      },
      "outputs": [
        {
          "data": {
            "application/javascript": [
              "\n",
              "    async function download(id, filename, size) {\n",
              "      if (!google.colab.kernel.accessAllowed) {\n",
              "        return;\n",
              "      }\n",
              "      const div = document.createElement('div');\n",
              "      const label = document.createElement('label');\n",
              "      label.textContent = `Downloading \"${filename}\": `;\n",
              "      div.appendChild(label);\n",
              "      const progress = document.createElement('progress');\n",
              "      progress.max = size;\n",
              "      div.appendChild(progress);\n",
              "      document.body.appendChild(div);\n",
              "\n",
              "      const buffers = [];\n",
              "      let downloaded = 0;\n",
              "\n",
              "      const channel = await google.colab.kernel.comms.open(id);\n",
              "      // Send a message to notify the kernel that we're ready.\n",
              "      channel.send({})\n",
              "\n",
              "      for await (const message of channel.messages) {\n",
              "        // Send a message to notify the kernel that we're ready.\n",
              "        channel.send({})\n",
              "        if (message.buffers) {\n",
              "          for (const buffer of message.buffers) {\n",
              "            buffers.push(buffer);\n",
              "            downloaded += buffer.byteLength;\n",
              "            progress.value = downloaded;\n",
              "          }\n",
              "        }\n",
              "      }\n",
              "      const blob = new Blob(buffers, {type: 'application/binary'});\n",
              "      const a = document.createElement('a');\n",
              "      a.href = window.URL.createObjectURL(blob);\n",
              "      a.download = filename;\n",
              "      div.appendChild(a);\n",
              "      a.click();\n",
              "      div.remove();\n",
              "    }\n",
              "  "
            ],
            "text/plain": [
              "<IPython.core.display.Javascript object>"
            ]
          },
          "metadata": {},
          "output_type": "display_data"
        },
        {
          "data": {
            "application/javascript": [
              "download(\"download_195f3fb4-4f53-4ae2-98c1-cf4defb0cc79\", \"feature_list.pkl\", 55200146)"
            ],
            "text/plain": [
              "<IPython.core.display.Javascript object>"
            ]
          },
          "metadata": {},
          "output_type": "display_data"
        }
      ],
      "source": [
        "#files.download('feature_list.pkl')"
      ]
    },
    {
      "cell_type": "code",
      "execution_count": null,
      "metadata": {
        "id": "bm_7WAFaABX8"
      },
      "outputs": [],
      "source": [
        ""
      ]
    },
    {
      "cell_type": "code",
      "execution_count": null,
      "metadata": {
        "colab": {
          "base_uri": "https://localhost:8080/"
        },
        "id": "fK1oLV60AaQf",
        "outputId": "0ba1a485-f1ee-439a-a6be-0af2c664d94a"
      },
      "outputs": [
        {
          "data": {
            "text/plain": [
              "array([0.00506203, 0.02141184, 0.00349403, ..., 0.00786109, 0.00130801,\n",
              "       0.00836541], dtype=float32)"
            ]
          },
          "execution_count": 60,
          "metadata": {},
          "output_type": "execute_result"
        }
      ],
      "source": [
        "feature_list[0]"
      ]
    },
    {
      "cell_type": "code",
      "execution_count": null,
      "metadata": {
        "colab": {
          "base_uri": "https://localhost:8080/"
        },
        "id": "hYX69NGpD-b5",
        "outputId": "963c5c7a-4ead-4dd0-fb20-24096b43125b"
      },
      "outputs": [
        {
          "data": {
            "text/plain": [
              "6688"
            ]
          },
          "execution_count": 61,
          "metadata": {},
          "output_type": "execute_result"
        }
      ],
      "source": [
        "len(name)"
      ]
    },
    {
      "cell_type": "code",
      "execution_count": null,
      "metadata": {
        "colab": {
          "base_uri": "https://localhost:8080/"
        },
        "id": "k6rSDpDxGgdV",
        "outputId": "a40d3ecc-2883-4df7-b1a4-8f68d663c535"
      },
      "outputs": [
        {
          "data": {
            "text/plain": [
              "6691"
            ]
          },
          "execution_count": 67,
          "metadata": {},
          "output_type": "execute_result"
        }
      ],
      "source": [
        "name.append('')\n",
        "name.append('')\n",
        "name.append('')\n",
        "len(name)"
      ]
    },
    {
      "cell_type": "markdown",
      "metadata": {
        "id": "IJP2pCDTFhZG"
      },
      "source": [
        "**Implementing knn model for finding nearest neighbour**"
      ]
    },
    {
      "cell_type": "code",
      "execution_count": 21,
      "metadata": {
        "id": "KitZynu1Fu9-"
      },
      "outputs": [],
      "source": [
        "import sklearn\n",
        "from sklearn.neighbors import NearestNeighbors"
      ]
    },
    {
      "cell_type": "code",
      "execution_count": 12,
      "metadata": {
        "id": "hDK_3TFNM7NF"
      },
      "outputs": [],
      "source": [
        "features = pickle.load(open('/content/drive/My Drive/DataSet/feature_list.pkl', 'rb'))"
      ]
    },
    {
      "cell_type": "code",
      "execution_count": 13,
      "metadata": {
        "colab": {
          "base_uri": "https://localhost:8080/"
        },
        "id": "JSUkDAlYBMh7",
        "outputId": "2ee9ba8f-22db-4966-8e53-d66f8154ee62"
      },
      "outputs": [
        {
          "output_type": "execute_result",
          "data": {
            "text/plain": [
              "list"
            ]
          },
          "metadata": {},
          "execution_count": 13
        }
      ],
      "source": [
        "type(features[0].tolist())\n"
      ]
    },
    {
      "cell_type": "code",
      "execution_count": 14,
      "metadata": {
        "colab": {
          "base_uri": "https://localhost:8080/"
        },
        "id": "l7CFtVbGBWa9",
        "outputId": "fffedb28-af3d-4b3b-8255-43738d34c5d3"
      },
      "outputs": [
        {
          "output_type": "stream",
          "name": "stderr",
          "text": [
            "100%|██████████| 6691/6691 [00:01<00:00, 5434.22it/s]\n"
          ]
        }
      ],
      "source": [
        "features_list2 = []\n",
        "for f in tqdm(features):\n",
        "  f = f.tolist()\n",
        "  features_list2.append(f)"
      ]
    },
    {
      "cell_type": "code",
      "execution_count": 15,
      "metadata": {
        "id": "KMtjlkNTHfPX"
      },
      "outputs": [],
      "source": [
        "pickle.dump(features_list2, open('/content/drive/My Drive/features_list2.pkl', 'wb'))"
      ]
    },
    {
      "cell_type": "code",
      "execution_count": 43,
      "metadata": {
        "colab": {
          "base_uri": "https://localhost:8080/"
        },
        "id": "E_d8vf7aGEDt",
        "outputId": "47b942e9-1698-49da-98c8-73adbe8df16c"
      },
      "outputs": [
        {
          "output_type": "execute_result",
          "data": {
            "text/plain": [
              "NearestNeighbors(algorithm='brute', metric='euclidean', n_neighbors=6)"
            ]
          },
          "metadata": {},
          "execution_count": 43
        }
      ],
      "source": [
        "nn = NearestNeighbors(algorithm='brute', metric='euclidean', n_neighbors= 6)\n",
        "nn.fit(features_list2)\n"
      ]
    },
    {
      "cell_type": "code",
      "execution_count": 44,
      "metadata": {
        "id": "TmIqkle1CiWi"
      },
      "outputs": [],
      "source": [
        "neighbors_dist,indices = nn.kneighbors([features_list2[100]])"
      ]
    },
    {
      "cell_type": "code",
      "execution_count": 45,
      "metadata": {
        "colab": {
          "base_uri": "https://localhost:8080/"
        },
        "id": "dgQ2UkEOCiSN",
        "outputId": "c5760e2b-9466-461f-bf76-397f9c9bb3a9"
      },
      "outputs": [
        {
          "output_type": "execute_result",
          "data": {
            "text/plain": [
              "array([[ 100, 3196, 4908, 4022, 4018, 5567]])"
            ]
          },
          "metadata": {},
          "execution_count": 45
        }
      ],
      "source": [
        "indices"
      ]
    },
    {
      "cell_type": "code",
      "execution_count": 46,
      "metadata": {
        "colab": {
          "base_uri": "https://localhost:8080/"
        },
        "id": "_bmseP9GCiE3",
        "outputId": "632d09fb-e3d0-43de-e724-898198d30e82"
      },
      "outputs": [
        {
          "output_type": "execute_result",
          "data": {
            "text/plain": [
              "array([[5.16191366e-08, 6.81959240e-01, 6.85923009e-01, 7.01643804e-01,\n",
              "        7.02880923e-01, 7.09729706e-01]])"
            ]
          },
          "metadata": {},
          "execution_count": 46
        }
      ],
      "source": [
        "neighbors_dist"
      ]
    },
    {
      "cell_type": "code",
      "execution_count": 47,
      "metadata": {
        "colab": {
          "base_uri": "https://localhost:8080/"
        },
        "id": "XsZ5r8glI3J3",
        "outputId": "10b8160f-b547-4270-b2d1-2cf4b09b5d50"
      },
      "outputs": [
        {
          "output_type": "stream",
          "name": "stdout",
          "text": [
            "[100, 3196, 4908, 4022, 4018, 5567]\n"
          ]
        }
      ],
      "source": [
        "ind =  indices.flatten().tolist()\n",
        "print((ind))"
      ]
    },
    {
      "cell_type": "code",
      "execution_count": 42,
      "metadata": {
        "colab": {
          "base_uri": "https://localhost:8080/",
          "height": 233
        },
        "id": "KaqoUgioNp6F",
        "outputId": "e71d3a5a-cd67-444c-83b7-e4f7de6a7aa6"
      },
      "outputs": [
        {
          "output_type": "display_data",
          "data": {
            "text/plain": [
              "<PIL.Image.Image image mode=RGB size=233x216 at 0x7F86B70260D0>"
            ],
            "image/png": "[encoded data removed]"
          },
          "metadata": {}
        }
      ],
      "source": [
        "img6 = cv2.imread(images_list[4018])\n",
        "cv2_imshow(img6)\n"
      ]
    },
    {
      "cell_type": "code",
      "source": [
        "from google.colab import files\n",
        "u = files.upload()"
      ],
      "metadata": {
        "colab": {
          "resources": {
            "http://localhost:8080/nbextensions/google.colab/files.js": {
              "data": "Ly8gQ29weXJpZ2h0IDIwMTcgR29vZ2xlIExMQwovLwovLyBMaWNlbnNlZCB1bmRlciB0aGUgQXBhY2hlIExpY2Vuc2UsIFZlcnNpb24gMi4wICh0aGUgIkxpY2Vuc2UiKTsKLy8geW91IG1heSBub3QgdXNlIHRoaXMgZmlsZSBleGNlcHQgaW4gY29tcGxpYW5jZSB3aXRoIHRoZSBMaWNlbnNlLgovLyBZb3UgbWF5IG9idGFpbiBhIGNvcHkgb2YgdGhlIExpY2Vuc2UgYXQKLy8KLy8gICAgICBodHRwOi8vd3d3LmFwYWNoZS5vcmcvbGljZW5zZXMvTElDRU5TRS0yLjAKLy8KLy8gVW5sZXNzIHJlcXVpcmVkIGJ5IGFwcGxpY2FibGUgbGF3IG9yIGFncmVlZCB0byBpbiB3cml0aW5nLCBzb2Z0d2FyZQovLyBkaXN0cmlidXRlZCB1bmRlciB0aGUgTGljZW5zZSBpcyBkaXN0cmlidXRlZCBvbiBhbiAiQVMgSVMiIEJBU0lTLAovLyBXSVRIT1VUIFdBUlJBTlRJRVMgT1IgQ09ORElUSU9OUyBPRiBBTlkgS0lORCwgZWl0aGVyIGV4cHJlc3Mgb3IgaW1wbGllZC4KLy8gU2VlIHRoZSBMaWNlbnNlIGZvciB0aGUgc3BlY2lmaWMgbGFuZ3VhZ2UgZ292ZXJuaW5nIHBlcm1pc3Npb25zIGFuZAovLyBsaW1pdGF0aW9ucyB1bmRlciB0aGUgTGljZW5zZS4KCi8qKgogKiBAZmlsZW92ZXJ2aWV3IEhlbHBlcnMgZm9yIGdvb2dsZS5jb2xhYiBQeXRob24gbW9kdWxlLgogKi8KKGZ1bmN0aW9uKHNjb3BlKSB7CmZ1bmN0aW9uIHNwYW4odGV4dCwgc3R5bGVBdHRyaWJ1dGVzID0ge30pIHsKICBjb25zdCBlbGVtZW50ID0gZG9jdW1lbnQuY3JlYXRlRWxlbWVudCgnc3BhbicpOwogIGVsZW1lbnQudGV4dENvbnRlbnQgPSB0ZXh0OwogIGZvciAoY29uc3Qga2V5IG9mIE9iamVjdC5rZXlzKHN0eWxlQXR0cmlidXRlcykpIHsKICAgIGVsZW1lbnQuc3R5bGVba2V5XSA9IHN0eWxlQXR0cmlidXRlc1trZXldOwogIH0KICByZXR1cm4gZWxlbWVudDsKfQoKLy8gTWF4IG51bWJlciBvZiBieXRlcyB3aGljaCB3aWxsIGJlIHVwbG9hZGVkIGF0IGEgdGltZS4KY29uc3QgTUFYX1BBWUxPQURfU0laRSA9IDEwMCAqIDEwMjQ7CgpmdW5jdGlvbiBfdXBsb2FkRmlsZXMoaW5wdXRJZCwgb3V0cHV0SWQpIHsKICBjb25zdCBzdGVwcyA9IHVwbG9hZEZpbGVzU3RlcChpbnB1dElkLCBvdXRwdXRJZCk7CiAgY29uc3Qgb3V0cHV0RWxlbWVudCA9IGRvY3VtZW50LmdldEVsZW1lbnRCeUlkKG91dHB1dElkKTsKICAvLyBDYWNoZSBzdGVwcyBvbiB0aGUgb3V0cHV0RWxlbWVudCB0byBtYWtlIGl0IGF2YWlsYWJsZSBmb3IgdGhlIG5leHQgY2FsbAogIC8vIHRvIHVwbG9hZEZpbGVzQ29udGludWUgZnJvbSBQeXRob24uCiAgb3V0cHV0RWxlbWVudC5zdGVwcyA9IHN0ZXBzOwoKICByZXR1cm4gX3VwbG9hZEZpbGVzQ29udGludWUob3V0cHV0SWQpOwp9CgovLyBUaGlzIGlzIHJvdWdobHkgYW4gYXN5bmMgZ2VuZXJhdG9yIChub3Qgc3VwcG9ydGVkIGluIHRoZSBicm93c2VyIHlldCksCi8vIHdoZXJlIHRoZXJlIGFyZSBtdWx0aXBsZSBhc3luY2hyb25vdXMgc3RlcHMgYW5kIHRoZSBQeXRob24gc2lkZSBpcyBnb2luZwovLyB0byBwb2xsIGZvciBjb21wbGV0aW9uIG9mIGVhY2ggc3RlcC4KLy8gVGhpcyB1c2VzIGEgUHJvbWlzZSB0byBibG9jayB0aGUgcHl0aG9uIHNpZGUgb24gY29tcGxldGlvbiBvZiBlYWNoIHN0ZXAsCi8vIHRoZW4gcGFzc2VzIHRoZSByZXN1bHQgb2YgdGhlIHByZXZpb3VzIHN0ZXAgYXMgdGhlIGlucHV0IHRvIHRoZSBuZXh0IHN0ZXAuCmZ1bmN0aW9uIF91cGxvYWRGaWxlc0NvbnRpbnVlKG91dHB1dElkKSB7CiAgY29uc3Qgb3V0cHV0RWxlbWVudCA9IGRvY3VtZW50LmdldEVsZW1lbnRCeUlkKG91dHB1dElkKTsKICBjb25zdCBzdGVwcyA9IG91dHB1dEVsZW1lbnQuc3RlcHM7CgogIGNvbnN0IG5leHQgPSBzdGVwcy5uZXh0KG91dHB1dEVsZW1lbnQubGFzdFByb21pc2VWYWx1ZSk7CiAgcmV0dXJuIFByb21pc2UucmVzb2x2ZShuZXh0LnZhbHVlLnByb21pc2UpLnRoZW4oKHZhbHVlKSA9PiB7CiAgICAvLyBDYWNoZSB0aGUgbGFzdCBwcm9taXNlIHZhbHVlIHRvIG1ha2UgaXQgYXZhaWxhYmxlIHRvIHRoZSBuZXh0CiAgICAvLyBzdGVwIG9mIHRoZSBnZW5lcmF0b3IuCiAgICBvdXRwdXRFbGVtZW50Lmxhc3RQcm9taXNlVmFsdWUgPSB2YWx1ZTsKICAgIHJldHVybiBuZXh0LnZhbHVlLnJlc3BvbnNlOwogIH0pOwp9CgovKioKICogR2VuZXJhdG9yIGZ1bmN0aW9uIHdoaWNoIGlzIGNhbGxlZCBiZXR3ZWVuIGVhY2ggYXN5bmMgc3RlcCBvZiB0aGUgdXBsb2FkCiAqIHByb2Nlc3MuCiAqIEBwYXJhbSB7c3RyaW5nfSBpbnB1dElkIEVsZW1lbnQgSUQgb2YgdGhlIGlucHV0IGZpbGUgcGlja2VyIGVsZW1lbnQuCiAqIEBwYXJhbSB7c3RyaW5nfSBvdXRwdXRJZCBFbGVtZW50IElEIG9mIHRoZSBvdXRwdXQgZGlzcGxheS4KICogQHJldHVybiB7IUl0ZXJhYmxlPCFPYmplY3Q+fSBJdGVyYWJsZSBvZiBuZXh0IHN0ZXBzLgogKi8KZnVuY3Rpb24qIHVwbG9hZEZpbGVzU3RlcChpbnB1dElkLCBvdXRwdXRJZCkgewogIGNvbnN0IGlucHV0RWxlbWVudCA9IGRvY3VtZW50LmdldEVsZW1lbnRCeUlkKGlucHV0SWQpOwogIGlucHV0RWxlbWVudC5kaXNhYmxlZCA9IGZhbHNlOwoKICBjb25zdCBvdXRwdXRFbGVtZW50ID0gZG9jdW1lbnQuZ2V0RWxlbWVudEJ5SWQob3V0cHV0SWQpOwogIG91dHB1dEVsZW1lbnQuaW5uZXJIVE1MID0gJyc7CgogIGNvbnN0IHBpY2tlZFByb21pc2UgPSBuZXcgUHJvbWlzZSgocmVzb2x2ZSkgPT4gewogICAgaW5wdXRFbGVtZW50LmFkZEV2ZW50TGlzdGVuZXIoJ2NoYW5nZScsIChlKSA9PiB7CiAgICAgIHJlc29sdmUoZS50YXJnZXQuZmlsZXMpOwogICAgfSk7CiAgfSk7CgogIGNvbnN0IGNhbmNlbCA9IGRvY3VtZW50LmNyZWF0ZUVsZW1lbnQoJ2J1dHRvbicpOwogIGlucHV0RWxlbWVudC5wYXJlbnRFbGVtZW50LmFwcGVuZENoaWxkKGNhbmNlbCk7CiAgY2FuY2VsLnRleHRDb250ZW50ID0gJ0NhbmNlbCB1cGxvYWQnOwogIGNvbnN0IGNhbmNlbFByb21pc2UgPSBuZXcgUHJvbWlzZSgocmVzb2x2ZSkgPT4gewogICAgY2FuY2VsLm9uY2xpY2sgPSAoKSA9PiB7CiAgICAgIHJlc29sdmUobnVsbCk7CiAgICB9OwogIH0pOwoKICAvLyBXYWl0IGZvciB0aGUgdXNlciB0byBwaWNrIHRoZSBmaWxlcy4KICBjb25zdCBmaWxlcyA9IHlpZWxkIHsKICAgIHByb21pc2U6IFByb21pc2UucmFjZShbcGlja2VkUHJvbWlzZSwgY2FuY2VsUHJvbWlzZV0pLAogICAgcmVzcG9uc2U6IHsKICAgICAgYWN0aW9uOiAnc3RhcnRpbmcnLAogICAgfQogIH07CgogIGNhbmNlbC5yZW1vdmUoKTsKCiAgLy8gRGlzYWJsZSB0aGUgaW5wdXQgZWxlbWVudCBzaW5jZSBmdXJ0aGVyIHBpY2tzIGFyZSBub3QgYWxsb3dlZC4KICBpbnB1dEVsZW1lbnQuZGlzYWJsZWQgPSB0cnVlOwoKICBpZiAoIWZpbGVzKSB7CiAgICByZXR1cm4gewogICAgICByZXNwb25zZTogewogICAgICAgIGFjdGlvbjogJ2NvbXBsZXRlJywKICAgICAgfQogICAgfTsKICB9CgogIGZvciAoY29uc3QgZmlsZSBvZiBmaWxlcykgewogICAgY29uc3QgbGkgPSBkb2N1bWVudC5jcmVhdGVFbGVtZW50KCdsaScpOwogICAgbGkuYXBwZW5kKHNwYW4oZmlsZS5uYW1lLCB7Zm9udFdlaWdodDogJ2JvbGQnfSkpOwogICAgbGkuYXBwZW5kKHNwYW4oCiAgICAgICAgYCgke2ZpbGUudHlwZSB8fCAnbi9hJ30pIC0gJHtmaWxlLnNpemV9IGJ5dGVzLCBgICsKICAgICAgICBgbGFzdCBtb2RpZmllZDogJHsKICAgICAgICAgICAgZmlsZS5sYXN0TW9kaWZpZWREYXRlID8gZmlsZS5sYXN0TW9kaWZpZWREYXRlLnRvTG9jYWxlRGF0ZVN0cmluZygpIDoKICAgICAgICAgICAgICAgICAgICAgICAgICAgICAgICAgICAgJ24vYSd9IC0gYCkpOwogICAgY29uc3QgcGVyY2VudCA9IHNwYW4oJzAlIGRvbmUnKTsKICAgIGxpLmFwcGVuZENoaWxkKHBlcmNlbnQpOwoKICAgIG91dHB1dEVsZW1lbnQuYXBwZW5kQ2hpbGQobGkpOwoKICAgIGNvbnN0IGZpbGVEYXRhUHJvbWlzZSA9IG5ldyBQcm9taXNlKChyZXNvbHZlKSA9PiB7CiAgICAgIGNvbnN0IHJlYWRlciA9IG5ldyBGaWxlUmVhZGVyKCk7CiAgICAgIHJlYWRlci5vbmxvYWQgPSAoZSkgPT4gewogICAgICAgIHJlc29sdmUoZS50YXJnZXQucmVzdWx0KTsKICAgICAgfTsKICAgICAgcmVhZGVyLnJlYWRBc0FycmF5QnVmZmVyKGZpbGUpOwogICAgfSk7CiAgICAvLyBXYWl0IGZvciB0aGUgZGF0YSB0byBiZSByZWFkeS4KICAgIGxldCBmaWxlRGF0YSA9IHlpZWxkIHsKICAgICAgcHJvbWlzZTogZmlsZURhdGFQcm9taXNlLAogICAgICByZXNwb25zZTogewogICAgICAgIGFjdGlvbjogJ2NvbnRpbnVlJywKICAgICAgfQogICAgfTsKCiAgICAvLyBVc2UgYSBjaHVua2VkIHNlbmRpbmcgdG8gYXZvaWQgbWVzc2FnZSBzaXplIGxpbWl0cy4gU2VlIGIvNjIxMTU2NjAuCiAgICBsZXQgcG9zaXRpb24gPSAwOwogICAgZG8gewogICAgICBjb25zdCBsZW5ndGggPSBNYXRoLm1pbihmaWxlRGF0YS5ieXRlTGVuZ3RoIC0gcG9zaXRpb24sIE1BWF9QQVlMT0FEX1NJWkUpOwogICAgICBjb25zdCBjaHVuayA9IG5ldyBVaW50OEFycmF5KGZpbGVEYXRhLCBwb3NpdGlvbiwgbGVuZ3RoKTsKICAgICAgcG9zaXRpb24gKz0gbGVuZ3RoOwoKICAgICAgY29uc3QgYmFzZTY0ID0gYnRvYShTdHJpbmcuZnJvbUNoYXJDb2RlLmFwcGx5KG51bGwsIGNodW5rKSk7CiAgICAgIHlpZWxkIHsKICAgICAgICByZXNwb25zZTogewogICAgICAgICAgYWN0aW9uOiAnYXBwZW5kJywKICAgICAgICAgIGZpbGU6IGZpbGUubmFtZSwKICAgICAgICAgIGRhdGE6IGJhc2U2NCwKICAgICAgICB9LAogICAgICB9OwoKICAgICAgbGV0IHBlcmNlbnREb25lID0gZmlsZURhdGEuYnl0ZUxlbmd0aCA9PT0gMCA/CiAgICAgICAgICAxMDAgOgogICAgICAgICAgTWF0aC5yb3VuZCgocG9zaXRpb24gLyBmaWxlRGF0YS5ieXRlTGVuZ3RoKSAqIDEwMCk7CiAgICAgIHBlcmNlbnQudGV4dENvbnRlbnQgPSBgJHtwZXJjZW50RG9uZX0lIGRvbmVgOwoKICAgIH0gd2hpbGUgKHBvc2l0aW9uIDwgZmlsZURhdGEuYnl0ZUxlbmd0aCk7CiAgfQoKICAvLyBBbGwgZG9uZS4KICB5aWVsZCB7CiAgICByZXNwb25zZTogewogICAgICBhY3Rpb246ICdjb21wbGV0ZScsCiAgICB9CiAgfTsKfQoKc2NvcGUuZ29vZ2xlID0gc2NvcGUuZ29vZ2xlIHx8IHt9OwpzY29wZS5nb29nbGUuY29sYWIgPSBzY29wZS5nb29nbGUuY29sYWIgfHwge307CnNjb3BlLmdvb2dsZS5jb2xhYi5fZmlsZXMgPSB7CiAgX3VwbG9hZEZpbGVzLAogIF91cGxvYWRGaWxlc0NvbnRpbnVlLAp9Owp9KShzZWxmKTsK",
              "ok": true,
              "headers": [
                [
                  "content-type",
                  "application/javascript"
                ]
              ],
              "status": 200,
              "status_text": ""
            }
          },
          "base_uri": "https://localhost:8080/",
          "height": 73
        },
        "id": "3QPQ6yumopv5",
        "outputId": "63e2baf3-f36c-4de1-961a-91b563705e33"
      },
      "execution_count": 25,
      "outputs": [
        {
          "output_type": "display_data",
          "data": {
            "text/plain": [
              "<IPython.core.display.HTML object>"
            ],
            "text/html": [
              "\n",
              "     <input type=\"file\" id=\"files-6de7da0f-b081-486c-ae58-4671088268a3\" name=\"files[]\" multiple disabled\n",
              "        style=\"border:none\" />\n",
              "     <output id=\"result-6de7da0f-b081-486c-ae58-4671088268a3\">\n",
              "      Upload widget is only available when the cell has been executed in the\n",
              "      current browser session. Please rerun this cell to enable.\n",
              "      </output>\n",
              "      <script src=\"/nbextensions/google.colab/files.js\"></script> "
            ]
          },
          "metadata": {}
        },
        {
          "output_type": "stream",
          "name": "stdout",
          "text": [
            "Saving 0c96111fed.jpg to 0c96111fed.jpg\n"
          ]
        }
      ]
    },
    {
      "cell_type": "code",
      "source": [
        "features_list2 = pickle.load(open('/content/drive/My Drive/features_list2.pkl', 'rb'))"
      ],
      "metadata": {
        "id": "mJm8m-z9Mqpu"
      },
      "execution_count": 18,
      "outputs": []
    },
    {
      "cell_type": "code",
      "source": [
        "#!pip install streamlit"
      ],
      "metadata": {
        "id": "ATmNyfioRiUi"
      },
      "execution_count": 6,
      "outputs": []
    },
    {
      "cell_type": "code",
      "source": [
        "%%writefile main.py\n",
        "import streamlit as st\n",
        "import glob\n",
        "import cv2\n",
        "import matplotlib.pyplot as plt\n",
        "import pandas as pd\n",
        "import numpy as np\n",
        "from tqdm import tqdm\n",
        "import pickle\n",
        "import os\n",
        "from numpy.linalg import norm\n",
        "from google.colab.patches import cv2_imshow\n",
        "from PIL import Image\n",
        "import sklearn \n",
        "\n",
        "#Resnet Model building\n",
        "from keras.applications.resnet import ResNet50\n",
        "from keras.applications.resnet import preprocess_input\n",
        "model = ResNet50(include_top = False,weights= 'imagenet' )\n",
        "model.trainable = False\n",
        "\n",
        "\n",
        "#CNN Model building\n",
        "import keras\n",
        "from keras.layers import GlobalMaxPooling2D\n",
        "model = keras.Sequential(\n",
        "  [model,\n",
        "  GlobalMaxPooling2D()]\n",
        ")\n",
        "\n",
        "\n",
        "#this list contains the 2048 features for every training images\n",
        "features_list2 = pickle.load(open('/content/drive/My Drive/features_list2.pkl', 'rb'))\n",
        "images_list = pickle.load(open('/content/drive/My Drive/DataSet/images_list.pkl', 'rb'))\n",
        "\n",
        "\n",
        "#Nearaest Neigbors modeel building to predict our neighbors\n",
        "from sklearn.neighbors import NearestNeighbors\n",
        "NNmodel = NearestNeighbors(n_neighbors = 6, metric= 'euclidean', algorithm='brute') \n",
        "NNmodel.fit(features_list2)\n",
        "\n",
        "#finding nearest neighbors\n",
        "def NearestNeighbors_func(predicting_img_features):\n",
        "  return NNmodel.neighbors([predicting_img_features])\n",
        "\n",
        "\n",
        "#feature extraction for uploaded images\n",
        "def feature_extraction(uploaded_img):\n",
        "  uploaded_img = np.expand_dims(uploaded_img, axis=0)\n",
        "  uploaded_img = preprocess_input(uploaded_img)\n",
        "  result = model.predict(uploaded_img)\n",
        "  result = result.flatten()\n",
        "  result = result/norm(result)\n",
        "  return result\n",
        "\n",
        "\n",
        "\n",
        "\n",
        "st.title('Which Celebrity Do You Look Alike ? ')\n",
        "st.subheader('Use our Face Recognition model to find your celebrity look alike')\n",
        "uploaded_file = st.file_uploader('Upload you photo to find : ')\n",
        "if uploaded_file is not None:\n",
        "  st.image(uploaded_file)\n",
        "  uploaded_file = Image.open(uploaded_file)\n",
        "  uploaded_file = uploaded_file.resize((224,224))\n",
        "  uploaded_file = np.array(uploaded_file)\n",
        "  extracted_features = feature_extraction(uploaded_file)\n",
        "  neighbors_dist,indices = NNmodel.kneighbors([extracted_features])\n",
        "  indices = indices.flatten().tolist()\n",
        "  img = images_list[indices[0]]\n",
        "  img = cv2.imread(img)\n",
        "  st.image(img)\n",
        "  img = images_list[indices[1]]\n",
        "  img = cv2.imread(img)\n",
        "  st.image(img)\n",
        "  img = images_list[indices[2]]\n",
        "  img = cv2.imread(img)\n",
        "  st.image(img)\n",
        "  \n",
        "\n"
      ],
      "metadata": {
        "colab": {
          "base_uri": "https://localhost:8080/"
        },
        "id": "PkRIexC5ZZxM",
        "outputId": "32a7d675-23bc-4a0d-a471-c4b4c7e4b7a8"
      },
      "execution_count": 25,
      "outputs": [
        {
          "output_type": "stream",
          "name": "stdout",
          "text": [
            "Overwriting main.py\n"
          ]
        }
      ]
    },
    {
      "cell_type": "code",
      "source": [
        "!streamlit run main.py & npx localtunnel --port 8501"
      ],
      "metadata": {
        "colab": {
          "base_uri": "https://localhost:8080/"
        },
        "id": "bOaqqHZ4cZYq",
        "outputId": "971f311b-cdb2-4ff0-bedf-251bb11a70c5"
      },
      "execution_count": 26,
      "outputs": [
        {
          "output_type": "stream",
          "name": "stdout",
          "text": [
            "2022-07-06 06:40:44.111 INFO    numexpr.utils: NumExpr defaulting to 2 threads.\n",
            "\u001b[K\u001b[?25h\u001b[0m\n",
            "\u001b[34m\u001b[1m  You can now view your Streamlit app in your browser.\u001b[0m\n",
            "\u001b[0m\n",
            "\u001b[34m  Network URL: \u001b[0m\u001b[1mhttp://172.28.0.2:8501\u001b[0m\n",
            "\u001b[34m  External URL: \u001b[0m\u001b[1mhttp://34.125.9.227:8501\u001b[0m\n",
            "\u001b[0m\n",
            "npx: installed 22 in 3.029s\n",
            "your url is: https://thick-hoops-sin-34-125-9-227.loca.lt\n",
            "2022-07-06 06:41:15.121552: E tensorflow/stream_executor/cuda/cuda_driver.cc:271] failed call to cuInit: CUDA_ERROR_NO_DEVICE: no CUDA-capable device is detected\n",
            "2022-07-06 06:44:04.234 5 out of the last 5 calls to <function Model.make_predict_function.<locals>.predict_function at 0x7f9da0037440> triggered tf.function retracing. Tracing is expensive and the excessive number of tracings could be due to (1) creating @tf.function repeatedly in a loop, (2) passing tensors with different shapes, (3) passing Python objects instead of tensors. For (1), please define your @tf.function outside of the loop. For (2), @tf.function has experimental_relax_shapes=True option that relaxes argument shapes that can avoid unnecessary retracing. For (3), please refer to https://www.tensorflow.org/guide/function#controlling_retracing and https://www.tensorflow.org/api_docs/python/tf/function for  more details.\n",
            "2022-07-06 06:44:25.199 6 out of the last 6 calls to <function Model.make_predict_function.<locals>.predict_function at 0x7f9cc7ff48c0> triggered tf.function retracing. Tracing is expensive and the excessive number of tracings could be due to (1) creating @tf.function repeatedly in a loop, (2) passing tensors with different shapes, (3) passing Python objects instead of tensors. For (1), please define your @tf.function outside of the loop. For (2), @tf.function has experimental_relax_shapes=True option that relaxes argument shapes that can avoid unnecessary retracing. For (3), please refer to https://www.tensorflow.org/guide/function#controlling_retracing and https://www.tensorflow.org/api_docs/python/tf/function for  more details.\n",
            "\u001b[34m  Stopping...\u001b[0m\n",
            "^C\n"
          ]
        }
      ]
    },
    {
      "cell_type": "code",
      "source": [
        "!pip install streamlit"
      ],
      "metadata": {
        "colab": {
          "base_uri": "https://localhost:8080/",
          "height": 1000
        },
        "id": "mseZCTukKh5a",
        "outputId": "47dcf592-0bf8-434b-bfd2-528ba6f96648"
      },
      "execution_count": 12,
      "outputs": [
        {
          "output_type": "stream",
          "name": "stdout",
          "text": [
            "Looking in indexes: https://pypi.org/simple, https://us-python.pkg.dev/colab-wheels/public/simple/\n",
            "Collecting streamlit\n",
            "  Downloading streamlit-1.10.0-py2.py3-none-any.whl (9.1 MB)\n",
            "\u001b[K     |████████████████████████████████| 9.1 MB 5.9 MB/s \n",
            "\u001b[?25hCollecting gitpython!=3.1.19\n",
            "  Downloading GitPython-3.1.27-py3-none-any.whl (181 kB)\n",
            "\u001b[K     |████████████████████████████████| 181 kB 64.3 MB/s \n",
            "\u001b[?25hRequirement already satisfied: protobuf<4,>=3.12 in /usr/local/lib/python3.7/dist-packages (from streamlit) (3.17.3)\n",
            "Requirement already satisfied: tornado>=5.0 in /usr/local/lib/python3.7/dist-packages (from streamlit) (5.1.1)\n",
            "Collecting validators\n",
            "  Downloading validators-0.20.0.tar.gz (30 kB)\n",
            "Requirement already satisfied: semver in /usr/local/lib/python3.7/dist-packages (from streamlit) (2.13.0)\n",
            "Requirement already satisfied: importlib-metadata>=1.4 in /usr/local/lib/python3.7/dist-packages (from streamlit) (4.11.4)\n",
            "Requirement already satisfied: pandas>=0.21.0 in /usr/local/lib/python3.7/dist-packages (from streamlit) (1.3.5)\n",
            "Requirement already satisfied: numpy in /usr/local/lib/python3.7/dist-packages (from streamlit) (1.21.6)\n",
            "Collecting pympler>=0.9\n",
            "  Downloading Pympler-1.0.1-py3-none-any.whl (164 kB)\n",
            "\u001b[K     |████████████████████████████████| 164 kB 56.4 MB/s \n",
            "\u001b[?25hRequirement already satisfied: pillow>=6.2.0 in /usr/local/lib/python3.7/dist-packages (from streamlit) (7.1.2)\n",
            "Requirement already satisfied: requests in /usr/local/lib/python3.7/dist-packages (from streamlit) (2.23.0)\n",
            "Requirement already satisfied: packaging in /usr/local/lib/python3.7/dist-packages (from streamlit) (21.3)\n",
            "Requirement already satisfied: typing-extensions in /usr/local/lib/python3.7/dist-packages (from streamlit) (4.1.1)\n",
            "Collecting watchdog\n",
            "  Downloading watchdog-2.1.9-py3-none-manylinux2014_x86_64.whl (78 kB)\n",
            "\u001b[K     |████████████████████████████████| 78 kB 9.1 MB/s \n",
            "\u001b[?25hCollecting rich\n",
            "  Downloading rich-12.4.4-py3-none-any.whl (232 kB)\n",
            "\u001b[K     |████████████████████████████████| 232 kB 43.8 MB/s \n",
            "\u001b[?25hRequirement already satisfied: python-dateutil in /usr/local/lib/python3.7/dist-packages (from streamlit) (2.8.2)\n",
            "Requirement already satisfied: pyarrow in /usr/local/lib/python3.7/dist-packages (from streamlit) (6.0.1)\n",
            "Requirement already satisfied: attrs in /usr/local/lib/python3.7/dist-packages (from streamlit) (21.4.0)\n",
            "Collecting toml\n",
            "  Downloading toml-0.10.2-py2.py3-none-any.whl (16 kB)\n",
            "Requirement already satisfied: tzlocal in /usr/local/lib/python3.7/dist-packages (from streamlit) (1.5.1)\n",
            "Requirement already satisfied: click>=7.0 in /usr/local/lib/python3.7/dist-packages (from streamlit) (7.1.2)\n",
            "Requirement already satisfied: cachetools>=4.0 in /usr/local/lib/python3.7/dist-packages (from streamlit) (4.2.4)\n",
            "Collecting blinker\n",
            "  Downloading blinker-1.4.tar.gz (111 kB)\n",
            "\u001b[K     |████████████████████████████████| 111 kB 57.2 MB/s \n",
            "\u001b[?25hCollecting pydeck>=0.1.dev5\n",
            "  Downloading pydeck-0.7.1-py2.py3-none-any.whl (4.3 MB)\n",
            "\u001b[K     |████████████████████████████████| 4.3 MB 46.3 MB/s \n",
            "\u001b[?25hRequirement already satisfied: altair>=3.2.0 in /usr/local/lib/python3.7/dist-packages (from streamlit) (4.2.0)\n",
            "Requirement already satisfied: jinja2 in /usr/local/lib/python3.7/dist-packages (from altair>=3.2.0->streamlit) (2.11.3)\n",
            "Requirement already satisfied: entrypoints in /usr/local/lib/python3.7/dist-packages (from altair>=3.2.0->streamlit) (0.4)\n",
            "Requirement already satisfied: jsonschema>=3.0 in /usr/local/lib/python3.7/dist-packages (from altair>=3.2.0->streamlit) (4.3.3)\n",
            "Requirement already satisfied: toolz in /usr/local/lib/python3.7/dist-packages (from altair>=3.2.0->streamlit) (0.11.2)\n",
            "Collecting gitdb<5,>=4.0.1\n",
            "  Downloading gitdb-4.0.9-py3-none-any.whl (63 kB)\n",
            "\u001b[K     |████████████████████████████████| 63 kB 1.7 MB/s \n",
            "\u001b[?25hCollecting smmap<6,>=3.0.1\n",
            "  Downloading smmap-5.0.0-py3-none-any.whl (24 kB)\n",
            "Requirement already satisfied: zipp>=0.5 in /usr/local/lib/python3.7/dist-packages (from importlib-metadata>=1.4->streamlit) (3.8.0)\n",
            "Requirement already satisfied: pyrsistent!=0.17.0,!=0.17.1,!=0.17.2,>=0.14.0 in /usr/local/lib/python3.7/dist-packages (from jsonschema>=3.0->altair>=3.2.0->streamlit) (0.18.1)\n",
            "Requirement already satisfied: importlib-resources>=1.4.0 in /usr/local/lib/python3.7/dist-packages (from jsonschema>=3.0->altair>=3.2.0->streamlit) (5.7.1)\n",
            "Requirement already satisfied: pytz>=2017.3 in /usr/local/lib/python3.7/dist-packages (from pandas>=0.21.0->streamlit) (2022.1)\n",
            "Requirement already satisfied: six>=1.9 in /usr/local/lib/python3.7/dist-packages (from protobuf<4,>=3.12->streamlit) (1.15.0)\n",
            "Requirement already satisfied: traitlets>=4.3.2 in /usr/local/lib/python3.7/dist-packages (from pydeck>=0.1.dev5->streamlit) (5.1.1)\n",
            "Requirement already satisfied: ipywidgets>=7.0.0 in /usr/local/lib/python3.7/dist-packages (from pydeck>=0.1.dev5->streamlit) (7.7.0)\n",
            "Collecting ipykernel>=5.1.2\n",
            "  Downloading ipykernel-6.15.0-py3-none-any.whl (133 kB)\n",
            "\u001b[K     |████████████████████████████████| 133 kB 70.9 MB/s \n",
            "\u001b[?25hRequirement already satisfied: matplotlib-inline>=0.1 in /usr/local/lib/python3.7/dist-packages (from ipykernel>=5.1.2->pydeck>=0.1.dev5->streamlit) (0.1.3)\n",
            "Requirement already satisfied: psutil in /usr/local/lib/python3.7/dist-packages (from ipykernel>=5.1.2->pydeck>=0.1.dev5->streamlit) (5.4.8)\n",
            "Requirement already satisfied: nest-asyncio in /usr/local/lib/python3.7/dist-packages (from ipykernel>=5.1.2->pydeck>=0.1.dev5->streamlit) (1.5.5)\n",
            "Collecting jupyter-client>=6.1.12\n",
            "  Downloading jupyter_client-7.3.4-py3-none-any.whl (132 kB)\n",
            "\u001b[K     |████████████████████████████████| 132 kB 66.6 MB/s \n",
            "\u001b[?25hCollecting tornado>=5.0\n",
            "  Downloading tornado-6.2-cp37-abi3-manylinux_2_5_x86_64.manylinux1_x86_64.manylinux_2_17_x86_64.manylinux2014_x86_64.whl (423 kB)\n",
            "\u001b[K     |████████████████████████████████| 423 kB 67.5 MB/s \n",
            "\u001b[?25hCollecting ipython>=7.23.1\n",
            "  Downloading ipython-7.34.0-py3-none-any.whl (793 kB)\n",
            "\u001b[K     |████████████████████████████████| 793 kB 48.5 MB/s \n",
            "\u001b[?25hRequirement already satisfied: pyzmq>=17 in /usr/local/lib/python3.7/dist-packages (from ipykernel>=5.1.2->pydeck>=0.1.dev5->streamlit) (23.1.0)\n",
            "Requirement already satisfied: debugpy>=1.0 in /usr/local/lib/python3.7/dist-packages (from ipykernel>=5.1.2->pydeck>=0.1.dev5->streamlit) (1.0.0)\n",
            "Requirement already satisfied: pickleshare in /usr/local/lib/python3.7/dist-packages (from ipython>=7.23.1->ipykernel>=5.1.2->pydeck>=0.1.dev5->streamlit) (0.7.5)\n",
            "Requirement already satisfied: decorator in /usr/local/lib/python3.7/dist-packages (from ipython>=7.23.1->ipykernel>=5.1.2->pydeck>=0.1.dev5->streamlit) (4.4.2)\n",
            "Requirement already satisfied: backcall in /usr/local/lib/python3.7/dist-packages (from ipython>=7.23.1->ipykernel>=5.1.2->pydeck>=0.1.dev5->streamlit) (0.2.0)\n",
            "Requirement already satisfied: pexpect>4.3 in /usr/local/lib/python3.7/dist-packages (from ipython>=7.23.1->ipykernel>=5.1.2->pydeck>=0.1.dev5->streamlit) (4.8.0)\n",
            "Requirement already satisfied: jedi>=0.16 in /usr/local/lib/python3.7/dist-packages (from ipython>=7.23.1->ipykernel>=5.1.2->pydeck>=0.1.dev5->streamlit) (0.18.1)\n",
            "Requirement already satisfied: setuptools>=18.5 in /usr/local/lib/python3.7/dist-packages (from ipython>=7.23.1->ipykernel>=5.1.2->pydeck>=0.1.dev5->streamlit) (57.4.0)\n",
            "Requirement already satisfied: pygments in /usr/local/lib/python3.7/dist-packages (from ipython>=7.23.1->ipykernel>=5.1.2->pydeck>=0.1.dev5->streamlit) (2.6.1)\n",
            "Collecting prompt-toolkit!=3.0.0,!=3.0.1,<3.1.0,>=2.0.0\n",
            "  Downloading prompt_toolkit-3.0.30-py3-none-any.whl (381 kB)\n",
            "\u001b[K     |████████████████████████████████| 381 kB 65.2 MB/s \n",
            "\u001b[?25hRequirement already satisfied: jupyterlab-widgets>=1.0.0 in /usr/local/lib/python3.7/dist-packages (from ipywidgets>=7.0.0->pydeck>=0.1.dev5->streamlit) (1.1.0)\n",
            "Requirement already satisfied: widgetsnbextension~=3.6.0 in /usr/local/lib/python3.7/dist-packages (from ipywidgets>=7.0.0->pydeck>=0.1.dev5->streamlit) (3.6.0)\n",
            "Requirement already satisfied: ipython-genutils~=0.2.0 in /usr/local/lib/python3.7/dist-packages (from ipywidgets>=7.0.0->pydeck>=0.1.dev5->streamlit) (0.2.0)\n",
            "Requirement already satisfied: nbformat>=4.2.0 in /usr/local/lib/python3.7/dist-packages (from ipywidgets>=7.0.0->pydeck>=0.1.dev5->streamlit) (5.4.0)\n",
            "Requirement already satisfied: parso<0.9.0,>=0.8.0 in /usr/local/lib/python3.7/dist-packages (from jedi>=0.16->ipython>=7.23.1->ipykernel>=5.1.2->pydeck>=0.1.dev5->streamlit) (0.8.3)\n",
            "Requirement already satisfied: MarkupSafe>=0.23 in /usr/local/lib/python3.7/dist-packages (from jinja2->altair>=3.2.0->streamlit) (2.0.1)\n",
            "Requirement already satisfied: jupyter-core>=4.9.2 in /usr/local/lib/python3.7/dist-packages (from jupyter-client>=6.1.12->ipykernel>=5.1.2->pydeck>=0.1.dev5->streamlit) (4.10.0)\n",
            "Requirement already satisfied: fastjsonschema in /usr/local/lib/python3.7/dist-packages (from nbformat>=4.2.0->ipywidgets>=7.0.0->pydeck>=0.1.dev5->streamlit) (2.15.3)\n",
            "Requirement already satisfied: ptyprocess>=0.5 in /usr/local/lib/python3.7/dist-packages (from pexpect>4.3->ipython>=7.23.1->ipykernel>=5.1.2->pydeck>=0.1.dev5->streamlit) (0.7.0)\n",
            "Requirement already satisfied: wcwidth in /usr/local/lib/python3.7/dist-packages (from prompt-toolkit!=3.0.0,!=3.0.1,<3.1.0,>=2.0.0->ipython>=7.23.1->ipykernel>=5.1.2->pydeck>=0.1.dev5->streamlit) (0.2.5)\n",
            "Requirement already satisfied: notebook>=4.4.1 in /usr/local/lib/python3.7/dist-packages (from widgetsnbextension~=3.6.0->ipywidgets>=7.0.0->pydeck>=0.1.dev5->streamlit) (5.3.1)\n",
            "Requirement already satisfied: nbconvert in /usr/local/lib/python3.7/dist-packages (from notebook>=4.4.1->widgetsnbextension~=3.6.0->ipywidgets>=7.0.0->pydeck>=0.1.dev5->streamlit) (5.6.1)\n",
            "Requirement already satisfied: Send2Trash in /usr/local/lib/python3.7/dist-packages (from notebook>=4.4.1->widgetsnbextension~=3.6.0->ipywidgets>=7.0.0->pydeck>=0.1.dev5->streamlit) (1.8.0)\n",
            "Requirement already satisfied: terminado>=0.8.1 in /usr/local/lib/python3.7/dist-packages (from notebook>=4.4.1->widgetsnbextension~=3.6.0->ipywidgets>=7.0.0->pydeck>=0.1.dev5->streamlit) (0.13.3)\n",
            "Requirement already satisfied: testpath in /usr/local/lib/python3.7/dist-packages (from nbconvert->notebook>=4.4.1->widgetsnbextension~=3.6.0->ipywidgets>=7.0.0->pydeck>=0.1.dev5->streamlit) (0.6.0)\n",
            "Requirement already satisfied: pandocfilters>=1.4.1 in /usr/local/lib/python3.7/dist-packages (from nbconvert->notebook>=4.4.1->widgetsnbextension~=3.6.0->ipywidgets>=7.0.0->pydeck>=0.1.dev5->streamlit) (1.5.0)\n",
            "Requirement already satisfied: defusedxml in /usr/local/lib/python3.7/dist-packages (from nbconvert->notebook>=4.4.1->widgetsnbextension~=3.6.0->ipywidgets>=7.0.0->pydeck>=0.1.dev5->streamlit) (0.7.1)\n",
            "Requirement already satisfied: mistune<2,>=0.8.1 in /usr/local/lib/python3.7/dist-packages (from nbconvert->notebook>=4.4.1->widgetsnbextension~=3.6.0->ipywidgets>=7.0.0->pydeck>=0.1.dev5->streamlit) (0.8.4)\n",
            "Requirement already satisfied: bleach in /usr/local/lib/python3.7/dist-packages (from nbconvert->notebook>=4.4.1->widgetsnbextension~=3.6.0->ipywidgets>=7.0.0->pydeck>=0.1.dev5->streamlit) (5.0.0)\n",
            "Requirement already satisfied: webencodings in /usr/local/lib/python3.7/dist-packages (from bleach->nbconvert->notebook>=4.4.1->widgetsnbextension~=3.6.0->ipywidgets>=7.0.0->pydeck>=0.1.dev5->streamlit) (0.5.1)\n",
            "Requirement already satisfied: pyparsing!=3.0.5,>=2.0.2 in /usr/local/lib/python3.7/dist-packages (from packaging->streamlit) (3.0.9)\n",
            "Requirement already satisfied: urllib3!=1.25.0,!=1.25.1,<1.26,>=1.21.1 in /usr/local/lib/python3.7/dist-packages (from requests->streamlit) (1.24.3)\n",
            "Requirement already satisfied: chardet<4,>=3.0.2 in /usr/local/lib/python3.7/dist-packages (from requests->streamlit) (3.0.4)\n",
            "Requirement already satisfied: certifi>=2017.4.17 in /usr/local/lib/python3.7/dist-packages (from requests->streamlit) (2022.6.15)\n",
            "Requirement already satisfied: idna<3,>=2.5 in /usr/local/lib/python3.7/dist-packages (from requests->streamlit) (2.10)\n",
            "Collecting commonmark<0.10.0,>=0.9.0\n",
            "  Downloading commonmark-0.9.1-py2.py3-none-any.whl (51 kB)\n",
            "\u001b[K     |████████████████████████████████| 51 kB 9.7 MB/s \n",
            "\u001b[?25hBuilding wheels for collected packages: blinker, validators\n",
            "  Building wheel for blinker (setup.py) ... \u001b[?25l\u001b[?25hdone\n",
            "  Created wheel for blinker: filename=blinker-1.4-py3-none-any.whl size=13478 sha256=0a15e2fa385a575966f8e33fdae16f5f63cf7c0d6710ae503e2fef7e2c831911\n",
            "  Stored in directory: /root/.cache/pip/wheels/22/f5/18/df711b66eb25b21325c132757d4314db9ac5e8dabeaf196eab\n",
            "  Building wheel for validators (setup.py) ... \u001b[?25l\u001b[?25hdone\n",
            "  Created wheel for validators: filename=validators-0.20.0-py3-none-any.whl size=19582 sha256=75bbd3d2910d6812febca7f0b6c82927809b219a5e3dc315b110a260c78b2e06\n",
            "  Stored in directory: /root/.cache/pip/wheels/5f/55/ab/36a76989f7f88d9ca7b1f68da6d94252bb6a8d6ad4f18e04e9\n",
            "Successfully built blinker validators\n",
            "Installing collected packages: tornado, prompt-toolkit, jupyter-client, ipython, ipykernel, smmap, gitdb, commonmark, watchdog, validators, toml, rich, pympler, pydeck, gitpython, blinker, streamlit\n",
            "  Attempting uninstall: tornado\n",
            "    Found existing installation: tornado 5.1.1\n",
            "    Uninstalling tornado-5.1.1:\n",
            "      Successfully uninstalled tornado-5.1.1\n",
            "  Attempting uninstall: prompt-toolkit\n",
            "    Found existing installation: prompt-toolkit 1.0.18\n",
            "    Uninstalling prompt-toolkit-1.0.18:\n",
            "      Successfully uninstalled prompt-toolkit-1.0.18\n",
            "  Attempting uninstall: jupyter-client\n",
            "    Found existing installation: jupyter-client 5.3.5\n",
            "    Uninstalling jupyter-client-5.3.5:\n",
            "      Successfully uninstalled jupyter-client-5.3.5\n",
            "  Attempting uninstall: ipython\n",
            "    Found existing installation: ipython 5.5.0\n",
            "    Uninstalling ipython-5.5.0:\n",
            "      Successfully uninstalled ipython-5.5.0\n",
            "  Attempting uninstall: ipykernel\n",
            "    Found existing installation: ipykernel 4.10.1\n",
            "    Uninstalling ipykernel-4.10.1:\n",
            "      Successfully uninstalled ipykernel-4.10.1\n",
            "\u001b[31mERROR: pip's dependency resolver does not currently take into account all the packages that are installed. This behaviour is the source of the following dependency conflicts.\n",
            "nbclient 0.6.4 requires traitlets>=5.2.2, but you have traitlets 5.1.1 which is incompatible.\n",
            "jupyter-console 5.2.0 requires prompt-toolkit<2.0.0,>=1.0.0, but you have prompt-toolkit 3.0.30 which is incompatible.\n",
            "google-colab 1.0.0 requires ipykernel~=4.10, but you have ipykernel 6.15.0 which is incompatible.\n",
            "google-colab 1.0.0 requires ipython~=5.5.0, but you have ipython 7.34.0 which is incompatible.\n",
            "google-colab 1.0.0 requires tornado~=5.1.0; python_version >= \"3.0\", but you have tornado 6.2 which is incompatible.\u001b[0m\n",
            "Successfully installed blinker-1.4 commonmark-0.9.1 gitdb-4.0.9 gitpython-3.1.27 ipykernel-6.15.0 ipython-7.34.0 jupyter-client-7.3.4 prompt-toolkit-3.0.30 pydeck-0.7.1 pympler-1.0.1 rich-12.4.4 smmap-5.0.0 streamlit-1.10.0 toml-0.10.2 tornado-6.2 validators-0.20.0 watchdog-2.1.9\n"
          ]
        },
        {
          "output_type": "display_data",
          "data": {
            "application/vnd.colab-display-data+json": {
              "pip_warning": {
                "packages": [
                  "IPython",
                  "prompt_toolkit",
                  "tornado"
                ]
              }
            }
          },
          "metadata": {}
        }
      ]
    }
  ],
  "metadata": {
    "colab": {
      "name": "WhichCelebYouAre.ipynb",
      "provenance": [],
      "collapsed_sections": [],
      "include_colab_link": true
    },
    "kernelspec": {
      "display_name": "Python 3",
      "name": "python3"
    },
    "language_info": {
      "name": "python"
    }
  },
  "nbformat": 4,
  "nbformat_minor": 0
}